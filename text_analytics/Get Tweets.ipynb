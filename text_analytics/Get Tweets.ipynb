{
 "cells": [
  {
   "cell_type": "code",
   "execution_count": 1,
   "metadata": {
    "collapsed": true
   },
   "outputs": [],
   "source": [
    "import re\n",
    "import tweepy\n",
    "from tweepy import OAuthHandler\n",
    "from textblob import TextBlob\n",
    "import sys\n",
    "import json\n",
    "from pprint import pprint\n",
    "import matplotlib.pyplot as plt\n",
    "from wordcloud import WordCloud, STOPWORDS\n",
    "from scipy.misc import imread\n",
    "from text_preprocess import processTweet2,getStopWordList,replaceTwoOrMore\n",
    "from textblob import TextBlob\n",
    "import sys"
   ]
  },
  {
   "cell_type": "code",
   "execution_count": 2,
   "metadata": {
    "collapsed": true
   },
   "outputs": [],
   "source": [
    "class TwitterClient(object):\n",
    "    '''\n",
    "    Generic Twitter Class for sentiment analysis.\n",
    "    '''\n",
    "    def __init__(self):\n",
    "        '''\n",
    "        Class constructor or initialization method.\n",
    "        '''\n",
    "        # keys and tokens from the Twitter Dev Console\n",
    "        consumer_key = 'UWvrjlCmbqN0BZoNo5taXZUva'\n",
    "        consumer_secret = 'p4QwEe9ENbgrUGIezaRNpieI8DTCw0NbVgBZacLNXqD6GM9tyZ'\n",
    "        access_token = '77678973-fYSD8juWLu42i8IcOAq1RyumwHORZMWDM4YGgQ3RO'\n",
    "        access_token_secret = '7n08WCd0pu3D7IvJTNwALGEpEgrXjiaGKkVr7KrUit2w3'\n",
    " \n",
    "        # attempt authentication\n",
    "        try:\n",
    "            # create OAuthHandler object\n",
    "            self.auth = OAuthHandler(consumer_key, consumer_secret)\n",
    "            # set access token and secret\n",
    "            self.auth.set_access_token(access_token, access_token_secret)\n",
    "            # create tweepy API object to fetch tweets\n",
    "            self.api = tweepy.API(self.auth)\n",
    "        except:\n",
    "            print(\"Error: Authentication Failed\")\n",
    "            \n",
    "            \n",
    "    def get_tweets(self, query, count = 10):\n",
    "        '''\n",
    "        Main function to fetch tweets and parse them.\n",
    "        '''\n",
    "        # empty list to store parsed tweets\n",
    "        tweets = []\n",
    " \n",
    "        try:\n",
    "            # call twitter api to fetch tweets\n",
    "            fetched_tweets = self.api.search(q = query, count = count)\n",
    " \n",
    "            # parsing tweets one by one\n",
    "            for tweet in fetched_tweets:\n",
    "                # empty dictionary to store required params of a tweet\n",
    "                parsed_tweet = {}\n",
    " \n",
    "                # saving text of tweet\n",
    "                parsed_tweet['text'] = tweet.text\n",
    "                # saving sentiment of tweet\n",
    "                parsed_tweet['sentiment'] = self.get_tweet_sentiment(tweet.text)\n",
    " \n",
    "                # appending parsed tweet to tweets list\n",
    "                if tweet.retweet_count > 0:\n",
    "                    # if tweet has retweets, ensure that it is appended only once\n",
    "                    if parsed_tweet not in tweets:\n",
    "                        tweets.append(parsed_tweet)\n",
    "                else:\n",
    "                    tweets.append(parsed_tweet)\n",
    " \n",
    "            # return parsed tweets\n",
    "            return tweets\n",
    " \n",
    "        except tweepy.TweepError as e:\n",
    "            # print error (if any)\n",
    "            print(\"Error : \" + str(e))\n",
    "            \n",
    "    def clean_tweet(self, tweet):\n",
    "        '''\n",
    "        Utility function to clean tweet text by removing links, special characters\n",
    "        using simple regex statements.\n",
    "        '''\n",
    "        return ' '.join(re.sub(\"(@[A-Za-z0-9]+)|([^0-9A-Za-z \\t])|(\\w+:\\/\\/\\S+)\", \" \", tweet).split())\n",
    " \n",
    "    def get_tweet_sentiment(self, tweet):\n",
    "        '''\n",
    "        Utility function to classify sentiment of passed tweet\n",
    "        using textblob's sentiment method\n",
    "        '''\n",
    "        # create TextBlob object of passed tweet text\n",
    "        analysis = TextBlob(self.clean_tweet(tweet))\n",
    "        # set sentiment\n",
    "        if analysis.sentiment.polarity > 0:\n",
    "            return 'positive'\n",
    "        elif analysis.sentiment.polarity == 0:\n",
    "            return 'neutral'\n",
    "        else:\n",
    "            return 'negative'"
   ]
  },
  {
   "cell_type": "code",
   "execution_count": 3,
   "metadata": {
    "collapsed": true
   },
   "outputs": [],
   "source": [
    "search_twitter_term = \"tcsarday\" #\"CTS\""
   ]
  },
  {
   "cell_type": "code",
   "execution_count": 10,
   "metadata": {},
   "outputs": [],
   "source": [
    "# creating object of TwitterClient Class\n",
    "api = TwitterClient()\n",
    "# calling function to get tweets\n",
    "tweets = api.get_tweets(query = search_twitter_term, count = 2000)"
   ]
  },
  {
   "cell_type": "code",
   "execution_count": 11,
   "metadata": {},
   "outputs": [
    {
     "name": "stdout",
     "output_type": "stream",
     "text": [
      "{'text': 'RT @vernonxt: Regu,VP/Global Head IoT @TCS identified biggest challenge is to realize the exponential biz value  #TcsARday. A bit like Turn…', 'sentiment': 'neutral'}\n",
      "{'text': 'RT @GaryB_NH: .@TCS #TCSARDay a key differentiator incl #Innovation &amp; #Engagement Platforms incl Innovation forums, idea jams, hackathons,…', 'sentiment': 'neutral'}\n",
      "{'text': 'RT @RalphRio: \" #blockchain is applied by @TCS to secure the #SupplyChain \" Surya Kant @tcs_na  #tcsarday https://t.co/FlHGibW2QG', 'sentiment': 'positive'}\n",
      "{'text': 'RT @RalphRio: Surya Kant @tcs_na extends #business40 to include #cloud, #ArtificialIntelligence &amp; #automation during #tcsarday https://t.co…', 'sentiment': 'neutral'}\n",
      "{'text': 'RT @dschubmehl: PR Krishnan of TCS shows the future of Intelligent Enterprise Automation per TCS #TCSARDay https://t.co/IceZK0TGeQ', 'sentiment': 'positive'}\n",
      "{'text': 'RT @rbharath: Regu A, VP TCS and Head IoT speaks of IoTs role in Business 4.0 following a video on TCS own energy savings initiative #TCSAR…', 'sentiment': 'positive'}\n",
      "{'text': 'RT @stacykcrook: #tcsarday Great visualization from @tcs on 5 decades of #enterprisetechnology https://t.co/cRWUJBhhq2', 'sentiment': 'positive'}\n",
      "{'text': 'Thanks @TCS @sandeep_139 @shivz13 &amp; all involved in planning &amp; presenting for an informative #TCSARDay', 'sentiment': 'positive'}\n",
      "{'text': 'RT @gluecode: @TCS IoT Head Regu A, shares - huge energy savings using #IoT at our own campuses. #TCSARDay https://t.co/kjxlunLAYI', 'sentiment': 'positive'}\n",
      "{'text': \"RT @rwang0: MyPOV: here's our list of #ArtificialIntelligence players in the enterprise #AI is the new #UX #MachineLearning #virtualassista…\", 'sentiment': 'positive'}\n",
      "{'text': 'RT @DHenschen: Theme here at #TCSarDay is \"Default is Digital.\" Sounds like @rwang0 book, \"Disrupting Digital Business.\" http://t.co/a0Yp1h…', 'sentiment': 'neutral'}\n",
      "{'text': 'RT @GaryB_NH: @TCS #TCSARDay Walking the Talk! Congrats named to @FortuneMagazine Change the World top 50 Company List https://t.co/G1E8rRV…', 'sentiment': 'positive'}\n",
      "{'text': 'RT @nishaSY: #TCSARDay converting channel entropy challenges to consistency, being on channel of choice of consumer - @gluecode #digitalInt…', 'sentiment': 'neutral'}\n",
      "{'text': 'RT @tcs_na: Our President, Sury Kant, highlighting great digital transformation opportunities in a Business 4.0 world #TCSARDay https://t.c…', 'sentiment': 'positive'}\n",
      "{'text': 'RT @tcs_na: Our @kramanuj presenting on the critical world of digital transformation across industries at #TCSARDay. https://t.co/gCQJTK6Poa', 'sentiment': 'neutral'}\n",
      "{'text': 'RT @shivz13: Warm welcome to all analysts and speakers #TCSARDay @TCS @tcs_na https://t.co/n8SdRL7RBN', 'sentiment': 'positive'}\n",
      "{'text': 'RT @rwang0: MyPOV: CTO Ananth Krishnan says @TCS has 541 patents to date and 3000+ in pipe. #tcsarday https://t.co/mI3Kh7Xf0e', 'sentiment': 'neutral'}\n",
      "{'text': 'RT @nishaSY: @gluecode speaks about ideation to creation across design surfaces through #digitalInteractive #TCSARDay #business4.0', 'sentiment': 'neutral'}\n",
      "{'text': 'RT @shivz13: @TCS Head-IoT, Regu shares perspectives on how IoT brings closed loop approach to enable Business 4.0 #TCSARDay https://t.co/5…', 'sentiment': 'negative'}\n",
      "{'text': 'RT @gluecode: @tcs head of Ignio talking about LEARN, RESOLVE, PREVENT using Ignio for IT Ops #TCSARDay https://t.co/qY4DDaU5VK', 'sentiment': 'neutral'}\n",
      "{'text': 'RT @rwang0: MyPOV: very animated and passionate convo on #CyberSecurity w Satish Thiagarajan #TCSARDay https://t.co/V4nFKQ7yWr', 'sentiment': 'positive'}\n",
      "{'text': 'RT @btrounson: Found this to be a very interesting session #TCSARDay https://t.co/SIXRalymwA', 'sentiment': 'positive'}\n",
      "{'text': 'RT @tcs_na: Our @ashok_pai and @krimohan presenting on the importance of a cloud-first world amid cognitive operations. #TCSARDay https://t…', 'sentiment': 'positive'}\n",
      "{'text': \"RT @rwang0: MyPOV: when we talk #AI and Automation, let's focus on outcomes not the tech first. #TCSARDay #MSIgnite #MSEnvision #machinelea…\", 'sentiment': 'positive'}\n",
      "{'text': 'RT @jimitarora: Great set of interactions at @tcs_na #TCSARDay. Thanks @JoeKingCMO @shivz13 @mamta_shah', 'sentiment': 'positive'}\n",
      "{'text': 'RT @rwang0: MyPOV: 7 factors for precision decisions in #ArtificialIntelligence #AI #machineLearning https://t.co/ZI7ZnE1xg2 #TCSARDay #MSI…', 'sentiment': 'neutral'}\n",
      "{'text': 'RT @RalphRio: Extensive co-innovation network @tcs described by Mr. Krishnan during #tcsarday. It involves over 2,000 #startups https://t.c…', 'sentiment': 'neutral'}\n",
      "{'text': 'RT @RalphRio: Krishnan Ramanujam @TCS  describes the key factors for implementation of #business40 during #tcsarday in #Boston https://t.co…', 'sentiment': 'neutral'}\n",
      "{'text': 'RT @dinakholkar: #tcsARday cyber security and crypto - Sathish T https://t.co/vgPCQ3xYhA', 'sentiment': 'neutral'}\n",
      "{'text': 'RT @rwang0: MyPOV:inside @TCS Bus 4.0 \\n1.  Deliver Mass personalization\\n2. Create exponential value \\n3. Leverage ecosystems \\n4. Embrace ris…', 'sentiment': 'neutral'}\n",
      "{'text': 'RT @RalphRio: At start of #tcsarday a slide on @TCS advantages including strong domain expertise https://t.co/mdU2W14UVf', 'sentiment': 'positive'}\n",
      "{'text': 'RT @RalphRio: \" #IIoT provides closed loop #Manufacturing that enables #Business40 \" Regu Ayuaswamy @TCS during #tcsarday #IoT #DigitalTwin…', 'sentiment': 'negative'}\n",
      "{'text': 'RT @RalphRio: \" #BigData is of no use unless it is converted into insights\" Sunil Kanari @TCS during #tcsarday #cloud #IoT #Analytics #IIoT…', 'sentiment': 'neutral'}\n",
      "{'text': 'RT @evankirstel: #tcsarday Great visualization from @tcs on 5 decades of #enterprisetechnology 🔁@stacykcrook  #enterprise #DigitalTransform…', 'sentiment': 'positive'}\n",
      "{'text': 'RT @rwang0: MyPOV: @tcs PR Krishnan takes a machine first model through robotics, #machinelearning, and #ai #TCSARDay https://t.co/ctjveO7Q…', 'sentiment': 'positive'}\n",
      "{'text': 'RT @GaryB_NH: .@TCS #TCSARDay nice Human Ex techn applied using sensors in cat to monitor seniors health, e.g. temperature, medication aler…', 'sentiment': 'positive'}\n",
      "{'text': 'RT @shivz13: Data and Analytics is foundational to Business4.0 journey. @dinakholkar talks abt our strategy &amp; experience #TCSARDay https://…', 'sentiment': 'neutral'}\n",
      "{'text': 'RT @RalphRio: Dr. Harrick Vin @TCS provides maturity curve for prescriptive &amp; actionable #automation with #cognitivecomputing &amp; #ignio duri…', 'sentiment': 'neutral'}\n",
      "{'text': \"RT @dinakholkar: #TCSARDay - a customer's journey. Thank you Sandeep https://t.co/eOOeYYS5lz\", 'sentiment': 'neutral'}\n",
      "{'text': 'RT @gluecode: @gluecode: @TCS head of analytics and insights @dinakholkar speaking about a&amp;i strategic themes #TCSARDay https://t.co/u7ccR0…', 'sentiment': 'neutral'}\n",
      "{'text': 'RT @rbharath: TCS Analytics &amp; Insights head Dinanath Kholkar talks about TCS solutions, services &amp; experiences of solving business problems…', 'sentiment': 'neutral'}\n",
      "{'text': 'RT @stacykcrook: #TCSARDay The characteristics of Business 4.0 from @TCS: mass segmentation, ecosystem leverage, creation of exponential va…', 'sentiment': 'neutral'}\n",
      "{'text': 'RT @rwang0: MyPOV: @dinakholkar takes stage talking analytics and insights. #TCSARDay https://t.co/izHvz59TE6', 'sentiment': 'neutral'}\n",
      "{'text': 'RT @rwang0: MyPOV: inside @TCS EIA initiatives. #rpa and more #TCSARDay https://t.co/w34XVFXzbt', 'sentiment': 'positive'}\n",
      "{'text': 'RT @dinakholkar: #tcsARday @ReguA10 mesmerizes in the world of \"things\" https://t.co/AK2v3dzAZV', 'sentiment': 'neutral'}\n",
      "{'text': 'RT @shivz13: @HarrickVin of @iam_ignio, our flagship #AI product, talks about its different avatars &amp; the value to clients #TCSARDay https:…', 'sentiment': 'neutral'}\n",
      "{'text': 'Data and Analytics is foundational to Business4.0 journey. @dinakholkar talks abt our strategy &amp; experience… https://t.co/s03eAawbNU', 'sentiment': 'neutral'}\n",
      "{'text': 'RT @shivz13: Demonstrating thought leadership in #Automation with our MachineFirstDeliveryModel(TM) - PRK, Head-EIA @TCS #TCSARDay 👍🏼 https…', 'sentiment': 'neutral'}\n",
      "{'text': '@HarrickVin of @iam_ignio, our flagship #AI product, talks about its different avatars &amp; the value to clients… https://t.co/VH2360V2Td', 'sentiment': 'neutral'}\n",
      "{'text': 'Demonstrating thought leadership in #Automation with our MachineFirstDeliveryModel(TM) - PRK, Head-EIA @TCS… https://t.co/gVoU3obfH7', 'sentiment': 'neutral'}\n",
      "{'text': 'RT @rwang0: MyPOV: by many counts @TCS has done well w revenue and net income per capita #tcsarday https://t.co/HaXx9p88hY', 'sentiment': 'positive'}\n",
      "{'text': 'RT @rwang0: MyPOV: @TCS @kramanuj lays out his vision and approach for the next 12 months #TCSARDay https://t.co/xUhPlTrq9s', 'sentiment': 'neutral'}\n",
      "{'text': 'RT @evankirstel: #AI to impact business significantly @TCS https://t.co/Sk9Oi1XtQ7… @TCS_News #TCSARDay #artificalintelligence #digitaldisr…', 'sentiment': 'positive'}\n",
      "{'text': '@jimitarora @tcs_na @JoeKingCMO @shivz13 Thanks @jimitarora for attending! #TCSARDay', 'sentiment': 'positive'}\n",
      "{'text': 'Great set of interactions at @tcs_na #TCSARDay. Thanks @JoeKingCMO @shivz13 @mamta_shah', 'sentiment': 'positive'}\n"
     ]
    }
   ],
   "source": [
    "for tweet in tweets:\n",
    "    print(tweet)"
   ]
  },
  {
   "cell_type": "code",
   "execution_count": 13,
   "metadata": {},
   "outputs": [
    {
     "name": "stdout",
     "output_type": "stream",
     "text": [
      "\u001b[1mTweet number : 12\u001b[0m\n",
      "\n",
      "\u001b[1mOriginal tweet : \u001b[0m\n",
      "b'RT @nishaSY: #TCSARDay converting channel entropy challenges to consistency, being on channel of choice of consumer - @gluecode #digitalInt\\xe2\\x80\\xa6'\n",
      "\u001b[1mProcessed tweet :\u001b[0m\n",
      "b'rt tcsarday converting channel entropy challenges to consistency  being on channel of choice of consumer  digitalint '\n"
     ]
    }
   ],
   "source": [
    "from random import randint\n",
    "i = randint(1, len(tweets)) # For getting a random tweet from the data \n",
    "print('\\033[1m'+\"Tweet number : \" + str(i) + '\\033[0m' + \"\\n\")\n",
    "print('\\033[1m'+\"Original tweet : \"+'\\033[0m')\n",
    "print(tweets[i][\"text\"].encode(sys.stdout.encoding, errors='replace'))    \n",
    "print('\\033[1m'+\"Processed tweet :\" + '\\033[0m')\n",
    "print(replaceTwoOrMore(re.sub('[^a-zA-Z0-9 \\n\\.]', ' ', processTweet2(tweets[i][\"text\"]))).encode(sys.stdout.encoding, errors='replace'))\n"
   ]
  },
  {
   "cell_type": "code",
   "execution_count": 14,
   "metadata": {
    "collapsed": true
   },
   "outputs": [],
   "source": [
    "STOPWORD_customized = {'rt','amp','tcs','http'}\n",
    "from nltk.corpus import stopwords \n",
    "import string\n",
    "stop = set(stopwords.words('english'))"
   ]
  },
  {
   "cell_type": "code",
   "execution_count": 15,
   "metadata": {
    "collapsed": true
   },
   "outputs": [],
   "source": [
    "words=' '\n",
    "for i in range (0,len(tweets)):\n",
    "    temp = replaceTwoOrMore(re.sub('[^a-zA-Z0-9 \\n\\.]', ' ', processTweet2(tweets[i][\"text\"])))\n",
    "    temp = \" \".join([i for i in temp.lower().split() if i not in stop])\n",
    "    temp = \" \".join([i for i in temp.split() if i not in STOPWORD_customized])\n",
    "    shortword = re.compile(r'\\W*\\b\\w{1,2}\\b')\n",
    "    temp = shortword.sub('', temp)    \n",
    "    words = words + temp  "
   ]
  },
  {
   "cell_type": "code",
   "execution_count": 16,
   "metadata": {},
   "outputs": [
    {
     "data": {
      "image/png": "[encoded data removed]",
      "text/plain": [
       "<matplotlib.figure.Figure at 0x2b3219038d0>"
      ]
     },
     "metadata": {},
     "output_type": "display_data"
    }
   ],
   "source": [
    "wordcloud = WordCloud(\n",
    "    #font_path='Xerox Sans Serif Wide Bold Oblique.ttf',\n",
    "    #stopwords=STOPWORDS.union(stopword),\n",
    "    background_color='white',\n",
    "    #mask = logomask,\n",
    "    max_words=50,\n",
    "    width=4000,\n",
    "    height=4000\n",
    ").generate(words)\n",
    "\n",
    "plt.imshow(wordcloud.recolor(random_state=3))\n",
    "plt.axis('off')\n",
    "#plt.savefig('./tweetcloud.png', dpi=300)\n",
    "plt.show()"
   ]
  },
  {
   "cell_type": "code",
   "execution_count": null,
   "metadata": {
    "collapsed": true
   },
   "outputs": [],
   "source": []
  }
 ],
 "metadata": {
  "kernelspec": {
   "display_name": "Python 3",
   "language": "python",
   "name": "python3"
  },
  "language_info": {
   "codemirror_mode": {
    "name": "ipython",
    "version": 3
   },
   "file_extension": ".py",
   "mimetype": "text/x-python",
   "name": "python",
   "nbconvert_exporter": "python",
   "pygments_lexer": "ipython3",
   "version": "3.5.4"
  }
 },
 "nbformat": 4,
 "nbformat_minor": 2
}
