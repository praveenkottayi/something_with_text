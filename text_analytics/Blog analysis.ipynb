{
 "cells": [
  {
   "cell_type": "code",
   "execution_count": 1,
   "metadata": {
    "collapsed": true
   },
   "outputs": [],
   "source": [
    "import re\n",
    "import json\n",
    "from pprint import pprint\n",
    "import matplotlib.pyplot as plt\n",
    "from wordcloud import WordCloud, STOPWORDS\n",
    "from scipy.misc import imread\n",
    "from text_preprocess import processTweet2,getStopWordList,replaceTwoOrMore\n",
    "from textblob import TextBlob\n",
    "import sys"
   ]
  },
  {
   "cell_type": "code",
   "execution_count": 37,
   "metadata": {},
   "outputs": [],
   "source": [
    "file = open(\"Krishnan_Ramanujam.txt\", \"r\" , encoding=\"utf8\") \n",
    "data = file.read()"
   ]
  },
  {
   "cell_type": "code",
   "execution_count": 38,
   "metadata": {
    "collapsed": true
   },
   "outputs": [],
   "source": [
    "STOPWORD_customized = {'rt','amp','tcs','http','also','new','year','gen','way'}\n",
    "from nltk.corpus import stopwords \n",
    "import string\n",
    "stop = set(stopwords.words('english'))"
   ]
  },
  {
   "cell_type": "code",
   "execution_count": 39,
   "metadata": {
    "collapsed": true
   },
   "outputs": [],
   "source": [
    "temp = replaceTwoOrMore(re.sub('[^a-zA-Z0-9 \\n\\.]', ' ', processTweet2(data)))\n",
    "temp = \" \".join([i for i in temp.lower().split() if i not in stop])\n",
    "temp = \" \".join([i for i in temp.split() if i not in STOPWORD_customized])\n",
    "shortword = re.compile(r'\\W*\\b\\w{1,2}\\b')\n",
    "temp = shortword.sub('', temp) "
   ]
  },
  {
   "cell_type": "code",
   "execution_count": 40,
   "metadata": {
    "collapsed": true
   },
   "outputs": [],
   "source": [
    "from nltk.stem import PorterStemmer\n",
    "from nltk.tokenize import sent_tokenize, word_tokenize\n",
    "\n",
    "ps = PorterStemmer()"
   ]
  },
  {
   "cell_type": "code",
   "execution_count": 41,
   "metadata": {},
   "outputs": [],
   "source": [
    "temp = temp.replace(\"millenials\", \"millenial\")\n",
    "temp = temp.replace(\"disabilities\", \"disability\")\n",
    "temp = temp.replace(\"organization\", \"organisation\")"
   ]
  },
  {
   "cell_type": "code",
   "execution_count": 42,
   "metadata": {},
   "outputs": [
    {
     "data": {
      "image/png": "[encoded data removed]",
      "text/plain": [
       "<matplotlib.figure.Figure at 0x2b103def518>"
      ]
     },
     "metadata": {},
     "output_type": "display_data"
    }
   ],
   "source": [
    "wordcloud = WordCloud(\n",
    "    #font_path='Xerox Sans Serif Wide Bold Oblique.ttf',\n",
    "    #stopwords=STOPWORDS.union(stopword),\n",
    "    background_color='white',\n",
    "    #mask = logomask,\n",
    "    max_words=70,\n",
    "    width=4000,\n",
    "    height=4000\n",
    ").generate(temp)\n",
    "\n",
    "plt.imshow(wordcloud.recolor(random_state=3))\n",
    "plt.axis('off')\n",
    "plt.savefig('./HR_head.png', dpi=300)\n",
    "plt.show()"
   ]
  },
  {
   "cell_type": "code",
   "execution_count": null,
   "metadata": {
    "collapsed": true
   },
   "outputs": [],
   "source": []
  }
 ],
 "metadata": {
  "kernelspec": {
   "display_name": "Python 3",
   "language": "python",
   "name": "python3"
  },
  "language_info": {
   "codemirror_mode": {
    "name": "ipython",
    "version": 3
   },
   "file_extension": ".py",
   "mimetype": "text/x-python",
   "name": "python",
   "nbconvert_exporter": "python",
   "pygments_lexer": "ipython3",
   "version": "3.5.4"
  }
 },
 "nbformat": 4,
 "nbformat_minor": 2
}
