{
 "cells": [
  {
   "cell_type": "markdown",
   "metadata": {},
   "source": [
    "# Objective : Identify topics or tags/labels from news articles and map to prospective sales vertical in a prescriptive way."
   ]
  },
  {
   "cell_type": "markdown",
   "metadata": {},
   "source": [
    "Author : \n",
    "Praveen Vijayan ,\n",
    "TCS A&I - Pune"
   ]
  },
  {
   "cell_type": "raw",
   "metadata": {},
   "source": [
    "# Contents\n",
    "\n",
    "01 - Entity identification\n",
    "02 - part_of_speech\n",
    "03 - Bigram / Trigram\n",
    "04 - Topic model\n",
    "05 - Topic of a given text\n",
    "06 - Get related words using word2vec"
   ]
  },
  {
   "cell_type": "markdown",
   "metadata": {},
   "source": [
    "# Importing libraries"
   ]
  },
  {
   "cell_type": "code",
   "execution_count": 1,
   "metadata": {},
   "outputs": [
    {
     "name": "stderr",
     "output_type": "stream",
     "text": [
      "C:\\Users\\praveen\\Anaconda3\\envs\\TCS\\lib\\site-packages\\gensim\\utils.py:865: UserWarning: detected Windows; aliasing chunkize to chunkize_serial\n",
      "  warnings.warn(\"detected Windows; aliasing chunkize to chunkize_serial\")\n",
      "Using TensorFlow backend.\n"
     ]
    }
   ],
   "source": [
    "import csv\n",
    "import re\n",
    "import codecs\n",
    "import os\n",
    "import spacy\n",
    "from __future__ import unicode_literals\n",
    "import pandas as pd\n",
    "import itertools as it\n",
    "from gensim.models import Phrases\n",
    "from gensim.models.word2vec import LineSentence\n"
   ]
  },
  {
   "cell_type": "code",
   "execution_count": 3,
   "metadata": {
    "collapsed": true
   },
   "outputs": [],
   "source": [
    "from __future__ import print_function\n",
    "import numpy as np\n",
    "import sys\n",
    "from time import time\n",
    "import matplotlib.pyplot as plt\n",
    "from sklearn.feature_extraction.text import TfidfVectorizer\n",
    "from sklearn.pipeline import Pipeline\n",
    "from sklearn.linear_model import SGDClassifier\n",
    "from sklearn.naive_bayes import BernoulliNB, MultinomialNB\n",
    "import string\n",
    "from sklearn.pipeline import make_pipeline\n",
    "from sklearn.preprocessing import Normalizer\n",
    "from sklearn.decomposition import TruncatedSVD"
   ]
  },
  {
   "cell_type": "code",
   "execution_count": 4,
   "metadata": {
    "collapsed": true
   },
   "outputs": [],
   "source": [
    "nlp = spacy.load('en_core_web_sm')"
   ]
  },
  {
   "cell_type": "code",
   "execution_count": 5,
   "metadata": {
    "collapsed": true
   },
   "outputs": [],
   "source": [
    "# read CSV file & load into list\n",
    "with open(\"IRC_News_data.csv\",'r') as my_file:  #,encoding=\"utf8\"\n",
    "    reader = csv.reader(my_file, delimiter=',')\n",
    "    news_data_train = list(reader)"
   ]
  },
  {
   "cell_type": "markdown",
   "metadata": {},
   "source": [
    "# Exploring the data structure"
   ]
  },
  {
   "cell_type": "code",
   "execution_count": 6,
   "metadata": {},
   "outputs": [
    {
     "name": "stdout",
     "output_type": "stream",
     "text": [
      "['1', 'Pegasystems Earns Best in Biz Award for Second Consecutive Year', 'CAMBRIDGE, Mass., Nov. 30, 2017 (GLOBE NEWSWIRE) -- Pegasystems Inc. (NASDAQ:PEGA), the software company empowering customer engagement at the world’s leading enterprises, today announced that Pega® Intelligent Virtual Assistant has been named a Bronze winner for Best New Product of the Year in the Enterprise category of the seventh annual Best in Biz Awards. This marks the second consecutive year that a Pega solution has won an award in this category.\\n\\nThe award recognizes Pega Intelligent Virtual Assistant’s use of artificial intelligence (AI) to evolve bots from simple chat and data aggregation novelties into dynamic customer engagement tools. This AI-powered bot provides customers and employees with smart digital assistants from almost any conversational interface – from SMS and email to Facebook, Alexa, Slack, and beyond. Pega Intelligent Virtual Assistant – part of the Pega® Platform – turns these channels into sophisticated digital agents that make personalized customer service possible using natural language in voice or text, making bots more useful and gratifying for customers and employees to use.\\n\\nThe Best in Biz Awards is an independent business awards program judged by a panel of 50 press and industry analyst members in North America. The seventh annual program received more than 650 entries from public and private companies of varying sizes, industries, and geographies.']\n"
     ]
    }
   ],
   "source": [
    "print(news_data_train[3])"
   ]
  },
  {
   "cell_type": "code",
   "execution_count": 7,
   "metadata": {},
   "outputs": [
    {
     "name": "stdout",
     "output_type": "stream",
     "text": [
      "class label : 1\n"
     ]
    }
   ],
   "source": [
    "print(\"class label : \" + news_data_train[3][0])"
   ]
  },
  {
   "cell_type": "code",
   "execution_count": 8,
   "metadata": {},
   "outputs": [
    {
     "name": "stdout",
     "output_type": "stream",
     "text": [
      "Heading : Pegasystems Earns Best in Biz Award for Second Consecutive Year\n"
     ]
    }
   ],
   "source": [
    "print(\"Heading : \" + news_data_train[3][1])"
   ]
  },
  {
   "cell_type": "code",
   "execution_count": 9,
   "metadata": {},
   "outputs": [
    {
     "name": "stdout",
     "output_type": "stream",
     "text": [
      "Content : CAMBRIDGE, Mass., Nov. 30, 2017 (GLOBE NEWSWIRE) -- Pegasystems Inc. (NASDAQ:PEGA), the software company empowering customer engagement at the world’s leading enterprises, today announced that Pega® Intelligent Virtual Assistant has been named a Bronze winner for Best New Product of the Year in the Enterprise category of the seventh annual Best in Biz Awards. This marks the second consecutive year that a Pega solution has won an award in this category.\n",
      "\n",
      "The award recognizes Pega Intelligent Virtual Assistant’s use of artificial intelligence (AI) to evolve bots from simple chat and data aggregation novelties into dynamic customer engagement tools. This AI-powered bot provides customers and employees with smart digital assistants from almost any conversational interface – from SMS and email to Facebook, Alexa, Slack, and beyond. Pega Intelligent Virtual Assistant – part of the Pega® Platform – turns these channels into sophisticated digital agents that make personalized customer service possible using natural language in voice or text, making bots more useful and gratifying for customers and employees to use.\n",
      "\n",
      "The Best in Biz Awards is an independent business awards program judged by a panel of 50 press and industry analyst members in North America. The seventh annual program received more than 650 entries from public and private companies of varying sizes, industries, and geographies.\n"
     ]
    }
   ],
   "source": [
    "print(\"Content : \" +news_data_train[3][2])"
   ]
  },
  {
   "cell_type": "code",
   "execution_count": 10,
   "metadata": {
    "collapsed": true
   },
   "outputs": [],
   "source": [
    "stopwords_file = open(\"stopwords.txt\", \"r\" , encoding=\"utf8\") \n",
    "stopwords = stopwords_file.read()"
   ]
  },
  {
   "cell_type": "code",
   "execution_count": 11,
   "metadata": {
    "collapsed": true
   },
   "outputs": [],
   "source": [
    "STOPWORD_customized = {'will','new','york','will' ,'quot','year ','company ','week', 'one','two','three','reuters','reuters' , 'monday','tuesday','wednesday','thursday','friday','saturday','sunday','yesterday'}"
   ]
  },
  {
   "cell_type": "code",
   "execution_count": 12,
   "metadata": {
    "collapsed": true
   },
   "outputs": [],
   "source": [
    "#label = [] # class\n",
    "#text_doc = [] # news text \n",
    "text_all = \"\"\n",
    "c =0 # to control count of \n",
    "for i in news_data_train:\n",
    "    c= c+1\n",
    "    if c < 3000 :\n",
    "        #label.append(i[0])            \n",
    "        merged = i[1]+\" : \"+i[2] # combining header and content \n",
    "        lowers = merged.lower()   # to lower      \n",
    "        no_punctuation = re.sub(r'[^\\w\\s]',' ', lowers)    # remove punctuation\n",
    "        temp = ' '.join(word for word in no_punctuation.split() if len(word)>3) # remove samll words\n",
    "        filtered = ' '.join(word for word in temp.split() if word not in stopwords.split()) # remove stopwords\n",
    "        filtered = ' '.join(word for word in filtered.split() if word not in STOPWORD_customized) # remove stopwords\n",
    "        temp = filtered\n",
    "        #text_doc.append(temp)\n",
    "        text_all = text_all + temp + \". \" "
   ]
  },
  {
   "cell_type": "code",
   "execution_count": 13,
   "metadata": {
    "collapsed": true
   },
   "outputs": [],
   "source": [
    "del news_data_train"
   ]
  },
  {
   "cell_type": "code",
   "execution_count": 14,
   "metadata": {},
   "outputs": [
    {
     "name": "stdout",
     "output_type": "stream",
     "text": [
      "Wall time: 27.8 s\n"
     ]
    }
   ],
   "source": [
    "%%time\n",
    "parsed_review = nlp(text_all)"
   ]
  },
  {
   "cell_type": "code",
   "execution_count": 16,
   "metadata": {},
   "outputs": [],
   "source": [
    "#parsed_review"
   ]
  },
  {
   "cell_type": "code",
   "execution_count": 16,
   "metadata": {
    "collapsed": true
   },
   "outputs": [],
   "source": [
    "del text_all"
   ]
  },
  {
   "cell_type": "markdown",
   "metadata": {},
   "source": [
    "# Entity identification "
   ]
  },
  {
   "cell_type": "code",
   "execution_count": 72,
   "metadata": {
    "collapsed": true
   },
   "outputs": [],
   "source": [
    "Entity_list = \"\"\n",
    "for num, entity in enumerate(parsed_review.ents):\n",
    "    #print('Entity {}:'.format(num + 1), entity, '-', entity.label_)\n",
    "    #print('')\n",
    "    if entity.label_ == 'GPE' or entity.label_ == 'NORP' or entity.label_ == 'CARDINAL' :\n",
    "        Entity_list = str(Entity_list) + str(entity) + \" : \" + entity.label_ + \"; \""
   ]
  },
  {
   "cell_type": "code",
   "execution_count": 73,
   "metadata": {
    "collapsed": true
   },
   "outputs": [],
   "source": [
    "#review_txt_filepath = \"IRC_News_data.csv\""
   ]
  },
  {
   "cell_type": "code",
   "execution_count": 74,
   "metadata": {},
   "outputs": [
    {
     "data": {
      "text/plain": [
       "['1000 : CARDINAL',\n",
       " ' 1000 : CARDINAL',\n",
       " ' malaysia : GPE',\n",
       " ' american : NORP',\n",
       " ' american : NORP',\n",
       " ' hundreds : CARDINAL',\n",
       " ' half : CARDINAL',\n",
       " ' approximately million : CARDINAL',\n",
       " ' f2018 : CARDINAL',\n",
       " ' 1000 : CARDINAL',\n",
       " ' million : CARDINAL',\n",
       " ' 2018prophix : CARDINAL',\n",
       " ' 2019 : CARDINAL',\n",
       " ' bi360 : CARDINAL',\n",
       " ' bi360 : CARDINAL',\n",
       " ' bi360 : CARDINAL',\n",
       " ' 3rdparty : CARDINAL',\n",
       " ' eur4 million : CARDINAL',\n",
       " ' ucrjaher4rhnwlpnzo5dastg : GPE',\n",
       " ' million : CARDINAL',\n",
       " ' 12000 : CARDINAL',\n",
       " ' 12000 : CARDINAL',\n",
       " ' 12000 : CARDINAL',\n",
       " ' 12000 : CARDINAL',\n",
       " ' half : CARDINAL',\n",
       " ' 2022 : CARDINAL',\n",
       " ' 2025 : CARDINAL',\n",
       " ' 359mhz : CARDINAL',\n",
       " ' half : CARDINAL',\n",
       " ' half : CARDINAL',\n",
       " ' d7a153c6 : GPE',\n",
       " ' dozens : CARDINAL',\n",
       " ' 1000 : CARDINAL',\n",
       " ' millions : CARDINAL',\n",
       " ' c3000 : GPE',\n",
       " ' seven : CARDINAL',\n",
       " ' half : CARDINAL',\n",
       " ' half : CARDINAL',\n",
       " ' billion : CARDINAL',\n",
       " ' million : CARDINAL',\n",
       " ' 2018 : CARDINAL',\n",
       " ' india : GPE',\n",
       " ' hundreds : CARDINAL',\n",
       " ' million : CARDINAL',\n",
       " ' 2017 : CARDINAL',\n",
       " ' india : GPE',\n",
       " ' india : GPE',\n",
       " ' million : CARDINAL',\n",
       " ' chinese : NORP',\n",
       " ' china : GPE',\n",
       " ' millions : CARDINAL',\n",
       " ' 1000 : CARDINAL',\n",
       " ' india : GPE',\n",
       " ' fax2mail : CARDINAL',\n",
       " ' 4hana : CARDINAL',\n",
       " ' india : GPE',\n",
       " ' 507685 : CARDINAL',\n",
       " ' japan : GPE',\n",
       " ' billion : CARDINAL',\n",
       " ' japanese korean : NORP',\n",
       " ' chinese : NORP',\n",
       " ' 2016 : CARDINAL',\n",
       " ' thousands : CARDINAL',\n",
       " ' thousands : CARDINAL',\n",
       " ' quarter : CARDINAL',\n",
       " ' billions : CARDINAL',\n",
       " ' thousands millions : CARDINAL',\n",
       " ' hundreds thousands : CARDINAL',\n",
       " ' million : CARDINAL',\n",
       " ' 2015 : CARDINAL',\n",
       " ' billion : CARDINAL',\n",
       " ' israeli : NORP',\n",
       " ' 2015 : CARDINAL',\n",
       " ' thousands : CARDINAL',\n",
       " ' 1000 : CARDINAL',\n",
       " ' 2016 : CARDINAL',\n",
       " ' billions : CARDINAL',\n",
       " ' india : GPE',\n",
       " ' seven : CARDINAL',\n",
       " ' 55b3c8922254 : CARDINAL',\n",
       " ' india : GPE',\n",
       " ' india : GPE',\n",
       " ' russian : NORP',\n",
       " ' 2008 : CARDINAL',\n",
       " ' india : GPE',\n",
       " ' 2025 : CARDINAL',\n",
       " ' thirteen : CARDINAL',\n",
       " ' eighteen : CARDINAL',\n",
       " ' india : GPE',\n",
       " ' 7pressrelease : CARDINAL',\n",
       " ' million : CARDINAL',\n",
       " ' 3xlogic : CARDINAL',\n",
       " ' 3xlogic : CARDINAL',\n",
       " ' 3xlogic : CARDINAL',\n",
       " ' hundreds : CARDINAL',\n",
       " ' quarter : CARDINAL',\n",
       " ' million : CARDINAL',\n",
       " ' million million : CARDINAL',\n",
       " ' trillions : CARDINAL',\n",
       " ' millions : CARDINAL',\n",
       " ' india : GPE',\n",
       " ' india : GPE',\n",
       " ' quarter : CARDINAL',\n",
       " ' 1000 : CARDINAL',\n",
       " ' billion : CARDINAL',\n",
       " ' billion : CARDINAL',\n",
       " ' million : CARDINAL',\n",
       " ' zero : CARDINAL',\n",
       " ' billions : CARDINAL',\n",
       " ' fifty : CARDINAL',\n",
       " ' european : NORP',\n",
       " ' million : CARDINAL',\n",
       " ' 1200 : CARDINAL',\n",
       " ' half : CARDINAL',\n",
       " ' 2022 : CARDINAL',\n",
       " ' 2016 2022 : CARDINAL',\n",
       " ' india : GPE',\n",
       " ' fifty billion : CARDINAL',\n",
       " ' half : CARDINAL',\n",
       " ' million : CARDINAL',\n",
       " ' 2030 billion : CARDINAL',\n",
       " ' approximately billion : CARDINAL',\n",
       " ' billions : CARDINAL',\n",
       " ' 600e 410e : CARDINAL',\n",
       " ' 600e : CARDINAL',\n",
       " ' 5ghz : CARDINAL',\n",
       " ' 96boards : CARDINAL',\n",
       " ' billion : CARDINAL',\n",
       " ' india : GPE',\n",
       " ' billions : CARDINAL',\n",
       " ' billion : CARDINAL',\n",
       " ' american : NORP',\n",
       " ' fifty billion : CARDINAL',\n",
       " ' india : GPE',\n",
       " ' 2021 : CARDINAL',\n",
       " ' 2022 : CARDINAL',\n",
       " ' india : GPE',\n",
       " ' india : GPE',\n",
       " ' india : GPE',\n",
       " ' india : GPE',\n",
       " ' india : GPE',\n",
       " ' 2050 billion : CARDINAL',\n",
       " ' thirds : CARDINAL',\n",
       " ' fiscal 3q16 : CARDINAL',\n",
       " ' million : CARDINAL',\n",
       " ' india : GPE',\n",
       " ' millions : CARDINAL',\n",
       " ' japan : GPE',\n",
       " ' india : GPE',\n",
       " ' india : GPE',\n",
       " ' blockchain : CARDINAL',\n",
       " ' blockchain : CARDINAL',\n",
       " ' billion : CARDINAL',\n",
       " ' india : GPE',\n",
       " ' india : GPE',\n",
       " ' india : GPE',\n",
       " ' russian : NORP',\n",
       " ' india : GPE',\n",
       " ' india : GPE',\n",
       " ' quarter : CARDINAL',\n",
       " ' chinese : NORP',\n",
       " ' million : CARDINAL',\n",
       " ' china : GPE',\n",
       " ' china : GPE',\n",
       " ' billion : CARDINAL',\n",
       " ' india : GPE',\n",
       " ' billion : CARDINAL',\n",
       " ' 01112016 : CARDINAL',\n",
       " ' billion : CARDINAL',\n",
       " ' japanese : NORP',\n",
       " ' tokyo : GPE',\n",
       " ' japan : GPE',\n",
       " ' india : GPE',\n",
       " ' estimated million : CARDINAL',\n",
       " ' 2022 : CARDINAL',\n",
       " ' half : CARDINAL',\n",
       " ' half : CARDINAL',\n",
       " ' half : CARDINAL',\n",
       " ' seven : CARDINAL',\n",
       " ' india : GPE',\n",
       " ' china : GPE',\n",
       " ' millions : CARDINAL',\n",
       " ' billion : CARDINAL',\n",
       " ' 100b : CARDINAL',\n",
       " ' india : GPE',\n",
       " ' millions : CARDINAL',\n",
       " ' 2016 : CARDINAL',\n",
       " ' nearly billion : CARDINAL',\n",
       " ' russian : NORP',\n",
       " ' half : CARDINAL',\n",
       " ' india : GPE',\n",
       " ' india : GPE',\n",
       " ' european : NORP',\n",
       " ' half : CARDINAL',\n",
       " ' million million : CARDINAL',\n",
       " ' india : GPE',\n",
       " ' chinese : NORP',\n",
       " ' india : GPE',\n",
       " ' india : GPE',\n",
       " ' india : GPE',\n",
       " ' half : CARDINAL',\n",
       " ' japan : GPE',\n",
       " ' japan : GPE',\n",
       " ' half : CARDINAL',\n",
       " ' chartier : CARDINAL',\n",
       " ' 64kbps : CARDINAL',\n",
       " ' approximately million : CARDINAL',\n",
       " ' 2016 million : CARDINAL',\n",
       " ' subjects_materials : NORP',\n",
       " ' millions : CARDINAL',\n",
       " ' hundreds : CARDINAL',\n",
       " ' 6000 : CARDINAL',\n",
       " ' half : CARDINAL',\n",
       " ' 73743 : CARDINAL',\n",
       " ' million : CARDINAL',\n",
       " ' million : CARDINAL',\n",
       " ' millions : CARDINAL',\n",
       " ' 2016 : CARDINAL',\n",
       " ' hundreds thousands : CARDINAL',\n",
       " ' tens billions : CARDINAL',\n",
       " ' chicago : GPE',\n",
       " ' anticipates million : CARDINAL',\n",
       " ' 2022 : CARDINAL',\n",
       " ' 2022 : CARDINAL',\n",
       " ' seven : CARDINAL',\n",
       " ' millions : CARDINAL',\n",
       " ' china : GPE',\n",
       " ' billion : CARDINAL',\n",
       " ' london : GPE',\n",
       " ' dozens : CARDINAL',\n",
       " ' 1200 : CARDINAL',\n",
       " ' high million : CARDINAL',\n",
       " ' billion : CARDINAL',\n",
       " ' 2016 : CARDINAL',\n",
       " ' 1000 : CARDINAL',\n",
       " ' million : CARDINAL',\n",
       " ' billion : CARDINAL',\n",
       " ' hundreds millions : CARDINAL',\n",
       " ' billions : CARDINAL',\n",
       " ' million : CARDINAL',\n",
       " ' millions : CARDINAL',\n",
       " ' million : CARDINAL',\n",
       " ' rt_shephard : GPE',\n",
       " ' dozen : CARDINAL',\n",
       " ' tens thousands : CARDINAL',\n",
       " ' china : GPE',\n",
       " ' china : GPE',\n",
       " ' drone half : CARDINAL',\n",
       " ' million : CARDINAL',\n",
       " ' half : CARDINAL',\n",
       " ' chinese : NORP',\n",
       " ' china : GPE',\n",
       " ' miles : CARDINAL',\n",
       " ' chinese : NORP',\n",
       " ' 2023 : CARDINAL',\n",
       " ' japanese : NORP',\n",
       " ' million : CARDINAL',\n",
       " ' thousand : CARDINAL',\n",
       " ' million : CARDINAL',\n",
       " ' japanese : NORP',\n",
       " ' chinese : NORP',\n",
       " ' chinese : NORP',\n",
       " ' quarter : CARDINAL',\n",
       " ' 28usd : CARDINAL',\n",
       " ' million : CARDINAL',\n",
       " ' million : CARDINAL',\n",
       " ' thirds : CARDINAL',\n",
       " ' thirds : CARDINAL',\n",
       " ' million : CARDINAL',\n",
       " ' russian : NORP',\n",
       " ' billion : CARDINAL',\n",
       " ' approximately million : CARDINAL',\n",
       " ' chinese : NORP',\n",
       " ' dozen : CARDINAL',\n",
       " ' dozen : CARDINAL',\n",
       " ' tens millions : CARDINAL',\n",
       " ' seven : CARDINAL',\n",
       " ' million : CARDINAL',\n",
       " ' million : CARDINAL',\n",
       " ' 2023 : CARDINAL',\n",
       " ' million : CARDINAL',\n",
       " ' 1qbit : CARDINAL',\n",
       " ' 1qbit : CARDINAL',\n",
       " ' 1qbit million : CARDINAL',\n",
       " ' 1qbit : CARDINAL',\n",
       " ' 1qbit : CARDINAL',\n",
       " ' 1qbit : CARDINAL',\n",
       " ' 2017 : CARDINAL',\n",
       " ' zero : CARDINAL',\n",
       " ' india : GPE',\n",
       " ' china : GPE',\n",
       " ' chinese : NORP',\n",
       " ' zeus : CARDINAL',\n",
       " ' republicans : NORP',\n",
       " ' thousands : CARDINAL',\n",
       " ' eighteen : CARDINAL',\n",
       " ' eighteen : CARDINAL',\n",
       " ' dozens : CARDINAL',\n",
       " ' 2022 : CARDINAL',\n",
       " ' 2017 : CARDINAL',\n",
       " ' 2022 : CARDINAL',\n",
       " ' americans : NORP',\n",
       " ' hundreds : CARDINAL',\n",
       " ' 2017 billion : CARDINAL',\n",
       " ' dozen : CARDINAL',\n",
       " ' 16 : CARDINAL',\n",
       " ' quarter : CARDINAL',\n",
       " ' bl460c : CARDINAL',\n",
       " ' ml110 : GPE',\n",
       " ' year million : CARDINAL',\n",
       " ' 1000 : CARDINAL',\n",
       " ' india : GPE',\n",
       " ' india : GPE',\n",
       " ' india : GPE',\n",
       " ' billion : CARDINAL',\n",
       " ' million : CARDINAL',\n",
       " ' india : GPE',\n",
       " ' india : GPE',\n",
       " ' india : GPE',\n",
       " ' india : GPE',\n",
       " ' india : GPE',\n",
       " ' india : GPE',\n",
       " ' india : GPE',\n",
       " ' nearly million : CARDINAL',\n",
       " ' million : CARDINAL',\n",
       " ' billion : CARDINAL',\n",
       " ' 2017 : CARDINAL',\n",
       " ' thousands : CARDINAL',\n",
       " ' million : CARDINAL',\n",
       " ' million : CARDINAL',\n",
       " ' quarter : CARDINAL',\n",
       " ' india : GPE',\n",
       " ' seven : CARDINAL',\n",
       " ' india : GPE',\n",
       " ' india : GPE',\n",
       " ' india : GPE',\n",
       " ' india : GPE',\n",
       " ' india : GPE',\n",
       " ' india : GPE',\n",
       " ' india : GPE',\n",
       " ' india : GPE',\n",
       " ' india : GPE',\n",
       " ' vietnam : GPE',\n",
       " ' india : GPE',\n",
       " ' india : GPE',\n",
       " ' india : GPE',\n",
       " ' billion : CARDINAL',\n",
       " ' japanese : NORP',\n",
       " ' china : GPE',\n",
       " ' indian : NORP',\n",
       " ' billion : CARDINAL',\n",
       " ' million : CARDINAL',\n",
       " ' chinese : NORP',\n",
       " ' india : GPE',\n",
       " ' million : CARDINAL',\n",
       " ' million : CARDINAL',\n",
       " ' india : GPE',\n",
       " ' india : GPE',\n",
       " ' million : CARDINAL',\n",
       " ' million : CARDINAL',\n",
       " ' india : GPE',\n",
       " ' british : NORP',\n",
       " ' british : NORP',\n",
       " ' million : CARDINAL',\n",
       " ' 2022 : CARDINAL',\n",
       " ' million : CARDINAL',\n",
       " ' quarter : CARDINAL',\n",
       " ' india : GPE',\n",
       " ' india : GPE',\n",
       " ' india : GPE',\n",
       " ' india : GPE',\n",
       " ' india : GPE',\n",
       " ' india : GPE',\n",
       " ' india : GPE',\n",
       " ' seven : CARDINAL',\n",
       " ' india : GPE',\n",
       " ' india : GPE',\n",
       " ' 16 : CARDINAL',\n",
       " ' 128 : CARDINAL',\n",
       " ' india : GPE',\n",
       " ' india : GPE',\n",
       " ' india : GPE',\n",
       " ' london : GPE',\n",
       " ' london : GPE',\n",
       " ' london : GPE',\n",
       " ' 3500 : CARDINAL',\n",
       " ' thousands : CARDINAL',\n",
       " ' india : GPE',\n",
       " ' india : GPE',\n",
       " ' india : GPE',\n",
       " ' maas360 : CARDINAL',\n",
       " ' japan : GPE',\n",
       " ' india : GPE',\n",
       " ' india : GPE',\n",
       " ' india : GPE',\n",
       " ' india : GPE',\n",
       " ' india : GPE',\n",
       " ' billion : CARDINAL',\n",
       " ' india : GPE',\n",
       " ' millions : CARDINAL',\n",
       " ' www4 : CARDINAL',\n",
       " ' 2qts7r : CARDINAL',\n",
       " ' india : GPE',\n",
       " ' india : GPE',\n",
       " ' india : GPE',\n",
       " ' million : CARDINAL',\n",
       " ' canadian : NORP',\n",
       " ' chinese : NORP',\n",
       " ' european : NORP',\n",
       " ' ']"
      ]
     },
     "execution_count": 74,
     "metadata": {},
     "output_type": "execute_result"
    }
   ],
   "source": [
    "Entity_list.split(';')"
   ]
  },
  {
   "cell_type": "markdown",
   "metadata": {},
   "source": [
    "# part_of_speech"
   ]
  },
  {
   "cell_type": "code",
   "execution_count": 75,
   "metadata": {
    "collapsed": true
   },
   "outputs": [],
   "source": [
    "token_text = [token.orth_ for token in parsed_review]\n",
    "token_pos = [token.pos_ for token in parsed_review]\n",
    "\n",
    "#pd.DataFrame(list(zip(token_text, token_pos)),columns=['token_text', 'part_of_speech'])"
   ]
  },
  {
   "cell_type": "code",
   "execution_count": 76,
   "metadata": {
    "collapsed": true
   },
   "outputs": [],
   "source": [
    "token_lemma = [token.lemma_ for token in parsed_review]\n",
    "token_shape = [token.shape_ for token in parsed_review]\n",
    "\n",
    "#pd.DataFrame(list(zip(token_text, token_lemma, token_shape)),columns=['token_text', 'token_lemma', 'token_shape'])"
   ]
  },
  {
   "cell_type": "code",
   "execution_count": 17,
   "metadata": {
    "collapsed": true
   },
   "outputs": [],
   "source": [
    "# parsed_NLP_text.txt\n",
    "\n",
    "with open(\"parsed_NLP_text.txt\", \"w\") as text_file:\n",
    "    print(parsed_review, file=text_file)"
   ]
  },
  {
   "cell_type": "code",
   "execution_count": 18,
   "metadata": {
    "collapsed": true
   },
   "outputs": [],
   "source": [
    "def punct_space(token):\n",
    "    \"\"\"\n",
    "    helper function to eliminate tokens\n",
    "    that are pure punctuation or whitespace\n",
    "    \"\"\"\n",
    "    \n",
    "    return token.is_punct or token.is_space \n",
    "\n",
    "def line_review(filename):\n",
    "    \"\"\"\n",
    "    generator function to read in reviews from the file\n",
    "    and un-escape the original line breaks in the text\n",
    "    \"\"\"\n",
    "    \n",
    "    with codecs.open(filename) as f: #,encoding='utf_8'\n",
    "        for review in f:\n",
    "            yield review.replace('\\\\n', '\\n')\n",
    "            \n",
    "def lemmatized_sentence_corpus(filename):\n",
    "    \"\"\"\n",
    "    generator function to use spaCy to parse reviews,\n",
    "    lemmatize the text, and yield sentences\n",
    "    \"\"\"\n",
    "    \n",
    "    for parsed_review in nlp.pipe(line_review(filename),\n",
    "                                  batch_size=10000, n_threads=4):\n",
    "        \n",
    "        for sent in parsed_review.sents:\n",
    "            yield u' '.join([token.lemma_ for token in sent\n",
    "                             if not punct_space(token)])"
   ]
  },
  {
   "cell_type": "code",
   "execution_count": 19,
   "metadata": {
    "collapsed": true
   },
   "outputs": [],
   "source": [
    "unigram_sentences_filepath = os.path.join('unigram_sentences_all.txt')"
   ]
  },
  {
   "cell_type": "code",
   "execution_count": 20,
   "metadata": {},
   "outputs": [
    {
     "name": "stdout",
     "output_type": "stream",
     "text": [
      "Wall time: 28.6 s\n"
     ]
    }
   ],
   "source": [
    "%%time\n",
    "with codecs.open(unigram_sentences_filepath, 'w', encoding='utf_8') as f:\n",
    "        for sentence in lemmatized_sentence_corpus('parsed_NLP_text.txt'):\n",
    "            f.write(sentence + '\\n')"
   ]
  },
  {
   "cell_type": "code",
   "execution_count": 21,
   "metadata": {
    "collapsed": true
   },
   "outputs": [],
   "source": [
    "unigram_sentences = LineSentence(unigram_sentences_filepath)"
   ]
  },
  {
   "cell_type": "code",
   "execution_count": 22,
   "metadata": {
    "collapsed": true
   },
   "outputs": [],
   "source": [
    "bigram_model_filepath = 'bigram_model_all.txt'"
   ]
  },
  {
   "cell_type": "code",
   "execution_count": 23,
   "metadata": {},
   "outputs": [
    {
     "name": "stdout",
     "output_type": "stream",
     "text": [
      "Wall time: 428 ms\n"
     ]
    }
   ],
   "source": [
    "%%time\n",
    "\n",
    "# this is a bit time consuming - make the if statement True\n",
    "# if you want to execute modeling yourself.\n",
    "if 1 == 1:\n",
    "\n",
    "    bigram_model = Phrases(unigram_sentences)\n",
    "\n",
    "    bigram_model.save(bigram_model_filepath)\n",
    "    \n",
    "# load the finished model from disk\n",
    "bigram_model = Phrases.load(bigram_model_filepath)"
   ]
  },
  {
   "cell_type": "code",
   "execution_count": 24,
   "metadata": {
    "collapsed": true
   },
   "outputs": [],
   "source": [
    "bigram_sentences_filepath  = 'bigram_model_all.txt'"
   ]
  },
  {
   "cell_type": "code",
   "execution_count": 25,
   "metadata": {},
   "outputs": [
    {
     "name": "stderr",
     "output_type": "stream",
     "text": [
      "C:\\Users\\praveen\\Anaconda3\\envs\\TCS\\lib\\site-packages\\gensim\\models\\phrases.py:316: UserWarning: For a faster implementation, use the gensim.models.phrases.Phraser class\n",
      "  warnings.warn(\"For a faster implementation, use the gensim.models.phrases.Phraser class\")\n"
     ]
    },
    {
     "name": "stdout",
     "output_type": "stream",
     "text": [
      "Wall time: 489 ms\n"
     ]
    }
   ],
   "source": [
    "%%time\n",
    "\n",
    "# this is a bit time consuming - make the if statement True\n",
    "# if you want to execute data prep yourself.\n",
    "if 1 == 1:\n",
    "\n",
    "    with codecs.open(bigram_sentences_filepath, 'w' , encoding= 'utf-8') as f:\n",
    "        \n",
    "        for unigram_sentence in unigram_sentences:\n",
    "            \n",
    "            bigram_sentence = u' '.join(bigram_model[unigram_sentence])\n",
    "            \n",
    "            f.write(bigram_sentence + '\\n')"
   ]
  },
  {
   "cell_type": "code",
   "execution_count": 26,
   "metadata": {
    "collapsed": true
   },
   "outputs": [],
   "source": [
    "bigram_sentences = LineSentence(bigram_sentences_filepath)"
   ]
  },
  {
   "cell_type": "code",
   "execution_count": 27,
   "metadata": {
    "collapsed": true
   },
   "outputs": [],
   "source": [
    "trigram_model_filepath = 'trigram_model_all.txt'"
   ]
  },
  {
   "cell_type": "code",
   "execution_count": 28,
   "metadata": {},
   "outputs": [
    {
     "name": "stdout",
     "output_type": "stream",
     "text": [
      "Wall time: 402 ms\n"
     ]
    }
   ],
   "source": [
    "%%time\n",
    "\n",
    "# this is a bit time consuming - make the if statement True\n",
    "# if you want to execute modeling yourself.\n",
    "if 1 == 1:\n",
    "\n",
    "    trigram_model = Phrases(bigram_sentences)\n",
    "\n",
    "    trigram_model.save(trigram_model_filepath)\n",
    "    \n",
    "# load the finished model from disk\n",
    "trigram_model = Phrases.load(trigram_model_filepath)"
   ]
  },
  {
   "cell_type": "code",
   "execution_count": 29,
   "metadata": {
    "collapsed": true
   },
   "outputs": [],
   "source": [
    "trigram_sentences_filepath = 'trigram_sentences_all.txt'"
   ]
  },
  {
   "cell_type": "code",
   "execution_count": 30,
   "metadata": {
    "collapsed": true
   },
   "outputs": [],
   "source": [
    "trigram_sentences = LineSentence(trigram_sentences_filepath)"
   ]
  },
  {
   "cell_type": "code",
   "execution_count": 31,
   "metadata": {
    "collapsed": true
   },
   "outputs": [],
   "source": [
    "trigram_reviews_filepath = 'trigram_transformed_reviews_all.txt'"
   ]
  },
  {
   "cell_type": "markdown",
   "metadata": {},
   "source": [
    "# From normal text to trigram  "
   ]
  },
  {
   "cell_type": "code",
   "execution_count": 32,
   "metadata": {
    "collapsed": true
   },
   "outputs": [],
   "source": [
    "review_txt_filepath = 'parsed_NLP_text.txt' # \"sub_News_data_train.csv\"\n"
   ]
  },
  {
   "cell_type": "code",
   "execution_count": 33,
   "metadata": {},
   "outputs": [
    {
     "name": "stderr",
     "output_type": "stream",
     "text": [
      "C:\\Users\\praveen\\Anaconda3\\envs\\TCS\\lib\\site-packages\\gensim\\models\\phrases.py:316: UserWarning: For a faster implementation, use the gensim.models.phrases.Phraser class\n",
      "  warnings.warn(\"For a faster implementation, use the gensim.models.phrases.Phraser class\")\n"
     ]
    },
    {
     "name": "stdout",
     "output_type": "stream",
     "text": [
      "Wall time: 28.6 s\n"
     ]
    }
   ],
   "source": [
    "%%time\n",
    "\n",
    "# this is a bit time consuming - make the if statement True\n",
    "# if you want to execute data prep yourself.\n",
    "if 1 == 1:\n",
    "\n",
    "    with codecs.open(trigram_reviews_filepath, 'w', encoding='utf_8') as f:\n",
    "        \n",
    "        for parsed_review in nlp.pipe(line_review(review_txt_filepath),\n",
    "                                      batch_size=1000, n_threads=4):\n",
    "            \n",
    "            #merged = parsed_review # combining header and content \n",
    "            #lowers = merged.lower()   # to lower      \n",
    "            #no_punctuation = re.sub(r'[^\\w\\s]',' ', lowers)    # remove punctuation\n",
    "            #temp = ' '.join(word for word in no_punctuation.split() if len(word)>3) # remove samll words\n",
    "            \n",
    "            # lemmatize the text, removing punctuation and whitespace\n",
    "            unigram_review = [token.lemma_ for token in parsed_review\n",
    "                              if not punct_space(token)]\n",
    "            \n",
    "            # apply the first-order and second-order phrase models\n",
    "            bigram_review = bigram_model[unigram_review]\n",
    "            trigram_review = trigram_model[bigram_review]\n",
    "            \n",
    "            # remove any remaining stopwords\n",
    "            trigram_review = [term for term in trigram_review\n",
    "                              if term not in nlp.Defaults.stop_words]\n",
    "            \n",
    "            \n",
    "            \n",
    "            # write the transformed review as a line in the new file\n",
    "            trigram_review = u' '.join(trigram_review)\n",
    "            f.write(trigram_review + '\\n')"
   ]
  },
  {
   "cell_type": "code",
   "execution_count": 34,
   "metadata": {
    "collapsed": true
   },
   "outputs": [],
   "source": [
    "from gensim.corpora import Dictionary, MmCorpus\n",
    "from gensim.models.ldamulticore import LdaMulticore\n",
    "\n",
    "import pyLDAvis\n",
    "import pyLDAvis.gensim\n",
    "import warnings\n",
    "#import cPickle as pickle"
   ]
  },
  {
   "cell_type": "code",
   "execution_count": 35,
   "metadata": {
    "collapsed": true
   },
   "outputs": [],
   "source": [
    "trigram_dictionary_filepath = 'trigram_dict_all.dict'"
   ]
  },
  {
   "cell_type": "code",
   "execution_count": 36,
   "metadata": {},
   "outputs": [
    {
     "name": "stdout",
     "output_type": "stream",
     "text": [
      "Wall time: 102 ms\n"
     ]
    }
   ],
   "source": [
    "%%time\n",
    "\n",
    "# this is a bit time consuming - make the if statement True\n",
    "# if you want to learn the dictionary yourself.\n",
    "if 1 == 1:\n",
    "\n",
    "    trigram_reviews = LineSentence(trigram_reviews_filepath)\n",
    "\n",
    "    # learn the dictionary by iterating over all of the reviews\n",
    "    trigram_dictionary = Dictionary(trigram_reviews)\n",
    "    \n",
    "    # filter tokens that are very rare or too common from\n",
    "    # the dictionary (filter_extremes) and reassign integer ids (compactify)\n",
    "    #trigram_dictionary.filter_extremes(no_below=10, no_above=0.4)\n",
    "    trigram_dictionary.compactify()\n",
    "\n",
    "    trigram_dictionary.save(trigram_dictionary_filepath)\n",
    "    \n",
    "# load the finished dictionary from disk\n",
    "trigram_dictionary = Dictionary.load(trigram_dictionary_filepath)"
   ]
  },
  {
   "cell_type": "code",
   "execution_count": 37,
   "metadata": {
    "collapsed": true
   },
   "outputs": [],
   "source": [
    "trigram_bow_filepath = 'trigram_bow_corpus_all.mm'"
   ]
  },
  {
   "cell_type": "code",
   "execution_count": 38,
   "metadata": {
    "collapsed": true
   },
   "outputs": [],
   "source": [
    "def trigram_bow_generator(filepath):\n",
    "    \"\"\"\n",
    "    generator function to read reviews from a file\n",
    "    and yield a bag-of-words representation\n",
    "    \"\"\"\n",
    "    \n",
    "    for review in LineSentence(filepath):\n",
    "        yield trigram_dictionary.doc2bow(review)"
   ]
  },
  {
   "cell_type": "code",
   "execution_count": 39,
   "metadata": {},
   "outputs": [
    {
     "name": "stdout",
     "output_type": "stream",
     "text": [
      "Wall time: 157 ms\n"
     ]
    }
   ],
   "source": [
    "%%time\n",
    "\n",
    "# this is a bit time consuming - make the if statement True\n",
    "# if you want to build the bag-of-words corpus yourself.\n",
    "if 1 == 1:\n",
    "\n",
    "    # generate bag-of-words representations for\n",
    "    # all reviews and save them as a matrix\n",
    "    MmCorpus.serialize(trigram_bow_filepath,\n",
    "                       trigram_bow_generator(trigram_reviews_filepath))\n",
    "    \n",
    "# load the finished bag-of-words corpus from disk\n",
    "trigram_bow_corpus = MmCorpus(trigram_bow_filepath)"
   ]
  },
  {
   "cell_type": "code",
   "execution_count": 40,
   "metadata": {
    "collapsed": true
   },
   "outputs": [],
   "source": [
    "lda_model_filepath = 'lda_model_all.txt'"
   ]
  },
  {
   "cell_type": "code",
   "execution_count": 108,
   "metadata": {},
   "outputs": [
    {
     "ename": "NameError",
     "evalue": "name 'bigram_dictionary' is not defined",
     "output_type": "error",
     "traceback": [
      "\u001b[1;31m---------------------------------------------------------------------------\u001b[0m",
      "\u001b[1;31mNameError\u001b[0m                                 Traceback (most recent call last)",
      "\u001b[1;32m<timed exec>\u001b[0m in \u001b[0;36m<module>\u001b[1;34m()\u001b[0m\n",
      "\u001b[1;31mNameError\u001b[0m: name 'bigram_dictionary' is not defined"
     ]
    }
   ],
   "source": [
    "%%time\n",
    "\n",
    "# this is a bit time consuming - make the if statement True\n",
    "# if you want to train the LDA model yourself.\n",
    "if 1 == 1:\n",
    "\n",
    "    with warnings.catch_warnings():\n",
    "        warnings.simplefilter('ignore')\n",
    "        \n",
    "        # workers => sets the parallelism, and should be\n",
    "        # set to your number of physical cores minus one\n",
    "        lda = LdaMulticore(trigram_bow_corpus,\n",
    "                           num_topics=5,\n",
    "                           id2word=trigram_dictionary,   # trigram_dictionary\n",
    "                           workers=4)\n",
    "    \n",
    "    lda.save(lda_model_filepath)\n",
    "    \n",
    "# load the finished LDA model from disk\n",
    "lda = LdaMulticore.load(lda_model_filepath)"
   ]
  },
  {
   "cell_type": "code",
   "execution_count": 42,
   "metadata": {
    "collapsed": true
   },
   "outputs": [],
   "source": [
    "def explore_topic(topic_number, topn=10):\n",
    "    \"\"\"\n",
    "    accept a user-supplied topic number and\n",
    "    print out a formatted list of the top terms\n",
    "    \"\"\"\n",
    "        \n",
    "    print(u'{:20} {}'.format(u'term', u'frequency') + u'\\n')\n",
    "\n",
    "    for term, frequency in lda.show_topic(topic_number, topn=25):\n",
    "        print(u'{:20} {:.3f}'.format(term, round(frequency, 3)))"
   ]
  },
  {
   "cell_type": "code",
   "execution_count": 107,
   "metadata": {},
   "outputs": [],
   "source": [
    "#explore_topic(topic_number=3)"
   ]
  },
  {
   "cell_type": "code",
   "execution_count": 44,
   "metadata": {
    "collapsed": true
   },
   "outputs": [],
   "source": [
    "LDAvis_data_filepath = 'ldavis_prepared.txt'"
   ]
  },
  {
   "cell_type": "code",
   "execution_count": 45,
   "metadata": {},
   "outputs": [
    {
     "name": "stderr",
     "output_type": "stream",
     "text": [
      "C:\\Users\\praveen\\Anaconda3\\envs\\TCS\\lib\\site-packages\\pyLDAvis\\_prepare.py:387: DeprecationWarning: \n",
      ".ix is deprecated. Please use\n",
      ".loc for label based indexing or\n",
      ".iloc for positional indexing\n",
      "\n",
      "See the documentation here:\n",
      "http://pandas.pydata.org/pandas-docs/stable/indexing.html#ix-indexer-is-deprecated\n",
      "  topic_term_dists = topic_term_dists.ix[topic_order]\n"
     ]
    },
    {
     "name": "stdout",
     "output_type": "stream",
     "text": [
      "Wall time: 14.6 s\n"
     ]
    }
   ],
   "source": [
    "%%time\n",
    "LDAvis_prepared = pyLDAvis.gensim.prepare(lda, trigram_bow_corpus,trigram_dictionary)"
   ]
  },
  {
   "cell_type": "code",
   "execution_count": 47,
   "metadata": {},
   "outputs": [
    {
     "data": {
      "text/html": [
       "\n",
       "<link rel=\"stylesheet\" type=\"text/css\" href=\"https://cdn.rawgit.com/bmabey/pyLDAvis/files/ldavis.v1.0.0.css\">\n",
       "\n",
       "\n",
       "<div id=\"ldavis_el1726016106439480727579544029\"></div>\n",
       "<script type=\"text/javascript\">\n",
       "\n",
       "var ldavis_el1726016106439480727579544029_data = {\"tinfo\": {\"Total\": [744.0, 422.0, 408.0, 412.0, 391.0, 385.0, 357.0, 299.0, 322.0, 267.0, 261.0, 230.0, 202.0, 216.0, 239.0, 198.0, 190.0, 211.0, 212.0, 211.0, 224.0, 218.0, 191.0, 188.0, 171.0, 179.0, 185.0, 178.0, 189.0, 178.0, 38.01210670337354, 14.912744399472313, 9.201604091226733, 5.825438240392192, 2.834541588667152, 11.184248199464452, 65.34439984150363, 20.85636478092497, 3.720520890690074, 4.560795744422605, 4.801651652176283, 5.972200998581275, 11.373927626013662, 59.89280513581764, 15.585750045118376, 34.65047939867888, 25.144175885127947, 20.857870688881803, 51.90417928719764, 56.45216331665887, 9.796004887039176, 56.18081578142619, 39.98944676410407, 2.928143714575962, 20.883944875316562, 22.849438705519212, 10.60541733946687, 7.2349227203822, 17.381080708230442, 3.788234277005848, 385.61124072362975, 422.0200544294469, 78.41149868085569, 48.90158714685853, 44.616485280315835, 81.47696542861671, 261.1941291774946, 64.09004174271884, 38.605694838046006, 79.85470201235029, 103.48849647682441, 54.17227732591301, 391.14329015194215, 169.67138993673504, 125.08249449491636, 88.02437433187663, 178.34969030995018, 239.1925162455716, 93.3366441989221, 107.35883868654986, 136.03500571200382, 267.93895154172503, 202.37062540453073, 133.38082725661133, 211.36382839520238, 322.04615130732645, 744.1655519481699, 153.0746866711031, 230.08584852218513, 117.8293624207204, 163.65368975900066, 357.81611958648455, 412.2859965922729, 189.53130358086725, 408.4099162869097, 224.53999046742962, 191.28560079193556, 299.7706441504551, 218.21700164163786, 185.58610291930063, 198.41485995175003, 151.63958419694086, 188.7524259578689, 212.11154078362554, 211.13196823487485, 190.19034185078706, 179.8279428281098, 11.362826086979316, 4.488462532920205, 12.427447073678943, 4.351505647461963, 5.7017381954430615, 12.525636985016602, 5.566685953044828, 11.449849028497985, 9.059666731527257, 5.465756892188051, 9.256218716935532, 3.3192732449508746, 1.6188711274380783, 216.53210092431132, 3.882555020644216, 34.626305007858114, 4.966439839072265, 11.381237065829055, 14.636486072177123, 2.471331302682425, 2.4569218559747763, 15.45608123218623, 7.9453576183422765, 4.335131878396036, 9.677847470424563, 6.621642450668652, 7.322957989422651, 41.273516476601046, 32.16841317242013, 1.5429943595196678, 22.790620572078375, 11.288244050258816, 18.000322414842007, 46.471092775342704, 744.1655519481699, 119.15415915418009, 105.21455642174985, 17.27583433673976, 87.89454269178076, 42.89134899405167, 40.15609478906435, 144.7400731082289, 58.441736369094684, 211.13196823487485, 212.11154078362554, 141.80176473635208, 140.573943612262, 82.28813923718407, 113.12781289397076, 64.32187917706577, 48.9912420519524, 144.11029512407865, 412.2859965922729, 92.98728516570263, 87.38354012610769, 88.96716617988181, 224.53999046742962, 92.79488033126933, 190.19034185078706, 122.67737067357126, 408.4099162869097, 179.8279428281098, 118.46089048308752, 163.65368975900066, 218.21700164163786, 422.0200544294469, 357.81611958648455, 198.41485995175003, 299.7706441504551, 385.61124072362975, 322.04615130732645, 261.1941291774946, 239.1925162455716, 188.7524259578689, 267.93895154172503, 391.14329015194215, 185.58610291930063, 189.53130358086725, 211.36382839520238, 191.28560079193556, 230.08584852218513, 178.36045965741997, 6.824964483613545, 2.3655765736902494, 3.8768815494463507, 5.7705691051805985, 3.448278843908325, 3.8474957258709863, 4.440504842891275, 3.018779481828837, 8.421051592151823, 3.0704435596638313, 3.2389422479031125, 4.219311865691159, 5.832736036933088, 3.0101545040920312, 10.073426907823578, 2.6304474221595013, 3.0570384171152596, 4.553086312847998, 2.3980327368811722, 3.0217514702637622, 8.018743521269064, 18.59965647106774, 4.688315952096443, 2.5069413052387097, 1.4804660015826157, 3.4755846187351374, 2.2686983455087097, 4.632687816786872, 1.501140853531856, 2.217266394838337, 5.815713673926895, 5.766034791053793, 7.039364743038329, 27.694046472776428, 18.014077950145527, 27.23487854975591, 15.443204167713906, 59.03181631242143, 138.70171901989343, 25.044120766201825, 408.4099162869097, 202.37062540453073, 90.71260907344059, 230.08584852218513, 24.374386716892666, 21.456399366108577, 92.06502526990467, 412.2859965922729, 40.97883761705207, 83.65463597972052, 98.46281443370194, 218.21700164163786, 136.1313376861233, 77.7911613909597, 70.91401307085914, 104.58624889117988, 322.04615130732645, 198.41485995175003, 190.19034185078706, 299.7706441504551, 130.95559700321988, 178.36045965741997, 357.81611958648455, 140.573943612262, 267.93895154172503, 169.67138993673504, 92.28126746521411, 744.1655519481699, 211.36382839520238, 171.527959077037, 149.0165925787177, 391.14329015194215, 216.53210092431132, 188.7524259578689, 212.11154078362554, 179.8279428281098, 191.28560079193556, 211.13196823487485, 385.61124072362975, 185.58610291930063, 422.0200544294469, 261.1941291774946, 224.53999046742962, 239.1925162455716, 6.656728403489955, 102.77053547208396, 3.81103378487945, 2.2567675963995444, 6.068733403644132, 3.69674767243488, 2.2671041374714043, 3.068868682188382, 5.10897287564229, 12.362275561952305, 2.9911946799247633, 13.430869575896986, 3.948680497240283, 4.775784808997436, 11.134831121427284, 2.397377095069149, 1.3827816497428143, 2.998736204563474, 2.3969650183167692, 11.008184767533532, 1.425122110496363, 3.967903561576979, 11.394026715274357, 1.472768846582409, 5.704649140059873, 5.303263673740758, 37.31411536602353, 26.890069684779576, 3.283960953316793, 3.037117615434958, 73.48657109288034, 24.688294527312646, 178.36045965741997, 189.53130358086725, 357.81611958648455, 59.57432198446118, 79.18317219550994, 23.403814659761426, 19.966866676499542, 391.14329015194215, 28.943875551523682, 45.8014823680703, 47.17955180214322, 105.69513841988281, 299.7706441504551, 34.95559598214096, 64.32187917706577, 31.467541638817284, 57.68136692077561, 171.527959077037, 216.53210092431132, 132.44922569863527, 75.49988446737757, 239.1925162455716, 408.4099162869097, 120.59913859259115, 422.0200544294469, 744.1655519481699, 322.04615130732645, 137.72455187908844, 125.08249449491636, 185.58610291930063, 224.53999046742962, 412.2859965922729, 385.61124072362975, 151.63958419694086, 191.28560079193556, 188.7524259578689, 127.94032794119336, 138.70171901989343, 179.8279428281098, 211.13196823487485, 153.0746866711031, 267.93895154172503, 212.11154078362554, 261.1941291774946, 230.08584852218513, 202.37062540453073, 218.21700164163786, 178.34969030995018, 6.542805847335194, 2.850541187881751, 1.9985130039415306, 1.3549876654766273, 20.251962680442958, 5.887068035015659, 2.1313992196341434, 2.920836839642186, 2.115779416568641, 13.582602701361498, 2.3301704703052555, 2.041119324249494, 2.1368848115964987, 3.623998908093739, 2.368472703228375, 2.0435106019682348, 1.3439389135614919, 2.224136528174902, 8.71120726368356, 2.2854938735121433, 1.3459004558922545, 6.249735553412117, 1.3730155053457713, 3.6764883531171675, 59.03181631242143, 2.1406990655140765, 1.3077602898724798, 4.473759288991572, 6.443036287104908, 1.437306244145885, 2.3711027535854274, 10.960430463225581, 4.958491485719665, 10.330474597121963, 9.350494288877032, 299.7706441504551, 10.450141300896588, 48.447638557867805, 29.50514612897997, 48.38210742013364, 13.173869669879199, 9.129124322934489, 163.65368975900066, 15.446132273111033, 91.61746156759453, 136.19376728945582, 171.527959077037, 136.03500571200382, 34.43006299565433, 27.38553910841882, 224.53999046742962, 357.81611958648455, 71.66772621584053, 143.6933860242838, 23.727565199970677, 202.37062540453073, 137.72455187908844, 127.94032794119336, 59.058868189647846, 64.58019383901441, 115.63652700015851, 54.42481983847436, 140.573943612262, 191.28560079193556, 744.1655519481699, 79.85470201235029, 188.7524259578689, 391.14329015194215, 422.0200544294469, 190.19034185078706, 408.4099162869097, 412.2859965922729, 385.61124072362975, 211.36382839520238, 216.53210092431132, 149.0165925787177, 322.04615130732645, 267.93895154172503, 179.8279428281098, 239.1925162455716, 261.1941291774946, 230.08584852218513, 212.11154078362554, 198.41485995175003, 2.6304474221595013, 3.4755846187351374, 3.0000463742336683, 2.854167314580035, 2.8738260505856994, 2.5843174971491667, 6.457785767916867, 1.3259776956513376, 5.281667226307974, 1.3459004558922545, 5.439283245768412, 1.3077602898724798, 1.3954782337561316, 2.0435106019682348, 2.1313992196341434, 1.3239355596747562, 6.443036287104908, 2.9710965766129833, 3.63361152454407, 1.3764195421712364, 2.8530833456518656, 5.74460661123643, 1.372881987013263, 2.0698543906805242, 4.996374290846603, 2.850541187881751, 2.1061812785905025, 1.420399887928462, 1.3852162683928915, 4.642491904995263, 13.582602701361498, 2.170517335215383, 8.461201698315218, 149.0165925787177, 5.635773195130918, 17.833149716732855, 14.63638571268952, 11.905074938462917, 20.251962680442958, 38.08055352850447, 179.8279428281098, 31.289440033617176, 17.611465849539876, 136.19376728945582, 185.58610291930063, 27.694046472776428, 105.69513841988281, 9.55854102151372, 61.945454231545995, 98.46281443370194, 19.628087292776176, 93.3366441989221, 115.63652700015851, 137.72455187908844, 55.350873155499464, 90.71260907344059, 66.05250075020041, 211.13196823487485, 91.61746156759453, 299.7706441504551, 202.37062540453073, 412.2859965922729, 87.47132512832367, 42.83526321807205, 75.44640416079676, 190.19034185078706, 391.14329015194215, 111.08559273063118, 744.1655519481699, 408.4099162869097, 267.93895154172503, 357.81611958648455, 224.53999046742962, 178.34969030995018, 132.44922569863527, 191.28560079193556, 216.53210092431132, 169.67138993673504, 239.1925162455716, 322.04615130732645, 422.0200544294469, 198.41485995175003, 385.61124072362975, 230.08584852218513, 261.1941291774946, 218.21700164163786, 188.7524259578689, 178.36045965741997, 211.36382839520238, 3.86989251014261, 10.889524403201337, 2.9911946799247633, 6.656728403489955, 2.112937401717362, 11.651824478335932, 4.609055957822932, 2.138434278284705, 2.311308503895404, 13.519843379721783, 1.405574827079394, 73.48657109288034, 3.0936551114765245, 28.943875551523682, 3.6884625734177834, 1.460719838764065, 1.3827816497428143, 2.3200526353926114, 3.1128763633413032, 11.905074938462917, 1.3994912495811052, 1.4720721106429502, 9.808439952525912, 5.347683210648769, 29.748656694681063, 16.990848930840638, 19.885045166791553, 1.4911013743402417, 1.4926693442113739, 7.429145834097093, 39.90831447251926, 34.44514183685726, 9.065095005774015, 22.181930599642214, 117.8293624207204, 9.338615726268362, 299.7706441504551, 27.694046472776428, 20.43919298770881, 18.401738105908166, 24.688294527312646, 216.53210092431132, 131.1684492196823, 31.467541638817284, 744.1655519481699, 322.04615130732645, 42.60662678896731, 202.37062540453073, 80.30953815226816, 151.63958419694086, 178.34969030995018, 357.81611958648455, 137.72455187908844, 230.08584852218513, 408.4099162869097, 149.0165925787177, 391.14329015194215, 261.1941291774946, 212.11154078362554, 102.77053547208396, 412.2859965922729, 179.8279428281098, 188.7524259578689, 267.93895154172503, 111.08559273063118, 83.65463597972052, 122.67737067357126, 171.527959077037, 422.0200544294469, 190.19034185078706, 178.36045965741997, 385.61124072362975, 185.58610291930063, 191.28560079193556, 239.1925162455716, 211.13196823487485, 224.53999046742962, 2.5843174971491667, 1.448836076901747, 2.710582144442298, 1.3912625146663264, 2.8985880570851483, 1.3106451541302178, 2.2293560680846642, 2.103228336892607, 1.4042876543748937, 1.3617731623013207, 2.185893371896609, 1.39226655817057, 1.3914334008765292, 2.041119324249494, 1.3589169232847356, 1.4327910720497519, 1.3960995166182322, 2.1061812785905025, 1.383154574621269, 2.6304474221595013, 1.3596546652541877, 1.3888707154344477, 1.4167724636385284, 1.3768041358658023, 2.1944307181287663, 3.448278843908325, 1.3439389135614919, 1.4070908635737611, 1.4250935769033766, 1.3259776956513376, 6.443036287104908, 3.018779481828837, 2.7157467314662136, 2.323739932366389, 13.173869669879199, 6.457785767916867, 10.339636047201742, 90.71260907344059, 6.1155311355948445, 73.48657109288034, 15.691483419504115, 15.219778762356748, 3.84102936885577, 3.6701260050281914, 5.887068035015659, 105.21455642174985, 81.6430779046976, 202.37062540453073, 20.17014750753902, 111.08559273063118, 31.289440033617176, 18.183036296008265, 79.85470201235029, 132.44922569863527, 137.72455187908844, 39.53568821440178, 188.7524259578689, 299.7706441504551, 91.61746156759453, 744.1655519481699, 190.19034185078706, 98.24940215067471, 46.822784756390085, 87.47132512832367, 408.4099162869097, 178.36045965741997, 112.56049936407071, 179.8279428281098, 136.19376728945582, 54.939459540168336, 198.41485995175003, 422.0200544294469, 185.58610291930063, 136.03500571200382, 412.2859965922729, 151.63958419694086, 191.28560079193556, 171.527959077037, 357.81611958648455, 391.14329015194215, 216.53210092431132, 239.1925162455716, 212.11154078362554, 261.1941291774946, 385.61124072362975, 230.08584852218513, 267.93895154172503, 322.04615130732645, 218.21700164163786, 224.53999046742962, 211.13196823487485, 3.562551313457826, 1.3106451541302178, 1.4308005280214142, 1.3722828962602742, 4.315875492222655, 1.4242540843558948, 1.4576453656867627, 2.168585058188535, 2.1305759948332086, 1.4015046786541914, 2.0808787149576875, 1.3614175982442296, 2.1679670450025426, 4.996374290846603, 1.3907123099309067, 1.4023432170759778, 1.3555731734024576, 1.3648035654753374, 1.4095188422580516, 2.710582144442298, 1.3479341891539376, 1.3385025725797806, 1.378741445039064, 2.5843174971491667, 1.4308383593136236, 1.382184792002419, 1.379401185044821, 1.3774786869210216, 1.4452011356701542, 1.4766672545007806, 5.07019923649726, 12.134102625880399, 8.95003655546004, 7.403940141217981, 2.9888700486100372, 48.447638557867805, 90.71260907344059, 6.171984329468684, 6.169980873968122, 8.151511573424258, 2.17105872046227, 2.115779416568641, 7.192470584736358, 38.605694838046006, 190.19034185078706, 3.7482934456406354, 137.72455187908844, 171.527959077037, 59.03181631242143, 299.7706441504551, 198.41485995175003, 87.38354012610769, 53.540637603400256, 179.8279428281098, 111.08559273063118, 149.0165925787177, 744.1655519481699, 105.69513841988281, 75.49988446737757, 73.48657109288034, 27.38553910841882, 322.04615130732645, 74.76368078603865, 44.75395769875236, 230.08584852218513, 188.7524259578689, 422.0200544294469, 408.4099162869097, 98.24940215067471, 385.61124072362975, 224.53999046742962, 211.36382839520238, 185.58610291930063, 412.2859965922729, 136.03500571200382, 202.37062540453073, 391.14329015194215, 267.93895154172503, 211.13196823487485, 357.81611958648455, 261.1941291774946, 151.63958419694086, 239.1925162455716, 189.53130358086725, 191.28560079193556, 212.11154078362554, 216.53210092431132, 2.2524892081458674, 1.4341355745962416, 1.386367727952449, 1.5235645683846706, 1.457107884008856, 1.46924602451273, 1.513297478063206, 1.579922311866063, 1.5353404069491763, 1.5235898144434625, 1.4517887529336708, 1.5255951031875687, 2.434752718555428, 1.4793293145646238, 1.573959234521801, 1.4307751883270312, 1.4417335915200362, 1.4174239563558146, 1.4908245738925716, 1.454343045540824, 1.3994912495811052, 1.5604466782854336, 1.472445684876698, 1.5137805142887475, 1.5807257253006386, 1.4585317126505706, 1.4184134310757528, 1.4100275232313602, 1.4782925635124828, 1.564028790162634, 4.074827804918736, 5.9945203558318125, 5.196356405149159, 23.179556219036453, 216.53210092431132, 202.37062540453073, 71.66772621584053, 48.447638557867805, 27.694046472776428, 81.6430779046976, 6.2301829192337, 119.15415915418009, 73.48657109288034, 6.249735553412117, 5.0972842182712625, 11.487155038289211, 6.857232564835703, 171.527959077037, 105.69513841988281, 87.47132512832367, 34.95559598214096, 299.7706441504551, 37.31411536602353, 191.28560079193556, 230.08584852218513, 163.65368975900066, 77.7911613909597, 198.41485995175003, 49.33959025432691, 17.611465849539876, 357.81611958648455, 43.777929811761695, 56.18081578142619, 91.61746156759453, 94.48407609700972, 111.08559273063118, 102.95125600681274, 117.8293624207204, 744.1655519481699, 408.4099162869097, 140.573943612262, 322.04615130732645, 118.46089048308752, 412.2859965922729, 391.14329015194215, 211.13196823487485, 267.93895154172503, 422.0200544294469, 218.21700164163786, 115.63652700015851, 385.61124072362975, 261.1941291774946, 211.36382839520238, 178.36045965741997, 239.1925162455716, 189.53130358086725, 212.11154078362554, 178.34969030995018, 149.0165925787177, 224.53999046742962, 190.19034185078706], \"logprob\": [30.0, 29.0, 28.0, 27.0, 26.0, 25.0, 24.0, 23.0, 22.0, 21.0, 20.0, 19.0, 18.0, 17.0, 16.0, 15.0, 14.0, 13.0, 12.0, 11.0, 10.0, 9.0, 8.0, 7.0, 6.0, 5.0, 4.0, 3.0, 2.0, 1.0, -7.0269, -8.0086, -8.5018, -8.9816, -9.7065, -8.3375, -6.5725, -7.718, -9.442, -9.2468, -9.196, -8.9786, -8.3358, -6.6746, -8.0235, -7.2247, -7.5454, -7.7351, -6.8243, -6.7408, -8.4931, -6.7471, -7.0872, -9.7055, -7.7414, -7.652, -8.42, -8.8029, -7.9282, -9.4534, -4.8415, -4.7532, -6.4234, -6.8973, -6.9889, -6.4004, -5.2641, -6.6438, -7.1451, -6.435, -6.1869, -6.8178, -4.9066, -5.7145, -6.0104, -6.3517, -5.6764, -5.3998, -6.2992, -6.1745, -5.9591, -5.333, -5.6048, -5.9896, -5.5715, -5.1929, -4.4404, -5.8699, -5.5118, -6.1091, -5.8322, -5.1683, -5.0651, -5.7213, -5.0935, -5.5957, -5.7264, -5.3804, -5.6455, -5.7716, -5.7413, -5.9347, -5.7852, -5.7312, -5.7385, -5.8187, -5.8837, -8.0858, -9.0168, -8.0048, -9.0741, -8.8232, -8.0429, -8.8635, -8.1565, -8.3939, -8.8994, -8.374, -9.3995, -10.1179, -5.2239, -9.2471, -7.0635, -9.0077, -8.1805, -7.9301, -9.7121, -9.7208, -7.8826, -8.5491, -9.1565, -8.3572, -8.741, -8.6407, -6.9115, -7.1666, -10.2066, -7.5213, -8.2226, -7.7656, -6.8416, -4.1593, -5.9391, -6.0615, -7.8119, -6.2606, -6.9458, -7.0128, -5.7995, -6.6569, -5.4527, -5.4603, -5.8385, -5.847, -6.3564, -6.0643, -6.5856, -6.84, -5.8505, -4.9114, -6.2605, -6.3172, -6.3045, -5.4962, -6.2749, -5.6561, -6.0388, -5.0054, -5.7194, -6.0864, -5.817, -5.5804, -5.0439, -5.1973, -5.6756, -5.3588, -5.1765, -5.3205, -5.4873, -5.5592, -5.739, -5.5102, -5.2699, -5.7843, -5.7752, -5.7251, -5.7972, -5.7664, -5.8215, -8.5575, -9.6376, -9.1462, -8.7637, -9.2868, -9.182, -9.0423, -9.4288, -8.4087, -9.421, -9.3703, -9.1161, -8.7934, -9.4554, -8.2559, -9.5999, -9.4499, -9.0555, -9.6999, -9.4702, -8.4946, -7.6552, -9.0336, -9.6638, -10.1997, -9.3465, -9.7739, -9.0609, -10.1883, -9.8001, -8.8375, -8.849, -8.6518, -7.2985, -7.7324, -7.3341, -7.8903, -6.5923, -5.7784, -7.4252, -4.7474, -5.4342, -6.2186, -5.3628, -7.4825, -7.6032, -6.2348, -4.8442, -6.9951, -6.3398, -6.1986, -5.4814, -5.9138, -6.4253, -6.5122, -6.1629, -5.1459, -5.5934, -5.6373, -5.2352, -5.9758, -5.7033, -5.0873, -5.9188, -5.3744, -5.7784, -6.3132, -4.5448, -5.6112, -5.7869, -5.9075, -5.1403, -5.6244, -5.7391, -5.6583, -5.7873, -5.7507, -5.6938, -5.3173, -5.8002, -5.3422, -5.6793, -5.7528, -5.7923, -8.4559, -5.7591, -9.0548, -9.6072, -8.6296, -9.1328, -9.6418, -9.3458, -8.8372, -7.9589, -9.3798, -7.8791, -9.1038, -8.9155, -8.0754, -9.612, -10.1762, -9.4026, -9.63, -8.1132, -10.1587, -9.1353, -8.0865, -10.1351, -8.7816, -8.8551, -6.9106, -7.2383, -9.3448, -9.4243, -6.2418, -7.3392, -5.4087, -5.3716, -4.7759, -6.5185, -6.2457, -7.4219, -7.5774, -4.7345, -7.2293, -6.796, -6.7755, -6.0209, -5.064, -7.064, -6.514, -7.1739, -6.6265, -5.6598, -5.456, -5.9068, -6.4062, -5.4126, -4.9907, -6.0286, -4.9673, -4.5084, -5.2163, -5.9323, -6.015, -5.6937, -5.5444, -5.0551, -5.1474, -5.8874, -5.7118, -5.7349, -6.0239, -5.9694, -5.7944, -5.7006, -5.9066, -5.5562, -5.7019, -5.635, -5.7293, -5.7902, -5.8159, -5.8773, -8.3864, -9.2203, -9.5757, -9.9801, -7.2791, -8.5169, -9.5432, -9.235, -9.5578, -7.6994, -9.4682, -9.6065, -9.5619, -9.0339, -9.4621, -9.6109, -10.0388, -9.5378, -8.1736, -9.5135, -10.0432, -8.5136, -10.0305, -9.0477, -6.2752, -9.5966, -10.0943, -8.8653, -8.5014, -10.003, -9.5036, -7.9894, -8.7798, -8.067, -8.1639, -4.844, -8.0673, -6.5963, -7.0738, -6.6069, -7.8567, -8.2042, -5.5368, -7.723, -6.0953, -5.7365, -5.5306, -5.7558, -7.0097, -7.2313, -5.3437, -4.9445, -6.3766, -5.7785, -7.3664, -5.5155, -5.8594, -5.9333, -6.5927, -6.5404, -6.0675, -6.689, -5.9111, -5.6642, -4.5953, -6.3951, -5.7304, -5.165, -5.1553, -5.7516, -5.2102, -5.2062, -5.2762, -5.7146, -5.7043, -5.9614, -5.4764, -5.6768, -5.8933, -5.7506, -5.7371, -5.7939, -5.83, -5.882, -9.3138, -9.0533, -9.2012, -9.2516, -9.2953, -9.4036, -8.4918, -10.094, -8.7122, -10.0925, -8.6982, -10.1285, -10.0721, -9.6982, -9.6584, -10.1419, -8.562, -9.3454, -9.145, -10.1161, -9.3873, -8.6877, -10.1222, -9.7168, -8.8422, -9.4054, -9.7092, -10.1075, -10.1334, -8.9248, -7.8572, -9.6858, -8.3473, -5.5703, -8.7476, -7.6373, -7.8293, -8.0303, -7.5227, -6.9348, -5.4781, -7.1332, -7.6759, -5.7634, -5.4793, -7.2603, -6.0433, -8.2573, -6.5426, -6.1222, -7.5997, -6.1845, -6.0096, -5.8588, -6.6783, -6.2441, -6.5261, -5.5109, -6.2439, -5.2174, -5.5605, -4.966, -6.3019, -6.9218, -6.4488, -5.6725, -5.069, -6.1385, -4.5849, -5.0755, -5.4209, -5.1976, -5.5956, -5.7854, -6.0161, -5.7371, -5.6542, -5.8338, -5.5872, -5.3941, -5.2213, -5.8215, -5.4841, -5.7543, -5.7365, -5.8282, -5.9029, -5.9239, -5.9053, -8.9642, -7.9731, -9.2671, -8.4682, -9.6313, -7.9351, -8.866, -9.6693, -9.5983, -7.8357, -10.1028, -6.1512, -9.32, -7.087, -9.1527, -10.0822, -10.146, -9.6295, -9.3356, -7.9943, -10.1352, -10.089, -8.1948, -8.8062, -7.093, -7.654, -7.4982, -10.09, -10.0895, -8.4873, -6.8191, -6.9726, -8.2988, -7.4221, -5.819, -8.2871, -4.9877, -7.2558, -7.5463, -7.6494, -7.3758, -5.3699, -5.8417, -7.1642, -4.27, -5.0372, -6.9048, -5.5405, -6.3637, -5.8308, -5.7069, -5.1208, -5.9463, -5.5199, -5.0454, -5.8866, -5.1115, -5.4418, -5.6141, -6.2084, -5.1121, -5.7694, -5.7323, -5.4705, -6.1597, -6.382, -6.0904, -5.8498, -5.2159, -5.7816, -5.8441, -5.3536, -5.8301, -5.8291, -5.7199, -5.8401, -5.8351, -9.2459, -9.8595, -9.24, -9.9071, -9.1743, -9.9697, -9.4403, -9.5042, -9.9098, -9.9457, -9.4761, -9.9273, -9.9301, -9.5481, -9.9565, -9.9054, -9.9359, -9.5253, -9.9493, -9.309, -9.9699, -9.9542, -9.936, -9.9663, -9.5014, -9.0497, -9.9951, -9.9493, -9.9375, -10.0113, -8.436, -9.1958, -9.3, -9.4539, -7.7603, -8.4623, -8.0483, -6.0101, -8.546, -6.2456, -7.6922, -7.7241, -8.9925, -9.0375, -8.6128, -6.0004, -6.2514, -5.4503, -7.5148, -5.999, -7.1362, -7.6203, -6.3225, -5.8825, -5.8661, -6.9529, -5.5938, -5.193, -6.2259, -4.4327, -5.6248, -6.2069, -6.843, -6.3198, -5.0335, -5.7275, -6.1212, -5.748, -6.0274, -6.745, -5.7523, -5.1804, -5.8114, -6.0536, -5.2233, -5.9747, -5.8147, -5.8991, -5.3745, -5.3135, -5.7384, -5.6759, -5.7814, -5.7009, -5.5781, -5.8395, -5.786, -5.7465, -5.9116, -5.9108, -5.9319, -8.8187, -9.819, -9.7542, -9.8142, -8.6798, -9.8137, -9.7981, -9.4015, -9.4197, -9.8411, -9.4516, -9.8832, -9.4245, -8.5933, -9.8792, -9.8742, -9.9104, -9.9037, -9.8741, -9.2207, -9.92, -9.9282, -9.8997, -9.2714, -9.863, -9.9059, -9.9091, -9.9112, -9.8639, -9.8427, -8.617, -7.7657, -8.0686, -8.2631, -9.1577, -6.5034, -5.9135, -8.4746, -8.4918, -8.2446, -9.4731, -9.4982, -8.3754, -6.8522, -5.4454, -8.9808, -5.8065, -5.629, -6.5747, -5.1793, -5.5353, -6.259, -6.6774, -5.6586, -6.0896, -5.8507, -4.541, -6.1616, -6.4425, -6.4682, -7.3013, -5.3194, -6.5039, -6.9124, -5.6199, -5.7756, -5.1534, -5.1913, -6.3108, -5.2864, -5.6923, -5.7388, -5.845, -5.2922, -6.0805, -5.8174, -5.4124, -5.6521, -5.8121, -5.5028, -5.7016, -6.0214, -5.7837, -5.9251, -5.9241, -5.9075, -5.9782, -9.3518, -9.8762, -9.9108, -9.8238, -9.8717, -9.8648, -9.8456, -9.803, -9.8425, -9.8559, -9.907, -9.8645, -9.4006, -9.9064, -9.8448, -9.9411, -9.9374, -9.9548, -9.9071, -9.9361, -9.9751, -9.8669, -9.9261, -9.8997, -9.8607, -9.9415, -9.9709, -9.9777, -9.9327, -9.8772, -8.9466, -8.6011, -8.7462, -7.3657, -5.3051, -5.4309, -6.3837, -6.7451, -7.2705, -6.301, -8.6208, -5.9719, -6.4028, -8.6217, -8.8067, -8.0868, -8.5451, -5.7254, -6.1505, -6.3178, -7.1208, -5.2524, -7.0743, -5.6862, -5.5307, -5.8235, -6.4646, -5.6699, -6.855, -7.7354, -5.205, -6.9787, -6.7693, -6.3635, -6.3429, -6.2193, -6.2875, -6.1793, -4.6888, -5.2082, -6.052, -5.4207, -6.1909, -5.2787, -5.3283, -5.7914, -5.6427, -5.3495, -5.8397, -6.2212, -5.5484, -5.7775, -5.8919, -6.0006, -5.8817, -5.9895, -5.9979, -6.1255, -6.1549, -6.1141, -6.1408], \"Category\": [\"Default\", \"Default\", \"Default\", \"Default\", \"Default\", \"Default\", \"Default\", \"Default\", \"Default\", \"Default\", \"Default\", \"Default\", \"Default\", \"Default\", \"Default\", \"Default\", \"Default\", \"Default\", \"Default\", \"Default\", \"Default\", \"Default\", \"Default\", \"Default\", \"Default\", \"Default\", \"Default\", \"Default\", \"Default\", \"Default\", \"Topic1\", \"Topic1\", \"Topic1\", \"Topic1\", \"Topic1\", \"Topic1\", \"Topic1\", \"Topic1\", \"Topic1\", \"Topic1\", \"Topic1\", \"Topic1\", \"Topic1\", \"Topic1\", \"Topic1\", \"Topic1\", \"Topic1\", \"Topic1\", \"Topic1\", \"Topic1\", \"Topic1\", \"Topic1\", \"Topic1\", \"Topic1\", \"Topic1\", \"Topic1\", \"Topic1\", \"Topic1\", \"Topic1\", \"Topic1\", \"Topic1\", \"Topic1\", \"Topic1\", \"Topic1\", \"Topic1\", \"Topic1\", \"Topic1\", \"Topic1\", \"Topic1\", \"Topic1\", \"Topic1\", \"Topic1\", \"Topic1\", \"Topic1\", \"Topic1\", \"Topic1\", \"Topic1\", \"Topic1\", \"Topic1\", \"Topic1\", \"Topic1\", \"Topic1\", \"Topic1\", \"Topic1\", \"Topic1\", \"Topic1\", \"Topic1\", \"Topic1\", \"Topic1\", \"Topic1\", \"Topic1\", \"Topic1\", \"Topic1\", \"Topic1\", \"Topic1\", \"Topic1\", \"Topic1\", \"Topic1\", \"Topic1\", \"Topic1\", \"Topic1\", \"Topic1\", \"Topic1\", \"Topic1\", \"Topic1\", \"Topic1\", \"Topic1\", \"Topic2\", \"Topic2\", \"Topic2\", \"Topic2\", \"Topic2\", \"Topic2\", \"Topic2\", \"Topic2\", \"Topic2\", \"Topic2\", \"Topic2\", \"Topic2\", \"Topic2\", \"Topic2\", \"Topic2\", \"Topic2\", \"Topic2\", \"Topic2\", \"Topic2\", \"Topic2\", \"Topic2\", \"Topic2\", \"Topic2\", \"Topic2\", \"Topic2\", \"Topic2\", \"Topic2\", \"Topic2\", \"Topic2\", \"Topic2\", \"Topic2\", \"Topic2\", \"Topic2\", \"Topic2\", \"Topic2\", \"Topic2\", \"Topic2\", \"Topic2\", \"Topic2\", \"Topic2\", \"Topic2\", \"Topic2\", \"Topic2\", \"Topic2\", \"Topic2\", \"Topic2\", \"Topic2\", \"Topic2\", \"Topic2\", \"Topic2\", \"Topic2\", \"Topic2\", \"Topic2\", \"Topic2\", \"Topic2\", \"Topic2\", \"Topic2\", \"Topic2\", \"Topic2\", \"Topic2\", \"Topic2\", \"Topic2\", \"Topic2\", \"Topic2\", \"Topic2\", \"Topic2\", \"Topic2\", \"Topic2\", \"Topic2\", \"Topic2\", \"Topic2\", \"Topic2\", \"Topic2\", \"Topic2\", \"Topic2\", \"Topic2\", \"Topic2\", \"Topic2\", \"Topic2\", \"Topic2\", \"Topic2\", \"Topic2\", \"Topic3\", \"Topic3\", \"Topic3\", \"Topic3\", \"Topic3\", \"Topic3\", \"Topic3\", \"Topic3\", \"Topic3\", \"Topic3\", \"Topic3\", \"Topic3\", \"Topic3\", \"Topic3\", \"Topic3\", \"Topic3\", \"Topic3\", \"Topic3\", \"Topic3\", \"Topic3\", \"Topic3\", \"Topic3\", \"Topic3\", \"Topic3\", \"Topic3\", \"Topic3\", \"Topic3\", \"Topic3\", \"Topic3\", \"Topic3\", \"Topic3\", \"Topic3\", \"Topic3\", \"Topic3\", \"Topic3\", \"Topic3\", \"Topic3\", \"Topic3\", \"Topic3\", \"Topic3\", \"Topic3\", \"Topic3\", \"Topic3\", \"Topic3\", \"Topic3\", \"Topic3\", \"Topic3\", \"Topic3\", \"Topic3\", \"Topic3\", \"Topic3\", \"Topic3\", \"Topic3\", \"Topic3\", \"Topic3\", \"Topic3\", \"Topic3\", \"Topic3\", \"Topic3\", \"Topic3\", \"Topic3\", \"Topic3\", \"Topic3\", \"Topic3\", \"Topic3\", \"Topic3\", \"Topic3\", \"Topic3\", \"Topic3\", \"Topic3\", \"Topic3\", \"Topic3\", \"Topic3\", \"Topic3\", \"Topic3\", \"Topic3\", \"Topic3\", \"Topic3\", \"Topic3\", \"Topic3\", \"Topic3\", \"Topic3\", \"Topic3\", \"Topic3\", \"Topic4\", \"Topic4\", \"Topic4\", \"Topic4\", \"Topic4\", \"Topic4\", \"Topic4\", \"Topic4\", \"Topic4\", \"Topic4\", \"Topic4\", \"Topic4\", \"Topic4\", \"Topic4\", \"Topic4\", \"Topic4\", \"Topic4\", \"Topic4\", \"Topic4\", \"Topic4\", \"Topic4\", \"Topic4\", \"Topic4\", \"Topic4\", \"Topic4\", \"Topic4\", \"Topic4\", \"Topic4\", \"Topic4\", \"Topic4\", \"Topic4\", \"Topic4\", \"Topic4\", \"Topic4\", \"Topic4\", \"Topic4\", \"Topic4\", \"Topic4\", \"Topic4\", \"Topic4\", \"Topic4\", \"Topic4\", \"Topic4\", \"Topic4\", \"Topic4\", \"Topic4\", \"Topic4\", \"Topic4\", \"Topic4\", \"Topic4\", \"Topic4\", \"Topic4\", \"Topic4\", \"Topic4\", \"Topic4\", \"Topic4\", \"Topic4\", \"Topic4\", \"Topic4\", \"Topic4\", \"Topic4\", \"Topic4\", \"Topic4\", \"Topic4\", \"Topic4\", \"Topic4\", \"Topic4\", \"Topic4\", \"Topic4\", \"Topic4\", \"Topic4\", \"Topic4\", \"Topic4\", \"Topic4\", \"Topic4\", \"Topic4\", \"Topic4\", \"Topic4\", \"Topic4\", \"Topic4\", \"Topic5\", \"Topic5\", \"Topic5\", \"Topic5\", \"Topic5\", \"Topic5\", \"Topic5\", \"Topic5\", \"Topic5\", \"Topic5\", \"Topic5\", \"Topic5\", \"Topic5\", \"Topic5\", \"Topic5\", \"Topic5\", \"Topic5\", \"Topic5\", \"Topic5\", \"Topic5\", \"Topic5\", \"Topic5\", \"Topic5\", \"Topic5\", \"Topic5\", \"Topic5\", \"Topic5\", \"Topic5\", \"Topic5\", \"Topic5\", \"Topic5\", \"Topic5\", \"Topic5\", \"Topic5\", \"Topic5\", \"Topic5\", \"Topic5\", \"Topic5\", \"Topic5\", \"Topic5\", \"Topic5\", \"Topic5\", \"Topic5\", \"Topic5\", \"Topic5\", \"Topic5\", \"Topic5\", \"Topic5\", \"Topic5\", \"Topic5\", \"Topic5\", \"Topic5\", \"Topic5\", \"Topic5\", \"Topic5\", \"Topic5\", \"Topic5\", \"Topic5\", \"Topic5\", \"Topic5\", \"Topic5\", \"Topic5\", \"Topic5\", \"Topic5\", \"Topic5\", \"Topic5\", \"Topic5\", \"Topic5\", \"Topic5\", \"Topic5\", \"Topic5\", \"Topic5\", \"Topic5\", \"Topic5\", \"Topic5\", \"Topic5\", \"Topic5\", \"Topic5\", \"Topic5\", \"Topic5\", \"Topic5\", \"Topic5\", \"Topic5\", \"Topic5\", \"Topic6\", \"Topic6\", \"Topic6\", \"Topic6\", \"Topic6\", \"Topic6\", \"Topic6\", \"Topic6\", \"Topic6\", \"Topic6\", \"Topic6\", \"Topic6\", \"Topic6\", \"Topic6\", \"Topic6\", \"Topic6\", \"Topic6\", \"Topic6\", \"Topic6\", \"Topic6\", \"Topic6\", \"Topic6\", \"Topic6\", \"Topic6\", \"Topic6\", \"Topic6\", \"Topic6\", \"Topic6\", \"Topic6\", \"Topic6\", \"Topic6\", \"Topic6\", \"Topic6\", \"Topic6\", \"Topic6\", \"Topic6\", \"Topic6\", \"Topic6\", \"Topic6\", \"Topic6\", \"Topic6\", \"Topic6\", \"Topic6\", \"Topic6\", \"Topic6\", \"Topic6\", \"Topic6\", \"Topic6\", \"Topic6\", \"Topic6\", \"Topic6\", \"Topic6\", \"Topic6\", \"Topic6\", \"Topic6\", \"Topic6\", \"Topic6\", \"Topic6\", \"Topic6\", \"Topic6\", \"Topic6\", \"Topic6\", \"Topic6\", \"Topic6\", \"Topic6\", \"Topic6\", \"Topic6\", \"Topic6\", \"Topic6\", \"Topic6\", \"Topic6\", \"Topic6\", \"Topic6\", \"Topic6\", \"Topic6\", \"Topic6\", \"Topic6\", \"Topic6\", \"Topic6\", \"Topic6\", \"Topic6\", \"Topic6\", \"Topic6\", \"Topic6\", \"Topic6\", \"Topic6\", \"Topic6\", \"Topic6\", \"Topic6\", \"Topic7\", \"Topic7\", \"Topic7\", \"Topic7\", \"Topic7\", \"Topic7\", \"Topic7\", \"Topic7\", \"Topic7\", \"Topic7\", \"Topic7\", \"Topic7\", \"Topic7\", \"Topic7\", \"Topic7\", \"Topic7\", \"Topic7\", \"Topic7\", \"Topic7\", \"Topic7\", \"Topic7\", \"Topic7\", \"Topic7\", \"Topic7\", \"Topic7\", \"Topic7\", \"Topic7\", \"Topic7\", \"Topic7\", \"Topic7\", \"Topic7\", \"Topic7\", \"Topic7\", \"Topic7\", \"Topic7\", \"Topic7\", \"Topic7\", \"Topic7\", \"Topic7\", \"Topic7\", \"Topic7\", \"Topic7\", \"Topic7\", \"Topic7\", \"Topic7\", \"Topic7\", \"Topic7\", \"Topic7\", \"Topic7\", \"Topic7\", \"Topic7\", \"Topic7\", \"Topic7\", \"Topic7\", \"Topic7\", \"Topic7\", \"Topic7\", \"Topic7\", \"Topic7\", \"Topic7\", \"Topic7\", \"Topic7\", \"Topic7\", \"Topic7\", \"Topic7\", \"Topic7\", \"Topic7\", \"Topic7\", \"Topic7\", \"Topic7\", \"Topic7\", \"Topic7\", \"Topic7\", \"Topic7\", \"Topic7\", \"Topic7\", \"Topic7\", \"Topic8\", \"Topic8\", \"Topic8\", \"Topic8\", \"Topic8\", \"Topic8\", \"Topic8\", \"Topic8\", \"Topic8\", \"Topic8\", \"Topic8\", \"Topic8\", \"Topic8\", \"Topic8\", \"Topic8\", \"Topic8\", \"Topic8\", \"Topic8\", \"Topic8\", \"Topic8\", \"Topic8\", \"Topic8\", \"Topic8\", \"Topic8\", \"Topic8\", \"Topic8\", \"Topic8\", \"Topic8\", \"Topic8\", \"Topic8\", \"Topic8\", \"Topic8\", \"Topic8\", \"Topic8\", \"Topic8\", \"Topic8\", \"Topic8\", \"Topic8\", \"Topic8\", \"Topic8\", \"Topic8\", \"Topic8\", \"Topic8\", \"Topic8\", \"Topic8\", \"Topic8\", \"Topic8\", \"Topic8\", \"Topic8\", \"Topic8\", \"Topic8\", \"Topic8\", \"Topic8\", \"Topic8\", \"Topic8\", \"Topic8\", \"Topic8\", \"Topic8\", \"Topic8\", \"Topic8\", \"Topic8\", \"Topic8\", \"Topic8\", \"Topic8\", \"Topic8\", \"Topic8\", \"Topic8\", \"Topic8\", \"Topic8\", \"Topic8\", \"Topic8\", \"Topic8\", \"Topic8\", \"Topic8\", \"Topic8\", \"Topic8\", \"Topic8\", \"Topic8\", \"Topic8\", \"Topic8\", \"Topic8\", \"Topic8\", \"Topic8\", \"Topic8\", \"Topic8\", \"Topic8\", \"Topic8\", \"Topic8\", \"Topic8\", \"Topic8\", \"Topic8\", \"Topic9\", \"Topic9\", \"Topic9\", \"Topic9\", \"Topic9\", \"Topic9\", \"Topic9\", \"Topic9\", \"Topic9\", \"Topic9\", \"Topic9\", \"Topic9\", \"Topic9\", \"Topic9\", \"Topic9\", \"Topic9\", \"Topic9\", \"Topic9\", \"Topic9\", \"Topic9\", \"Topic9\", \"Topic9\", \"Topic9\", \"Topic9\", \"Topic9\", \"Topic9\", \"Topic9\", \"Topic9\", \"Topic9\", \"Topic9\", \"Topic9\", \"Topic9\", \"Topic9\", \"Topic9\", \"Topic9\", \"Topic9\", \"Topic9\", \"Topic9\", \"Topic9\", \"Topic9\", \"Topic9\", \"Topic9\", \"Topic9\", \"Topic9\", \"Topic9\", \"Topic9\", \"Topic9\", \"Topic9\", \"Topic9\", \"Topic9\", \"Topic9\", \"Topic9\", \"Topic9\", \"Topic9\", \"Topic9\", \"Topic9\", \"Topic9\", \"Topic9\", \"Topic9\", \"Topic9\", \"Topic9\", \"Topic9\", \"Topic9\", \"Topic9\", \"Topic9\", \"Topic9\", \"Topic9\", \"Topic9\", \"Topic9\", \"Topic9\", \"Topic9\", \"Topic9\", \"Topic9\", \"Topic9\", \"Topic9\", \"Topic9\", \"Topic9\", \"Topic9\", \"Topic9\", \"Topic9\", \"Topic9\", \"Topic9\", \"Topic9\", \"Topic9\", \"Topic9\", \"Topic9\", \"Topic9\", \"Topic10\", \"Topic10\", \"Topic10\", \"Topic10\", \"Topic10\", \"Topic10\", \"Topic10\", \"Topic10\", \"Topic10\", \"Topic10\", \"Topic10\", \"Topic10\", \"Topic10\", \"Topic10\", \"Topic10\", \"Topic10\", \"Topic10\", \"Topic10\", \"Topic10\", \"Topic10\", \"Topic10\", \"Topic10\", \"Topic10\", \"Topic10\", \"Topic10\", \"Topic10\", \"Topic10\", \"Topic10\", \"Topic10\", \"Topic10\", \"Topic10\", \"Topic10\", \"Topic10\", \"Topic10\", \"Topic10\", \"Topic10\", \"Topic10\", \"Topic10\", \"Topic10\", \"Topic10\", \"Topic10\", \"Topic10\", \"Topic10\", \"Topic10\", \"Topic10\", \"Topic10\", \"Topic10\", \"Topic10\", \"Topic10\", \"Topic10\", \"Topic10\", \"Topic10\", \"Topic10\", \"Topic10\", \"Topic10\", \"Topic10\", \"Topic10\", \"Topic10\", \"Topic10\", \"Topic10\", \"Topic10\", \"Topic10\", \"Topic10\", \"Topic10\", \"Topic10\", \"Topic10\", \"Topic10\", \"Topic10\", \"Topic10\", \"Topic10\", \"Topic10\", \"Topic10\", \"Topic10\", \"Topic10\", \"Topic10\", \"Topic10\", \"Topic10\", \"Topic10\", \"Topic10\", \"Topic10\", \"Topic10\", \"Topic10\", \"Topic10\", \"Topic10\", \"Topic10\", \"Topic10\", \"Topic10\", \"Topic10\", \"Topic10\", \"Topic10\", \"Topic10\"], \"loglift\": [30.0, 29.0, 28.0, 27.0, 26.0, 25.0, 24.0, 23.0, 22.0, 21.0, 20.0, 19.0, 18.0, 17.0, 16.0, 15.0, 14.0, 13.0, 12.0, 11.0, 10.0, 9.0, 8.0, 7.0, 6.0, 5.0, 4.0, 3.0, 2.0, 1.0, 0.3355, 0.2894, 0.279, 0.2564, 0.2518, 0.2482, 0.2481, 0.2445, 0.2443, 0.2359, 0.2352, 0.2345, 0.2331, 0.233, 0.2303, 0.2302, 0.2302, 0.2274, 0.2265, 0.2261, 0.2251, 0.2245, 0.2244, 0.2204, 0.2198, 0.2193, 0.2188, 0.2184, 0.2167, 0.2149, 0.2039, 0.2019, 0.2149, 0.2131, 0.2132, 0.1995, 0.1709, 0.1961, 0.2017, 0.185, 0.1738, 0.1903, 0.1245, 0.1518, 0.1609, 0.1709, 0.1401, 0.1231, 0.1648, 0.1496, 0.1282, 0.0765, 0.0853, 0.1174, 0.0751, 0.0326, -0.0524, 0.0993, 0.05, 0.1219, 0.0703, -0.0481, -0.0866, 0.0343, -0.1056, -0.0096, 0.0201, -0.0832, -0.0308, 0.0051, -0.0314, 0.044, -0.0254, -0.0881, -0.0908, -0.0665, -0.0755, 0.4841, 0.4819, 0.4755, 0.4556, 0.4362, 0.4296, 0.4199, 0.4058, 0.4025, 0.4023, 0.4009, 0.4009, 0.4006, 0.3985, 0.3966, 0.3921, 0.3898, 0.3877, 0.3866, 0.3834, 0.3805, 0.3797, 0.3786, 0.377, 0.3732, 0.3689, 0.3685, 0.3685, 0.3626, 0.3599, 0.3526, 0.3539, 0.3442, 0.3198, 0.2286, 0.2807, 0.2827, 0.339, 0.2635, 0.2958, 0.2946, 0.2257, 0.2753, 0.195, 0.1828, 0.2073, 0.2075, 0.2336, 0.2074, 0.2507, 0.2686, 0.1791, 0.0671, 0.2073, 0.2127, 0.2075, 0.09, 0.195, 0.0961, 0.1519, -0.0175, 0.0888, 0.1392, 0.0854, 0.0343, -0.0887, -0.0771, 0.0343, -0.0616, -0.1311, -0.095, -0.0524, -0.0362, 0.0208, -0.1007, -0.2388, -0.0076, -0.0195, -0.0785, -0.0508, -0.2047, -0.0051, 0.5222, 0.5016, 0.499, 0.4837, 0.4755, 0.4708, 0.4672, 0.4666, 0.4608, 0.4574, 0.4547, 0.4445, 0.4433, 0.4428, 0.4344, 0.4332, 0.4329, 0.4289, 0.4257, 0.4241, 0.4238, 0.4219, 0.4215, 0.4173, 0.4081, 0.408, 0.4071, 0.4062, 0.4057, 0.4038, 0.4022, 0.3992, 0.3969, 0.3805, 0.3767, 0.3617, 0.3727, 0.3298, 0.2894, 0.3544, 0.2406, 0.2559, 0.2739, 0.199, 0.3242, 0.331, 0.2429, 0.1343, 0.2921, 0.2337, 0.2119, 0.1333, 0.1727, 0.2209, 0.2265, 0.1873, 0.0796, 0.1165, 0.1149, 0.062, 0.1496, 0.1131, 0.0329, 0.1357, 0.0351, 0.0879, 0.1622, -0.1569, 0.0354, 0.0686, 0.0887, -0.1091, -0.0019, 0.0207, -0.0152, 0.0209, -0.0043, -0.0461, -0.2719, -0.0235, -0.387, -0.2443, -0.1666, -0.2694, 0.6487, 0.6086, 0.6075, 0.5791, 0.5675, 0.5599, 0.5399, 0.5331, 0.532, 0.5267, 0.5247, 0.5235, 0.523, 0.5212, 0.5147, 0.5139, 0.4999, 0.4995, 0.496, 0.4883, 0.4873, 0.4867, 0.4807, 0.478, 0.4773, 0.4768, 0.4702, 0.4702, 0.4663, 0.465, 0.4613, 0.4546, 0.4077, 0.384, 0.3443, 0.3945, 0.3827, 0.4254, 0.4288, 0.2966, 0.4056, 0.3799, 0.3707, 0.3187, 0.2332, 0.3821, 0.3223, 0.3774, 0.3188, 0.1957, 0.1664, 0.2072, 0.2699, 0.1104, -0.0028, 0.1791, -0.0121, -0.1205, 0.0092, 0.1426, 0.1562, 0.083, 0.0418, -0.0766, -0.102, 0.0913, 0.0347, 0.0248, 0.1248, 0.0985, 0.0138, -0.0528, 0.0627, -0.1468, -0.0588, -0.2001, -0.1675, -0.1001, -0.2012, -0.0608, 0.7355, 0.7324, 0.7321, 0.7163, 0.7128, 0.7106, 0.7002, 0.6933, 0.693, 0.692, 0.6861, 0.6802, 0.6789, 0.6788, 0.6759, 0.6746, 0.6658, 0.663, 0.662, 0.6601, 0.6599, 0.6541, 0.6527, 0.6505, 0.6469, 0.6425, 0.6376, 0.6367, 0.6358, 0.6345, 0.6333, 0.6166, 0.6194, 0.5981, 0.6009, 0.4532, 0.5863, 0.5235, 0.5419, 0.5142, 0.5653, 0.5846, 0.3657, 0.5398, 0.3873, 0.3496, 0.3249, 0.3315, 0.4515, 0.4589, 0.2425, 0.1757, 0.3515, 0.2541, 0.4672, 0.1746, 0.2156, 0.2154, 0.329, 0.2919, 0.1823, 0.3144, 0.1434, 0.0823, -0.2074, 0.2249, 0.0294, -0.1338, -0.2001, 0.0006, -0.2223, -0.2277, -0.2308, -0.0679, -0.0818, 0.0347, -0.2509, -0.2673, -0.085, -0.2277, -0.3021, -0.2321, -0.1869, -0.1721, 0.7193, 0.7012, 0.7004, 0.6998, 0.6493, 0.6472, 0.6432, 0.6241, 0.6238, 0.6106, 0.6084, 0.6034, 0.5949, 0.5873, 0.585, 0.5777, 0.5752, 0.5658, 0.565, 0.5646, 0.5645, 0.5643, 0.5611, 0.5559, 0.5493, 0.5473, 0.5461, 0.5417, 0.541, 0.5402, 0.5342, 0.5395, 0.5175, 0.4258, 0.5235, 0.4819, 0.4875, 0.4929, 0.4692, 0.4257, 0.3301, 0.4237, 0.4558, 0.3227, 0.2974, 0.4187, 0.2964, 0.4855, 0.3314, 0.2884, 0.4236, 0.2795, 0.2402, 0.2162, 0.3082, 0.2484, 0.2837, 0.1368, 0.2386, 0.0798, 0.1296, 0.0124, 0.227, 0.3211, 0.228, 0.0797, -0.0379, 0.1514, -0.1969, -0.0876, -0.0115, -0.0774, -0.0094, 0.031, 0.0979, 0.0094, -0.0317, 0.0325, -0.0642, -0.1686, -0.2661, -0.1117, -0.4387, -0.1926, -0.3015, -0.2134, -0.1431, -0.1075, -0.2587, 0.6828, 0.6393, 0.6374, 0.6363, 0.6209, 0.6096, 0.6062, 0.5709, 0.5641, 0.5603, 0.557, 0.5519, 0.5509, 0.5478, 0.5423, 0.5391, 0.5302, 0.5291, 0.529, 0.529, 0.5289, 0.5246, 0.5222, 0.5173, 0.5144, 0.5135, 0.512, 0.5107, 0.5102, 0.5075, 0.4945, 0.4883, 0.497, 0.4788, 0.412, 0.479, 0.3095, 0.4232, 0.4364, 0.4384, 0.4181, 0.2526, 0.282, 0.3871, 0.1179, 0.1883, 0.3434, 0.1496, 0.2506, 0.1479, 0.1096, -0.0006, 0.1287, 0.0418, -0.0575, 0.1096, -0.0804, -0.0068, 0.029, 0.1593, -0.1336, 0.0388, 0.0275, -0.061, 0.1303, 0.1915, 0.1003, 0.0056, -0.2607, -0.0294, -0.0277, -0.3083, -0.0534, -0.0826, -0.1969, -0.1923, -0.2489, 0.8048, 0.77, 0.7631, 0.7629, 0.7617, 0.76, 0.7582, 0.7525, 0.7509, 0.7457, 0.7421, 0.7419, 0.7397, 0.7386, 0.737, 0.7352, 0.7307, 0.73, 0.7266, 0.7241, 0.7231, 0.7176, 0.7158, 0.7142, 0.7129, 0.7126, 0.7095, 0.7094, 0.7085, 0.7067, 0.7012, 0.6996, 0.7011, 0.7032, 0.6617, 0.6726, 0.616, 0.4825, 0.6433, 0.4575, 0.5549, 0.5535, 0.662, 0.6625, 0.6146, 0.3438, 0.3465, 0.2398, 0.4812, 0.291, 0.4207, 0.4794, 0.2975, 0.2315, 0.2089, 0.3701, 0.166, 0.1042, 0.2567, -0.0447, 0.1274, 0.2058, 0.3109, 0.2091, -0.0456, 0.0889, 0.1555, 0.0603, 0.0587, 0.249, -0.0425, -0.2252, -0.0347, 0.0337, -0.2448, 0.004, -0.0683, -0.0437, -0.2543, -0.2824, -0.116, -0.1529, -0.1383, -0.2659, -0.5327, -0.2777, -0.3765, -0.521, -0.2968, -0.3247, -0.2842, 0.9111, 0.9107, 0.8878, 0.8695, 0.8582, 0.8329, 0.8253, 0.8246, 0.8241, 0.8216, 0.8158, 0.8085, 0.8019, 0.7982, 0.7912, 0.7879, 0.7856, 0.7855, 0.7828, 0.7824, 0.7816, 0.7805, 0.7793, 0.7793, 0.779, 0.7707, 0.7695, 0.7688, 0.768, 0.7678, 0.7599, 0.7385, 0.7399, 0.7352, 0.7476, 0.6163, 0.579, 0.7056, 0.6888, 0.6574, 0.7519, 0.7526, 0.6518, 0.4946, 0.3068, 0.6981, 0.2684, 0.2265, 0.3474, 0.1179, 0.1746, 0.2709, 0.3424, 0.1497, 0.2003, 0.1454, -0.153, 0.1781, 0.2336, 0.2349, 0.3889, -0.0939, 0.182, 0.2866, -0.0581, -0.0158, -0.1983, -0.2034, 0.1019, -0.241, -0.1061, -0.0921, -0.0683, -0.3137, 0.0068, -0.1273, -0.3813, -0.2427, -0.1643, -0.3826, -0.2667, -0.0427, -0.2608, -0.1695, -0.1777, -0.2644, -0.3558, 0.8363, 0.7634, 0.7627, 0.7554, 0.752, 0.7506, 0.7403, 0.7399, 0.7289, 0.7232, 0.7204, 0.7133, 0.7097, 0.7023, 0.7018, 0.7009, 0.6969, 0.6966, 0.6938, 0.6895, 0.689, 0.6884, 0.6872, 0.6859, 0.6816, 0.6813, 0.6798, 0.6789, 0.6766, 0.6758, 0.6488, 0.6082, 0.6061, 0.4912, 0.3174, 0.2592, 0.3444, 0.3747, 0.4085, 0.2968, 0.55, 0.2479, 0.3003, 0.5459, 0.5648, 0.4722, 0.5299, 0.1301, 0.1892, 0.2111, 0.3254, 0.0448, 0.3065, 0.0602, 0.031, 0.079, 0.1816, 0.0399, 0.2465, 0.3963, -0.0848, 0.2424, 0.2023, 0.1191, 0.1089, 0.0706, 0.0784, 0.0516, -0.3009, -0.2202, 0.0025, -0.1951, 0.0347, -0.3002, -0.2971, -0.1437, -0.2332, -0.3943, -0.2249, 0.0285, -0.503, -0.3425, -0.2453, -0.1842, -0.3588, -0.2338, -0.3548, -0.309, -0.1587, -0.5279, -0.3886], \"Term\": [\"datum\", \"technology\", \"company\", \"platform\", \"market\", \"customer\", \"business\", \"service\", \"solution\", \"cloud\", \"industry\", \"provide\", \"device\", \"help\", \"analytic\", \"enterprise\", \"mobile\", \"user\", \"include\", \"software\", \"application\", \"base\", \"use\", \"report\", \"year\", \"management\", \"security\", \"global\", \"internet_thing\", \"need\", \"store\", \"harman\", \"centralize\", \"chipmaker\", \"quinn\", \"gemalto\", \"introduce\", \"effectively\", \"statistic\", \"knapsack_code\", \"accommodate\", \"surveillance\", \"specialist\", \"revenue\", \"involve\", \"office\", \"scalable\", \"traffic\", \"pega\", \"numb\", \"datum_virtualisation\", \"bank\", \"embed\", \"ghosh\", \"evaluate\", \"transportation\", \"boston\", \"opentext_release\", \"author\", \"memorandum\", \"customer\", \"technology\", \"group\", \"great\", \"efficiency\", \"allow\", \"industry\", \"operation\", \"place\", \"google\", \"large\", \"view\", \"market\", \"enable\", \"insight\", \"advance\", \"need\", \"analytic\", \"million\", \"smart\", \"time\", \"cloud\", \"device\", \"system\", \"software\", \"solution\", \"datum\", \"world\", \"provide\", \"smart_city\", \"machine_learn\", \"business\", \"platform\", \"internet_thing\", \"company\", \"application\", \"use\", \"service\", \"base\", \"security\", \"enterprise\", \"network\", \"report\", \"include\", \"user\", \"mobile\", \"management\", \"drill\", \"12000\", \"visio\", \"robbin\", \"latin\", \"weather\", \"jedox\", \"sunbird\", \"factory\", \"iolap\", \"mendix\", \"techtarget\", \"scientistsdirect\", \"help\", \"consortium\", \"interface\", \"exactly\", \"dctrack\", \"threat\", \"kulkarni\", \"stackie\", \"bpmn\", \"enrich\", \"python\", \"iway\", \"actual\", \"igrafx\", \"achieve\", \"real\", \"hashtag\", \"transaction\", \"information_builder\", \"scalability\", \"asset\", \"datum\", \"blockchain\", \"improve\", \"detail\", \"today\", \"single\", \"strong\", \"information\", \"content\", \"user\", \"include\", \"organization\", \"build\", \"integration\", \"research\", \"microstrategy\", \"source\", \"capability\", \"platform\", \"like\", \"bring\", \"integrate\", \"application\", \"performance\", \"mobile\", \"2017\", \"company\", \"management\", \"change\", \"machine_learn\", \"base\", \"technology\", \"business\", \"enterprise\", \"service\", \"customer\", \"solution\", \"industry\", \"analytic\", \"report\", \"cloud\", \"market\", \"security\", \"internet_thing\", \"software\", \"use\", \"provide\", \"global\", \"gold\", \"royal\", \"indonesia\", \"inspire\", \"ride\", \"imagery\", \"echo\", \"moorhead\", \"mobility_innovation\", \"measurement\", \"timetable\", \"blackberry\", \"paytm_mall\", \"reportedly\", \"style\", \"handset\", \"eighteen\", \"airline\", \"terrestrial\", \"motion\", \"iphone\", \"window\", \"organic\", \"unrealistic\", \"vacancy\", \"mydevic\", \"prepay\", \"nation\", \"galaxy\", \"potter\", \"flipkart\", \"hacon\", \"search_result\", \"commercial\", \"personalize\", \"salesforce\", \"investor\", \"app\", \"support\", \"select\", \"company\", \"device\", \"test\", \"provide\", \"virtual\", \"operational\", \"microsoft\", \"platform\", \"patient\", \"late\", \"fast\", \"base\", \"lead\", \"consumer\", \"result\", \"connect\", \"solution\", \"enterprise\", \"mobile\", \"service\", \"power\", \"global\", \"business\", \"build\", \"cloud\", \"enable\", \"datum_analytic\", \"datum\", \"software\", \"year\", \"process\", \"market\", \"help\", \"report\", \"include\", \"management\", \"use\", \"user\", \"customer\", \"security\", \"technology\", \"industry\", \"application\", \"analytic\", \"broad_range\", \"partner\", \"dombivli\", \"arabia\", \"watson_internet_thing\", \"intrix\", \"yanbu\", \"chicago\", \"incumbency\", \"korea\", \"cebit\", \"esri\", \"actian\", \"insurer\", \"lifecycle\", \"emphasis\", \"remarkably\", \"bhiwandi\", \"tone\", \"rigetti\", \"hwan\", \"glue\", \"aerialtronic\", \"prosumer\", \"sample\", \"incident\", \"manufacture\", \"forrester\", \"overseas\", \"ink\", \"billion\", \"consult\", \"global\", \"internet_thing\", \"business\", \"level\", \"client\", \"simple\", \"community\", \"market\", \"business_process\", \"analyst\", \"trend\", \"announce\", \"service\", \"manufacturer\", \"microstrategy\", \"qualcomm\", \"expect\", \"year\", \"help\", \"design\", \"city\", \"analytic\", \"company\", \"tool\", \"technology\", \"datum\", \"solution\", \"offer\", \"insight\", \"security\", \"application\", \"platform\", \"customer\", \"network\", \"use\", \"report\", \"create\", \"support\", \"management\", \"user\", \"world\", \"cloud\", \"include\", \"industry\", \"provide\", \"device\", \"base\", \"need\", \"picard\", \"rival\", \"lorawan\", \"vineet\", \"apple\", \"british\", \"tiger\", \"cardioversion\", \"delete\", \"softbank\", \"grassland\", \"phlash\", \"stiff\", \"actively\", \"shoot\", \"uitp\", \"symantecs\", \"equifax\", \"phone\", \"nyetya\", \"icon\", \"kodak\", \"unfortunate\", \"cheap\", \"app\", \"philippine\", \"ppis\", \"rebate\", \"yahoo\", \"darren\", \"sidecar\", \"culligan\", \"telia\", \"unificationengine\", \"land\", \"service\", \"vmware\", \"mobility\", \"recently\", \"start\", \"paytm\", \"hack\", \"machine_learn\", \"phish\", \"india\", \"work\", \"year\", \"time\", \"framework\", \"android\", \"application\", \"business\", \"drone\", \"product\", \"voice\", \"device\", \"offer\", \"create\", \"artificial_intelligence\", \"infrastructure\", \"development\", \"speed\", \"build\", \"use\", \"datum\", \"google\", \"report\", \"market\", \"technology\", \"mobile\", \"company\", \"platform\", \"customer\", \"software\", \"help\", \"process\", \"solution\", \"cloud\", \"management\", \"analytic\", \"industry\", \"provide\", \"include\", \"enterprise\", \"handset\", \"mydevic\", \"outsource\", \"viewer\", \"paperless\", \"dram\", \"jupiter\", \"excitement\", \"cardiogram\", \"icon\", \"moodle\", \"ppis\", \"youth\", \"uitp\", \"tiger\", \"pervasiveness\", \"yahoo\", \"capitalisation\", \"fibrillation\", \"dematerialise\", \"pixel\", \"screenshot\", \"heroku\", \"diabetes\", \"apple_watch\", \"rival\", \"clinician\", \"lockhe\", \"moratorium\", \"downtowner\", \"softbank\", \"aggarwal\", \"appium\", \"process\", \"stress\", \"alibaba\", \"assistant\", \"transition\", \"apple\", \"https\", \"management\", \"mobile_device\", \"visit\", \"work\", \"security\", \"commercial\", \"announce\", \"color\", \"add\", \"fast\", \"annual\", \"million\", \"development\", \"offer\", \"look\", \"test\", \"challenge\", \"user\", \"india\", \"service\", \"device\", \"platform\", \"plan\", \"month\", \"accord\", \"mobile\", \"market\", \"digital\", \"datum\", \"company\", \"cloud\", \"business\", \"application\", \"need\", \"design\", \"use\", \"help\", \"enable\", \"analytic\", \"solution\", \"technology\", \"enterprise\", \"customer\", \"provide\", \"industry\", \"base\", \"report\", \"global\", \"software\", \"white\", \"telit\", \"cebit\", \"broad_range\", \"lender\", \"force\", \"authenta\", \"weapon\", \"pro\", \"micron\", \"vet\", \"billion\", \"audi\", \"business_process\", \"unknown\", \"plethora\", \"remarkably\", \"vice\", \"wiseguyreport\", \"transition\", \"underbanked\", \"trackable\", \"financial_institution\", \"simultaneously\", \"current\", \"machine_machine\", \"protocol\", \"swing\", \"wed\", \"tower\", \"2020\", \"learn\", \"mitsubishi\", \"segment\", \"smart_city\", \"experian\", \"service\", \"commercial\", \"role\", \"member\", \"consult\", \"help\", \"deliver\", \"qualcomm\", \"datum\", \"solution\", \"connectivity\", \"device\", \"available\", \"network\", \"need\", \"business\", \"offer\", \"provide\", \"company\", \"process\", \"market\", \"industry\", \"include\", \"partner\", \"platform\", \"management\", \"report\", \"cloud\", \"digital\", \"late\", \"2017\", \"year\", \"technology\", \"mobile\", \"global\", \"customer\", \"security\", \"use\", \"analytic\", \"user\", \"application\", \"dram\", \"rebuild\", \"sympathetic\", \"lora\", \"athoc\", \"imperative\", \"syndrome\", \"recording\", \"bbry\", \"decisively\", \"crowdtest\", \"magician\", \"infusion\", \"phlash\", \"bcis\", \"gulf\", \"vietnam\", \"clinician\", \"compulsive\", \"handset\", \"rip\", \"gigantic\", \"popularise\", \"sincere\", \"niara\", \"ride\", \"symantecs\", \"calory\", \"catapult\", \"excitement\", \"yahoo\", \"moorhead\", \"bitpipe\", \"nvdimms\", \"paytm\", \"jupiter\", \"heart_rate\", \"test\", \"verizon_wireless\", \"billion\", \"error\", \"tablet\", \"gear\", \"variation\", \"british\", \"improve\", \"come\", \"device\", \"operator\", \"digital\", \"mobile_device\", \"adopt\", \"google\", \"design\", \"offer\", \"brand\", \"report\", \"service\", \"india\", \"datum\", \"mobile\", \"drive\", \"firm\", \"plan\", \"company\", \"global\", \"feature\", \"management\", \"work\", \"require\", \"enterprise\", \"technology\", \"security\", \"time\", \"platform\", \"network\", \"use\", \"year\", \"business\", \"market\", \"help\", \"analytic\", \"include\", \"industry\", \"customer\", \"provide\", \"cloud\", \"solution\", \"base\", \"application\", \"user\", \"damon\", \"imperative\", \"nitin\", \"davis\", \"garage\", \"shopkeeper\", \"vad\", \"fare\", \"rail\", \"emotional\", \"tremor\", \"dl160\", \"gmail\", \"apple_watch\", \"moscow\", \"mitch\", \"debatable\", \"budd\", \"wheelchair\", \"sympathetic\", \"sanchar\", \"indians\", \"assistive\", \"dram\", \"cage\", \"glaucio\", \"doetsch\", \"xiandong\", \"criticize\", \"envisalink\", \"mobile_wallet\", \"enterprise_software\", \"mobile_app\", \"hulu\", \"devop\", \"mobility\", \"test\", \"mcfall\", \"deviceconnect\", \"mobile_lab\", \"purely\", \"delete\", \"licence\", \"place\", \"mobile\", \"umii\", \"offer\", \"year\", \"app\", \"service\", \"enterprise\", \"bring\", \"cost\", \"management\", \"digital\", \"process\", \"datum\", \"announce\", \"city\", \"billion\", \"android\", \"solution\", \"share\", \"area\", \"provide\", \"report\", \"technology\", \"company\", \"drive\", \"customer\", \"application\", \"software\", \"security\", \"platform\", \"time\", \"device\", \"market\", \"cloud\", \"user\", \"business\", \"industry\", \"network\", \"analytic\", \"internet_thing\", \"use\", \"include\", \"help\", \"amman\", \"sky\", \"gizmo\", \"philanthropist\", \"liqui\", \"amelia\", \"legitimate\", \"synthesize\", \"undisclosed\", \"toby\", \"phenomenon\", \"settlement\", \"humanoid\", \"crank\", \"responsibility\", \"lvd\", \"generator\", \"normally\", \"hopper\", \"wouldn\", \"underbanked\", \"saleforce\", \"highness\", \"odd\", \"invasion\", \"clarke\", \"delve\", \"scontrol\", \"telecomasia\", \"bullguard\", \"kbank\", \"ledger\", \"augmentation\", \"microservice\", \"help\", \"device\", \"drone\", \"mobility\", \"commercial\", \"come\", \"pinterest\", \"blockchain\", \"billion\", \"kodak\", \"glow\", \"cloudflare\", \"word\", \"year\", \"announce\", \"plan\", \"manufacturer\", \"service\", \"manufacture\", \"use\", \"provide\", \"machine_learn\", \"consumer\", \"enterprise\", \"industrial\", \"visit\", \"business\", \"human\", \"bank\", \"india\", \"access\", \"digital\", \"increase\", \"smart_city\", \"datum\", \"company\", \"build\", \"solution\", \"change\", \"platform\", \"market\", \"user\", \"cloud\", \"technology\", \"base\", \"development\", \"customer\", \"industry\", \"software\", \"global\", \"analytic\", \"internet_thing\", \"include\", \"need\", \"process\", \"application\", \"mobile\"], \"Freq\": [744.0, 422.0, 408.0, 412.0, 391.0, 385.0, 357.0, 299.0, 322.0, 267.0, 261.0, 230.0, 202.0, 216.0, 239.0, 198.0, 190.0, 211.0, 212.0, 211.0, 224.0, 218.0, 191.0, 188.0, 171.0, 179.0, 185.0, 178.0, 189.0, 178.0, 22.821331196088806, 8.550227363176575, 5.2213416437139974, 3.2316214388578715, 1.5652495833195585, 6.153502129060993, 35.94809230607953, 11.433413485153997, 2.0391760507252212, 2.478793798726215, 2.6078439797066837, 3.241309949007967, 6.164239794929161, 32.45682755754949, 8.423374929672523, 18.72484544700597, 13.58752663729105, 11.239706519485633, 27.945927573655677, 30.38031152509924, 5.266894002741461, 30.18702887501501, 21.48569013763856, 1.5668765942659673, 11.16908054943277, 12.213566732407852, 5.666263895256093, 3.863659354586563, 9.26627654575636, 2.0160236698941616, 202.96690071754207, 221.6994301025332, 41.72824388919139, 25.978152225676144, 23.703271592216844, 42.699447644662186, 133.01376266377017, 33.47369711607395, 20.27613725275077, 41.24688982445896, 52.858278564940385, 28.127715702621625, 190.17389273514877, 84.77619783395521, 63.06606307289545, 44.82969074372341, 88.07537145153769, 116.13031771947863, 47.24659116041497, 53.52051826141672, 66.38275529207908, 124.16103793815218, 94.61154139528007, 64.38814465910288, 97.81193285685843, 142.82959417803187, 303.1367662528776, 72.57397108959573, 103.8311970720648, 57.13805327481052, 75.36785635991461, 146.38752416348058, 162.3054048295628, 84.20108884136094, 157.75256768653577, 95.47045732144393, 83.77774480262133, 118.41471387047525, 90.8335194671827, 80.07359917002697, 82.53980554469864, 68.02060837017645, 78.99276708579723, 83.37127475804076, 82.76971565936311, 76.38831154944484, 71.58219537664388, 4.760746384410126, 1.8764853239255153, 5.1623135274895, 1.7719681678863506, 2.2773326752355136, 4.969566804895279, 2.1874537418502573, 4.436010777608511, 3.498610373287223, 2.110293413030191, 3.568823657799039, 1.2797631777641476, 0.6239437737874141, 83.28700048257352, 1.4905167832049464, 13.233101054416023, 1.8937089143097166, 4.330480956790503, 5.562675353383884, 0.936236929157925, 0.9281033412500739, 5.8337668683415, 2.9956465859952046, 1.6318567186679784, 3.629319624944319, 2.4725161852072683, 2.7334176005536786, 15.405094898597355, 11.936444188672102, 0.5710131694106536, 8.372407496915221, 4.152122844926159, 6.557386956513768, 16.52098044960293, 241.5008484401163, 40.73702499035912, 36.042806611860286, 6.260609124372172, 29.536732373797165, 14.886454239931483, 13.921379655655935, 46.83717244159496, 19.873021298733995, 66.25230862503734, 65.75680807387398, 45.0481432918869, 44.667575213457965, 26.83851819165839, 35.94391104264357, 21.33990120907126, 16.54736872141411, 44.508102600544895, 113.83916343047625, 29.5393747306208, 27.910632376457304, 28.267967021172414, 63.43826118818911, 29.11808547374817, 54.06102690581597, 36.87054121123606, 103.62658362776502, 50.745705826148296, 35.15625964307941, 46.025968264469384, 58.3138861497442, 99.72020386571675, 85.5355266077743, 53.018859705312146, 72.77940938813329, 87.33307814570831, 75.61882353577747, 64.00075624339664, 59.56423923668399, 49.76201028955652, 62.55447170930227, 79.54494689298758, 47.55592650496324, 47.99111087081894, 50.45524343907961, 46.94651043775052, 48.413164386309965, 45.81829602498195, 2.3191111505328124, 0.7874326467678742, 1.2871542294204479, 1.8869082297890318, 1.1183328702762025, 1.2419760141907978, 1.4281729684328524, 0.9703474840344254, 2.6912197833155034, 0.977948806278122, 1.0287815539792236, 1.3265827317677228, 1.831718256196535, 0.9448269704284953, 3.135510111878056, 0.8177079256233575, 0.9500711230109324, 1.409370609429414, 0.7399322657030041, 0.9309236801755316, 2.4695118075441913, 5.717009529715069, 1.440548894323232, 0.7670634442181801, 0.4488551698586183, 1.053555839030975, 0.6871486867542085, 1.4017718422103569, 0.4540135485071467, 0.6693341916185647, 1.7527128213432648, 1.732693395994443, 2.110336032504492, 8.167148225439169, 5.292343322345429, 7.882098187610298, 4.519244328793357, 16.54964250191971, 37.345688062508934, 7.195696646487346, 104.71941890150062, 52.69281695151295, 24.047047119856067, 56.59256031467392, 6.794940352661095, 6.022364744080601, 23.66128062232512, 95.05083048454114, 11.06275000525175, 21.302310482756287, 24.533789613301398, 50.2606067200673, 32.61625373464544, 19.558279522951082, 17.928837964810615, 25.426074182739285, 70.29662646136835, 44.93726079748357, 43.00525781128574, 64.29503899680988, 30.65708658388661, 40.25930919577732, 74.54164107922792, 32.454568158036444, 55.939748575643215, 37.34712742749017, 21.87829497950889, 128.2293829992255, 44.14288051756307, 37.03228918495742, 32.82476334691747, 70.6973445501525, 43.56534017546779, 38.84359182755659, 42.11120789901693, 37.017486400721594, 38.39523833791992, 40.64497369302103, 59.22500308749002, 36.54046766523801, 57.77121878179552, 41.23883735032508, 38.31629170715259, 36.831284388543125, 0.8540245076096646, 12.667724195784102, 0.4692119724312734, 0.2700833073236244, 0.7178803730105807, 0.43399968318861887, 0.26087670536070295, 0.35075704405059666, 0.5833099115874215, 1.4038623801300563, 0.3390297129025724, 1.5204328369799551, 0.44679817408519373, 0.5393755112794134, 1.249451187706268, 0.2687897135768438, 0.15288811500513896, 0.33140144861648324, 0.2639930519629191, 1.2030912697517255, 0.15558788667142412, 0.4329557036650027, 1.2357423322581298, 0.15930699769487064, 0.6166445961949995, 0.5729441157896028, 4.004942683843071, 2.8860289634113547, 0.35110024353451047, 0.3242599147854749, 7.817019494605633, 2.6087927507341564, 17.98252722504459, 18.662652903161078, 33.858948850313126, 5.927580357856135, 7.7867994124680315, 2.4018388487533158, 2.055976094398096, 35.29036602809744, 2.912011515939372, 4.491307624449764, 4.5841984391973165, 9.749324845865909, 25.38514071734048, 3.4354075615998467, 5.9545045769898275, 3.077850167314129, 5.321033316873494, 13.990381361728069, 17.151654745742032, 10.927769775483922, 6.632302081177554, 17.914049641504175, 27.315186583636567, 9.674695287749415, 27.96249431246861, 44.24425943900197, 21.79746897318596, 10.652805450349833, 9.80694934931187, 13.523376766160629, 15.701873969968853, 25.611621130928974, 23.354025537380505, 11.142110552505356, 13.28154245606256, 12.977338301827395, 9.720518700618786, 10.264994066014006, 12.228497518848846, 13.431066526308108, 10.92989871157698, 15.516587078894073, 13.413634734768035, 14.340638816518574, 13.050486862430997, 12.279684060038491, 11.968108406825126, 11.255781572796634, 0.4171555012073773, 0.1811892789738878, 0.1269981101409516, 0.08475606730477586, 1.2623550677873088, 0.3661351747836898, 0.13118600705021943, 0.17854876135832795, 0.12928613130821234, 0.8291668942297687, 0.14141481883613935, 0.12314836014866637, 0.12875574656913655, 0.21832398895376284, 0.14228107461443393, 0.12260354228701328, 0.07991929945848467, 0.13189961253898155, 0.5160723651141271, 0.1351466124006128, 0.07957062828125762, 0.3673252554762458, 0.08058718882366996, 0.21532427076298066, 3.444833924026971, 0.12436731654933053, 0.07560422210471052, 0.25841575364875324, 0.37183570430888385, 0.08283747740732665, 0.13649696389562763, 0.6204792289541546, 0.28149081756322775, 0.5741248774275464, 0.5211317739296767, 14.412127890225282, 0.5739352530534235, 2.498871045760562, 1.550086425160453, 2.4723584128505762, 0.7085293001916377, 0.5005347471005924, 7.208833441378852, 0.8098319183235856, 4.1240412228421865, 5.903734293108926, 7.253502822257649, 5.791034949690911, 1.6526222321306387, 1.324165938490474, 8.74448850226435, 13.034063883343672, 3.112599916215346, 5.661221776574509, 1.1568522366503597, 7.363779299761154, 5.221284630586807, 4.849312863876171, 2.5078567586018803, 2.642348935174893, 4.240269903009627, 2.2776006418084482, 4.9579479801928725, 6.3467598528028235, 18.481769492159195, 3.055784431668464, 5.9399731024784135, 10.455577895446812, 10.557418166221675, 5.8153005687698185, 9.993225273489596, 10.033349701477398, 9.354735086939893, 6.034683710817235, 6.096898615477626, 4.714656345398914, 7.657306097878387, 6.2670190666130505, 5.0472390884428435, 5.82088950843962, 5.900383502294734, 5.574654979151399, 5.37686236330825, 5.104435568406015, 0.0613481618187156, 0.07960467749356072, 0.06865747549602703, 0.06528457211306073, 0.06249287224429112, 0.056081020736606084, 0.13957305500193212, 0.02811801095074, 0.11196599519617421, 0.02815805020773137, 0.11354030125929761, 0.027163714801846737, 0.028739662979983736, 0.04176819157443958, 0.043465745502546595, 0.026801586029357432, 0.13011041059472453, 0.05943672383130513, 0.07263102067053497, 0.02750209901750652, 0.056998945275118625, 0.11474119685880493, 0.027334330430727093, 0.04099754706291467, 0.09831506988117339, 0.055978085020569654, 0.04131133586262781, 0.02773829883550289, 0.02703043503928517, 0.09051891479946426, 0.2632567668190883, 0.04229199850311631, 0.16127260578976868, 2.5915518536976183, 0.10806544154570724, 0.3280263085943738, 0.27072679374664727, 0.2214149751045514, 0.36782886402589027, 0.6621894289488455, 2.842046777479518, 0.5430261280137011, 0.31559327556842814, 2.1364968705077416, 2.838701084885236, 0.47820680320525905, 1.6149744759671867, 0.17646085023533, 0.9802328894477431, 1.492482984266667, 0.34059661224770327, 1.402280132254562, 1.6703702030785534, 1.9422284341688887, 0.8558087355080234, 1.3211720777123654, 0.9964995269326425, 2.7502282418199875, 1.321354572332077, 3.688600072125822, 2.617160870656288, 4.742459548695782, 1.24695876018104, 0.6708745344194261, 1.076574684771939, 2.339815378289008, 4.278379426983691, 1.4683090124044458, 6.942929811359221, 4.250722057799387, 3.009167505737091, 3.76210017099374, 2.52691977408053, 2.0900311262877307, 1.6594896030721809, 2.193620542605402, 2.3831771701405833, 1.9912736212207853, 2.548319942830352, 3.091002683747301, 3.6741524947003392, 2.015910223708866, 2.8249085709938258, 2.1560211437799333, 2.1948947864480854, 2.0025704080164073, 1.8584266142314096, 1.8198270098539258, 1.8538425397664466, 0.014734390033166865, 0.03969508545802225, 0.010883309268359108, 0.02419378181333904, 0.007561566821857298, 0.04123249023335526, 0.016254627456158712, 0.007279433734552175, 0.007814887940433942, 0.04553985026568761, 0.004718745722269677, 0.24545369394310781, 0.010322718476802424, 0.0962840434378296, 0.012202521424889975, 0.0048168592393714495, 0.004519376303050176, 0.007574609409745339, 0.010162564694203253, 0.038864157071265615, 0.00456811633503216, 0.004784400109605328, 0.031802488074700264, 0.017255311006739542, 0.09570773424326437, 0.05461505817253396, 0.06382122333265194, 0.004779492731054433, 0.004782037664339748, 0.023735833942314162, 0.1258659287278025, 0.1079586614744135, 0.028659959146720797, 0.06887131817339333, 0.34217610106809876, 0.028999200250485996, 0.7857586323521542, 0.08133419495866422, 0.06082514716846471, 0.05486856397741736, 0.07213774438941313, 0.5361851898927326, 0.3344938249865748, 0.08913304440178561, 1.6105476465869824, 0.7478203476059667, 0.11552624314106778, 0.45205518119387883, 0.19846911539401385, 0.3381487447181397, 0.38276992369478074, 0.6877952159787273, 0.3012900379423812, 0.46146400057824605, 0.7416798066049053, 0.3198151542040364, 0.6942390282013262, 0.4989870339989246, 0.4199787276328494, 0.23180618586619992, 0.6938546114201237, 0.3595851737267461, 0.3731600701330156, 0.4848448423790738, 0.24339151639256004, 0.19486723529319958, 0.26085743121579064, 0.3317918044913289, 0.6254419421466028, 0.35520567500451106, 0.33368241175889557, 0.5449485198436967, 0.3383926038527307, 0.3387538347771638, 0.37783830395187484, 0.3350484524537808, 0.33672142517994447, 5.79093999041745e-05, 3.135311959237121e-05, 5.825613370818447e-05, 2.9894976978349273e-05, 6.221004465932148e-05, 2.8080947611612787e-05, 4.7681722726164966e-05, 4.472657970331426e-05, 2.9813868739384677e-05, 2.8762938312460357e-05, 4.600459290916629e-05, 2.9296178316579698e-05, 2.9214599868846574e-05, 4.280688596880209e-05, 2.845462754031295e-05, 2.9946904782785065e-05, 2.9047356799880573e-05, 4.379328301326163e-05, 2.866085972953131e-05, 5.437079865903583e-05, 2.8075603991231295e-05, 2.8520815677853563e-05, 2.9042500359714613e-05, 2.8177428019346902e-05, 4.4852614395602926e-05, 7.046445339293651e-05, 2.737796009798458e-05, 2.8659638715500355e-05, 2.899959529708083e-05, 2.6936068513164395e-05, 0.00013016539693550512, 6.088804728930349e-05, 5.4860346694987856e-05, 4.703666563935053e-05, 0.0002558232877282192, 0.00012678460840762965, 0.0001918142516016585, 0.0014725384493999502, 0.00011660167822323355, 0.001163538134131835, 0.0002738439448241698, 0.0002652495926060938, 7.461136094304875e-05, 7.133256278210805e-05, 0.00010907069097715682, 0.0014868393518147679, 0.0011568196820077455, 0.002577289975845155, 0.0003270236436484018, 0.0014889721857615696, 0.00047752347434755173, 0.00029426943413372577, 0.0010773836281861315, 0.0016728509808323793, 0.0017005460167065173, 0.0005736002460635264, 0.0022328313238606768, 0.0033337034087820468, 0.0011866675188426012, 0.007130416329257245, 0.002164617982310907, 0.0012094363223174075, 0.000640245044446117, 0.0010802875172389132, 0.003910030867680055, 0.001953367235782941, 0.0013176395480830455, 0.0019137966996616682, 0.0014471700187762239, 0.0007061645273038372, 0.0019054251256721635, 0.003375878758297858, 0.0017962379289694918, 0.0014098264210737409, 0.0032342521434429758, 0.0015254866346911743, 0.001790187544257545, 0.0016453112169677977, 0.0027803824097303, 0.0029550385687379904, 0.001932090093829953, 0.00205686412780346, 0.0018508527273876567, 0.002006076451069848, 0.002268172095790656, 0.0017463850251808193, 0.0018423574059223357, 0.0019166057218682937, 0.0016249663313327384, 0.001626167049351775, 0.001592268910763161, 8.877746652345236e-05, 3.264891656726631e-05, 3.483480948426573e-05, 3.280498536192641e-05, 0.0001020064413812428, 3.2823467486016804e-05, 3.333712340521261e-05, 4.9565970848339605e-05, 4.867079194478569e-05, 3.193615587950269e-05, 4.714177911275584e-05, 3.0619371771402955e-05, 4.8437083699811876e-05, 0.00011121918188681386, 3.07401759764256e-05, 3.089552679035741e-05, 2.9796129644243075e-05, 2.999576690902939e-05, 3.089678973928715e-05, 5.938927265940703e-05, 2.951068600132727e-05, 2.9271446025899318e-05, 3.0116316099650684e-05, 5.6450011446353986e-05, 3.1243833728416335e-05, 2.993248857802374e-05, 2.9835045507891737e-05, 2.977377307399176e-05, 3.121427871528347e-05, 3.188483154925063e-05, 0.0001086189864455205, 0.00025443959711128714, 0.00018794781303527452, 0.00015473971467009126, 6.325002043941785e-05, 0.0008990720069906758, 0.0016218147193247478, 0.00012523420726794846, 0.00012310558908217273, 0.0001576241143091702, 4.6138931432740945e-05, 4.4997224609034005e-05, 0.00013829498559865918, 0.0006343435183898178, 0.0025899762235338094, 7.549075966953337e-05, 0.0018049090799842453, 0.0021555981265274846, 0.0008372111757215991, 0.0033796379488505754, 0.002367328583488, 0.0011480445976931476, 0.0007555297656914898, 0.002092770529440836, 0.001359926666440603, 0.0017268949740054463, 0.006398535792910798, 0.0012654843102947704, 0.0009555766002219626, 0.0009313384905591886, 0.0004048570797121443, 0.0029376131056236907, 0.0008986323106163533, 0.0005972832114213034, 0.0021752753831375043, 0.001861585497884437, 0.0034681608008184563, 0.0033390801865853937, 0.0010901080845385216, 0.0030364446737429548, 0.0020233776683772067, 0.0019314568193402003, 0.0017367288120304883, 0.0030188923038018327, 0.001372433660201163, 0.0017854180415841862, 0.0026768492391788384, 0.0021062703745566725, 0.001794948642523306, 0.002445439215852479, 0.0020045771316571158, 0.0014559265136303962, 0.0018465317920135702, 0.0016030374076612367, 0.0016046696507368223, 0.0016314866426988645, 0.0015201479652893197, 5.2088148643841844e-05, 3.083223209695397e-05, 2.9784492778951567e-05, 3.249239568388846e-05, 3.09705817413763e-05, 3.118573576207664e-05, 3.1789437121498046e-05, 3.317590592729311e-05, 3.1888160002121284e-05, 3.1463884244733655e-05, 2.9897589697609688e-05, 3.119562856203847e-05, 4.9607645420183405e-05, 2.9916382006999258e-05, 3.181575226810408e-05, 2.8896604767528668e-05, 2.9001036547420837e-05, 2.8501634857776233e-05, 2.989545622324792e-05, 2.9039152187140783e-05, 2.792853938451213e-05, 3.112125003853695e-05, 2.9331713687693444e-05, 3.0116715358895504e-05, 3.131447387358225e-05, 2.8885115917788906e-05, 2.8047521180653147e-05, 2.785744464367175e-05, 2.9137954536845737e-05, 3.08025347639028e-05, 7.811518515846032e-05, 0.00011034745081211876, 9.545033624751861e-05, 0.00037957450615205314, 0.002979965065852814, 0.002627821476555725, 0.0010133868646056902, 0.0007060655133229095, 0.00041749333614606103, 0.0011007413757106491, 0.00010820313784436965, 0.0015297531643254198, 0.0009942520960413385, 0.00010809705800356767, 8.984063870684273e-05, 0.00018455517145347377, 0.00011671388946405939, 0.0019574317789332607, 0.0012796139088095057, 0.0010824103114374225, 0.0004849380142978357, 0.003141241635282392, 0.0005079812708333321, 0.0020356702008422537, 0.002378102787558656, 0.001774511799149137, 0.0009346352651726664, 0.002069085007509446, 0.000632567074229701, 0.0002622751764134254, 0.003293793746862642, 0.0005589711881187492, 0.0006891683680937245, 0.0010341138337370784, 0.0010556625679005126, 0.001194534325753416, 0.0011157157856719485, 0.001243195356258662, 0.005518914720919619, 0.0032832385235948987, 0.0014120705823642793, 0.002654810903594662, 0.0012288497641301738, 0.003059710723183254, 0.002911707116157153, 0.0018323789905275287, 0.0021261972236963408, 0.0028507243049832893, 0.0017460780605425, 0.001192183579119893, 0.002336440961883535, 0.0018581271597042318, 0.0016571419956818386, 0.0014864797525769573, 0.0016741082200444292, 0.0015030788950812209, 0.001490447489438209, 0.001311948633598261, 0.0012739813970730509, 0.0013270344325964861, 0.00129200530723233]}, \"lambda.step\": 0.01, \"plot.opts\": {\"xlab\": \"PC1\", \"ylab\": \"PC2\"}, \"R\": 30, \"mdsDat\": {\"x\": [0.005063030292087213, 0.004450067035907846, 0.001273718696736678, 0.0056887088956642795, -0.004915298763107502, -0.001148681597346145, 0.0021807660260743907, -0.003953896948335327, -0.0035764978957996173, -0.005061915741881834], \"Freq\": [42.92722617482386, 25.820659991301504, 20.15826383675268, 6.7065983917466205, 3.0558464652864035, 1.1360543276402595, 0.1923448261084432, 0.0010020068881116202, 0.0010019985228834508, 0.0010019809292373806], \"topics\": [1, 2, 3, 4, 5, 6, 7, 8, 9, 10], \"y\": [0.000977840003450642, 0.003547853148284955, 0.0009926752806089256, -0.0034360747263608173, 0.003833803577449794, 0.0023374368929707763, -0.0026769400740131806, -0.0007597638949960656, -0.0016668402202079694, -0.0031499899871870636], \"cluster\": [1, 1, 1, 1, 1, 1, 1, 1, 1, 1]}, \"token.table\": {\"Term\": [\"12000\", \"12000\", \"12000\", \"2017\", \"2017\", \"2017\", \"2017\", \"2017\", \"2017\", \"2020\", \"2020\", \"2020\", \"2020\", \"2020\", \"access\", \"access\", \"access\", \"access\", \"access\", \"access\", \"accommodate\", \"accommodate\", \"accommodate\", \"accord\", \"accord\", \"accord\", \"accord\", \"accord\", \"accord\", \"achieve\", \"achieve\", \"achieve\", \"achieve\", \"achieve\", \"actian\", \"actian\", \"actian\", \"actively\", \"actively\", \"actively\", \"actual\", \"actual\", \"actual\", \"add\", \"add\", \"add\", \"add\", \"add\", \"add\", \"adopt\", \"adopt\", \"adopt\", \"adopt\", \"adopt\", \"advance\", \"advance\", \"advance\", \"advance\", \"advance\", \"advance\", \"aerialtronic\", \"aerialtronic\", \"aerialtronic\", \"aerialtronic\", \"aggarwal\", \"aggarwal\", \"airline\", \"airline\", \"airline\", \"alibaba\", \"alibaba\", \"alibaba\", \"alibaba\", \"alibaba\", \"allow\", \"allow\", \"allow\", \"allow\", \"allow\", \"allow\", \"amelia\", \"amman\", \"amman\", \"analyst\", \"analyst\", \"analyst\", \"analyst\", \"analyst\", \"analyst\", \"analytic\", \"analytic\", \"analytic\", \"analytic\", \"analytic\", \"analytic\", \"android\", \"android\", \"android\", \"android\", \"android\", \"announce\", \"announce\", \"announce\", \"announce\", \"announce\", \"announce\", \"annual\", \"annual\", \"annual\", \"annual\", \"annual\", \"app\", \"app\", \"app\", \"app\", \"app\", \"app\", \"appium\", \"appium\", \"appium\", \"apple\", \"apple\", \"apple\", \"apple\", \"apple\", \"apple_watch\", \"apple_watch\", \"apple_watch\", \"application\", \"application\", \"application\", \"application\", \"application\", \"application\", \"arabia\", \"arabia\", \"area\", \"area\", \"area\", \"area\", \"area\", \"area\", \"artificial_intelligence\", \"artificial_intelligence\", \"artificial_intelligence\", \"artificial_intelligence\", \"artificial_intelligence\", \"artificial_intelligence\", \"asset\", \"asset\", \"asset\", \"asset\", \"asset\", \"asset\", \"assistant\", \"assistant\", \"assistant\", \"assistant\", \"assistant\", \"assistive\", \"athoc\", \"athoc\", \"athoc\", \"audi\", \"audi\", \"audi\", \"augmentation\", \"augmentation\", \"augmentation\", \"authenta\", \"authenta\", \"authenta\", \"author\", \"author\", \"author\", \"author\", \"available\", \"available\", \"available\", \"available\", \"available\", \"available\", \"bank\", \"bank\", \"bank\", \"bank\", \"bank\", \"bank\", \"base\", \"base\", \"base\", \"base\", \"base\", \"base\", \"bbry\", \"bhiwandi\", \"bhiwandi\", \"bhiwandi\", \"billion\", \"billion\", \"billion\", \"billion\", \"billion\", \"billion\", \"bitpipe\", \"bitpipe\", \"bitpipe\", \"blackberry\", \"blackberry\", \"blackberry\", \"blockchain\", \"blockchain\", \"blockchain\", \"blockchain\", \"blockchain\", \"blockchain\", \"boston\", \"boston\", \"boston\", \"boston\", \"bpmn\", \"bpmn\", \"bpmn\", \"bpmn\", \"bpmn\", \"brand\", \"brand\", \"brand\", \"brand\", \"brand\", \"brand\", \"bring\", \"bring\", \"bring\", \"bring\", \"bring\", \"bring\", \"british\", \"british\", \"british\", \"broad_range\", \"broad_range\", \"broad_range\", \"broad_range\", \"budd\", \"build\", \"build\", \"build\", \"build\", \"build\", \"build\", \"bullguard\", \"business\", \"business\", \"business\", \"business\", \"business\", \"business\", \"business\", \"business_process\", \"business_process\", \"business_process\", \"business_process\", \"business_process\", \"cage\", \"capability\", \"capability\", \"capability\", \"capability\", \"capability\", \"capability\", \"capitalisation\", \"capitalisation\", \"capitalisation\", \"cardiogram\", \"cardiogram\", \"cardiogram\", \"cardioversion\", \"cardioversion\", \"cardioversion\", \"catapult\", \"cebit\", \"cebit\", \"cebit\", \"centralize\", \"centralize\", \"centralize\", \"challenge\", \"challenge\", \"challenge\", \"challenge\", \"challenge\", \"challenge\", \"change\", \"change\", \"change\", \"change\", \"change\", \"change\", \"cheap\", \"cheap\", \"cheap\", \"chicago\", \"chicago\", \"chicago\", \"chipmaker\", \"chipmaker\", \"chipmaker\", \"city\", \"city\", \"city\", \"city\", \"city\", \"city\", \"clarke\", \"client\", \"client\", \"client\", \"client\", \"client\", \"client\", \"clinician\", \"clinician\", \"clinician\", \"cloud\", \"cloud\", \"cloud\", \"cloud\", \"cloud\", \"cloud\", \"cloudflare\", \"cloudflare\", \"cloudflare\", \"cloudflare\", \"color\", \"color\", \"color\", \"color\", \"come\", \"come\", \"come\", \"come\", \"come\", \"come\", \"commercial\", \"commercial\", \"commercial\", \"commercial\", \"commercial\", \"community\", \"community\", \"community\", \"community\", \"community\", \"company\", \"company\", \"company\", \"company\", \"company\", \"company\", \"company\", \"compulsive\", \"connect\", \"connect\", \"connect\", \"connect\", \"connect\", \"connect\", \"connectivity\", \"connectivity\", \"connectivity\", \"connectivity\", \"connectivity\", \"connectivity\", \"consortium\", \"consortium\", \"consortium\", \"consult\", \"consult\", \"consult\", \"consult\", \"consumer\", \"consumer\", \"consumer\", \"consumer\", \"consumer\", \"consumer\", \"content\", \"content\", \"content\", \"content\", \"content\", \"content\", \"cost\", \"cost\", \"cost\", \"cost\", \"cost\", \"cost\", \"crank\", \"create\", \"create\", \"create\", \"create\", \"create\", \"create\", \"criticize\", \"crowdtest\", \"crowdtest\", \"culligan\", \"culligan\", \"culligan\", \"culligan\", \"culligan\", \"current\", \"current\", \"current\", \"current\", \"current\", \"customer\", \"customer\", \"customer\", \"customer\", \"customer\", \"customer\", \"customer\", \"damon\", \"damon\", \"damon\", \"darren\", \"datum\", \"datum\", \"datum\", \"datum\", \"datum\", \"datum\", \"datum\", \"datum_analytic\", \"datum_analytic\", \"datum_analytic\", \"datum_analytic\", \"datum_analytic\", \"datum_analytic\", \"datum_virtualisation\", \"datum_virtualisation\", \"datum_virtualisation\", \"datum_virtualisation\", \"davis\", \"dctrack\", \"dctrack\", \"dctrack\", \"dctrack\", \"debatable\", \"decisively\", \"delete\", \"delete\", \"delete\", \"deliver\", \"deliver\", \"deliver\", \"deliver\", \"deliver\", \"deliver\", \"delve\", \"design\", \"design\", \"design\", \"design\", \"design\", \"design\", \"detail\", \"detail\", \"detail\", \"detail\", \"development\", \"development\", \"development\", \"development\", \"development\", \"development\", \"device\", \"device\", \"device\", \"device\", \"device\", \"device\", \"deviceconnect\", \"deviceconnect\", \"deviceconnect\", \"devop\", \"devop\", \"devop\", \"diabetes\", \"diabetes\", \"diabetes\", \"digital\", \"digital\", \"digital\", \"digital\", \"digital\", \"digital\", \"dl160\", \"doetsch\", \"dombivli\", \"dombivli\", \"dombivli\", \"downtowner\", \"downtowner\", \"downtowner\", \"dram\", \"dram\", \"dram\", \"drill\", \"drill\", \"drill\", \"drill\", \"drive\", \"drive\", \"drive\", \"drive\", \"drive\", \"drive\", \"drone\", \"drone\", \"drone\", \"drone\", \"drone\", \"drone\", \"echo\", \"echo\", \"echo\", \"effectively\", \"effectively\", \"effectively\", \"effectively\", \"effectively\", \"efficiency\", \"efficiency\", \"efficiency\", \"efficiency\", \"efficiency\", \"eighteen\", \"eighteen\", \"eighteen\", \"embed\", \"embed\", \"embed\", \"embed\", \"embed\", \"emotional\", \"emphasis\", \"emphasis\", \"enable\", \"enable\", \"enable\", \"enable\", \"enable\", \"enable\", \"enrich\", \"enrich\", \"enrich\", \"enterprise\", \"enterprise\", \"enterprise\", \"enterprise\", \"enterprise\", \"enterprise\", \"enterprise_software\", \"enterprise_software\", \"enterprise_software\", \"enterprise_software\", \"envisalink\", \"equifax\", \"equifax\", \"error\", \"error\", \"error\", \"error\", \"error\", \"esri\", \"esri\", \"esri\", \"esri\", \"evaluate\", \"evaluate\", \"evaluate\", \"evaluate\", \"exactly\", \"exactly\", \"exactly\", \"expect\", \"expect\", \"expect\", \"expect\", \"expect\", \"expect\", \"experian\", \"experian\", \"experian\", \"experian\", \"factory\", \"factory\", \"factory\", \"factory\", \"fare\", \"fare\", \"fare\", \"fast\", \"fast\", \"fast\", \"fast\", \"fast\", \"fast\", \"feature\", \"feature\", \"feature\", \"feature\", \"feature\", \"feature\", \"fibrillation\", \"fibrillation\", \"fibrillation\", \"financial_institution\", \"financial_institution\", \"financial_institution\", \"financial_institution\", \"firm\", \"firm\", \"firm\", \"firm\", \"firm\", \"firm\", \"flipkart\", \"flipkart\", \"flipkart\", \"force\", \"force\", \"force\", \"force\", \"forrester\", \"forrester\", \"forrester\", \"forrester\", \"forrester\", \"framework\", \"framework\", \"framework\", \"framework\", \"framework\", \"galaxy\", \"garage\", \"garage\", \"garage\", \"gear\", \"gear\", \"gear\", \"gemalto\", \"gemalto\", \"gemalto\", \"gemalto\", \"generator\", \"ghosh\", \"ghosh\", \"gigantic\", \"gizmo\", \"glaucio\", \"global\", \"global\", \"global\", \"global\", \"global\", \"global\", \"glow\", \"glow\", \"glow\", \"glue\", \"glue\", \"glue\", \"gmail\", \"gmail\", \"gmail\", \"gold\", \"gold\", \"gold\", \"google\", \"google\", \"google\", \"google\", \"google\", \"google\", \"grassland\", \"grassland\", \"great\", \"great\", \"great\", \"great\", \"great\", \"great\", \"group\", \"group\", \"group\", \"group\", \"group\", \"group\", \"gulf\", \"hack\", \"hack\", \"hack\", \"hack\", \"hack\", \"hacon\", \"hacon\", \"hacon\", \"handset\", \"handset\", \"handset\", \"harman\", \"harman\", \"harman\", \"harman\", \"hashtag\", \"heart_rate\", \"heart_rate\", \"heart_rate\", \"heart_rate\", \"help\", \"help\", \"help\", \"help\", \"help\", \"help\", \"help\", \"highness\", \"hopper\", \"https\", \"https\", \"https\", \"https\", \"https\", \"https\", \"hulu\", \"hulu\", \"hulu\", \"human\", \"human\", \"human\", \"human\", \"human\", \"human\", \"humanoid\", \"humanoid\", \"humanoid\", \"hwan\", \"igrafx\", \"igrafx\", \"igrafx\", \"imagery\", \"imagery\", \"imagery\", \"improve\", \"improve\", \"improve\", \"improve\", \"improve\", \"improve\", \"incident\", \"incident\", \"incident\", \"incident\", \"include\", \"include\", \"include\", \"include\", \"include\", \"include\", \"increase\", \"increase\", \"increase\", \"increase\", \"increase\", \"increase\", \"incumbency\", \"incumbency\", \"incumbency\", \"incumbency\", \"india\", \"india\", \"india\", \"india\", \"india\", \"india\", \"indians\", \"indonesia\", \"indonesia\", \"indonesia\", \"industrial\", \"industrial\", \"industrial\", \"industrial\", \"industrial\", \"industrial\", \"industry\", \"industry\", \"industry\", \"industry\", \"industry\", \"industry\", \"information\", \"information\", \"information\", \"information\", \"information\", \"information\", \"information_builder\", \"information_builder\", \"information_builder\", \"information_builder\", \"infrastructure\", \"infrastructure\", \"infrastructure\", \"infrastructure\", \"infrastructure\", \"infrastructure\", \"infusion\", \"ink\", \"ink\", \"ink\", \"insight\", \"insight\", \"insight\", \"insight\", \"insight\", \"insight\", \"inspire\", \"inspire\", \"inspire\", \"insurer\", \"insurer\", \"insurer\", \"insurer\", \"integrate\", \"integrate\", \"integrate\", \"integrate\", \"integrate\", \"integrate\", \"integration\", \"integration\", \"integration\", \"integration\", \"integration\", \"integration\", \"interface\", \"interface\", \"interface\", \"interface\", \"interface\", \"internet_thing\", \"internet_thing\", \"internet_thing\", \"internet_thing\", \"internet_thing\", \"internet_thing\", \"intrix\", \"intrix\", \"intrix\", \"introduce\", \"introduce\", \"introduce\", \"introduce\", \"introduce\", \"introduce\", \"invasion\", \"investor\", \"investor\", \"investor\", \"investor\", \"involve\", \"involve\", \"involve\", \"involve\", \"iolap\", \"iolap\", \"iolap\", \"iphone\", \"iphone\", \"iphone\", \"iway\", \"iway\", \"iway\", \"iway\", \"jedox\", \"jedox\", \"jedox\", \"jupiter\", \"jupiter\", \"jupiter\", \"kbank\", \"kbank\", \"kbank\", \"knapsack_code\", \"knapsack_code\", \"knapsack_code\", \"kodak\", \"kodak\", \"kodak\", \"korea\", \"korea\", \"korea\", \"korea\", \"kulkarni\", \"kulkarni\", \"land\", \"land\", \"land\", \"land\", \"large\", \"large\", \"large\", \"large\", \"large\", \"large\", \"late\", \"late\", \"late\", \"late\", \"late\", \"late\", \"latin\", \"latin\", \"latin\", \"lead\", \"lead\", \"lead\", \"lead\", \"lead\", \"lead\", \"learn\", \"learn\", \"learn\", \"learn\", \"learn\", \"learn\", \"ledger\", \"ledger\", \"ledger\", \"legitimate\", \"lender\", \"lender\", \"level\", \"level\", \"level\", \"level\", \"level\", \"level\", \"licence\", \"licence\", \"licence\", \"licence\", \"lifecycle\", \"lifecycle\", \"lifecycle\", \"lifecycle\", \"like\", \"like\", \"like\", \"like\", \"like\", \"like\", \"liqui\", \"lockhe\", \"look\", \"look\", \"look\", \"look\", \"look\", \"look\", \"lora\", \"lorawan\", \"lorawan\", \"lvd\", \"machine_learn\", \"machine_learn\", \"machine_learn\", \"machine_learn\", \"machine_learn\", \"machine_learn\", \"machine_machine\", \"machine_machine\", \"machine_machine\", \"machine_machine\", \"magician\", \"management\", \"management\", \"management\", \"management\", \"management\", \"management\", \"manufacture\", \"manufacture\", \"manufacture\", \"manufacture\", \"manufacture\", \"manufacturer\", \"manufacturer\", \"manufacturer\", \"manufacturer\", \"manufacturer\", \"market\", \"market\", \"market\", \"market\", \"market\", \"market\", \"market\", \"mcfall\", \"mcfall\", \"mcfall\", \"measurement\", \"measurement\", \"measurement\", \"member\", \"member\", \"member\", \"member\", \"member\", \"memorandum\", \"memorandum\", \"memorandum\", \"mendix\", \"mendix\", \"mendix\", \"mendix\", \"micron\", \"micron\", \"micron\", \"micron\", \"microservice\", \"microservice\", \"microservice\", \"microservice\", \"microservice\", \"microsoft\", \"microsoft\", \"microsoft\", \"microsoft\", \"microsoft\", \"microsoft\", \"microstrategy\", \"microstrategy\", \"microstrategy\", \"microstrategy\", \"microstrategy\", \"million\", \"million\", \"million\", \"million\", \"million\", \"million\", \"mitch\", \"mitsubishi\", \"mitsubishi\", \"mitsubishi\", \"mitsubishi\", \"mobile\", \"mobile\", \"mobile\", \"mobile\", \"mobile\", \"mobile\", \"mobile_app\", \"mobile_app\", \"mobile_app\", \"mobile_app\", \"mobile_device\", \"mobile_device\", \"mobile_device\", \"mobile_device\", \"mobile_device\", \"mobile_device\", \"mobile_lab\", \"mobile_lab\", \"mobile_lab\", \"mobile_wallet\", \"mobile_wallet\", \"mobile_wallet\", \"mobility\", \"mobility\", \"mobility\", \"mobility\", \"mobility\", \"mobility\", \"mobility_innovation\", \"mobility_innovation\", \"mobility_innovation\", \"month\", \"month\", \"month\", \"month\", \"month\", \"month\", \"moodle\", \"moodle\", \"moodle\", \"moorhead\", \"moorhead\", \"moorhead\", \"moscow\", \"motion\", \"motion\", \"motion\", \"mydevic\", \"mydevic\", \"mydevic\", \"nation\", \"nation\", \"nation\", \"need\", \"need\", \"need\", \"need\", \"need\", \"need\", \"network\", \"network\", \"network\", \"network\", \"network\", \"network\", \"niara\", \"niara\", \"nitin\", \"normally\", \"numb\", \"numb\", \"numb\", \"numb\", \"numb\", \"numb\", \"nvdimms\", \"nvdimms\", \"nyetya\", \"nyetya\", \"odd\", \"offer\", \"offer\", \"offer\", \"offer\", \"offer\", \"offer\", \"office\", \"office\", \"office\", \"office\", \"office\", \"opentext_release\", \"opentext_release\", \"opentext_release\", \"opentext_release\", \"operation\", \"operation\", \"operation\", \"operation\", \"operation\", \"operation\", \"operational\", \"operational\", \"operational\", \"operational\", \"operational\", \"operator\", \"operator\", \"operator\", \"operator\", \"operator\", \"organic\", \"organic\", \"organic\", \"organization\", \"organization\", \"organization\", \"organization\", \"organization\", \"organization\", \"outsource\", \"outsource\", \"outsource\", \"overseas\", \"overseas\", \"overseas\", \"paperless\", \"paperless\", \"paperless\", \"partner\", \"partner\", \"partner\", \"partner\", \"partner\", \"partner\", \"patient\", \"patient\", \"patient\", \"patient\", \"patient\", \"patient\", \"paytm\", \"paytm\", \"paytm\", \"paytm\", \"paytm\", \"paytm_mall\", \"paytm_mall\", \"paytm_mall\", \"pega\", \"pega\", \"pega\", \"pega\", \"pega\", \"performance\", \"performance\", \"performance\", \"performance\", \"performance\", \"performance\", \"personalize\", \"personalize\", \"personalize\", \"personalize\", \"phenomenon\", \"philanthropist\", \"philippine\", \"philippine\", \"phish\", \"phish\", \"phish\", \"phish\", \"phish\", \"phlash\", \"phone\", \"phone\", \"phone\", \"phone\", \"phone\", \"picard\", \"picard\", \"picard\", \"pinterest\", \"pinterest\", \"pinterest\", \"pixel\", \"pixel\", \"pixel\", \"place\", \"place\", \"place\", \"place\", \"place\", \"place\", \"plan\", \"plan\", \"plan\", \"plan\", \"plan\", \"plan\", \"platform\", \"platform\", \"platform\", \"platform\", \"platform\", \"platform\", \"platform\", \"plethora\", \"popularise\", \"potter\", \"potter\", \"power\", \"power\", \"power\", \"power\", \"power\", \"power\", \"ppis\", \"prepay\", \"prepay\", \"prepay\", \"pro\", \"pro\", \"process\", \"process\", \"process\", \"process\", \"process\", \"process\", \"product\", \"product\", \"product\", \"product\", \"product\", \"product\", \"prosumer\", \"protocol\", \"protocol\", \"protocol\", \"protocol\", \"protocol\", \"provide\", \"provide\", \"provide\", \"provide\", \"provide\", \"provide\", \"purely\", \"purely\", \"purely\", \"python\", \"python\", \"python\", \"qualcomm\", \"qualcomm\", \"qualcomm\", \"qualcomm\", \"qualcomm\", \"quinn\", \"quinn\", \"rail\", \"real\", \"real\", \"real\", \"real\", \"real\", \"rebate\", \"rebate\", \"rebate\", \"rebuild\", \"recently\", \"recently\", \"recently\", \"recently\", \"recently\", \"recording\", \"recording\", \"report\", \"report\", \"report\", \"report\", \"report\", \"report\", \"reportedly\", \"reportedly\", \"reportedly\", \"require\", \"require\", \"require\", \"require\", \"require\", \"require\", \"research\", \"research\", \"research\", \"research\", \"research\", \"research\", \"responsibility\", \"result\", \"result\", \"result\", \"result\", \"result\", \"result\", \"revenue\", \"revenue\", \"revenue\", \"revenue\", \"revenue\", \"ride\", \"ride\", \"ride\", \"rigetti\", \"rigetti\", \"rigetti\", \"rigetti\", \"rival\", \"rival\", \"rival\", \"robbin\", \"robbin\", \"robbin\", \"role\", \"role\", \"role\", \"role\", \"role\", \"royal\", \"royal\", \"saleforce\", \"salesforce\", \"salesforce\", \"salesforce\", \"salesforce\", \"salesforce\", \"sample\", \"sample\", \"sample\", \"sample\", \"scalability\", \"scalability\", \"scalability\", \"scalability\", \"scalable\", \"scalable\", \"scalable\", \"scalable\", \"scalable\", \"scientistsdirect\", \"scientistsdirect\", \"scontrol\", \"screenshot\", \"screenshot\", \"screenshot\", \"search_result\", \"search_result\", \"search_result\", \"security\", \"security\", \"security\", \"security\", \"security\", \"security\", \"segment\", \"segment\", \"segment\", \"segment\", \"segment\", \"select\", \"select\", \"select\", \"select\", \"select\", \"service\", \"service\", \"service\", \"service\", \"service\", \"service\", \"service\", \"settlement\", \"share\", \"share\", \"share\", \"share\", \"share\", \"share\", \"shoot\", \"shoot\", \"shoot\", \"shopkeeper\", \"sidecar\", \"sidecar\", \"simple\", \"simple\", \"simple\", \"simple\", \"simple\", \"simultaneously\", \"simultaneously\", \"simultaneously\", \"simultaneously\", \"sincere\", \"single\", \"single\", \"single\", \"single\", \"single\", \"sky\", \"smart\", \"smart\", \"smart\", \"smart\", \"smart\", \"smart\", \"smart_city\", \"smart_city\", \"smart_city\", \"smart_city\", \"smart_city\", \"smart_city\", \"softbank\", \"softbank\", \"softbank\", \"softbank\", \"softbank\", \"software\", \"software\", \"software\", \"software\", \"software\", \"software\", \"solution\", \"solution\", \"solution\", \"solution\", \"solution\", \"solution\", \"solution\", \"source\", \"source\", \"source\", \"source\", \"source\", \"source\", \"specialist\", \"specialist\", \"specialist\", \"specialist\", \"speed\", \"speed\", \"speed\", \"speed\", \"speed\", \"speed\", \"stackie\", \"stackie\", \"start\", \"start\", \"start\", \"start\", \"start\", \"statistic\", \"statistic\", \"statistic\", \"stiff\", \"stiff\", \"store\", \"store\", \"store\", \"store\", \"store\", \"stress\", \"stress\", \"stress\", \"strong\", \"strong\", \"strong\", \"strong\", \"strong\", \"style\", \"style\", \"style\", \"sunbird\", \"sunbird\", \"sunbird\", \"sunbird\", \"support\", \"support\", \"support\", \"support\", \"support\", \"support\", \"surveillance\", \"surveillance\", \"surveillance\", \"swing\", \"sympathetic\", \"sympathetic\", \"sympathetic\", \"syndrome\", \"syndrome\", \"syndrome\", \"synthesize\", \"system\", \"system\", \"system\", \"system\", \"system\", \"system\", \"tablet\", \"tablet\", \"tablet\", \"tablet\", \"technology\", \"technology\", \"technology\", \"technology\", \"technology\", \"technology\", \"technology\", \"techtarget\", \"techtarget\", \"telecomasia\", \"telia\", \"telia\", \"telia\", \"telit\", \"telit\", \"telit\", \"telit\", \"terrestrial\", \"terrestrial\", \"terrestrial\", \"test\", \"test\", \"test\", \"test\", \"test\", \"test\", \"threat\", \"threat\", \"threat\", \"threat\", \"tiger\", \"tiger\", \"time\", \"time\", \"time\", \"time\", \"time\", \"time\", \"timetable\", \"timetable\", \"timetable\", \"toby\", \"today\", \"today\", \"today\", \"today\", \"today\", \"today\", \"tone\", \"tone\", \"tool\", \"tool\", \"tool\", \"tool\", \"tool\", \"tool\", \"tower\", \"tower\", \"tower\", \"tower\", \"trackable\", \"traffic\", \"traffic\", \"traffic\", \"traffic\", \"transaction\", \"transaction\", \"transaction\", \"transaction\", \"transaction\", \"transition\", \"transition\", \"transition\", \"transition\", \"transportation\", \"transportation\", \"transportation\", \"transportation\", \"tremor\", \"tremor\", \"trend\", \"trend\", \"trend\", \"trend\", \"trend\", \"trend\", \"uitp\", \"uitp\", \"umii\", \"umii\", \"umii\", \"underbanked\", \"undisclosed\", \"unificationengine\", \"unificationengine\", \"unificationengine\", \"unificationengine\", \"unificationengine\", \"unknown\", \"unknown\", \"unknown\", \"unrealistic\", \"unrealistic\", \"unrealistic\", \"use\", \"use\", \"use\", \"use\", \"use\", \"use\", \"user\", \"user\", \"user\", \"user\", \"user\", \"user\", \"vacancy\", \"vad\", \"variation\", \"variation\", \"variation\", \"verizon_wireless\", \"verizon_wireless\", \"verizon_wireless\", \"vet\", \"vice\", \"vice\", \"vietnam\", \"view\", \"view\", \"view\", \"view\", \"view\", \"view\", \"viewer\", \"viewer\", \"viewer\", \"vineet\", \"virtual\", \"virtual\", \"virtual\", \"virtual\", \"virtual\", \"visio\", \"visio\", \"visio\", \"visio\", \"visit\", \"visit\", \"visit\", \"visit\", \"visit\", \"vmware\", \"vmware\", \"vmware\", \"vmware\", \"voice\", \"voice\", \"voice\", \"voice\", \"voice\", \"watson_internet_thing\", \"watson_internet_thing\", \"watson_internet_thing\", \"watson_internet_thing\", \"weapon\", \"weapon\", \"weather\", \"weather\", \"weather\", \"weather\", \"wed\", \"wheelchair\", \"white\", \"white\", \"white\", \"window\", \"window\", \"window\", \"window\", \"wiseguyreport\", \"wiseguyreport\", \"wiseguyreport\", \"word\", \"word\", \"word\", \"work\", \"work\", \"work\", \"work\", \"work\", \"work\", \"world\", \"world\", \"world\", \"world\", \"world\", \"world\", \"wouldn\", \"xiandong\", \"yahoo\", \"yahoo\", \"yahoo\", \"yanbu\", \"yanbu\", \"year\", \"year\", \"year\", \"year\", \"year\", \"year\", \"youth\"], \"Freq\": [0.22279343821310624, 0.4455868764262125, 0.22279343821310624, 0.4564819060966738, 0.3016041165281595, 0.15487778956851433, 0.048908775653215046, 0.024454387826607523, 0.008151462608869176, 0.4510338318696658, 0.3006892212464438, 0.1503446106232219, 0.10022974041548129, 0.02505743510387032, 0.4339355550019247, 0.25401105658649253, 0.20109208646430657, 0.07408655817106032, 0.03175138207331157, 0.010583794024437187, 0.6247850150979384, 0.2082616716993128, 0.2082616716993128, 0.42414214906517367, 0.26508884316573356, 0.19881663237430017, 0.06627221079143339, 0.039763326474860035, 0.013254442158286677, 0.33920056237362134, 0.36342917397173713, 0.19382889278492646, 0.07268583479434743, 0.024228611598115807, 0.506498310359066, 0.253249155179533, 0.253249155179533, 0.2759382729853002, 0.2759382729853002, 0.2759382729853002, 0.3020398662265493, 0.3020398662265493, 0.15101993311327466, 0.4681538033703145, 0.2098620497866927, 0.22600528438566908, 0.04842970379692909, 0.01614323459897636, 0.01614323459897636, 0.38497420815998235, 0.27498157725713024, 0.21998526180570419, 0.10999263090285209, 0.054996315451426046, 0.5112220375499331, 0.18176783557330953, 0.20448881501997324, 0.05680244861665923, 0.02272097944666369, 0.011360489723331845, 0.43882642413829065, 0.17553056965531627, 0.2632958544829744, 0.08776528482765814, 0.4607196559896486, 0.4607196559896486, 0.43926248319878247, 0.21963124159939124, 0.21963124159939124, 0.44860274977075953, 0.1682260311640348, 0.2803767186067247, 0.05607534372134494, 0.05607534372134494, 0.527756523255312, 0.23319474283374247, 0.14728089021078472, 0.06136703758782697, 0.024546815035130787, 0.012273407517565393, 0.680621205241407, 0.4439532923769913, 0.4439532923769913, 0.4148337350156491, 0.2620002536940942, 0.17466683579606276, 0.08733341789803138, 0.021833354474507845, 0.021833354474507845, 0.48496500568147527, 0.2508439684559355, 0.15468711388116022, 0.07525319053678065, 0.02508439684559355, 0.012542198422796774, 0.3651562220634107, 0.29212497765072853, 0.2190937332380464, 0.03651562220634107, 0.03651562220634107, 0.3973692700335135, 0.28383519288108106, 0.17976228882468467, 0.09461173096036035, 0.028383519288108106, 0.018922346192072073, 0.40757919407380466, 0.3056843955553535, 0.20378959703690233, 0.05094739925922558, 0.05094739925922558, 0.3218603320528702, 0.27104027962346966, 0.2879802970999365, 0.06776006990586741, 0.05082005242940056, 0.016940017476466854, 0.35455956576444164, 0.2363730438429611, 0.2363730438429611, 0.2962675813043107, 0.2962675813043107, 0.2468896510869256, 0.04937793021738512, 0.04937793021738512, 0.400290267217173, 0.2001451336085865, 0.2001451336085865, 0.4230872184604466, 0.28057362908429617, 0.16923488738417866, 0.07125679468807522, 0.04008194701204231, 0.013360649004014104, 0.443111644103453, 0.443111644103453, 0.4245434588800552, 0.2457883182989793, 0.20109953315371035, 0.08937757029053793, 0.044688785145268965, 0.022344392572634483, 0.4063741946921842, 0.27091612979478946, 0.18625483923391778, 0.08466129056087171, 0.05079677433652303, 0.01693225811217434, 0.3873375667539864, 0.3658188130454316, 0.1506312759598836, 0.0645562611256644, 0.0215187537085548, 0.0215187537085548, 0.40993726988201007, 0.2732915132546734, 0.20496863494100503, 0.06832287831366834, 0.06832287831366834, 0.725299151337013, 0.34499555656267034, 0.34499555656267034, 0.34499555656267034, 0.32324223740723473, 0.32324223740723473, 0.32324223740723473, 0.384885070242327, 0.384885070242327, 0.1924425351211635, 0.4339283398383151, 0.21696416991915754, 0.21696416991915754, 0.5178043961177996, 0.17260146537259985, 0.23013528716346648, 0.05753382179086662, 0.42336191668211887, 0.22413277941994528, 0.23658460049883115, 0.06225910539442925, 0.0249036421577717, 0.01245182107888585, 0.5339901100175592, 0.19579637367310507, 0.16019703300526777, 0.053399011001755925, 0.017799670333918643, 0.017799670333918643, 0.4170160863517077, 0.26579047261976974, 0.22912971777566357, 0.05499113226615926, 0.02291297177756636, 0.009165188711026543, 0.7121048147682686, 0.33347381422820754, 0.33347381422820754, 0.33347381422820754, 0.4626695666209149, 0.17690306959034982, 0.20411892645040364, 0.10886342744021528, 0.02721585686005382, 0.01360792843002691, 0.3682228495070697, 0.3682228495070697, 0.3682228495070697, 0.47401094388465714, 0.23700547194232857, 0.23700547194232857, 0.3692695270759789, 0.3440920593207985, 0.18463476353798944, 0.058747424762087545, 0.03356995700690717, 0.008392489251726792, 0.5657485988478429, 0.1885828662826143, 0.1885828662826143, 0.09429143314130715, 0.3234972645969175, 0.388196717516301, 0.1940983587581505, 0.0646994529193835, 0.0646994529193835, 0.3541104412822686, 0.25293602948733473, 0.25293602948733473, 0.07588080884620041, 0.025293602948733472, 0.025293602948733472, 0.3890892947451299, 0.3204264780254011, 0.171657041799322, 0.0686628167197288, 0.022887605573242934, 0.011443802786621467, 0.3397276858538429, 0.16986384292692144, 0.16986384292692144, 0.4506718342943322, 0.1502239447647774, 0.3004478895295548, 0.1502239447647774, 0.7327061749371363, 0.3485709992966706, 0.3201162238438812, 0.22763820362231552, 0.05690955090557888, 0.0355684693159868, 0.01422738772639472, 0.6393744196332959, 0.4080308069092221, 0.24034691365885685, 0.20960486656295657, 0.09502087284187365, 0.036331510204245805, 0.011178926216691016, 0.002794731554172754, 0.4491451041813108, 0.2418473637899366, 0.17274811699281187, 0.10364887019568712, 0.03454962339856237, 0.6988909638120845, 0.4441042879337395, 0.3122608274534106, 0.15266084897722296, 0.06245216549068212, 0.02775651799585872, 0.00693912949896468, 0.3365760668540734, 0.3365760668540734, 0.3365760668540734, 0.37866830951370883, 0.18933415475685442, 0.18933415475685442, 0.34236763465449305, 0.34236763465449305, 0.34236763465449305, 0.7017083061821991, 0.3343145823009931, 0.3343145823009931, 0.3343145823009931, 0.5433835177463513, 0.21735340709854054, 0.10867670354927027, 0.42390522208828024, 0.21195261104414012, 0.24223155547901726, 0.0756973610871929, 0.030278944434877157, 0.015139472217438579, 0.3967554169847315, 0.2954561615843745, 0.20259851080071395, 0.0590912323168749, 0.03376641846678566, 0.008441604616696415, 0.2719986856893303, 0.2719986856893303, 0.2719986856893303, 0.3258529782665413, 0.3258529782665413, 0.3258529782665413, 0.5149827148108308, 0.1716609049369436, 0.1716609049369436, 0.3973516014181793, 0.2781461209927255, 0.1854307473284837, 0.09271537366424185, 0.026490106761211954, 0.013245053380605977, 0.6856210196367366, 0.4041262696698902, 0.2652078644708654, 0.2020631348349451, 0.10103156741747255, 0.025257891854368136, 0.012628945927184068, 0.4747929393186988, 0.4747929393186988, 0.4747929393186988, 0.4627919878259656, 0.23512818736319221, 0.2090028332117264, 0.0597150952033504, 0.0223931607012564, 0.0111965803506282, 0.5223225402635101, 0.17410751342117003, 0.26116127013175505, 0.08705375671058502, 0.3138554297405642, 0.3138554297405642, 0.2092369531603761, 0.10461847658018805, 0.4899374328671466, 0.18372653732517996, 0.20822340896853728, 0.07349061493007199, 0.036745307465035994, 0.012248435821678665, 0.39719728248499653, 0.21665306317363445, 0.28887075089817926, 0.07221768772454482, 0.03610884386227241, 0.40066376610886983, 0.2504148538180437, 0.20033188305443492, 0.10016594152721746, 0.05008297076360873, 0.38686621871591464, 0.25464611864845016, 0.25709463902006985, 0.06611005003373224, 0.02448520371619713, 0.009794081486478852, 0.002448520371619713, 0.7229849926743125, 0.41114391668010514, 0.25816013372936836, 0.23903716086052626, 0.06693040504094735, 0.0191229728688421, 0.00956148643442105, 0.3755284378472104, 0.30511685575085845, 0.2347052736545065, 0.07041158209635194, 0.02347052736545065, 0.02347052736545065, 0.5151247025130756, 0.2575623512565378, 0.2575623512565378, 0.5265653318263077, 0.16202010210040238, 0.16202010210040238, 0.12151507657530178, 0.37279299449269004, 0.25709861689151037, 0.25709861689151037, 0.06427465422287759, 0.038564792533726557, 0.012854930844575518, 0.3251101213010439, 0.3422211803168883, 0.2566658852376662, 0.05133317704753324, 0.03422211803168883, 0.017111059015844414, 0.39222543735015836, 0.2428062231215266, 0.2428062231215266, 0.07470960711431587, 0.03735480355715794, 0.01867740177857897, 0.6759820076264131, 0.3751749020220018, 0.28138117651650135, 0.21103588238737603, 0.07816143792125038, 0.03908071896062519, 0.007816143792125039, 0.6919452077072235, 0.45747885640567243, 0.45747885640567243, 0.36494916996378873, 0.27371187747284154, 0.18247458498189437, 0.09123729249094718, 0.09123729249094718, 0.4369945215820231, 0.1680748159930858, 0.23530474239032012, 0.10084488959585149, 0.03361496319861716, 0.5264369358607248, 0.22561582965459637, 0.15300383850139293, 0.05964556416155996, 0.023339568584958243, 0.007779856194986081, 0.0025932853983286937, 0.2806977112785489, 0.2806977112785489, 0.2806977112785489, 0.6957459512007109, 0.40716746321671116, 0.32519645577044254, 0.17200473693643242, 0.05912662832189865, 0.02418816613168581, 0.009406509051211149, 0.0026875740146317566, 0.4334574188101415, 0.22756514487532428, 0.23840158034557782, 0.06501861282152123, 0.021672870940507075, 0.010836435470253538, 0.5104121585949147, 0.2041648634379659, 0.2041648634379659, 0.10208243171898294, 0.728712718583891, 0.3514556437814279, 0.3514556437814279, 0.17572782189071395, 0.08786391094535698, 0.7376953303745477, 0.7343366925443411, 0.4726390625454681, 0.4726390625454681, 0.4726390625454681, 0.426931936247951, 0.2668324601549694, 0.19821839897226298, 0.06099027660685015, 0.030495138303425075, 0.007623784575856269, 0.7050130646616765, 0.46810390678364555, 0.24160201640446224, 0.16610138627806778, 0.08305069313903389, 0.03020025205055778, 0.01510012602527889, 0.34730594673740667, 0.34730594673740667, 0.17365297336870333, 0.05788432445623445, 0.41509375320424663, 0.24213802270247722, 0.2161946631272118, 0.07783007872579624, 0.03459114610035389, 0.017295573050176944, 0.46943571879613866, 0.15812571580501514, 0.2618957168020563, 0.05929714342688067, 0.034590000332347055, 0.014824285856720168, 0.3241501134044412, 0.3241501134044412, 0.3241501134044412, 0.3345745996769067, 0.3345745996769067, 0.3345745996769067, 0.4831257717946146, 0.4831257717946146, 0.4831257717946146, 0.44110130571854567, 0.21604961912745096, 0.22505168659109473, 0.06301447224550653, 0.036008269854575156, 0.009002067463643789, 0.7345284806731331, 0.7249522552552446, 0.5247919889703271, 0.26239599448516354, 0.26239599448516354, 0.43080312059306447, 0.21540156029653224, 0.21540156029653224, 0.3869493593968729, 0.3869493593968729, 0.3869493593968729, 0.3520251009195333, 0.4400313761494167, 0.17601255045976666, 0.08800627522988333, 0.39694898031226516, 0.25445447455914433, 0.2340981165944128, 0.06106907389419464, 0.03053453694709732, 0.010178178982365773, 0.3767386161894482, 0.2651123595407228, 0.22325251329745077, 0.06976641040545337, 0.04185984624327202, 0.013953282081090673, 0.22519961927321894, 0.22519961927321894, 0.22519961927321894, 0.5274169355754889, 0.19178797657290506, 0.19178797657290506, 0.047946994143226264, 0.047946994143226264, 0.5379177640106148, 0.20171916150398053, 0.15689268116976263, 0.06723972050132684, 0.02241324016710895, 0.3271139788107861, 0.3271139788107861, 0.3271139788107861, 0.5251385477743177, 0.15003958507837648, 0.20005278010450198, 0.07501979253918824, 0.025006597513062747, 0.7135188453029353, 0.4171225303089652, 0.4171225303089652, 0.5009683720496056, 0.18859985771279272, 0.21806858548041658, 0.05893745553524773, 0.02357498221409909, 0.011787491107049545, 0.3775789768196641, 0.3775789768196641, 0.2517193178797761, 0.4183154428059658, 0.2671170899845324, 0.22679752923215013, 0.055439396034525586, 0.025199725470238903, 0.010079890188095561, 0.32964942883114745, 0.32964942883114745, 0.2472370716233606, 0.08241235720778686, 0.6772006333532951, 0.4496126866908603, 0.4496126866908603, 0.3823730261564788, 0.3823730261564788, 0.1911865130782394, 0.06372883769274647, 0.06372883769274647, 0.37227671460476325, 0.2978213716838106, 0.1489106858419053, 0.1489106858419053, 0.5267204096579124, 0.23941836802632382, 0.14365102081579428, 0.047883673605264764, 0.40270295519649374, 0.40270295519649374, 0.20135147759824687, 0.4334155262710241, 0.20803945261009155, 0.20803945261009155, 0.08668310525420482, 0.03467324210168193, 0.017336621050840963, 0.32124675518678575, 0.21416450345785717, 0.32124675518678575, 0.10708225172892859, 0.3311380085936414, 0.3311380085936414, 0.22075867239576094, 0.11037933619788047, 0.4611301715946162, 0.4611301715946162, 0.4611301715946162, 0.35546414350736016, 0.27421519641996356, 0.25390295964811443, 0.0812489470873966, 0.03046835515777373, 0.010156118385924576, 0.42643734055182764, 0.2576392265833959, 0.2043345590144174, 0.053304667568978455, 0.03553644504598564, 0.00888411126149641, 0.27520828609367526, 0.27520828609367526, 0.27520828609367526, 0.4078120495573715, 0.30585903716802865, 0.20390602477868575, 0.10195301238934287, 0.44849959499971964, 0.2776426064283979, 0.17085698857132178, 0.06407137071424567, 0.042714247142830446, 0.021357123571415223, 0.3438958848621509, 0.3438958848621509, 0.3438958848621509, 0.42911734632601334, 0.257470407795608, 0.257470407795608, 0.08582346926520266, 0.4090729451038301, 0.22313069732936183, 0.2603191468842555, 0.11156534866468092, 0.03718844955489364, 0.4647101575741954, 0.26139946363548494, 0.17426630909032328, 0.05808876969677443, 0.05808876969677443, 0.6661600060029136, 0.23170269897776985, 0.23170269897776985, 0.23170269897776985, 0.5206937536631732, 0.2603468768315866, 0.2603468768315866, 0.5364687811816716, 0.17882292706055722, 0.17882292706055722, 0.08941146353027861, 0.6936094198552234, 0.6830265844002911, 0.34151329220014554, 0.7200094212420581, 0.7213093466023749, 0.7234922607933382, 0.3756437953158904, 0.2579046952915069, 0.22426495242739727, 0.10091922859232877, 0.02803311905342466, 0.011213247621369864, 0.3923657999746181, 0.19618289998730906, 0.19618289998730906, 0.5040445083814317, 0.25202225419071583, 0.25202225419071583, 0.46126162402013227, 0.46126162402013227, 0.46126162402013227, 0.2930418179906894, 0.2930418179906894, 0.2930418179906894, 0.5134325088791761, 0.17531841766606013, 0.20036390590406872, 0.05009097647601718, 0.037568232357012885, 0.012522744119004295, 0.4291531511293243, 0.4291531511293243, 0.5316800847775808, 0.24539080835888344, 0.14314463820934867, 0.04089846805981391, 0.020449234029906956, 0.020449234029906956, 0.5356357257109075, 0.19129847346818124, 0.17854524190363583, 0.06376615782272708, 0.025506463129090832, 0.012753231564545416, 0.6979384639586003, 0.32861859405981586, 0.32861859405981586, 0.10953953135327195, 0.10953953135327195, 0.10953953135327195, 0.3468588158890527, 0.17342940794452635, 0.3468588158890527, 0.38016346252571603, 0.38016346252571603, 0.38016346252571603, 0.6035106455870366, 0.13411347679711924, 0.20117021519567888, 0.06705673839855962, 0.6480905091003046, 0.38686081228966823, 0.19343040614483412, 0.29014560921725113, 0.09671520307241706, 0.29556818470242047, 0.38331498953595156, 0.20320312698291407, 0.07851029906158044, 0.02770951731585192, 0.00923650577195064, 0.00461825288597532, 0.6791421987723367, 0.6707697320744994, 0.44642208226503266, 0.2626012248617839, 0.21008097988942712, 0.05252024497235678, 0.02626012248617839, 0.02626012248617839, 0.4051896615558654, 0.2701264410372436, 0.2701264410372436, 0.4568512052990376, 0.2284256026495188, 0.18274048211961505, 0.06852768079485563, 0.02284256026495188, 0.02284256026495188, 0.41071932783108817, 0.41071932783108817, 0.41071932783108817, 0.7016942566779102, 0.40967051898061246, 0.40967051898061246, 0.13655683966020415, 0.2599093205681528, 0.2599093205681528, 0.2599093205681528, 0.3896799206723122, 0.3421579791269083, 0.16157460125437337, 0.07603510647264629, 0.019008776618161572, 0.009504388309080786, 0.3771262609292934, 0.1885631304646467, 0.1885631304646467, 0.1885631304646467, 0.39130355516425247, 0.31115704386555015, 0.198009027914441, 0.06128850864018412, 0.02357250332314774, 0.009429001329259095, 0.42738672364607505, 0.27197336959295687, 0.19426669256639775, 0.06799334239823922, 0.019426669256639776, 0.009713334628319888, 0.3914681186770959, 0.19573405933854796, 0.19573405933854796, 0.19573405933854796, 0.4038531450983472, 0.24012889708550372, 0.22921394721798083, 0.07640464907266027, 0.04365979947009158, 0.010914949867522896, 0.747103532324661, 0.2579392708407116, 0.2579392708407116, 0.2579392708407116, 0.38508629484075957, 0.24321239674153236, 0.24321239674153236, 0.08107079891384412, 0.02026769972846103, 0.02026769972846103, 0.5091998063617265, 0.24502847824925184, 0.15697136887842694, 0.053599979617023834, 0.022971419835867358, 0.00765713994528912, 0.400718327374553, 0.32472002390696536, 0.17272341697179008, 0.06218043010984443, 0.027635746715486412, 0.013817873357743206, 0.35435094973059944, 0.35435094973059944, 0.17717547486529972, 0.08858773743264986, 0.38711559247282584, 0.26323860288152157, 0.23226935548369548, 0.06193849479565213, 0.0464538710967391, 0.015484623698913033, 0.7186833371759317, 0.32925955679750185, 0.32925955679750185, 0.32925955679750185, 0.5036676015648254, 0.23184699119650692, 0.15189975285288385, 0.07994723834362308, 0.023984171503086925, 0.007994723834362307, 0.34658626619764, 0.34658626619764, 0.34658626619764, 0.41877933784454857, 0.20938966892227429, 0.20938966892227429, 0.20938966892227429, 0.3821634593964221, 0.31472284891470054, 0.19108172969821105, 0.06744061048172155, 0.033720305240860775, 0.01124010174695359, 0.3524201697696864, 0.32811533047522523, 0.2065911340029196, 0.07291451788338339, 0.02430483929446113, 0.012152419647230565, 0.3465573354499336, 0.37543711340409475, 0.1732786677249668, 0.05775955590832227, 0.028879777954161134, 0.44319855566317967, 0.253256317521817, 0.17411371829624916, 0.10024729235238589, 0.02110469312681808, 0.01055234656340904, 0.2705080488605124, 0.2705080488605124, 0.2705080488605124, 0.5509270891969311, 0.15303530255470307, 0.198945893321114, 0.06121412102188123, 0.015303530255470307, 0.015303530255470307, 0.6326208171312008, 0.3885204090316831, 0.19426020451584156, 0.3237670075264026, 0.06475340150528051, 0.5132893814440253, 0.19248351804150948, 0.19248351804150948, 0.06416117268050316, 0.3659145548274395, 0.3659145548274395, 0.18295727741371975, 0.24941563409468864, 0.24941563409468864, 0.24941563409468864, 0.30998628663739325, 0.4133150488498577, 0.20665752442492885, 0.10332876221246443, 0.35928019235682834, 0.35928019235682834, 0.17964009617841417, 0.30970367737131577, 0.15485183868565788, 0.30970367737131577, 0.4908182862563651, 0.24540914312818254, 0.24540914312818254, 0.438519967145163, 0.2192599835725815, 0.2192599835725815, 0.3200135402382068, 0.3200135402382068, 0.1600067701191034, 0.4853475373471171, 0.16178251244903905, 0.16178251244903905, 0.08089125622451952, 0.40464020300094244, 0.40464020300094244, 0.42778487173220753, 0.21389243586610376, 0.21389243586610376, 0.10694621793305188, 0.5121342159209842, 0.19325819468716382, 0.19325819468716382, 0.05797745840614915, 0.028988729203074576, 0.009662909734358191, 0.41838685435777484, 0.21517038224114132, 0.2510321126146649, 0.07172346074704711, 0.035861730373523554, 0.011953910124507852, 0.3507702268052992, 0.3507702268052992, 0.1753851134026496, 0.41136744082482063, 0.24975880335792683, 0.24241295620034076, 0.06611262441827474, 0.02203754147275825, 0.007345847157586083, 0.4645067242219788, 0.20322169184711572, 0.20322169184711572, 0.05806334052774735, 0.029031670263873675, 0.029031670263873675, 0.5004570544299559, 0.16681901814331862, 0.16681901814331862, 0.6608086080205791, 0.4732747875953238, 0.4732747875953238, 0.4028581308279084, 0.21821482086511704, 0.23500057631627988, 0.1007145327069771, 0.0335715109023257, 0.01678575545116285, 0.41710285285928156, 0.2780685685728544, 0.2780685685728544, 0.1390342842864272, 0.3592331088257468, 0.2694248316193101, 0.1796165544128734, 0.0898082772064367, 0.3656413878457927, 0.3226247539815818, 0.2043290108550018, 0.06452495079631636, 0.03226247539815818, 0.010754158466052726, 0.6862909815907099, 0.704027090186848, 0.37939780897410313, 0.2529318726494021, 0.23486531031730196, 0.0722662493284006, 0.0361331246642003, 0.01806656233210015, 0.718771611725509, 0.5003720256149289, 0.5003720256149289, 0.6989218209530698, 0.45828480928506005, 0.28108134969483684, 0.1649825313426216, 0.0366627847428048, 0.04277324886660561, 0.012220928247601601, 0.47084168852086855, 0.29427605532554285, 0.1765656331953257, 0.05885521106510857, 0.7182532641694663, 0.40038271509796375, 0.283604423194391, 0.20575222859200915, 0.0667304525163273, 0.027804355215136373, 0.016682613129081824, 0.42879215661558584, 0.24119558809626704, 0.1875965685193188, 0.10719803915389646, 0.026799509788474115, 0.42911584192881724, 0.20025405956678138, 0.20025405956678138, 0.08582316838576344, 0.028607722795254482, 0.48575548854792644, 0.20452862675702166, 0.18151915624685672, 0.08948127420619698, 0.025566078344627707, 0.010226431337851083, 0.002556607834462771, 0.4860673391013382, 0.16202244636711272, 0.16202244636711272, 0.32568584328887173, 0.32568584328887173, 0.32568584328887173, 0.38039884926699075, 0.27171346376213623, 0.217370771009709, 0.05434269275242725, 0.05434269275242725, 0.5279504523096085, 0.26397522615480423, 0.26397522615480423, 0.32410642960619385, 0.4321419061415918, 0.10803547653539795, 0.10803547653539795, 0.4437921232874127, 0.22189606164370634, 0.22189606164370634, 0.07396535388123546, 0.38827317982078774, 0.25884878654719184, 0.25884878654719184, 0.043141464424531976, 0.043141464424531976, 0.40188985873330346, 0.2280996495513344, 0.2606853137729536, 0.07603321651711147, 0.0325856642216192, 0.010861888073873067, 0.4042170460913774, 0.3264829987661125, 0.15546809465052977, 0.09328085679031786, 0.015546809465052975, 0.5035535657338619, 0.18213639611650323, 0.20356420742432715, 0.053569528269559775, 0.032141716961735865, 0.010713905653911955, 0.7130921929975869, 0.3309397196707976, 0.3309397196707976, 0.22062647978053174, 0.11031323989026587, 0.39959968135303864, 0.2839260893824222, 0.22608929339711398, 0.04206312435295144, 0.031547343264713576, 0.01051578108823786, 0.3351941616562255, 0.22346277443748366, 0.3351941616562255, 0.11173138721874183, 0.31959664312483904, 0.3515563074373229, 0.22371765018738732, 0.06391932862496781, 0.031959664312483906, 0.031959664312483906, 0.3680299013229237, 0.24535326754861578, 0.24535326754861578, 0.3944618163332172, 0.1972309081666086, 0.1972309081666086, 0.4334576591368175, 0.26833093184660134, 0.1857675682014932, 0.041281681822554046, 0.041281681822554046, 0.020640840911277023, 0.3562500439726451, 0.23750002931509673, 0.3562500439726451, 0.4902502849834286, 0.23345251665877553, 0.18676201332702042, 0.07003575499763266, 0.023345251665877552, 0.023345251665877552, 0.367695505020066, 0.183847752510033, 0.183847752510033, 0.3312597047977085, 0.3312597047977085, 0.3312597047977085, 0.7190559779036413, 0.3309339003689513, 0.3309339003689513, 0.3309339003689513, 0.2877213791917194, 0.2877213791917194, 0.2877213791917194, 0.2158574114095125, 0.2158574114095125, 0.2158574114095125, 0.49341268744042477, 0.24109938136293482, 0.16260190836104907, 0.061676585930053096, 0.022427849429110216, 0.011213924714555108, 0.4484317228915998, 0.2571887822466528, 0.19124294064494698, 0.07254042576187644, 0.019783752480511757, 0.006594584160170586, 0.45569905294286045, 0.45569905294286045, 0.6989094429416044, 0.7055052198856522, 0.5314233899544305, 0.17714112998481016, 0.17714112998481016, 0.07085645199392406, 0.03542822599696203, 0.017714112998481014, 0.43034075632622376, 0.43034075632622376, 0.4375421923416881, 0.4375421923416881, 0.6605977488551911, 0.4283913012967903, 0.24686956345916727, 0.19604347686463283, 0.07986956464855412, 0.0363043475675246, 0.014521739027009841, 0.5483329619019474, 0.20201740701650692, 0.14429814786893352, 0.05771925914757341, 0.028859629573786703, 0.5528739082079223, 0.13821847705198056, 0.13821847705198056, 0.13821847705198056, 0.5149005852184372, 0.18723657644306807, 0.20283962447999043, 0.04680914411076702, 0.03120609607384468, 0.01560304803692234, 0.37284913761608984, 0.23303071101005615, 0.2796368532120674, 0.04660614220201123, 0.04660614220201123, 0.49578219476393454, 0.14873465842918038, 0.24789109738196727, 0.04957821947639346, 0.04957821947639346, 0.21329620490974732, 0.21329620490974732, 0.21329620490974732, 0.40196960951775496, 0.31734442856664863, 0.19745875555258138, 0.049364688888145346, 0.021156295237776575, 0.007052098412592192, 0.33332818072035303, 0.33332818072035303, 0.33332818072035303, 0.3045103197679626, 0.3045103197679626, 0.3045103197679626, 0.3479681728809561, 0.3479681728809561, 0.3479681728809561, 0.3892166156015153, 0.25299080014098496, 0.20433872319079555, 0.12649540007049248, 0.02919124617011365, 0.009730415390037883, 0.41484827263440915, 0.21962555610056955, 0.26843123523402945, 0.0488056791334599, 0.02440283956672995, 0.02440283956672995, 0.37953920338471425, 0.22772352203082857, 0.22772352203082857, 0.07590784067694285, 0.07590784067694285, 0.3428922528528516, 0.1714461264264258, 0.3428922528528516, 0.5394555965343296, 0.21192898435277235, 0.17339644174317737, 0.05779881391439246, 0.019266271304797487, 0.4095053505575247, 0.31251724121495306, 0.18319976209152422, 0.05388228296809536, 0.02155291318723814, 0.01077645659361907, 0.44409711238844574, 0.16653641714566714, 0.2775606952427786, 0.05551213904855572, 0.6888054463703976, 0.6563555104594159, 0.4671371217513265, 0.4671371217513265, 0.4531878839459218, 0.2589645051119553, 0.12948225255597764, 0.06474112627798882, 0.06474112627798882, 0.4899272610471675, 0.22958930254568344, 0.34438395381852516, 0.34438395381852516, 0.11479465127284172, 0.11479465127284172, 0.45851887859730145, 0.305679252398201, 0.1528396261991005, 0.3210178619034826, 0.3210178619034826, 0.3210178619034826, 0.3504979977272702, 0.3504979977272702, 0.3504979977272702, 0.518058283470913, 0.2072233133883652, 0.12951457086772825, 0.07770874252063695, 0.02590291417354565, 0.02590291417354565, 0.43442808193716737, 0.25151099480572847, 0.19434940507715381, 0.06859390767428958, 0.03429695383714479, 0.01143231794571493, 0.3929311238776045, 0.27650708717312905, 0.23042257264427424, 0.06306301988159084, 0.02425500764676571, 0.012127503823382855, 0.002425500764676571, 0.6845939744654346, 0.7058296414314962, 0.4510057980980273, 0.4510057980980273, 0.44289821380123157, 0.22144910690061578, 0.23672145910065825, 0.06108940880016987, 0.030544704400084936, 0.007636176100021234, 0.7646661301342239, 0.4407813854934382, 0.4407813854934382, 0.4407813854934382, 0.43265535445165915, 0.43265535445165915, 0.429482374361715, 0.2482944976778665, 0.2214518492802593, 0.053685296795214374, 0.033553310497008985, 0.020131986298205392, 0.43843354063180867, 0.26445197688902744, 0.18790008884220372, 0.06263336294740124, 0.0417555752982675, 0.006959262549711249, 0.6789931782713363, 0.4023123876711213, 0.2514452422944508, 0.2514452422944508, 0.050289048458890165, 0.050289048458890165, 0.45200520009370415, 0.2086177846586327, 0.24773361928212634, 0.05650065001171302, 0.026077223082329088, 0.008692407694109696, 0.46060476880472223, 0.46060476880472223, 0.46060476880472223, 0.23067349000003015, 0.4613469800000603, 0.23067349000003015, 0.41312410575993785, 0.22245144156304347, 0.2542302189291925, 0.0953363320984472, 0.031778777366149064, 0.7055814626238851, 0.35279073131194255, 0.46935664459989596, 0.37303674059646513, 0.37303674059646513, 0.18651837029823257, 0.06217279009941085, 0.031086395049705427, 0.4470513210045369, 0.22352566050226844, 0.22352566050226844, 0.6902092071992317, 0.40670871269515907, 0.27113914179677273, 0.20335435634757953, 0.06778478544919318, 0.06778478544919318, 0.4754595506626921, 0.4754595506626921, 0.4185376669947196, 0.2648972575915947, 0.20661986092144385, 0.06887328697381462, 0.03178767091099136, 0.010595890303663787, 0.33220886125299914, 0.33220886125299914, 0.33220886125299914, 0.40044077943495165, 0.23662409693883507, 0.23662409693883507, 0.07280741444271849, 0.036403707221359244, 0.018201853610679622, 0.4066197235079015, 0.3182241314409664, 0.19447030254725722, 0.05303735524016106, 0.02651867762008053, 0.00883955920669351, 0.6353404701131407, 0.39484438670847277, 0.26793011955217794, 0.2538285343125896, 0.05640634095835326, 0.02820317047917663, 0.014101585239588314, 0.5342878819489967, 0.20035795573087378, 0.16696496310906148, 0.06678598524362458, 0.016696496310906146, 0.2899997492275267, 0.2899997492275267, 0.2899997492275267, 0.45420749247837056, 0.27252449548702234, 0.1816829969913482, 0.0908414984956741, 0.3508105773918335, 0.3508105773918335, 0.3508105773918335, 0.22980551584099518, 0.45961103168199036, 0.22980551584099518, 0.3914048859370735, 0.24462805371067095, 0.19570244296853676, 0.09785122148426838, 0.04892561074213419, 0.42272992179662194, 0.42272992179662194, 0.6408421472618125, 0.4038938517718702, 0.18358811444175918, 0.2937409831068147, 0.07343524577670367, 0.036717622888351835, 0.3505912372340938, 0.1752956186170469, 0.1752956186170469, 0.1752956186170469, 0.3888819232608974, 0.3888819232608974, 0.16666368139752744, 0.05555456046584248, 0.5567889782492571, 0.15908256521407346, 0.19885320651759184, 0.039770641303518366, 0.039770641303518366, 0.6177143955754748, 0.6177143955754748, 0.7092060144388529, 0.34815264740461205, 0.17407632370230602, 0.34815264740461205, 0.42617481967629095, 0.14205827322543033, 0.28411654645086065, 0.4310667595341814, 0.2586400557205088, 0.1993683762845589, 0.07543668291848174, 0.026941672470886337, 0.0161650034825318, 0.36065390990489515, 0.31557217116678327, 0.22540869369055946, 0.045081738738111894, 0.045081738738111894, 0.39929531139681507, 0.19964765569840753, 0.27950671797777055, 0.07985906227936301, 0.03992953113968151, 0.39363427441139204, 0.24351950874603068, 0.2134965556129584, 0.08339709203631188, 0.04670237154033465, 0.0133435347258099, 0.003335883681452475, 0.6554819151625528, 0.4012643530199518, 0.29426052554796467, 0.2273831333779727, 0.05350191373599358, 0.02675095686799679, 0.013375478433998394, 0.4222130145882357, 0.4222130145882357, 0.4222130145882357, 0.7021219113808899, 0.4217446917843881, 0.4217446917843881, 0.38455269497044225, 0.25636846331362817, 0.1709123088757521, 0.08545615443787605, 0.042728077218938024, 0.37399373171870526, 0.37399373171870526, 0.18699686585935263, 0.18699686585935263, 0.726319724026069, 0.39635032235422635, 0.34972087266549384, 0.13988834906619751, 0.06994417453309876, 0.04662944968873251, 0.6972841464319259, 0.5029860667332762, 0.20492024940985326, 0.20492024940985326, 0.04657278395678483, 0.0279436703740709, 0.009314556791356966, 0.48375038979228574, 0.2291449214805564, 0.17822382781821053, 0.0763816404935188, 0.025460546831172933, 0.008486848943724312, 0.3681179601534548, 0.2208707760920729, 0.2208707760920729, 0.07362359203069097, 0.07362359203069097, 0.46365549273058326, 0.23655892486254249, 0.2081718538790374, 0.05204296346975935, 0.028387070983505097, 0.0094623569945017, 0.44403573655359746, 0.23599102082568818, 0.21736015076050225, 0.068313190239015, 0.024841160086914543, 0.009315435032592955, 0.003105145010864318, 0.36741260776593565, 0.3470007962233837, 0.20411811542551983, 0.04082362308510396, 0.02041181154255198, 0.02041181154255198, 0.5275222594416035, 0.17584075314720116, 0.17584075314720116, 0.08792037657360058, 0.4226013070555115, 0.2939835179516602, 0.16536572884780887, 0.055121909615936285, 0.03674793974395753, 0.018373969871978764, 0.4070133519176388, 0.4070133519176388, 0.41337595789961884, 0.22735677684479036, 0.20668797894980942, 0.08267519157992376, 0.04133759578996188, 0.5375591372177578, 0.2687795686088789, 0.2687795686088789, 0.4679709428291013, 0.4679709428291013, 0.6050703840089655, 0.18415185600272863, 0.13153704000194902, 0.05261481600077961, 0.026307408000389804, 0.35487588495007566, 0.17743794247503783, 0.17743794247503783, 0.3984451198266734, 0.34863947984833926, 0.17431973992416963, 0.049805639978334176, 0.024902819989167088, 0.3970843325317008, 0.1985421662658504, 0.29781324939877557, 0.34934958443943154, 0.34934958443943154, 0.17467479221971577, 0.08733739610985788, 0.3676955149538217, 0.2523400592820345, 0.2667594912410079, 0.072097159794867, 0.0216291479384601, 0.0072097159794866994, 0.5023273665291346, 0.16744245550971154, 0.16744245550971154, 0.6706452138054422, 0.36892444010611225, 0.36892444010611225, 0.36892444010611225, 0.4485600188843512, 0.4485600188843512, 0.4485600188843512, 0.6329425140017735, 0.47982908275767716, 0.23991454137883858, 0.16494124719795153, 0.07497329418088707, 0.02249198825426612, 0.007497329418088706, 0.39422386446509117, 0.26281590964339413, 0.26281590964339413, 0.06570397741084853, 0.5260413519924653, 0.23695556396056994, 0.13743422709713055, 0.06634755790895958, 0.026065112035662693, 0.009478222558422797, 0.0023695556396056993, 0.30127076808791015, 0.30127076808791015, 0.6764560850011716, 0.4033484792219471, 0.20167423961097355, 0.20167423961097355, 0.5509882505278285, 0.09183137508797141, 0.18366275017594283, 0.09183137508797141, 0.4170084855891407, 0.4170084855891407, 0.4170084855891407, 0.34173859970120046, 0.2866194707171359, 0.26457181912351, 0.05511912898406459, 0.03307147739043875, 0.011023825796812919, 0.3416120491860837, 0.40993445902330045, 0.13664481967443348, 0.06832240983721674, 0.4691753617943291, 0.4691753617943291, 0.48516923753968805, 0.23523356971621237, 0.16907412823352763, 0.05145734337542146, 0.04410629432178982, 0.014702098107263273, 0.3087427695407039, 0.3087427695407039, 0.3087427695407039, 0.6563446345729742, 0.37544993112622355, 0.34131811920565774, 0.18203633024301746, 0.06826362384113155, 0.022754541280377183, 0.011377270640188591, 0.4171942403657748, 0.4171942403657748, 0.45605632545852076, 0.22388219613418292, 0.19071446337356324, 0.08291933190154924, 0.02487579957046477, 0.008291933190154923, 0.4038149293329369, 0.1346049764443123, 0.2692099528886246, 0.1346049764443123, 0.6793145476842398, 0.5273788568390877, 0.1438305973197512, 0.19177412975966826, 0.047943532439917065, 0.3071438962296602, 0.35102159569104024, 0.21938849730690016, 0.04387769946138003, 0.04387769946138003, 0.41998895646141626, 0.2519933738768498, 0.2519933738768498, 0.08399779129228326, 0.5251770143964821, 0.21882375599853424, 0.17505900479882738, 0.08752950239941369, 0.4805662111933006, 0.4805662111933006, 0.4027168396953039, 0.3179343471278715, 0.1483693619930067, 0.10597811570929051, 0.021195623141858102, 0.021195623141858102, 0.4893539573696542, 0.4893539573696542, 0.26678807689484035, 0.26678807689484035, 0.26678807689484035, 0.7145453751849605, 0.6513213587513578, 0.3872038948834342, 0.29040292116257566, 0.1936019474417171, 0.09680097372085855, 0.09680097372085855, 0.27111566949515914, 0.27111566949515914, 0.27111566949515914, 0.3988924662537245, 0.3988924662537245, 0.3988924662537245, 0.4391339423993976, 0.2457058963425201, 0.19865583108544177, 0.06796120537133535, 0.031366710171385544, 0.010455570057128515, 0.39311905579199746, 0.3126006949671305, 0.19419134081291442, 0.06157286416019237, 0.02368187083084322, 0.014209122498505932, 0.6754629953886153, 0.6860379235856554, 0.2724702090963546, 0.2724702090963546, 0.2724702090963546, 0.32703618960570696, 0.32703618960570696, 0.32703618960570696, 0.7114526958894626, 0.431024703812711, 0.431024703812711, 0.7162813166945986, 0.516869538851865, 0.20305589026323267, 0.16613663748809948, 0.055378879162699825, 0.018459626387566607, 0.018459626387566607, 0.3503648839686685, 0.3503648839686685, 0.3503648839686685, 0.7380140981934639, 0.369240059433477, 0.20513336635193166, 0.2871867128927043, 0.08205334654077266, 0.04102667327038633, 0.3218681983745408, 0.40233524796817594, 0.1609340991872704, 0.0804670495936352, 0.45424952518696854, 0.28390595324185536, 0.1703435719451132, 0.05678119064837107, 0.05678119064837107, 0.47846242993585325, 0.1913849719743413, 0.1913849719743413, 0.09569248598717064, 0.3793056693407009, 0.25287044622713395, 0.25287044622713395, 0.08429014874237799, 0.042145074371188994, 0.49433708822974004, 0.16477902940991335, 0.16477902940991335, 0.16477902940991335, 0.4676318604479754, 0.4676318604479754, 0.23950877736506776, 0.3991812956084463, 0.23950877736506776, 0.07983625912168925, 0.6699407366259892, 0.7094619596556782, 0.5168102201180512, 0.2584051100590256, 0.2584051100590256, 0.37635103696074634, 0.2150577354061408, 0.32258660310921117, 0.0537644338515352, 0.32124629547657935, 0.32124629547657935, 0.32124629547657935, 0.43749427653718187, 0.2916628510247879, 0.2916628510247879, 0.4332063146076715, 0.25698679680116104, 0.19090447762371965, 0.058739839268836816, 0.04405487945162761, 0.014684959817209204, 0.4768913893441317, 0.24824483280927404, 0.16985172771160856, 0.07186034633952669, 0.02613103503255516, 0.01306551751627758, 0.687595683196004, 0.7259640453931289, 0.4656189824670396, 0.3104126549780264, 0.1552063274890132, 0.4410913391545135, 0.4410913391545135, 0.38477692123858326, 0.2623479008444886, 0.21570827402769063, 0.08161934692939646, 0.04080967346469823, 0.011659906704199493, 0.7166002133249727], \"Topic\": [1, 2, 3, 1, 2, 3, 4, 5, 6, 1, 2, 3, 4, 5, 1, 2, 3, 4, 5, 6, 1, 2, 3, 1, 2, 3, 4, 5, 6, 1, 2, 3, 4, 5, 1, 2, 3, 1, 2, 3, 1, 2, 3, 1, 2, 3, 4, 5, 6, 1, 2, 3, 4, 5, 1, 2, 3, 4, 5, 6, 1, 2, 3, 4, 1, 3, 1, 2, 3, 1, 2, 3, 4, 5, 1, 2, 3, 4, 5, 6, 1, 1, 2, 1, 2, 3, 4, 5, 6, 1, 2, 3, 4, 5, 6, 1, 2, 3, 4, 5, 1, 2, 3, 4, 5, 6, 1, 2, 3, 4, 5, 1, 2, 3, 4, 5, 6, 1, 2, 3, 1, 2, 3, 4, 5, 1, 2, 3, 1, 2, 3, 4, 5, 6, 1, 3, 1, 2, 3, 4, 5, 6, 1, 2, 3, 4, 5, 6, 1, 2, 3, 4, 5, 6, 1, 2, 3, 4, 5, 1, 1, 2, 3, 1, 2, 3, 1, 2, 3, 1, 2, 3, 1, 2, 3, 4, 1, 2, 3, 4, 5, 6, 1, 2, 3, 4, 5, 6, 1, 2, 3, 4, 5, 6, 1, 1, 2, 3, 1, 2, 3, 4, 5, 6, 1, 2, 3, 1, 2, 3, 1, 2, 3, 4, 5, 6, 1, 2, 3, 4, 1, 2, 3, 4, 5, 1, 2, 3, 4, 5, 6, 1, 2, 3, 4, 5, 6, 1, 2, 3, 1, 2, 3, 4, 1, 1, 2, 3, 4, 5, 6, 1, 1, 2, 3, 4, 5, 6, 7, 1, 2, 3, 4, 5, 1, 1, 2, 3, 4, 5, 6, 1, 2, 3, 1, 2, 3, 1, 2, 3, 1, 1, 2, 3, 1, 2, 3, 1, 2, 3, 4, 5, 6, 1, 2, 3, 4, 5, 6, 1, 2, 3, 1, 2, 3, 1, 2, 3, 1, 2, 3, 4, 5, 6, 1, 1, 2, 3, 4, 5, 6, 1, 2, 3, 1, 2, 3, 4, 5, 6, 1, 2, 3, 4, 1, 2, 3, 4, 1, 2, 3, 4, 5, 6, 1, 2, 3, 4, 5, 1, 2, 3, 4, 5, 1, 2, 3, 4, 5, 6, 7, 1, 1, 2, 3, 4, 5, 6, 1, 2, 3, 4, 5, 6, 1, 2, 3, 1, 2, 3, 4, 1, 2, 3, 4, 5, 6, 1, 2, 3, 4, 5, 6, 1, 2, 3, 4, 5, 6, 1, 1, 2, 3, 4, 5, 6, 1, 1, 2, 1, 2, 3, 4, 5, 1, 2, 3, 4, 5, 1, 2, 3, 4, 5, 6, 7, 1, 2, 3, 1, 1, 2, 3, 4, 5, 6, 7, 1, 2, 3, 4, 5, 6, 1, 2, 3, 4, 1, 1, 2, 3, 4, 1, 1, 1, 2, 3, 1, 2, 3, 4, 5, 6, 1, 1, 2, 3, 4, 5, 6, 1, 2, 3, 4, 1, 2, 3, 4, 5, 6, 1, 2, 3, 4, 5, 6, 1, 2, 3, 1, 2, 3, 1, 2, 3, 1, 2, 3, 4, 5, 6, 1, 1, 1, 2, 3, 1, 2, 3, 1, 2, 3, 1, 2, 3, 4, 1, 2, 3, 4, 5, 6, 1, 2, 3, 4, 5, 6, 1, 2, 3, 1, 2, 3, 4, 5, 1, 2, 3, 4, 5, 1, 2, 3, 1, 2, 3, 4, 5, 1, 1, 3, 1, 2, 3, 4, 5, 6, 1, 2, 3, 1, 2, 3, 4, 5, 6, 1, 2, 3, 4, 1, 1, 2, 1, 2, 3, 4, 5, 1, 2, 3, 4, 1, 2, 3, 4, 1, 2, 3, 1, 2, 3, 4, 5, 6, 1, 2, 3, 4, 1, 2, 3, 4, 1, 2, 3, 1, 2, 3, 4, 5, 6, 1, 2, 3, 4, 5, 6, 1, 2, 3, 1, 2, 3, 4, 1, 2, 3, 4, 5, 6, 1, 2, 3, 1, 2, 3, 4, 1, 2, 3, 4, 5, 1, 2, 3, 4, 5, 1, 1, 2, 3, 1, 2, 3, 1, 2, 3, 4, 1, 1, 2, 1, 1, 1, 1, 2, 3, 4, 5, 6, 1, 2, 3, 1, 2, 3, 1, 2, 3, 1, 2, 3, 1, 2, 3, 4, 5, 6, 1, 2, 1, 2, 3, 4, 5, 6, 1, 2, 3, 4, 5, 6, 1, 1, 2, 3, 4, 5, 1, 2, 3, 1, 2, 3, 1, 2, 3, 4, 2, 1, 2, 3, 4, 1, 2, 3, 4, 5, 6, 7, 1, 1, 1, 2, 3, 4, 5, 6, 1, 2, 3, 1, 2, 3, 4, 5, 6, 1, 2, 3, 1, 1, 2, 3, 1, 2, 3, 1, 2, 3, 4, 5, 6, 1, 2, 3, 4, 1, 2, 3, 4, 5, 6, 1, 2, 3, 4, 5, 6, 1, 2, 3, 4, 1, 2, 3, 4, 5, 6, 1, 1, 2, 3, 1, 2, 3, 4, 5, 6, 1, 2, 3, 4, 5, 6, 1, 2, 3, 4, 5, 6, 1, 2, 3, 4, 1, 2, 3, 4, 5, 6, 1, 1, 2, 3, 1, 2, 3, 4, 5, 6, 1, 2, 3, 1, 2, 3, 4, 1, 2, 3, 4, 5, 6, 1, 2, 3, 4, 5, 6, 1, 2, 3, 4, 5, 1, 2, 3, 4, 5, 6, 1, 2, 3, 1, 2, 3, 4, 5, 6, 1, 1, 2, 3, 4, 1, 2, 3, 4, 1, 2, 3, 1, 2, 3, 1, 2, 3, 4, 1, 2, 3, 1, 2, 3, 1, 2, 3, 1, 2, 3, 1, 2, 3, 1, 2, 3, 4, 1, 2, 1, 2, 3, 5, 1, 2, 3, 4, 5, 6, 1, 2, 3, 4, 5, 6, 1, 2, 3, 1, 2, 3, 4, 5, 6, 1, 2, 3, 4, 5, 6, 1, 2, 3, 1, 1, 3, 1, 2, 3, 4, 5, 6, 1, 2, 3, 4, 1, 2, 3, 4, 1, 2, 3, 4, 5, 6, 1, 1, 1, 2, 3, 4, 5, 6, 1, 1, 2, 1, 1, 2, 3, 4, 5, 6, 1, 2, 3, 4, 1, 1, 2, 3, 4, 5, 6, 1, 2, 3, 4, 5, 1, 2, 3, 4, 5, 1, 2, 3, 4, 5, 6, 7, 1, 2, 3, 1, 2, 3, 1, 2, 3, 4, 5, 1, 2, 3, 1, 2, 3, 4, 1, 2, 3, 4, 1, 2, 3, 4, 5, 1, 2, 3, 4, 5, 6, 1, 2, 3, 4, 5, 1, 2, 3, 4, 5, 6, 1, 1, 2, 3, 4, 1, 2, 3, 4, 5, 6, 1, 2, 3, 4, 1, 2, 3, 4, 5, 6, 1, 2, 3, 1, 2, 3, 1, 2, 3, 4, 5, 6, 1, 2, 3, 1, 2, 3, 4, 5, 6, 1, 2, 3, 1, 2, 3, 1, 1, 2, 3, 1, 2, 3, 1, 2, 3, 1, 2, 3, 4, 5, 6, 1, 2, 3, 4, 5, 6, 1, 3, 1, 1, 1, 2, 3, 4, 5, 6, 1, 2, 1, 3, 1, 1, 2, 3, 4, 5, 6, 1, 2, 3, 4, 5, 1, 2, 3, 4, 1, 2, 3, 4, 5, 6, 1, 2, 3, 4, 5, 1, 2, 3, 4, 5, 1, 2, 3, 1, 2, 3, 4, 5, 6, 1, 2, 3, 1, 2, 3, 1, 2, 3, 1, 2, 3, 4, 5, 6, 1, 2, 3, 4, 5, 6, 1, 2, 3, 4, 5, 1, 2, 3, 1, 2, 3, 4, 5, 1, 2, 3, 4, 5, 6, 1, 2, 3, 4, 1, 1, 1, 3, 1, 2, 3, 4, 5, 1, 1, 2, 3, 4, 5, 1, 2, 3, 1, 2, 3, 1, 2, 3, 1, 2, 3, 4, 5, 6, 1, 2, 3, 4, 5, 6, 1, 2, 3, 4, 5, 6, 7, 1, 1, 1, 3, 1, 2, 3, 4, 5, 6, 1, 1, 2, 3, 1, 3, 1, 2, 3, 4, 5, 6, 1, 2, 3, 4, 5, 6, 1, 1, 2, 3, 4, 5, 1, 2, 3, 4, 5, 6, 1, 2, 3, 1, 2, 3, 1, 2, 3, 4, 5, 1, 2, 1, 1, 2, 3, 4, 5, 1, 2, 3, 1, 1, 2, 3, 4, 5, 1, 3, 1, 2, 3, 4, 5, 6, 1, 2, 3, 1, 2, 3, 4, 5, 6, 1, 2, 3, 4, 5, 6, 1, 1, 2, 3, 4, 5, 6, 1, 2, 3, 4, 5, 1, 2, 3, 1, 2, 3, 4, 1, 2, 3, 1, 2, 3, 1, 2, 3, 4, 5, 1, 3, 1, 1, 2, 3, 4, 5, 1, 2, 3, 4, 1, 2, 3, 4, 1, 2, 3, 4, 5, 1, 2, 1, 1, 2, 3, 1, 2, 3, 1, 2, 3, 4, 5, 6, 1, 2, 3, 4, 5, 1, 2, 3, 4, 5, 1, 2, 3, 4, 5, 6, 7, 1, 1, 2, 3, 4, 5, 6, 1, 2, 3, 1, 1, 2, 1, 2, 3, 4, 5, 1, 2, 3, 4, 1, 1, 2, 3, 4, 5, 1, 1, 2, 3, 4, 5, 6, 1, 2, 3, 4, 5, 6, 1, 2, 3, 4, 5, 1, 2, 3, 4, 5, 6, 1, 2, 3, 4, 5, 6, 7, 1, 2, 3, 4, 5, 6, 1, 2, 3, 4, 1, 2, 3, 4, 5, 6, 1, 2, 1, 2, 3, 4, 5, 1, 2, 3, 1, 2, 1, 2, 3, 4, 5, 1, 2, 3, 1, 2, 3, 4, 5, 1, 2, 3, 1, 2, 3, 4, 1, 2, 3, 4, 5, 6, 1, 2, 3, 1, 1, 2, 3, 1, 2, 3, 1, 1, 2, 3, 4, 5, 6, 1, 2, 3, 4, 1, 2, 3, 4, 5, 6, 7, 1, 2, 1, 1, 2, 3, 1, 2, 3, 4, 1, 2, 3, 1, 2, 3, 4, 5, 6, 1, 2, 3, 4, 1, 2, 1, 2, 3, 4, 5, 6, 1, 2, 3, 1, 1, 2, 3, 4, 5, 6, 1, 2, 1, 2, 3, 4, 5, 6, 1, 2, 3, 4, 1, 1, 2, 3, 4, 1, 2, 3, 4, 5, 1, 2, 3, 4, 1, 2, 3, 4, 1, 3, 1, 2, 3, 4, 5, 6, 1, 2, 1, 2, 3, 1, 1, 1, 2, 3, 4, 5, 1, 2, 3, 1, 2, 3, 1, 2, 3, 4, 5, 6, 1, 2, 3, 4, 5, 6, 1, 1, 1, 2, 3, 1, 2, 3, 1, 1, 3, 1, 1, 2, 3, 4, 5, 6, 1, 2, 3, 1, 1, 2, 3, 4, 5, 1, 2, 3, 4, 1, 2, 3, 4, 5, 1, 2, 3, 5, 1, 2, 3, 4, 5, 1, 2, 3, 4, 1, 3, 1, 2, 3, 4, 1, 1, 1, 2, 3, 1, 2, 3, 4, 1, 2, 3, 1, 2, 3, 1, 2, 3, 4, 5, 6, 1, 2, 3, 4, 5, 6, 1, 1, 1, 2, 3, 1, 3, 1, 2, 3, 4, 5, 6, 1]}, \"topic.order\": [8, 3, 1, 10, 2, 7, 6, 4, 5, 9]};\n",
       "\n",
       "function LDAvis_load_lib(url, callback){\n",
       "  var s = document.createElement('script');\n",
       "  s.src = url;\n",
       "  s.async = true;\n",
       "  s.onreadystatechange = s.onload = callback;\n",
       "  s.onerror = function(){console.warn(\"failed to load library \" + url);};\n",
       "  document.getElementsByTagName(\"head\")[0].appendChild(s);\n",
       "}\n",
       "\n",
       "if(typeof(LDAvis) !== \"undefined\"){\n",
       "   // already loaded: just create the visualization\n",
       "   !function(LDAvis){\n",
       "       new LDAvis(\"#\" + \"ldavis_el1726016106439480727579544029\", ldavis_el1726016106439480727579544029_data);\n",
       "   }(LDAvis);\n",
       "}else if(typeof define === \"function\" && define.amd){\n",
       "   // require.js is available: use it to load d3/LDAvis\n",
       "   require.config({paths: {d3: \"https://cdnjs.cloudflare.com/ajax/libs/d3/3.5.5/d3.min\"}});\n",
       "   require([\"d3\"], function(d3){\n",
       "      window.d3 = d3;\n",
       "      LDAvis_load_lib(\"https://cdn.rawgit.com/bmabey/pyLDAvis/files/ldavis.v1.0.0.js\", function(){\n",
       "        new LDAvis(\"#\" + \"ldavis_el1726016106439480727579544029\", ldavis_el1726016106439480727579544029_data);\n",
       "      });\n",
       "    });\n",
       "}else{\n",
       "    // require.js not available: dynamically load d3 & LDAvis\n",
       "    LDAvis_load_lib(\"https://cdnjs.cloudflare.com/ajax/libs/d3/3.5.5/d3.min.js\", function(){\n",
       "         LDAvis_load_lib(\"https://cdn.rawgit.com/bmabey/pyLDAvis/files/ldavis.v1.0.0.js\", function(){\n",
       "                 new LDAvis(\"#\" + \"ldavis_el1726016106439480727579544029\", ldavis_el1726016106439480727579544029_data);\n",
       "            })\n",
       "         });\n",
       "}\n",
       "</script>"
      ],
      "text/plain": [
       "<IPython.core.display.HTML object>"
      ]
     },
     "execution_count": 47,
     "metadata": {},
     "output_type": "execute_result"
    }
   ],
   "source": [
    "pyLDAvis.display(LDAvis_prepared)"
   ]
  },
  {
   "cell_type": "markdown",
   "metadata": {},
   "source": [
    "# Topic of a given text "
   ]
  },
  {
   "cell_type": "code",
   "execution_count": 48,
   "metadata": {
    "collapsed": true
   },
   "outputs": [],
   "source": [
    "def lda_description(review_text, min_topic_freq=0.05):\n",
    "    \"\"\"\n",
    "    accept the original text of a review and (1) parse it with spaCy,\n",
    "    (2) apply text pre-proccessing steps, (3) create a bag-of-words\n",
    "    representation, (4) create an LDA representation, and\n",
    "    (5) print a sorted list of the top topics in the LDA representation\n",
    "    \"\"\"\n",
    "    \n",
    "    # parse the review text with spaCy\n",
    "    parsed_review = nlp(review_text)\n",
    "    \n",
    "    # lemmatize the text and remove punctuation and whitespace\n",
    "    unigram_review = [token.lemma_ for token in parsed_review\n",
    "                      if not punct_space(token)]\n",
    "    \n",
    "    # apply the first-order and secord-order phrase models\n",
    "    bigram_review = bigram_model[unigram_review]\n",
    "    trigram_review = trigram_model[bigram_review]\n",
    "    \n",
    "    # remove any remaining stopwords\n",
    "    #trigram_review = [term for term in trigram_review\n",
    "    #                  if not term in spacy.en.STOPWORDS]\n",
    "    \n",
    "    # create a bag-of-words representation\n",
    "    review_bow = trigram_dictionary.doc2bow(trigram_review)\n",
    "    \n",
    "    # create an LDA representation\n",
    "    review_lda = lda[review_bow]\n",
    "    \n",
    "    # sort with the most highly related topics first\n",
    "    #review_lda = sorted(review_lda, key=lambda (topic_number, freq): -freq)\n",
    "    \n",
    "    for topic_number, freq in review_lda:\n",
    "        if freq < min_topic_freq:\n",
    "            break\n",
    "            \n",
    "        # print the most highly related topic names and frequencies\n",
    "        print(\"The text belongs to topic (with probability): \")\n",
    "        print('{:25} {}'.format(topic_number,\n",
    "                                round(freq, 3)))"
   ]
  },
  {
   "cell_type": "code",
   "execution_count": null,
   "metadata": {
    "collapsed": true
   },
   "outputs": [],
   "source": [
    "review_txt_filepath = "
   ]
  },
  {
   "cell_type": "code",
   "execution_count": 49,
   "metadata": {
    "collapsed": true
   },
   "outputs": [],
   "source": [
    "def get_sample_review(review_number):\n",
    "    \"\"\"\n",
    "    retrieve a particular review index\n",
    "    from the reviews file and return it\n",
    "    \"\"\"\n",
    "    \n",
    "    return list(it.islice(line_review(review_txt_filepath),\n",
    "                          review_number, review_number+1))[0]"
   ]
  },
  {
   "cell_type": "code",
   "execution_count": 51,
   "metadata": {},
   "outputs": [
    {
     "ename": "IndexError",
     "evalue": "list index out of range",
     "output_type": "error",
     "traceback": [
      "\u001b[1;31m---------------------------------------------------------------------------\u001b[0m",
      "\u001b[1;31mIndexError\u001b[0m                                Traceback (most recent call last)",
      "\u001b[1;32m<ipython-input-51-f1c2bba8ba72>\u001b[0m in \u001b[0;36m<module>\u001b[1;34m()\u001b[0m\n\u001b[1;32m----> 1\u001b[1;33m \u001b[0msample_review\u001b[0m \u001b[1;33m=\u001b[0m \u001b[0mget_sample_review\u001b[0m\u001b[1;33m(\u001b[0m\u001b[1;36m50\u001b[0m\u001b[1;33m)\u001b[0m\u001b[1;33m\u001b[0m\u001b[0m\n\u001b[0m\u001b[0;32m      2\u001b[0m \u001b[0mprint\u001b[0m\u001b[1;33m(\u001b[0m\u001b[0msample_review\u001b[0m\u001b[1;33m)\u001b[0m\u001b[1;33m\u001b[0m\u001b[0m\n",
      "\u001b[1;32m<ipython-input-49-33ae2f098d45>\u001b[0m in \u001b[0;36mget_sample_review\u001b[1;34m(review_number)\u001b[0m\n\u001b[0;32m      6\u001b[0m \u001b[1;33m\u001b[0m\u001b[0m\n\u001b[0;32m      7\u001b[0m     return list(it.islice(line_review(review_txt_filepath),\n\u001b[1;32m----> 8\u001b[1;33m                           review_number, review_number+1))[0]\n\u001b[0m",
      "\u001b[1;31mIndexError\u001b[0m: list index out of range"
     ]
    }
   ],
   "source": [
    "sample_review = get_sample_review(50)\n",
    "print(sample_review)"
   ]
  },
  {
   "cell_type": "code",
   "execution_count": 269,
   "metadata": {},
   "outputs": [
    {
     "name": "stderr",
     "output_type": "stream",
     "text": [
      "C:\\Users\\praveen\\Anaconda3\\envs\\TCS\\lib\\site-packages\\gensim\\models\\phrases.py:316: UserWarning: For a faster implementation, use the gensim.models.phrases.Phraser class\n",
      "  warnings.warn(\"For a faster implementation, use the gensim.models.phrases.Phraser class\")\n"
     ]
    },
    {
     "name": "stdout",
     "output_type": "stream",
     "text": [
      "The text belongs to topic (with probability): \n",
      "                        7 0.955\n"
     ]
    }
   ],
   "source": [
    "lda_description(sample_review)"
   ]
  },
  {
   "cell_type": "code",
   "execution_count": 77,
   "metadata": {
    "collapsed": true
   },
   "outputs": [],
   "source": [
    "from gensim.models import Word2Vec\n",
    "\n",
    "trigram_sentences = LineSentence(bigram_sentences_filepath)\n",
    "word2vec_filepath = 'word2vec_model_all.txt'"
   ]
  },
  {
   "cell_type": "code",
   "execution_count": 90,
   "metadata": {},
   "outputs": [
    {
     "name": "stdout",
     "output_type": "stream",
     "text": [
      "12 training epochs so far.\n",
      "Wall time: 1min 10s\n"
     ]
    }
   ],
   "source": [
    "%%time\n",
    "\n",
    "# this is a bit time consuming - make the if statement True\n",
    "# if you want to train the word2vec model yourself.\n",
    "if 1 == 1:\n",
    "\n",
    "    # initiate the model and perform the first epoch of training\n",
    "    news2vec = Word2Vec(trigram_sentences, size=100, window=10,\n",
    "                        min_count=5, sg=1, workers=1)\n",
    "    \n",
    "    news2vec.save(word2vec_filepath)\n",
    "\n",
    "    # perform another 11 epochs of training\n",
    "    for i in range(1,12):\n",
    "\n",
    "        news2vec.train(trigram_sentences,total_examples=1000,epochs=i)\n",
    "        news2vec.save(word2vec_filepath)\n",
    "        \n",
    "# load the finished model from disk\n",
    "news2vec = Word2Vec.load(word2vec_filepath)\n",
    "news2vec.init_sims()\n",
    "\n",
    "print(u'{} training epochs so far.'.format(news2vec.train_count))"
   ]
  },
  {
   "cell_type": "markdown",
   "metadata": {},
   "source": [
    "# Get related words using word2vec"
   ]
  },
  {
   "cell_type": "code",
   "execution_count": 91,
   "metadata": {
    "collapsed": true
   },
   "outputs": [],
   "source": [
    "def get_related_terms(token, topn=15):\n",
    "    \"\"\"\n",
    "    look up the topn most similar terms to token\n",
    "    and print them as a formatted list\n",
    "    \"\"\"\n",
    "\n",
    "    for word, similarity in news2vec.most_similar(positive=[token], topn=topn):\n",
    "\n",
    "        print(u'{:20} {}'.format(word, round(similarity, 3)))"
   ]
  },
  {
   "cell_type": "code",
   "execution_count": 93,
   "metadata": {},
   "outputs": [
    {
     "name": "stdout",
     "output_type": "stream",
     "text": [
      "scientific           0.424\n",
      "augmentation         0.423\n",
      "finance              0.397\n",
      "buzzword             0.397\n",
      "tech_giant           0.374\n",
      "simulation           0.364\n",
      "fuel                 0.363\n",
      "machine_learn        0.358\n",
      "tell                 0.357\n",
      "bot                  0.356\n",
      "profession           0.353\n",
      "occur                0.351\n",
      "tech                 0.347\n",
      "cognitive            0.345\n",
      "register             0.345\n"
     ]
    }
   ],
   "source": [
    "get_related_terms(u'artificial_intelligence')"
   ]
  },
  {
   "cell_type": "code",
   "execution_count": 94,
   "metadata": {},
   "outputs": [
    {
     "name": "stdout",
     "output_type": "stream",
     "text": [
      "blockchain_technology 0.73\n",
      "information_builder  0.48\n",
      "bitcoin              0.458\n",
      "tourism              0.457\n",
      "cryptocurrency       0.453\n",
      "botto                0.444\n",
      "progress             0.442\n",
      "infosy               0.434\n",
      "iway                 0.432\n",
      "organisation         0.429\n",
      "ledger               0.418\n",
      "dhaheri              0.417\n",
      "forum                0.407\n",
      "dubai                0.406\n",
      "supply_chain         0.384\n"
     ]
    }
   ],
   "source": [
    "get_related_terms(u'blockchain')"
   ]
  },
  {
   "cell_type": "code",
   "execution_count": 95,
   "metadata": {},
   "outputs": [
    {
     "name": "stdout",
     "output_type": "stream",
     "text": [
      "service              0.53\n",
      "enterprise           0.528\n",
      "platform             0.525\n",
      "acrow                0.496\n",
      "premise              0.476\n",
      "customer             0.473\n",
      "integration          0.466\n",
      "integrate            0.466\n",
      "fully                0.463\n",
      "ease                 0.461\n",
      "mendix               0.46\n",
      "microsoft_azure      0.459\n",
      "saa                  0.445\n",
      "hana                 0.443\n",
      "pega                 0.442\n"
     ]
    }
   ],
   "source": [
    "get_related_terms(u'cloud')"
   ]
  },
  {
   "cell_type": "code",
   "execution_count": 96,
   "metadata": {},
   "outputs": [
    {
     "name": "stdout",
     "output_type": "stream",
     "text": [
      "triangle             0.585\n",
      "kubernete            0.481\n",
      "bigquery             0.472\n",
      "asic                 0.461\n",
      "gpus                 0.454\n",
      "atscale              0.423\n",
      "dream                0.422\n",
      "custom               0.413\n",
      "silicon              0.412\n",
      "exactly              0.411\n",
      "division             0.408\n",
      "comparison           0.4\n",
      "serverless           0.398\n",
      "layout               0.392\n",
      "alliance             0.391\n"
     ]
    }
   ],
   "source": [
    "get_related_terms(u'google')"
   ]
  },
  {
   "cell_type": "code",
   "execution_count": 97,
   "metadata": {},
   "outputs": [
    {
     "name": "stdout",
     "output_type": "stream",
     "text": [
      "azure                0.628\n",
      "micron               0.531\n",
      "linux                0.524\n",
      "microsoft_azure      0.439\n",
      "hannover             0.424\n",
      "enterprise_explorer  0.423\n",
      "traveler             0.422\n",
      "appian               0.41\n",
      "foundation           0.409\n",
      "visio                0.405\n",
      "diagram              0.404\n",
      "bpmn                 0.4\n",
      "hyper                0.384\n",
      "taiwan               0.382\n",
      "tech_giant           0.382\n"
     ]
    }
   ],
   "source": [
    "get_related_terms(u'microsoft') "
   ]
  },
  {
   "cell_type": "code",
   "execution_count": 98,
   "metadata": {},
   "outputs": [
    {
     "name": "stdout",
     "output_type": "stream",
     "text": [
      "telit                0.622\n",
      "devicewise           0.618\n",
      "chipmaker            0.497\n",
      "alibaba              0.446\n",
      "brian                0.438\n",
      "jointly              0.435\n",
      "processor            0.43\n",
      "joint                0.427\n",
      "doug                 0.416\n",
      "gateway              0.412\n",
      "architecture         0.395\n",
      "breakthrough         0.392\n",
      "internet_thing       0.384\n",
      "kubernete            0.38\n",
      "heat                 0.372\n"
     ]
    }
   ],
   "source": [
    "get_related_terms(u'intel')"
   ]
  },
  {
   "cell_type": "code",
   "execution_count": 99,
   "metadata": {},
   "outputs": [
    {
     "name": "stdout",
     "output_type": "stream",
     "text": [
      "self_drive           0.747\n",
      "tesla                0.493\n",
      "connectivity         0.447\n",
      "automobile           0.423\n",
      "fly                  0.42\n",
      "equip                0.415\n",
      "silicon_valley       0.411\n",
      "telematic            0.411\n",
      "appear               0.397\n",
      "street               0.395\n",
      "neurala              0.391\n",
      "cloudflare           0.388\n",
      "siri                 0.385\n",
      "smart                0.383\n",
      "autonomous           0.382\n"
     ]
    }
   ],
   "source": [
    "get_related_terms(u'car')"
   ]
  },
  {
   "cell_type": "code",
   "execution_count": 100,
   "metadata": {},
   "outputs": [
    {
     "name": "stdout",
     "output_type": "stream",
     "text": [
      "mobilefirst          0.494\n",
      "garage               0.487\n",
      "android              0.469\n",
      "apple                0.429\n",
      "iphone               0.418\n",
      "fintech              0.416\n",
      "unificationengine    0.415\n",
      "developer            0.414\n",
      "iqlect               0.41\n",
      "alike                0.394\n",
      "proprietary          0.391\n",
      "device_farm          0.389\n",
      "progressive          0.388\n",
      "cio                  0.382\n",
      "pace                 0.376\n"
     ]
    }
   ],
   "source": [
    "get_related_terms(u'app')"
   ]
  },
  {
   "cell_type": "code",
   "execution_count": 104,
   "metadata": {},
   "outputs": [
    {
     "name": "stdout",
     "output_type": "stream",
     "text": [
      "watson_consult       0.487\n",
      "opportunity          0.466\n",
      "political            0.461\n",
      "help_client          0.453\n",
      "asian                0.431\n",
      "pervasive            0.406\n",
      "diverse              0.4\n",
      "various              0.396\n",
      "growth_opportunity   0.394\n",
      "barrier              0.394\n",
      "health_care          0.393\n",
      "consult              0.388\n",
      "currency             0.388\n",
      "internet             0.387\n",
      "accenture_health     0.387\n"
     ]
    }
   ],
   "source": [
    "get_related_terms(u'digitization')"
   ]
  },
  {
   "cell_type": "code",
   "execution_count": 105,
   "metadata": {},
   "outputs": [
    {
     "name": "stdout",
     "output_type": "stream",
     "text": [
      "snapchat             0.622\n",
      "youtube              0.468\n",
      "story                0.464\n",
      "button               0.453\n",
      "bolster              0.437\n",
      "social_medium        0.432\n",
      "cool                 0.429\n",
      "whatsapp             0.401\n",
      "play                 0.397\n",
      "active               0.395\n",
      "talent               0.39\n",
      "exceed               0.389\n",
      "twitter              0.38\n",
      "netflix              0.376\n",
      "prospect             0.375\n"
     ]
    }
   ],
   "source": [
    "get_related_terms(u'facebook')"
   ]
  },
  {
   "cell_type": "code",
   "execution_count": null,
   "metadata": {
    "collapsed": true
   },
   "outputs": [],
   "source": []
  }
 ],
 "metadata": {
  "kernelspec": {
   "display_name": "Python 3",
   "language": "python",
   "name": "python3"
  },
  "language_info": {
   "codemirror_mode": {
    "name": "ipython",
    "version": 3
   },
   "file_extension": ".py",
   "mimetype": "text/x-python",
   "name": "python",
   "nbconvert_exporter": "python",
   "pygments_lexer": "ipython3",
   "version": "3.5.4"
  }
 },
 "nbformat": 4,
 "nbformat_minor": 2
}
