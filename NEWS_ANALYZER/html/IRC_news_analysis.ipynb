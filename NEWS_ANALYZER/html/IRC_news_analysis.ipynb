{
 "cells": [
  {
   "cell_type": "markdown",
   "metadata": {},
   "source": [
    "# Objective : Identify topics or tags/labels from news articles and map to prospective sales vertical in a prescriptive way."
   ]
  },
  {
   "cell_type": "markdown",
   "metadata": {},
   "source": [
    "Author : \n",
    "Praveen Vijayan ,\n",
    "TCS A&I - Pune"
   ]
  },
  {
   "cell_type": "raw",
   "metadata": {},
   "source": [
    "# Contents\n",
    "\n",
    "01 - Entity identification\n",
    "02 - part_of_speech\n",
    "03 - Bigram / Trigram\n",
    "04 - Topic model\n",
    "05 - Topic of a given text\n",
    "06 - Get related words using word2vec"
   ]
  },
  {
   "cell_type": "markdown",
   "metadata": {},
   "source": [
    "# Importing libraries"
   ]
  },
  {
   "cell_type": "code",
   "execution_count": 1,
   "metadata": {},
   "outputs": [
    {
     "name": "stderr",
     "output_type": "stream",
     "text": [
      "C:\\Users\\praveen\\Anaconda3\\envs\\TCS\\lib\\site-packages\\gensim\\utils.py:865: UserWarning: detected Windows; aliasing chunkize to chunkize_serial\n",
      "  warnings.warn(\"detected Windows; aliasing chunkize to chunkize_serial\")\n",
      "Using TensorFlow backend.\n"
     ]
    }
   ],
   "source": [
    "import csv\n",
    "import re\n",
    "import codecs\n",
    "import os\n",
    "import spacy\n",
    "from __future__ import unicode_literals\n",
    "import pandas as pd\n",
    "import itertools as it\n",
    "from gensim.models import Phrases\n",
    "from gensim.models.word2vec import LineSentence\n"
   ]
  },
  {
   "cell_type": "code",
   "execution_count": 3,
   "metadata": {
    "collapsed": true
   },
   "outputs": [],
   "source": [
    "from __future__ import print_function\n",
    "import numpy as np\n",
    "import sys\n",
    "from time import time\n",
    "import matplotlib.pyplot as plt\n",
    "from sklearn.feature_extraction.text import TfidfVectorizer\n",
    "from sklearn.pipeline import Pipeline\n",
    "from sklearn.linear_model import SGDClassifier\n",
    "from sklearn.naive_bayes import BernoulliNB, MultinomialNB\n",
    "import string\n",
    "from sklearn.pipeline import make_pipeline\n",
    "from sklearn.preprocessing import Normalizer\n",
    "from sklearn.decomposition import TruncatedSVD"
   ]
  },
  {
   "cell_type": "code",
   "execution_count": 4,
   "metadata": {
    "collapsed": true
   },
   "outputs": [],
   "source": [
    "nlp = spacy.load('en_core_web_sm')"
   ]
  },
  {
   "cell_type": "code",
   "execution_count": 5,
   "metadata": {
    "collapsed": true
   },
   "outputs": [],
   "source": [
    "# read CSV file & load into list\n",
    "with open(\"IRC_News_data.csv\",'r') as my_file:  #,encoding=\"utf8\"\n",
    "    reader = csv.reader(my_file, delimiter=',')\n",
    "    news_data_train = list(reader)"
   ]
  },
  {
   "cell_type": "markdown",
   "metadata": {},
   "source": [
    "# Exploring the data structure"
   ]
  },
  {
   "cell_type": "code",
   "execution_count": 6,
   "metadata": {},
   "outputs": [
    {
     "name": "stdout",
     "output_type": "stream",
     "text": [
      "['1', 'Pegasystems Earns Best in Biz Award for Second Consecutive Year', 'CAMBRIDGE, Mass., Nov. 30, 2017 (GLOBE NEWSWIRE) -- Pegasystems Inc. (NASDAQ:PEGA), the software company empowering customer engagement at the world’s leading enterprises, today announced that Pega® Intelligent Virtual Assistant has been named a Bronze winner for Best New Product of the Year in the Enterprise category of the seventh annual Best in Biz Awards. This marks the second consecutive year that a Pega solution has won an award in this category.\\n\\nThe award recognizes Pega Intelligent Virtual Assistant’s use of artificial intelligence (AI) to evolve bots from simple chat and data aggregation novelties into dynamic customer engagement tools. This AI-powered bot provides customers and employees with smart digital assistants from almost any conversational interface – from SMS and email to Facebook, Alexa, Slack, and beyond. Pega Intelligent Virtual Assistant – part of the Pega® Platform – turns these channels into sophisticated digital agents that make personalized customer service possible using natural language in voice or text, making bots more useful and gratifying for customers and employees to use.\\n\\nThe Best in Biz Awards is an independent business awards program judged by a panel of 50 press and industry analyst members in North America. The seventh annual program received more than 650 entries from public and private companies of varying sizes, industries, and geographies.']\n"
     ]
    }
   ],
   "source": [
    "print(news_data_train[3])"
   ]
  },
  {
   "cell_type": "code",
   "execution_count": 7,
   "metadata": {},
   "outputs": [
    {
     "name": "stdout",
     "output_type": "stream",
     "text": [
      "class label : 1\n"
     ]
    }
   ],
   "source": [
    "print(\"class label : \" + news_data_train[3][0])"
   ]
  },
  {
   "cell_type": "code",
   "execution_count": 8,
   "metadata": {},
   "outputs": [
    {
     "name": "stdout",
     "output_type": "stream",
     "text": [
      "Heading : Pegasystems Earns Best in Biz Award for Second Consecutive Year\n"
     ]
    }
   ],
   "source": [
    "print(\"Heading : \" + news_data_train[3][1])"
   ]
  },
  {
   "cell_type": "code",
   "execution_count": 9,
   "metadata": {},
   "outputs": [
    {
     "name": "stdout",
     "output_type": "stream",
     "text": [
      "Content : CAMBRIDGE, Mass., Nov. 30, 2017 (GLOBE NEWSWIRE) -- Pegasystems Inc. (NASDAQ:PEGA), the software company empowering customer engagement at the world’s leading enterprises, today announced that Pega® Intelligent Virtual Assistant has been named a Bronze winner for Best New Product of the Year in the Enterprise category of the seventh annual Best in Biz Awards. This marks the second consecutive year that a Pega solution has won an award in this category.\n",
      "\n",
      "The award recognizes Pega Intelligent Virtual Assistant’s use of artificial intelligence (AI) to evolve bots from simple chat and data aggregation novelties into dynamic customer engagement tools. This AI-powered bot provides customers and employees with smart digital assistants from almost any conversational interface – from SMS and email to Facebook, Alexa, Slack, and beyond. Pega Intelligent Virtual Assistant – part of the Pega® Platform – turns these channels into sophisticated digital agents that make personalized customer service possible using natural language in voice or text, making bots more useful and gratifying for customers and employees to use.\n",
      "\n",
      "The Best in Biz Awards is an independent business awards program judged by a panel of 50 press and industry analyst members in North America. The seventh annual program received more than 650 entries from public and private companies of varying sizes, industries, and geographies.\n"
     ]
    }
   ],
   "source": [
    "print(\"Content : \" +news_data_train[3][2])"
   ]
  },
  {
   "cell_type": "code",
   "execution_count": 10,
   "metadata": {
    "collapsed": true
   },
   "outputs": [],
   "source": [
    "stopwords_file = open(\"stopwords.txt\", \"r\" , encoding=\"utf8\") \n",
    "stopwords = stopwords_file.read()"
   ]
  },
  {
   "cell_type": "code",
   "execution_count": 11,
   "metadata": {
    "collapsed": true
   },
   "outputs": [],
   "source": [
    "STOPWORD_customized = {'will','new','york','will' ,'quot','year ','company ','week', 'one','two','three','reuters','reuters' , 'monday','tuesday','wednesday','thursday','friday','saturday','sunday','yesterday'}"
   ]
  },
  {
   "cell_type": "code",
   "execution_count": 12,
   "metadata": {
    "collapsed": true
   },
   "outputs": [],
   "source": [
    "#label = [] # class\n",
    "#text_doc = [] # news text \n",
    "text_all = \"\"\n",
    "c =0 # to control count of \n",
    "for i in news_data_train:\n",
    "    c= c+1\n",
    "    if c < 3000 :\n",
    "        #label.append(i[0])            \n",
    "        merged = i[1]+\" : \"+i[2] # combining header and content \n",
    "        lowers = merged.lower()   # to lower      \n",
    "        no_punctuation = re.sub(r'[^\\w\\s]',' ', lowers)    # remove punctuation\n",
    "        temp = ' '.join(word for word in no_punctuation.split() if len(word)>3) # remove samll words\n",
    "        filtered = ' '.join(word for word in temp.split() if word not in stopwords.split()) # remove stopwords\n",
    "        filtered = ' '.join(word for word in filtered.split() if word not in STOPWORD_customized) # remove stopwords\n",
    "        temp = filtered\n",
    "        #text_doc.append(temp)\n",
    "        text_all = text_all + temp + \". \" "
   ]
  },
  {
   "cell_type": "code",
   "execution_count": 13,
   "metadata": {
    "collapsed": true
   },
   "outputs": [],
   "source": [
    "del news_data_train"
   ]
  },
  {
   "cell_type": "code",
   "execution_count": 14,
   "metadata": {},
   "outputs": [
    {
     "name": "stdout",
     "output_type": "stream",
     "text": [
      "Wall time: 27.8 s\n"
     ]
    }
   ],
   "source": [
    "%%time\n",
    "parsed_review = nlp(text_all)"
   ]
  },
  {
   "cell_type": "code",
   "execution_count": 16,
   "metadata": {},
   "outputs": [],
   "source": [
    "#parsed_review"
   ]
  },
  {
   "cell_type": "code",
   "execution_count": 16,
   "metadata": {
    "collapsed": true
   },
   "outputs": [],
   "source": [
    "del text_all"
   ]
  },
  {
   "cell_type": "markdown",
   "metadata": {},
   "source": [
    "# Entity identification "
   ]
  },
  {
   "cell_type": "code",
   "execution_count": 72,
   "metadata": {
    "collapsed": true
   },
   "outputs": [],
   "source": [
    "Entity_list = \"\"\n",
    "for num, entity in enumerate(parsed_review.ents):\n",
    "    #print('Entity {}:'.format(num + 1), entity, '-', entity.label_)\n",
    "    #print('')\n",
    "    if entity.label_ == 'GPE' or entity.label_ == 'NORP' or entity.label_ == 'CARDINAL' :\n",
    "        Entity_list = str(Entity_list) + str(entity) + \" : \" + entity.label_ + \"; \""
   ]
  },
  {
   "cell_type": "code",
   "execution_count": 73,
   "metadata": {
    "collapsed": true
   },
   "outputs": [],
   "source": [
    "#review_txt_filepath = \"IRC_News_data.csv\""
   ]
  },
  {
   "cell_type": "code",
   "execution_count": 74,
   "metadata": {},
   "outputs": [
    {
     "data": {
      "text/plain": [
       "['1000 : CARDINAL',\n",
       " ' 1000 : CARDINAL',\n",
       " ' malaysia : GPE',\n",
       " ' american : NORP',\n",
       " ' american : NORP',\n",
       " ' hundreds : CARDINAL',\n",
       " ' half : CARDINAL',\n",
       " ' approximately million : CARDINAL',\n",
       " ' f2018 : CARDINAL',\n",
       " ' 1000 : CARDINAL',\n",
       " ' million : CARDINAL',\n",
       " ' 2018prophix : CARDINAL',\n",
       " ' 2019 : CARDINAL',\n",
       " ' bi360 : CARDINAL',\n",
       " ' bi360 : CARDINAL',\n",
       " ' bi360 : CARDINAL',\n",
       " ' 3rdparty : CARDINAL',\n",
       " ' eur4 million : CARDINAL',\n",
       " ' ucrjaher4rhnwlpnzo5dastg : GPE',\n",
       " ' million : CARDINAL',\n",
       " ' 12000 : CARDINAL',\n",
       " ' 12000 : CARDINAL',\n",
       " ' 12000 : CARDINAL',\n",
       " ' 12000 : CARDINAL',\n",
       " ' half : CARDINAL',\n",
       " ' 2022 : CARDINAL',\n",
       " ' 2025 : CARDINAL',\n",
       " ' 359mhz : CARDINAL',\n",
       " ' half : CARDINAL',\n",
       " ' half : CARDINAL',\n",
       " ' d7a153c6 : GPE',\n",
       " ' dozens : CARDINAL',\n",
       " ' 1000 : CARDINAL',\n",
       " ' millions : CARDINAL',\n",
       " ' c3000 : GPE',\n",
       " ' seven : CARDINAL',\n",
       " ' half : CARDINAL',\n",
       " ' half : CARDINAL',\n",
       " ' billion : CARDINAL',\n",
       " ' million : CARDINAL',\n",
       " ' 2018 : CARDINAL',\n",
       " ' india : GPE',\n",
       " ' hundreds : CARDINAL',\n",
       " ' million : CARDINAL',\n",
       " ' 2017 : CARDINAL',\n",
       " ' india : GPE',\n",
       " ' india : GPE',\n",
       " ' million : CARDINAL',\n",
       " ' chinese : NORP',\n",
       " ' china : GPE',\n",
       " ' millions : CARDINAL',\n",
       " ' 1000 : CARDINAL',\n",
       " ' india : GPE',\n",
       " ' fax2mail : CARDINAL',\n",
       " ' 4hana : CARDINAL',\n",
       " ' india : GPE',\n",
       " ' 507685 : CARDINAL',\n",
       " ' japan : GPE',\n",
       " ' billion : CARDINAL',\n",
       " ' japanese korean : NORP',\n",
       " ' chinese : NORP',\n",
       " ' 2016 : CARDINAL',\n",
       " ' thousands : CARDINAL',\n",
       " ' thousands : CARDINAL',\n",
       " ' quarter : CARDINAL',\n",
       " ' billions : CARDINAL',\n",
       " ' thousands millions : CARDINAL',\n",
       " ' hundreds thousands : CARDINAL',\n",
       " ' million : CARDINAL',\n",
       " ' 2015 : CARDINAL',\n",
       " ' billion : CARDINAL',\n",
       " ' israeli : NORP',\n",
       " ' 2015 : CARDINAL',\n",
       " ' thousands : CARDINAL',\n",
       " ' 1000 : CARDINAL',\n",
       " ' 2016 : CARDINAL',\n",
       " ' billions : CARDINAL',\n",
       " ' india : GPE',\n",
       " ' seven : CARDINAL',\n",
       " ' 55b3c8922254 : CARDINAL',\n",
       " ' india : GPE',\n",
       " ' india : GPE',\n",
       " ' russian : NORP',\n",
       " ' 2008 : CARDINAL',\n",
       " ' india : GPE',\n",
       " ' 2025 : CARDINAL',\n",
       " ' thirteen : CARDINAL',\n",
       " ' eighteen : CARDINAL',\n",
       " ' india : GPE',\n",
       " ' 7pressrelease : CARDINAL',\n",
       " ' million : CARDINAL',\n",
       " ' 3xlogic : CARDINAL',\n",
       " ' 3xlogic : CARDINAL',\n",
       " ' 3xlogic : CARDINAL',\n",
       " ' hundreds : CARDINAL',\n",
       " ' quarter : CARDINAL',\n",
       " ' million : CARDINAL',\n",
       " ' million million : CARDINAL',\n",
       " ' trillions : CARDINAL',\n",
       " ' millions : CARDINAL',\n",
       " ' india : GPE',\n",
       " ' india : GPE',\n",
       " ' quarter : CARDINAL',\n",
       " ' 1000 : CARDINAL',\n",
       " ' billion : CARDINAL',\n",
       " ' billion : CARDINAL',\n",
       " ' million : CARDINAL',\n",
       " ' zero : CARDINAL',\n",
       " ' billions : CARDINAL',\n",
       " ' fifty : CARDINAL',\n",
       " ' european : NORP',\n",
       " ' million : CARDINAL',\n",
       " ' 1200 : CARDINAL',\n",
       " ' half : CARDINAL',\n",
       " ' 2022 : CARDINAL',\n",
       " ' 2016 2022 : CARDINAL',\n",
       " ' india : GPE',\n",
       " ' fifty billion : CARDINAL',\n",
       " ' half : CARDINAL',\n",
       " ' million : CARDINAL',\n",
       " ' 2030 billion : CARDINAL',\n",
       " ' approximately billion : CARDINAL',\n",
       " ' billions : CARDINAL',\n",
       " ' 600e 410e : CARDINAL',\n",
       " ' 600e : CARDINAL',\n",
       " ' 5ghz : CARDINAL',\n",
       " ' 96boards : CARDINAL',\n",
       " ' billion : CARDINAL',\n",
       " ' india : GPE',\n",
       " ' billions : CARDINAL',\n",
       " ' billion : CARDINAL',\n",
       " ' american : NORP',\n",
       " ' fifty billion : CARDINAL',\n",
       " ' india : GPE',\n",
       " ' 2021 : CARDINAL',\n",
       " ' 2022 : CARDINAL',\n",
       " ' india : GPE',\n",
       " ' india : GPE',\n",
       " ' india : GPE',\n",
       " ' india : GPE',\n",
       " ' india : GPE',\n",
       " ' 2050 billion : CARDINAL',\n",
       " ' thirds : CARDINAL',\n",
       " ' fiscal 3q16 : CARDINAL',\n",
       " ' million : CARDINAL',\n",
       " ' india : GPE',\n",
       " ' millions : CARDINAL',\n",
       " ' japan : GPE',\n",
       " ' india : GPE',\n",
       " ' india : GPE',\n",
       " ' blockchain : CARDINAL',\n",
       " ' blockchain : CARDINAL',\n",
       " ' billion : CARDINAL',\n",
       " ' india : GPE',\n",
       " ' india : GPE',\n",
       " ' india : GPE',\n",
       " ' russian : NORP',\n",
       " ' india : GPE',\n",
       " ' india : GPE',\n",
       " ' quarter : CARDINAL',\n",
       " ' chinese : NORP',\n",
       " ' million : CARDINAL',\n",
       " ' china : GPE',\n",
       " ' china : GPE',\n",
       " ' billion : CARDINAL',\n",
       " ' india : GPE',\n",
       " ' billion : CARDINAL',\n",
       " ' 01112016 : CARDINAL',\n",
       " ' billion : CARDINAL',\n",
       " ' japanese : NORP',\n",
       " ' tokyo : GPE',\n",
       " ' japan : GPE',\n",
       " ' india : GPE',\n",
       " ' estimated million : CARDINAL',\n",
       " ' 2022 : CARDINAL',\n",
       " ' half : CARDINAL',\n",
       " ' half : CARDINAL',\n",
       " ' half : CARDINAL',\n",
       " ' seven : CARDINAL',\n",
       " ' india : GPE',\n",
       " ' china : GPE',\n",
       " ' millions : CARDINAL',\n",
       " ' billion : CARDINAL',\n",
       " ' 100b : CARDINAL',\n",
       " ' india : GPE',\n",
       " ' millions : CARDINAL',\n",
       " ' 2016 : CARDINAL',\n",
       " ' nearly billion : CARDINAL',\n",
       " ' russian : NORP',\n",
       " ' half : CARDINAL',\n",
       " ' india : GPE',\n",
       " ' india : GPE',\n",
       " ' european : NORP',\n",
       " ' half : CARDINAL',\n",
       " ' million million : CARDINAL',\n",
       " ' india : GPE',\n",
       " ' chinese : NORP',\n",
       " ' india : GPE',\n",
       " ' india : GPE',\n",
       " ' india : GPE',\n",
       " ' half : CARDINAL',\n",
       " ' japan : GPE',\n",
       " ' japan : GPE',\n",
       " ' half : CARDINAL',\n",
       " ' chartier : CARDINAL',\n",
       " ' 64kbps : CARDINAL',\n",
       " ' approximately million : CARDINAL',\n",
       " ' 2016 million : CARDINAL',\n",
       " ' subjects_materials : NORP',\n",
       " ' millions : CARDINAL',\n",
       " ' hundreds : CARDINAL',\n",
       " ' 6000 : CARDINAL',\n",
       " ' half : CARDINAL',\n",
       " ' 73743 : CARDINAL',\n",
       " ' million : CARDINAL',\n",
       " ' million : CARDINAL',\n",
       " ' millions : CARDINAL',\n",
       " ' 2016 : CARDINAL',\n",
       " ' hundreds thousands : CARDINAL',\n",
       " ' tens billions : CARDINAL',\n",
       " ' chicago : GPE',\n",
       " ' anticipates million : CARDINAL',\n",
       " ' 2022 : CARDINAL',\n",
       " ' 2022 : CARDINAL',\n",
       " ' seven : CARDINAL',\n",
       " ' millions : CARDINAL',\n",
       " ' china : GPE',\n",
       " ' billion : CARDINAL',\n",
       " ' london : GPE',\n",
       " ' dozens : CARDINAL',\n",
       " ' 1200 : CARDINAL',\n",
       " ' high million : CARDINAL',\n",
       " ' billion : CARDINAL',\n",
       " ' 2016 : CARDINAL',\n",
       " ' 1000 : CARDINAL',\n",
       " ' million : CARDINAL',\n",
       " ' billion : CARDINAL',\n",
       " ' hundreds millions : CARDINAL',\n",
       " ' billions : CARDINAL',\n",
       " ' million : CARDINAL',\n",
       " ' millions : CARDINAL',\n",
       " ' million : CARDINAL',\n",
       " ' rt_shephard : GPE',\n",
       " ' dozen : CARDINAL',\n",
       " ' tens thousands : CARDINAL',\n",
       " ' china : GPE',\n",
       " ' china : GPE',\n",
       " ' drone half : CARDINAL',\n",
       " ' million : CARDINAL',\n",
       " ' half : CARDINAL',\n",
       " ' chinese : NORP',\n",
       " ' china : GPE',\n",
       " ' miles : CARDINAL',\n",
       " ' chinese : NORP',\n",
       " ' 2023 : CARDINAL',\n",
       " ' japanese : NORP',\n",
       " ' million : CARDINAL',\n",
       " ' thousand : CARDINAL',\n",
       " ' million : CARDINAL',\n",
       " ' japanese : NORP',\n",
       " ' chinese : NORP',\n",
       " ' chinese : NORP',\n",
       " ' quarter : CARDINAL',\n",
       " ' 28usd : CARDINAL',\n",
       " ' million : CARDINAL',\n",
       " ' million : CARDINAL',\n",
       " ' thirds : CARDINAL',\n",
       " ' thirds : CARDINAL',\n",
       " ' million : CARDINAL',\n",
       " ' russian : NORP',\n",
       " ' billion : CARDINAL',\n",
       " ' approximately million : CARDINAL',\n",
       " ' chinese : NORP',\n",
       " ' dozen : CARDINAL',\n",
       " ' dozen : CARDINAL',\n",
       " ' tens millions : CARDINAL',\n",
       " ' seven : CARDINAL',\n",
       " ' million : CARDINAL',\n",
       " ' million : CARDINAL',\n",
       " ' 2023 : CARDINAL',\n",
       " ' million : CARDINAL',\n",
       " ' 1qbit : CARDINAL',\n",
       " ' 1qbit : CARDINAL',\n",
       " ' 1qbit million : CARDINAL',\n",
       " ' 1qbit : CARDINAL',\n",
       " ' 1qbit : CARDINAL',\n",
       " ' 1qbit : CARDINAL',\n",
       " ' 2017 : CARDINAL',\n",
       " ' zero : CARDINAL',\n",
       " ' india : GPE',\n",
       " ' china : GPE',\n",
       " ' chinese : NORP',\n",
       " ' zeus : CARDINAL',\n",
       " ' republicans : NORP',\n",
       " ' thousands : CARDINAL',\n",
       " ' eighteen : CARDINAL',\n",
       " ' eighteen : CARDINAL',\n",
       " ' dozens : CARDINAL',\n",
       " ' 2022 : CARDINAL',\n",
       " ' 2017 : CARDINAL',\n",
       " ' 2022 : CARDINAL',\n",
       " ' americans : NORP',\n",
       " ' hundreds : CARDINAL',\n",
       " ' 2017 billion : CARDINAL',\n",
       " ' dozen : CARDINAL',\n",
       " ' 16 : CARDINAL',\n",
       " ' quarter : CARDINAL',\n",
       " ' bl460c : CARDINAL',\n",
       " ' ml110 : GPE',\n",
       " ' year million : CARDINAL',\n",
       " ' 1000 : CARDINAL',\n",
       " ' india : GPE',\n",
       " ' india : GPE',\n",
       " ' india : GPE',\n",
       " ' billion : CARDINAL',\n",
       " ' million : CARDINAL',\n",
       " ' india : GPE',\n",
       " ' india : GPE',\n",
       " ' india : GPE',\n",
       " ' india : GPE',\n",
       " ' india : GPE',\n",
       " ' india : GPE',\n",
       " ' india : GPE',\n",
       " ' nearly million : CARDINAL',\n",
       " ' million : CARDINAL',\n",
       " ' billion : CARDINAL',\n",
       " ' 2017 : CARDINAL',\n",
       " ' thousands : CARDINAL',\n",
       " ' million : CARDINAL',\n",
       " ' million : CARDINAL',\n",
       " ' quarter : CARDINAL',\n",
       " ' india : GPE',\n",
       " ' seven : CARDINAL',\n",
       " ' india : GPE',\n",
       " ' india : GPE',\n",
       " ' india : GPE',\n",
       " ' india : GPE',\n",
       " ' india : GPE',\n",
       " ' india : GPE',\n",
       " ' india : GPE',\n",
       " ' india : GPE',\n",
       " ' india : GPE',\n",
       " ' vietnam : GPE',\n",
       " ' india : GPE',\n",
       " ' india : GPE',\n",
       " ' india : GPE',\n",
       " ' billion : CARDINAL',\n",
       " ' japanese : NORP',\n",
       " ' china : GPE',\n",
       " ' indian : NORP',\n",
       " ' billion : CARDINAL',\n",
       " ' million : CARDINAL',\n",
       " ' chinese : NORP',\n",
       " ' india : GPE',\n",
       " ' million : CARDINAL',\n",
       " ' million : CARDINAL',\n",
       " ' india : GPE',\n",
       " ' india : GPE',\n",
       " ' million : CARDINAL',\n",
       " ' million : CARDINAL',\n",
       " ' india : GPE',\n",
       " ' british : NORP',\n",
       " ' british : NORP',\n",
       " ' million : CARDINAL',\n",
       " ' 2022 : CARDINAL',\n",
       " ' million : CARDINAL',\n",
       " ' quarter : CARDINAL',\n",
       " ' india : GPE',\n",
       " ' india : GPE',\n",
       " ' india : GPE',\n",
       " ' india : GPE',\n",
       " ' india : GPE',\n",
       " ' india : GPE',\n",
       " ' india : GPE',\n",
       " ' seven : CARDINAL',\n",
       " ' india : GPE',\n",
       " ' india : GPE',\n",
       " ' 16 : CARDINAL',\n",
       " ' 128 : CARDINAL',\n",
       " ' india : GPE',\n",
       " ' india : GPE',\n",
       " ' india : GPE',\n",
       " ' london : GPE',\n",
       " ' london : GPE',\n",
       " ' london : GPE',\n",
       " ' 3500 : CARDINAL',\n",
       " ' thousands : CARDINAL',\n",
       " ' india : GPE',\n",
       " ' india : GPE',\n",
       " ' india : GPE',\n",
       " ' maas360 : CARDINAL',\n",
       " ' japan : GPE',\n",
       " ' india : GPE',\n",
       " ' india : GPE',\n",
       " ' india : GPE',\n",
       " ' india : GPE',\n",
       " ' india : GPE',\n",
       " ' billion : CARDINAL',\n",
       " ' india : GPE',\n",
       " ' millions : CARDINAL',\n",
       " ' www4 : CARDINAL',\n",
       " ' 2qts7r : CARDINAL',\n",
       " ' india : GPE',\n",
       " ' india : GPE',\n",
       " ' india : GPE',\n",
       " ' million : CARDINAL',\n",
       " ' canadian : NORP',\n",
       " ' chinese : NORP',\n",
       " ' european : NORP',\n",
       " ' ']"
      ]
     },
     "execution_count": 74,
     "metadata": {},
     "output_type": "execute_result"
    }
   ],
   "source": [
    "Entity_list.split(';')"
   ]
  },
  {
   "cell_type": "markdown",
   "metadata": {},
   "source": [
    "# part_of_speech"
   ]
  },
  {
   "cell_type": "code",
   "execution_count": 75,
   "metadata": {
    "collapsed": true
   },
   "outputs": [],
   "source": [
    "token_text = [token.orth_ for token in parsed_review]\n",
    "token_pos = [token.pos_ for token in parsed_review]\n",
    "\n",
    "#pd.DataFrame(list(zip(token_text, token_pos)),columns=['token_text', 'part_of_speech'])"
   ]
  },
  {
   "cell_type": "code",
   "execution_count": 76,
   "metadata": {
    "collapsed": true
   },
   "outputs": [],
   "source": [
    "token_lemma = [token.lemma_ for token in parsed_review]\n",
    "token_shape = [token.shape_ for token in parsed_review]\n",
    "\n",
    "#pd.DataFrame(list(zip(token_text, token_lemma, token_shape)),columns=['token_text', 'token_lemma', 'token_shape'])"
   ]
  },
  {
   "cell_type": "code",
   "execution_count": 17,
   "metadata": {
    "collapsed": true
   },
   "outputs": [],
   "source": [
    "# parsed_NLP_text.txt\n",
    "\n",
    "with open(\"parsed_NLP_text.txt\", \"w\") as text_file:\n",
    "    print(parsed_review, file=text_file)"
   ]
  },
  {
   "cell_type": "code",
   "execution_count": 18,
   "metadata": {
    "collapsed": true
   },
   "outputs": [],
   "source": [
    "def punct_space(token):\n",
    "    \"\"\"\n",
    "    helper function to eliminate tokens\n",
    "    that are pure punctuation or whitespace\n",
    "    \"\"\"\n",
    "    \n",
    "    return token.is_punct or token.is_space \n",
    "\n",
    "def line_review(filename):\n",
    "    \"\"\"\n",
    "    generator function to read in reviews from the file\n",
    "    and un-escape the original line breaks in the text\n",
    "    \"\"\"\n",
    "    \n",
    "    with codecs.open(filename) as f: #,encoding='utf_8'\n",
    "        for review in f:\n",
    "            yield review.replace('\\\\n', '\\n')\n",
    "            \n",
    "def lemmatized_sentence_corpus(filename):\n",
    "    \"\"\"\n",
    "    generator function to use spaCy to parse reviews,\n",
    "    lemmatize the text, and yield sentences\n",
    "    \"\"\"\n",
    "    \n",
    "    for parsed_review in nlp.pipe(line_review(filename),\n",
    "                                  batch_size=10000, n_threads=4):\n",
    "        \n",
    "        for sent in parsed_review.sents:\n",
    "            yield u' '.join([token.lemma_ for token in sent\n",
    "                             if not punct_space(token)])"
   ]
  },
  {
   "cell_type": "code",
   "execution_count": 19,
   "metadata": {
    "collapsed": true
   },
   "outputs": [],
   "source": [
    "unigram_sentences_filepath = os.path.join('unigram_sentences_all.txt')"
   ]
  },
  {
   "cell_type": "code",
   "execution_count": 20,
   "metadata": {},
   "outputs": [
    {
     "name": "stdout",
     "output_type": "stream",
     "text": [
      "Wall time: 28.6 s\n"
     ]
    }
   ],
   "source": [
    "%%time\n",
    "with codecs.open(unigram_sentences_filepath, 'w', encoding='utf_8') as f:\n",
    "        for sentence in lemmatized_sentence_corpus('parsed_NLP_text.txt'):\n",
    "            f.write(sentence + '\\n')"
   ]
  },
  {
   "cell_type": "code",
   "execution_count": 21,
   "metadata": {
    "collapsed": true
   },
   "outputs": [],
   "source": [
    "unigram_sentences = LineSentence(unigram_sentences_filepath)"
   ]
  },
  {
   "cell_type": "code",
   "execution_count": 22,
   "metadata": {
    "collapsed": true
   },
   "outputs": [],
   "source": [
    "bigram_model_filepath = 'bigram_model_all.txt'"
   ]
  },
  {
   "cell_type": "code",
   "execution_count": 23,
   "metadata": {},
   "outputs": [
    {
     "name": "stdout",
     "output_type": "stream",
     "text": [
      "Wall time: 428 ms\n"
     ]
    }
   ],
   "source": [
    "%%time\n",
    "\n",
    "# this is a bit time consuming - make the if statement True\n",
    "# if you want to execute modeling yourself.\n",
    "if 1 == 1:\n",
    "\n",
    "    bigram_model = Phrases(unigram_sentences)\n",
    "\n",
    "    bigram_model.save(bigram_model_filepath)\n",
    "    \n",
    "# load the finished model from disk\n",
    "bigram_model = Phrases.load(bigram_model_filepath)"
   ]
  },
  {
   "cell_type": "code",
   "execution_count": 24,
   "metadata": {
    "collapsed": true
   },
   "outputs": [],
   "source": [
    "bigram_sentences_filepath  = 'bigram_model_all.txt'"
   ]
  },
  {
   "cell_type": "code",
   "execution_count": 25,
   "metadata": {},
   "outputs": [
    {
     "name": "stderr",
     "output_type": "stream",
     "text": [
      "C:\\Users\\praveen\\Anaconda3\\envs\\TCS\\lib\\site-packages\\gensim\\models\\phrases.py:316: UserWarning: For a faster implementation, use the gensim.models.phrases.Phraser class\n",
      "  warnings.warn(\"For a faster implementation, use the gensim.models.phrases.Phraser class\")\n"
     ]
    },
    {
     "name": "stdout",
     "output_type": "stream",
     "text": [
      "Wall time: 489 ms\n"
     ]
    }
   ],
   "source": [
    "%%time\n",
    "\n",
    "# this is a bit time consuming - make the if statement True\n",
    "# if you want to execute data prep yourself.\n",
    "if 1 == 1:\n",
    "\n",
    "    with codecs.open(bigram_sentences_filepath, 'w' , encoding= 'utf-8') as f:\n",
    "        \n",
    "        for unigram_sentence in unigram_sentences:\n",
    "            \n",
    "            bigram_sentence = u' '.join(bigram_model[unigram_sentence])\n",
    "            \n",
    "            f.write(bigram_sentence + '\\n')"
   ]
  },
  {
   "cell_type": "code",
   "execution_count": 26,
   "metadata": {
    "collapsed": true
   },
   "outputs": [],
   "source": [
    "bigram_sentences = LineSentence(bigram_sentences_filepath)"
   ]
  },
  {
   "cell_type": "code",
   "execution_count": 27,
   "metadata": {
    "collapsed": true
   },
   "outputs": [],
   "source": [
    "trigram_model_filepath = 'trigram_model_all.txt'"
   ]
  },
  {
   "cell_type": "code",
   "execution_count": 28,
   "metadata": {},
   "outputs": [
    {
     "name": "stdout",
     "output_type": "stream",
     "text": [
      "Wall time: 402 ms\n"
     ]
    }
   ],
   "source": [
    "%%time\n",
    "\n",
    "# this is a bit time consuming - make the if statement True\n",
    "# if you want to execute modeling yourself.\n",
    "if 1 == 1:\n",
    "\n",
    "    trigram_model = Phrases(bigram_sentences)\n",
    "\n",
    "    trigram_model.save(trigram_model_filepath)\n",
    "    \n",
    "# load the finished model from disk\n",
    "trigram_model = Phrases.load(trigram_model_filepath)"
   ]
  },
  {
   "cell_type": "code",
   "execution_count": 29,
   "metadata": {
    "collapsed": true
   },
   "outputs": [],
   "source": [
    "trigram_sentences_filepath = 'trigram_sentences_all.txt'"
   ]
  },
  {
   "cell_type": "code",
   "execution_count": 30,
   "metadata": {
    "collapsed": true
   },
   "outputs": [],
   "source": [
    "trigram_sentences = LineSentence(trigram_sentences_filepath)"
   ]
  },
  {
   "cell_type": "code",
   "execution_count": 31,
   "metadata": {
    "collapsed": true
   },
   "outputs": [],
   "source": [
    "trigram_reviews_filepath = 'trigram_transformed_reviews_all.txt'"
   ]
  },
  {
   "cell_type": "markdown",
   "metadata": {},
   "source": [
    "# From normal text to trigram  "
   ]
  },
  {
   "cell_type": "code",
   "execution_count": 32,
   "metadata": {
    "collapsed": true
   },
   "outputs": [],
   "source": [
    "review_txt_filepath = 'parsed_NLP_text.txt' # \"sub_News_data_train.csv\"\n"
   ]
  },
  {
   "cell_type": "code",
   "execution_count": 33,
   "metadata": {},
   "outputs": [
    {
     "name": "stderr",
     "output_type": "stream",
     "text": [
      "C:\\Users\\praveen\\Anaconda3\\envs\\TCS\\lib\\site-packages\\gensim\\models\\phrases.py:316: UserWarning: For a faster implementation, use the gensim.models.phrases.Phraser class\n",
      "  warnings.warn(\"For a faster implementation, use the gensim.models.phrases.Phraser class\")\n"
     ]
    },
    {
     "name": "stdout",
     "output_type": "stream",
     "text": [
      "Wall time: 28.6 s\n"
     ]
    }
   ],
   "source": [
    "%%time\n",
    "\n",
    "# this is a bit time consuming - make the if statement True\n",
    "# if you want to execute data prep yourself.\n",
    "if 1 == 1:\n",
    "\n",
    "    with codecs.open(trigram_reviews_filepath, 'w', encoding='utf_8') as f:\n",
    "        \n",
    "        for parsed_review in nlp.pipe(line_review(review_txt_filepath),\n",
    "                                      batch_size=1000, n_threads=4):\n",
    "            \n",
    "            #merged = parsed_review # combining header and content \n",
    "            #lowers = merged.lower()   # to lower      \n",
    "            #no_punctuation = re.sub(r'[^\\w\\s]',' ', lowers)    # remove punctuation\n",
    "            #temp = ' '.join(word for word in no_punctuation.split() if len(word)>3) # remove samll words\n",
    "            \n",
    "            # lemmatize the text, removing punctuation and whitespace\n",
    "            unigram_review = [token.lemma_ for token in parsed_review\n",
    "                              if not punct_space(token)]\n",
    "            \n",
    "            # apply the first-order and second-order phrase models\n",
    "            bigram_review = bigram_model[unigram_review]\n",
    "            trigram_review = trigram_model[bigram_review]\n",
    "            \n",
    "            # remove any remaining stopwords\n",
    "            trigram_review = [term for term in trigram_review\n",
    "                              if term not in nlp.Defaults.stop_words]\n",
    "            \n",
    "            \n",
    "            \n",
    "            # write the transformed review as a line in the new file\n",
    "            trigram_review = u' '.join(trigram_review)\n",
    "            f.write(trigram_review + '\\n')"
   ]
  },
  {
   "cell_type": "code",
   "execution_count": 34,
   "metadata": {
    "collapsed": true
   },
   "outputs": [],
   "source": [
    "from gensim.corpora import Dictionary, MmCorpus\n",
    "from gensim.models.ldamulticore import LdaMulticore\n",
    "\n",
    "import pyLDAvis\n",
    "import pyLDAvis.gensim\n",
    "import warnings\n",
    "#import cPickle as pickle"
   ]
  },
  {
   "cell_type": "code",
   "execution_count": 35,
   "metadata": {
    "collapsed": true
   },
   "outputs": [],
   "source": [
    "trigram_dictionary_filepath = 'trigram_dict_all.dict'"
   ]
  },
  {
   "cell_type": "code",
   "execution_count": 36,
   "metadata": {},
   "outputs": [
    {
     "name": "stdout",
     "output_type": "stream",
     "text": [
      "Wall time: 102 ms\n"
     ]
    }
   ],
   "source": [
    "%%time\n",
    "\n",
    "# this is a bit time consuming - make the if statement True\n",
    "# if you want to learn the dictionary yourself.\n",
    "if 1 == 1:\n",
    "\n",
    "    trigram_reviews = LineSentence(trigram_reviews_filepath)\n",
    "\n",
    "    # learn the dictionary by iterating over all of the reviews\n",
    "    trigram_dictionary = Dictionary(trigram_reviews)\n",
    "    \n",
    "    # filter tokens that are very rare or too common from\n",
    "    # the dictionary (filter_extremes) and reassign integer ids (compactify)\n",
    "    #trigram_dictionary.filter_extremes(no_below=10, no_above=0.4)\n",
    "    trigram_dictionary.compactify()\n",
    "\n",
    "    trigram_dictionary.save(trigram_dictionary_filepath)\n",
    "    \n",
    "# load the finished dictionary from disk\n",
    "trigram_dictionary = Dictionary.load(trigram_dictionary_filepath)"
   ]
  },
  {
   "cell_type": "code",
   "execution_count": 37,
   "metadata": {
    "collapsed": true
   },
   "outputs": [],
   "source": [
    "trigram_bow_filepath = 'trigram_bow_corpus_all.mm'"
   ]
  },
  {
   "cell_type": "code",
   "execution_count": 38,
   "metadata": {
    "collapsed": true
   },
   "outputs": [],
   "source": [
    "def trigram_bow_generator(filepath):\n",
    "    \"\"\"\n",
    "    generator function to read reviews from a file\n",
    "    and yield a bag-of-words representation\n",
    "    \"\"\"\n",
    "    \n",
    "    for review in LineSentence(filepath):\n",
    "        yield trigram_dictionary.doc2bow(review)"
   ]
  },
  {
   "cell_type": "code",
   "execution_count": 39,
   "metadata": {},
   "outputs": [
    {
     "name": "stdout",
     "output_type": "stream",
     "text": [
      "Wall time: 157 ms\n"
     ]
    }
   ],
   "source": [
    "%%time\n",
    "\n",
    "# this is a bit time consuming - make the if statement True\n",
    "# if you want to build the bag-of-words corpus yourself.\n",
    "if 1 == 1:\n",
    "\n",
    "    # generate bag-of-words representations for\n",
    "    # all reviews and save them as a matrix\n",
    "    MmCorpus.serialize(trigram_bow_filepath,\n",
    "                       trigram_bow_generator(trigram_reviews_filepath))\n",
    "    \n",
    "# load the finished bag-of-words corpus from disk\n",
    "trigram_bow_corpus = MmCorpus(trigram_bow_filepath)"
   ]
  },
  {
   "cell_type": "code",
   "execution_count": 40,
   "metadata": {
    "collapsed": true
   },
   "outputs": [],
   "source": [
    "lda_model_filepath = 'lda_model_all.txt'"
   ]
  },
  {
   "cell_type": "code",
   "execution_count": 109,
   "metadata": {},
   "outputs": [
    {
     "name": "stdout",
     "output_type": "stream",
     "text": [
      "Wall time: 59.7 s\n"
     ]
    }
   ],
   "source": [
    "%%time\n",
    "\n",
    "# this is a bit time consuming - make the if statement True\n",
    "# if you want to train the LDA model yourself.\n",
    "if 1 == 1:\n",
    "\n",
    "    with warnings.catch_warnings():\n",
    "        warnings.simplefilter('ignore')\n",
    "        \n",
    "        # workers => sets the parallelism, and should be\n",
    "        # set to your number of physical cores minus one\n",
    "        lda = LdaMulticore(trigram_bow_corpus,\n",
    "                           num_topics=5,\n",
    "                           id2word=trigram_dictionary,   # trigram_dictionary\n",
    "                           workers=4)\n",
    "    \n",
    "    lda.save(lda_model_filepath)\n",
    "    \n",
    "# load the finished LDA model from disk\n",
    "lda = LdaMulticore.load(lda_model_filepath)"
   ]
  },
  {
   "cell_type": "code",
   "execution_count": 110,
   "metadata": {
    "collapsed": true
   },
   "outputs": [],
   "source": [
    "def explore_topic(topic_number, topn=10):\n",
    "    \"\"\"\n",
    "    accept a user-supplied topic number and\n",
    "    print out a formatted list of the top terms\n",
    "    \"\"\"\n",
    "        \n",
    "    print(u'{:20} {}'.format(u'term', u'frequency') + u'\\n')\n",
    "\n",
    "    for term, frequency in lda.show_topic(topic_number, topn=25):\n",
    "        print(u'{:20} {:.3f}'.format(term, round(frequency, 3)))"
   ]
  },
  {
   "cell_type": "code",
   "execution_count": 111,
   "metadata": {},
   "outputs": [],
   "source": [
    "#explore_topic(topic_number=3)"
   ]
  },
  {
   "cell_type": "code",
   "execution_count": 112,
   "metadata": {
    "collapsed": true
   },
   "outputs": [],
   "source": [
    "LDAvis_data_filepath = 'ldavis_prepared.txt'"
   ]
  },
  {
   "cell_type": "code",
   "execution_count": 113,
   "metadata": {},
   "outputs": [
    {
     "name": "stderr",
     "output_type": "stream",
     "text": [
      "C:\\Users\\praveen\\Anaconda3\\envs\\TCS\\lib\\site-packages\\pyLDAvis\\_prepare.py:387: DeprecationWarning: \n",
      ".ix is deprecated. Please use\n",
      ".loc for label based indexing or\n",
      ".iloc for positional indexing\n",
      "\n",
      "See the documentation here:\n",
      "http://pandas.pydata.org/pandas-docs/stable/indexing.html#ix-indexer-is-deprecated\n",
      "  topic_term_dists = topic_term_dists.ix[topic_order]\n"
     ]
    },
    {
     "name": "stdout",
     "output_type": "stream",
     "text": [
      "Wall time: 10.9 s\n"
     ]
    }
   ],
   "source": [
    "%%time\n",
    "LDAvis_prepared = pyLDAvis.gensim.prepare(lda, trigram_bow_corpus,trigram_dictionary)"
   ]
  },
  {
   "cell_type": "code",
   "execution_count": 114,
   "metadata": {},
   "outputs": [
    {
     "data": {
      "text/html": [
       "\n",
       "<link rel=\"stylesheet\" type=\"text/css\" href=\"https://cdn.rawgit.com/bmabey/pyLDAvis/files/ldavis.v1.0.0.css\">\n",
       "\n",
       "\n",
       "<div id=\"ldavis_el1726016107802598164205715808\"></div>\n",
       "<script type=\"text/javascript\">\n",
       "\n",
       "var ldavis_el1726016107802598164205715808_data = {\"tinfo\": {\"Total\": [742.0, 352.0, 363.0, 392.0, 366.0, 399.0, 328.0, 209.0, 168.0, 164.0, 211.0, 317.0, 229.0, 357.0, 249.0, 193.0, 130.0, 180.0, 201.0, 233.0, 187.0, 220.0, 145.0, 237.0, 164.0, 107.0, 194.0, 189.0, 153.0, 189.0, 17.657111190708346, 9.447532828682897, 5.994355886093555, 3.843329674892175, 64.54331354312727, 13.713067349058727, 3.805332251359513, 8.624468413070266, 5.516989415521293, 20.61432477191702, 17.47903829707444, 13.994800126417738, 59.059522689999866, 7.226118913645296, 16.376626496672994, 8.837654443280362, 7.800172201908221, 9.523310046835592, 6.827359479113153, 7.696787110937596, 5.718216049393497, 5.655863265989332, 18.035971679053592, 11.681702423701335, 8.342540795027192, 42.02108000840143, 38.56989743951936, 8.870676762300176, 10.599001887313209, 6.69228359803345, 742.7579067375978, 233.3510161762607, 59.92851302389842, 18.957672862486874, 44.78497442929633, 36.28431307676051, 13.772141992490136, 202.31542701720522, 209.05709760563283, 114.22362382158624, 38.705983776155556, 32.209396101041555, 136.0098160402741, 29.960589421753987, 56.184107081466486, 88.96646683190542, 197.99673879290222, 399.8451118567555, 328.7571521032384, 119.34765726143988, 198.6836124991984, 128.53327478061777, 189.0533444827825, 317.5227688548833, 135.12943383641885, 211.8324215131063, 132.0705791459233, 363.56728011502776, 123.34095400240226, 138.4071476820961, 135.48050174563036, 249.88222005062468, 201.7542649910989, 237.9938325733125, 392.2228293071434, 366.76052235176934, 352.24646692697144, 194.78773378854783, 229.4502491718359, 357.4143483532941, 189.67147099076016, 193.36330022681125, 183.09935381545077, 164.32509225439838, 220.38126535323846, 162.72064553124736, 180.16913556335066, 187.27026892280608, 28.773638919907455, 12.022401620801542, 11.398637607186359, 8.483237690726972, 8.12976210657549, 29.292023500859298, 10.386124911231189, 4.542768634503635, 15.67028809185728, 6.278694632354791, 9.049465298969372, 6.9171570061177965, 9.636045822908628, 46.46509209968777, 19.551507334834447, 22.555451855004417, 3.5486728934364855, 6.394602143377201, 6.133630636263262, 77.40025575986579, 4.125364197567115, 76.11928167167743, 1.6963854138142924, 5.110162646476884, 21.11484851435786, 2.572555682790941, 98.63038120866021, 10.54868077711686, 5.240413314998536, 4.3909883817546085, 101.45606900754463, 22.005015883392137, 12.12922645590528, 8.111474353479771, 64.52155235554402, 100.89977931070564, 13.454694209111253, 366.76052235176934, 132.0705791459233, 22.821740379003753, 352.24646692697144, 84.59546340320523, 35.81087880547332, 67.63617051717317, 81.02365745848387, 49.35231575324444, 229.4502491718359, 357.4143483532941, 392.2228293071434, 220.38126535323846, 328.7571521032384, 317.5227688548833, 189.67147099076016, 187.27026892280608, 193.36330022681125, 201.7542649910989, 399.8451118567555, 130.44999772583884, 135.12943383641885, 153.01038281945577, 363.56728011502776, 162.72064553124736, 742.7579067375978, 237.9938325733125, 233.3510161762607, 183.09935381545077, 145.57310279925338, 180.16913556335066, 249.88222005062468, 197.99673879290222, 189.0533444827825, 202.31542701720522, 198.6836124991984, 194.78773378854783, 211.8324215131063, 168.68462517226013, 6.879499942434979, 7.716917616584694, 11.190307461239474, 3.4998508641303863, 2.5671491410411806, 2.600422736302395, 2.5339663023666836, 2.576810872788216, 6.899207446706454, 2.5547134573844223, 6.178427211614041, 2.6001327695705903, 2.6107483151488666, 2.6223229172885296, 77.96114507931843, 153.50196800182192, 5.261537476955007, 1.7378726817527792, 9.595720052415473, 3.4841117301482476, 5.338943720757532, 2.592654276546237, 3.4955355849717806, 2.5247627948808598, 2.5344085390099167, 1.6749880633436023, 10.12746170627881, 25.177715892873266, 2.5901192902460375, 1.7320477432421932, 60.133733642893624, 6.2602480187385785, 4.184609196980411, 10.345359348985241, 23.61122627704386, 49.3389795848667, 11.34719285447153, 6.1971726000700444, 107.44507850642415, 44.699253824859746, 14.672566140731806, 28.72818836061061, 31.982015116073004, 23.66939728761227, 164.79605910123516, 41.80070925922359, 45.196464158622355, 34.39460834046855, 357.4143483532941, 50.25819590904712, 392.2228293071434, 180.16913556335066, 114.69939134074589, 187.27026892280608, 220.38126535323846, 94.34012805640609, 352.24646692697144, 141.20454168960615, 76.36025571978207, 145.57310279925338, 85.19415255625397, 183.09935381545077, 194.78773378854783, 135.48050174563036, 211.8324215131063, 229.4502491718359, 742.7579067375978, 114.9934123078905, 366.76052235176934, 77.42994854731705, 399.8451118567555, 237.9938325733125, 162.72064553124736, 317.5227688548833, 249.88222005062468, 363.56728011502776, 168.68462517226013, 134.65790453602068, 198.6836124991984, 189.0533444827825, 328.7571521032384, 193.36330022681125, 189.67147099076016, 209.05709760563283, 202.31542701720522, 3.9677839636373924, 3.97371513577559, 4.010372405940505, 3.87522540823539, 7.599858480288676, 2.4721712095048045, 2.445590250229213, 1.6232747146114603, 3.1732177162751336, 4.088862321609042, 6.213377125739095, 5.0891898666019255, 8.633505267441985, 15.235398717301361, 1.6593567487423213, 4.970687246495251, 1.658453980025622, 4.176288546725831, 9.63853609043214, 4.110662477884619, 4.112195010728126, 5.967937699498914, 4.893854248490749, 1.6481715268904864, 1.6948073909698171, 4.302626456729418, 1.6311748425617985, 1.684872081754262, 4.890034837995714, 19.330805444127616, 23.047160773451548, 5.775071970245431, 6.650284952158429, 10.909805486758525, 10.12746170627881, 49.059576927250134, 168.68462517226013, 12.530374075401301, 18.677690620930992, 88.55517407444424, 32.71362989398856, 26.659567530607365, 95.24694827717275, 11.591604600539446, 11.58868753985284, 23.66939728761227, 24.556265091295064, 20.823687916711762, 164.32509225439838, 363.56728011502776, 130.44999772583884, 138.4071476820961, 153.50196800182192, 98.6462720262914, 249.88222005062468, 209.05709760563283, 30.64780884575807, 143.37924718459695, 153.01038281945577, 66.71270795174087, 96.2283916760107, 77.96114507931843, 120.7848545169666, 357.4143483532941, 126.54720803582008, 141.20454168960615, 51.578242948154134, 134.15154138330504, 220.38126535323846, 180.16913556335066, 237.9938325733125, 187.27026892280608, 137.84628392371965, 366.76052235176934, 189.67147099076016, 201.7542649910989, 392.2228293071434, 193.36330022681125, 328.7571521032384, 742.7579067375978, 317.5227688548833, 211.8324215131063, 194.78773378854783, 399.8451118567555, 352.24646692697144, 198.6836124991984, 164.79605910123516, 233.3510161762607, 36.11162012995478, 18.128070497996227, 9.571113017572051, 9.685919702284057, 6.337075269926105, 3.1036499130434683, 164.79605910123516, 5.602561310282429, 7.330487086902025, 168.68462517226013, 10.62227169214966, 10.448934960942976, 58.34587519952178, 2.3561509247167582, 3.2069946659979833, 13.169084633070819, 6.542267839413444, 5.588688950630012, 28.54033345927442, 3.1899462729344963, 1.5937739486618687, 2.4020811976578798, 3.87522540823539, 1.6012609718493267, 5.6857398290873675, 8.633505267441985, 13.611515382937469, 1.5947035160312701, 3.2246025043750195, 4.061417516859051, 76.36738158949814, 100.8141895058021, 107.44507850642415, 9.911825202612837, 38.94929939664501, 130.44999772583884, 73.44573354625814, 209.05709760563283, 30.64780884575807, 30.07235768723208, 18.41684997174193, 71.3876343583612, 95.24694827717275, 108.27529734446946, 352.24646692697144, 61.942009064212904, 42.385645030001996, 114.15703362324568, 211.8324215131063, 742.7579067375978, 145.57310279925338, 363.56728011502776, 32.71362989398856, 66.11720466276893, 392.2228293071434, 366.76052235176934, 94.34012805640609, 117.59708540589178, 107.66005498557354, 229.4502491718359, 114.9934123078905, 328.7571521032384, 399.8451118567555, 193.36330022681125, 180.16913556335066, 129.7503320367878, 201.7542649910989, 317.5227688548833, 233.3510161762607, 187.27026892280608, 249.88222005062468, 135.48050174563036, 189.0533444827825, 194.78773378854783, 164.32509225439838, 357.4143483532941, 189.67147099076016, 220.38126535323846, 237.9938325733125, 202.31542701720522], \"logprob\": [30.0, 29.0, 28.0, 27.0, 26.0, 25.0, 24.0, 23.0, 22.0, 21.0, 20.0, 19.0, 18.0, 17.0, 16.0, 15.0, 14.0, 13.0, 12.0, 11.0, 10.0, 9.0, 8.0, 7.0, 6.0, 5.0, 4.0, 3.0, 2.0, 1.0, -7.7693, -8.4067, -8.8687, -9.3245, -6.5099, -8.0636, -9.3465, -8.5294, -8.978, -7.66, -7.826, -8.0509, -6.6149, -8.7196, -7.9061, -8.5251, -8.6512, -8.4518, -8.7851, -8.6658, -8.9631, -8.9753, -7.8164, -8.2515, -8.5887, -6.9732, -7.0594, -8.5301, -8.3559, -8.8166, -4.1375, -5.2871, -6.6384, -7.7818, -6.94, -7.1463, -8.0957, -5.4638, -5.4477, -6.0378, -7.0907, -7.2716, -5.8899, -7.3438, -6.7449, -6.3097, -5.5511, -4.8944, -5.0806, -6.0351, -5.5602, -5.989, -5.6413, -5.1756, -5.9628, -5.5561, -5.9902, -5.0818, -6.0578, -5.9571, -5.9834, -5.4471, -5.6341, -5.5109, -5.0893, -5.158, -5.1928, -5.6854, -5.5705, -5.2278, -5.7533, -5.7487, -5.8032, -5.8774, -5.7386, -5.8822, -5.9355, -5.9431, -7.2095, -8.0912, -8.1517, -8.4508, -8.5114, -7.2303, -8.2704, -9.1027, -7.8672, -8.7875, -8.4324, -8.704, -8.3743, -6.802, -7.6698, -7.5276, -9.3773, -8.7898, -8.8394, -6.3048, -9.2415, -6.3274, -10.1332, -9.0334, -7.6161, -9.7217, -6.0782, -8.3153, -9.0168, -9.1945, -6.0726, -7.5863, -8.1833, -8.5827, -6.5346, -6.1051, -8.0819, -4.855, -5.8531, -7.5648, -4.9266, -6.3048, -7.1315, -6.5271, -6.3596, -6.842, -5.398, -4.9871, -4.9203, -5.4654, -5.0975, -5.1336, -5.6053, -5.6208, -5.5935, -5.5623, -4.9503, -5.9616, -5.938, -5.8451, -5.096, -5.8064, -4.5508, -5.4981, -5.5384, -5.7323, -5.9128, -5.7549, -5.5242, -5.6951, -5.7778, -5.8029, -5.8335, -5.8427, -5.837, -5.8976, -8.3714, -8.2894, -7.9912, -9.1574, -9.4813, -9.4778, -9.5165, -9.5118, -8.5386, -9.5428, -8.6697, -9.5368, -9.5358, -9.532, -6.1405, -5.4631, -8.8409, -9.9489, -8.2407, -9.2547, -8.828, -9.5518, -9.2539, -9.5794, -9.5771, -10.0029, -8.2047, -7.2951, -9.5703, -9.9728, -6.4268, -8.6884, -9.0922, -8.2049, -7.399, -6.7122, -8.1329, -8.7146, -5.9944, -6.83, -7.8916, -7.2649, -7.1665, -7.4517, -5.6324, -6.9188, -6.8804, -7.1317, -5.0228, -6.7961, -4.947, -5.6683, -6.0724, -5.6422, -5.5069, -6.2539, -5.1031, -5.9027, -6.4422, -5.885, -6.3592, -5.7091, -5.6598, -5.9796, -5.624, -5.565, -4.6292, -6.1271, -5.2185, -6.4498, -5.1529, -5.5752, -5.8756, -5.3823, -5.572, -5.3071, -5.8791, -6.0316, -5.8069, -5.8428, -5.5697, -5.9067, -5.9582, -5.9451, -5.9654, -8.9221, -8.9289, -8.9866, -9.0288, -8.3884, -9.533, -9.5501, -9.9667, -9.2967, -9.0446, -8.6276, -8.8294, -8.3021, -7.7367, -9.9552, -8.8716, -9.9695, -9.054, -8.2183, -9.0712, -9.0714, -8.7015, -8.9061, -9.9945, -9.9667, -9.0356, -10.0078, -9.9772, -8.913, -7.5389, -7.3732, -8.7508, -8.613, -8.129, -8.2053, -6.684, -5.4999, -8.0003, -7.6234, -6.1426, -7.0937, -7.2891, -6.0826, -8.0835, -8.0852, -7.4166, -7.3847, -7.5393, -5.6398, -4.9279, -5.882, -5.8548, -5.7678, -6.1673, -5.341, -5.5099, -7.2154, -5.8577, -5.8041, -6.5341, -6.2162, -6.3996, -6.0276, -5.1105, -5.9956, -5.9144, -6.7703, -5.9774, -5.567, -5.7382, -5.5113, -5.7108, -5.9761, -5.2107, -5.7346, -5.692, -5.1812, -5.7313, -5.39, -4.8571, -5.4412, -5.7069, -5.7638, -5.3631, -5.5414, -5.8406, -5.9161, -5.8964, -6.7946, -7.577, -8.2466, -8.2423, -8.6677, -9.3885, -5.4319, -8.8175, -8.5511, -5.4163, -8.1899, -8.2065, -6.4872, -9.6984, -9.3908, -7.979, -8.6788, -8.837, -7.2116, -9.4065, -10.1029, -9.6947, -9.2243, -10.1099, -8.8428, -8.4268, -7.973, -10.1178, -9.4142, -9.1892, -6.2574, -6.0029, -5.9553, -8.307, -6.9683, -5.7843, -6.3612, -5.3686, -7.2136, -7.239, -7.7127, -6.4388, -6.1761, -6.0715, -4.9767, -6.5993, -6.9516, -6.044, -5.5025, -4.3878, -5.8623, -5.0689, -7.1926, -6.575, -5.0399, -5.1011, -6.2691, -6.0797, -6.1623, -5.5323, -6.1106, -5.2402, -5.099, -5.6964, -5.7535, -6.0352, -5.7332, -5.4377, -5.6678, -5.819, -5.661, -6.0162, -5.8685, -5.8704, -5.9515, -5.6787, -5.9029, -5.8563, -5.832, -5.8912], \"Category\": [\"Default\", \"Default\", \"Default\", \"Default\", \"Default\", \"Default\", \"Default\", \"Default\", \"Default\", \"Default\", \"Default\", \"Default\", \"Default\", \"Default\", \"Default\", \"Default\", \"Default\", \"Default\", \"Default\", \"Default\", \"Default\", \"Default\", \"Default\", \"Default\", \"Default\", \"Default\", \"Default\", \"Default\", \"Default\", \"Default\", \"Topic1\", \"Topic1\", \"Topic1\", \"Topic1\", \"Topic1\", \"Topic1\", \"Topic1\", \"Topic1\", \"Topic1\", \"Topic1\", \"Topic1\", \"Topic1\", \"Topic1\", \"Topic1\", \"Topic1\", \"Topic1\", \"Topic1\", \"Topic1\", \"Topic1\", \"Topic1\", \"Topic1\", \"Topic1\", \"Topic1\", \"Topic1\", \"Topic1\", \"Topic1\", \"Topic1\", \"Topic1\", \"Topic1\", \"Topic1\", \"Topic1\", \"Topic1\", \"Topic1\", \"Topic1\", \"Topic1\", \"Topic1\", \"Topic1\", \"Topic1\", \"Topic1\", \"Topic1\", \"Topic1\", \"Topic1\", \"Topic1\", \"Topic1\", \"Topic1\", \"Topic1\", \"Topic1\", \"Topic1\", \"Topic1\", \"Topic1\", \"Topic1\", \"Topic1\", \"Topic1\", \"Topic1\", \"Topic1\", \"Topic1\", \"Topic1\", \"Topic1\", \"Topic1\", \"Topic1\", \"Topic1\", \"Topic1\", \"Topic1\", \"Topic1\", \"Topic1\", \"Topic1\", \"Topic1\", \"Topic1\", \"Topic1\", \"Topic1\", \"Topic1\", \"Topic1\", \"Topic1\", \"Topic1\", \"Topic1\", \"Topic1\", \"Topic1\", \"Topic1\", \"Topic2\", \"Topic2\", \"Topic2\", \"Topic2\", \"Topic2\", \"Topic2\", \"Topic2\", \"Topic2\", \"Topic2\", \"Topic2\", \"Topic2\", \"Topic2\", \"Topic2\", \"Topic2\", \"Topic2\", \"Topic2\", \"Topic2\", \"Topic2\", \"Topic2\", \"Topic2\", \"Topic2\", \"Topic2\", \"Topic2\", \"Topic2\", \"Topic2\", \"Topic2\", \"Topic2\", \"Topic2\", \"Topic2\", \"Topic2\", \"Topic2\", \"Topic2\", \"Topic2\", \"Topic2\", \"Topic2\", \"Topic2\", \"Topic2\", \"Topic2\", \"Topic2\", \"Topic2\", \"Topic2\", \"Topic2\", \"Topic2\", \"Topic2\", \"Topic2\", \"Topic2\", \"Topic2\", \"Topic2\", \"Topic2\", \"Topic2\", \"Topic2\", \"Topic2\", \"Topic2\", \"Topic2\", \"Topic2\", \"Topic2\", \"Topic2\", \"Topic2\", \"Topic2\", \"Topic2\", \"Topic2\", \"Topic2\", \"Topic2\", \"Topic2\", \"Topic2\", \"Topic2\", \"Topic2\", \"Topic2\", \"Topic2\", \"Topic2\", \"Topic2\", \"Topic2\", \"Topic2\", \"Topic2\", \"Topic2\", \"Topic2\", \"Topic3\", \"Topic3\", \"Topic3\", \"Topic3\", \"Topic3\", \"Topic3\", \"Topic3\", \"Topic3\", \"Topic3\", \"Topic3\", \"Topic3\", \"Topic3\", \"Topic3\", \"Topic3\", \"Topic3\", \"Topic3\", \"Topic3\", \"Topic3\", \"Topic3\", \"Topic3\", \"Topic3\", \"Topic3\", \"Topic3\", \"Topic3\", \"Topic3\", \"Topic3\", \"Topic3\", \"Topic3\", \"Topic3\", \"Topic3\", \"Topic3\", \"Topic3\", \"Topic3\", \"Topic3\", \"Topic3\", \"Topic3\", \"Topic3\", \"Topic3\", \"Topic3\", \"Topic3\", \"Topic3\", \"Topic3\", \"Topic3\", \"Topic3\", \"Topic3\", \"Topic3\", \"Topic3\", \"Topic3\", \"Topic3\", \"Topic3\", \"Topic3\", \"Topic3\", \"Topic3\", \"Topic3\", \"Topic3\", \"Topic3\", \"Topic3\", \"Topic3\", \"Topic3\", \"Topic3\", \"Topic3\", \"Topic3\", \"Topic3\", \"Topic3\", \"Topic3\", \"Topic3\", \"Topic3\", \"Topic3\", \"Topic3\", \"Topic3\", \"Topic3\", \"Topic3\", \"Topic3\", \"Topic3\", \"Topic3\", \"Topic3\", \"Topic3\", \"Topic3\", \"Topic3\", \"Topic3\", \"Topic3\", \"Topic3\", \"Topic3\", \"Topic3\", \"Topic3\", \"Topic4\", \"Topic4\", \"Topic4\", \"Topic4\", \"Topic4\", \"Topic4\", \"Topic4\", \"Topic4\", \"Topic4\", \"Topic4\", \"Topic4\", \"Topic4\", \"Topic4\", \"Topic4\", \"Topic4\", \"Topic4\", \"Topic4\", \"Topic4\", \"Topic4\", \"Topic4\", \"Topic4\", \"Topic4\", \"Topic4\", \"Topic4\", \"Topic4\", \"Topic4\", \"Topic4\", \"Topic4\", \"Topic4\", \"Topic4\", \"Topic4\", \"Topic4\", \"Topic4\", \"Topic4\", \"Topic4\", \"Topic4\", \"Topic4\", \"Topic4\", \"Topic4\", \"Topic4\", \"Topic4\", \"Topic4\", \"Topic4\", \"Topic4\", \"Topic4\", \"Topic4\", \"Topic4\", \"Topic4\", \"Topic4\", \"Topic4\", \"Topic4\", \"Topic4\", \"Topic4\", \"Topic4\", \"Topic4\", \"Topic4\", \"Topic4\", \"Topic4\", \"Topic4\", \"Topic4\", \"Topic4\", \"Topic4\", \"Topic4\", \"Topic4\", \"Topic4\", \"Topic4\", \"Topic4\", \"Topic4\", \"Topic4\", \"Topic4\", \"Topic4\", \"Topic4\", \"Topic4\", \"Topic4\", \"Topic4\", \"Topic4\", \"Topic4\", \"Topic4\", \"Topic4\", \"Topic4\", \"Topic4\", \"Topic4\", \"Topic4\", \"Topic4\", \"Topic4\", \"Topic4\", \"Topic4\", \"Topic4\", \"Topic5\", \"Topic5\", \"Topic5\", \"Topic5\", \"Topic5\", \"Topic5\", \"Topic5\", \"Topic5\", \"Topic5\", \"Topic5\", \"Topic5\", \"Topic5\", \"Topic5\", \"Topic5\", \"Topic5\", \"Topic5\", \"Topic5\", \"Topic5\", \"Topic5\", \"Topic5\", \"Topic5\", \"Topic5\", \"Topic5\", \"Topic5\", \"Topic5\", \"Topic5\", \"Topic5\", \"Topic5\", \"Topic5\", \"Topic5\", \"Topic5\", \"Topic5\", \"Topic5\", \"Topic5\", \"Topic5\", \"Topic5\", \"Topic5\", \"Topic5\", \"Topic5\", \"Topic5\", \"Topic5\", \"Topic5\", \"Topic5\", \"Topic5\", \"Topic5\", \"Topic5\", \"Topic5\", \"Topic5\", \"Topic5\", \"Topic5\", \"Topic5\", \"Topic5\", \"Topic5\", \"Topic5\", \"Topic5\", \"Topic5\", \"Topic5\", \"Topic5\", \"Topic5\", \"Topic5\", \"Topic5\", \"Topic5\", \"Topic5\", \"Topic5\", \"Topic5\", \"Topic5\", \"Topic5\", \"Topic5\", \"Topic5\", \"Topic5\", \"Topic5\", \"Topic5\", \"Topic5\", \"Topic5\", \"Topic5\", \"Topic5\", \"Topic5\", \"Topic5\", \"Topic5\", \"Topic5\"], \"loglift\": [30.0, 29.0, 28.0, 27.0, 26.0, 25.0, 24.0, 23.0, 22.0, 21.0, 20.0, 19.0, 18.0, 17.0, 16.0, 15.0, 14.0, 13.0, 12.0, 11.0, 10.0, 9.0, 8.0, 7.0, 6.0, 5.0, 4.0, 3.0, 2.0, 1.0, 0.3598, 0.3477, 0.3407, 0.3293, 0.3229, 0.3182, 0.3173, 0.3163, 0.3143, 0.3142, 0.3132, 0.3106, 0.3068, 0.3029, 0.2983, 0.296, 0.2949, 0.2946, 0.2941, 0.2936, 0.2935, 0.2922, 0.2915, 0.2907, 0.2902, 0.2888, 0.2884, 0.2874, 0.2836, 0.2827, 0.2523, 0.2605, 0.2687, 0.2762, 0.2584, 0.2626, 0.2818, 0.2266, 0.2099, 0.2243, 0.2535, 0.2564, 0.1976, 0.2566, 0.2266, 0.2022, 0.1609, 0.1148, 0.1243, 0.183, 0.1483, 0.155, 0.1169, 0.0641, 0.1312, 0.0884, 0.1267, 0.0225, 0.1274, 0.1129, 0.108, 0.0321, 0.0591, 0.0171, -0.0609, -0.0625, -0.0569, 0.0429, -0.006, -0.1064, 0.0016, -0.013, -0.013, 0.021, -0.1338, 0.0259, -0.1292, -0.1755, 0.4313, 0.4223, 0.415, 0.4114, 0.3933, 0.3926, 0.3893, 0.384, 0.3812, 0.3756, 0.3651, 0.3623, 0.3604, 0.3595, 0.3574, 0.3567, 0.3564, 0.355, 0.3471, 0.3465, 0.3415, 0.3405, 0.3385, 0.3355, 0.3341, 0.3336, 0.3307, 0.3289, 0.327, 0.3261, 0.308, 0.3226, 0.3213, 0.3242, 0.2986, 0.281, 0.319, 0.2405, 0.2638, 0.3077, 0.2093, 0.2575, 0.2905, 0.2589, 0.2459, 0.2592, 0.1665, 0.1342, 0.1081, 0.1395, 0.1074, 0.106, 0.1497, 0.1468, 0.1422, 0.1309, 0.0588, 0.1676, 0.156, 0.1246, 0.0082, 0.1018, -0.161, 0.0298, 0.0092, 0.0579, 0.1068, 0.0514, -0.045, 0.0169, -0.0197, -0.1126, -0.125, -0.1144, -0.1926, -0.0254, 0.7002, 0.6674, 0.5939, 0.5901, 0.5761, 0.5667, 0.554, 0.5419, 0.5302, 0.5195, 0.5094, 0.5078, 0.5048, 0.5042, 0.5035, 0.5034, 0.4989, 0.4987, 0.4982, 0.4973, 0.4971, 0.4957, 0.4948, 0.4947, 0.4931, 0.4815, 0.4803, 0.4791, 0.4782, 0.4781, 0.4768, 0.4776, 0.4766, 0.4587, 0.4395, 0.3893, 0.4383, 0.4615, 0.3288, 0.3703, 0.4226, 0.3774, 0.3685, 0.3843, 0.2631, 0.3485, 0.3088, 0.3306, 0.0985, 0.287, 0.0814, 0.1381, 0.1855, 0.1254, 0.0979, 0.1994, 0.0328, 0.1473, 0.2225, 0.1346, 0.1961, 0.0811, 0.0685, 0.1118, 0.0204, -0.0005, -0.2393, 0.1282, -0.123, 0.2011, -0.1438, -0.0472, 0.0326, -0.1427, -0.0928, -0.2029, -0.0069, 0.0659, -0.0984, -0.0846, -0.3648, -0.171, -0.2033, -0.2875, -0.275, 0.6999, 0.6916, 0.6247, 0.6168, 0.5837, 0.5622, 0.5559, 0.5491, 0.5488, 0.5474, 0.5459, 0.5437, 0.5424, 0.5399, 0.5385, 0.5251, 0.5249, 0.5168, 0.5162, 0.5154, 0.5148, 0.5124, 0.5062, 0.5061, 0.506, 0.5054, 0.5031, 0.5014, 0.5, 0.4997, 0.4895, 0.4959, 0.4925, 0.4815, 0.4797, 0.4232, 0.3723, 0.4717, 0.4495, 0.374, 0.4188, 0.428, 0.3612, 0.4664, 0.465, 0.4194, 0.4145, 0.4248, 0.2586, 0.1763, 0.2472, 0.2152, 0.1987, 0.2414, 0.1382, 0.1477, 0.3622, 0.177, 0.1656, 0.2657, 0.2173, 0.2444, 0.1786, 0.0108, 0.164, 0.1356, 0.2868, 0.1238, 0.0379, 0.0681, 0.0167, 0.0568, 0.098, -0.1152, 0.0203, 0.0012, -0.1528, 0.0044, -0.1851, -0.4672, -0.2016, -0.0625, -0.0355, -0.3539, -0.4055, -0.1321, -0.0205, -0.3487, 0.619, 0.5258, 0.4949, 0.4873, 0.4861, 0.4791, 0.4636, 0.4595, 0.4571, 0.4559, 0.4474, 0.4473, 0.4467, 0.4447, 0.4441, 0.4434, 0.4432, 0.4425, 0.4373, 0.4337, 0.4312, 0.4292, 0.4213, 0.4195, 0.4194, 0.4178, 0.4163, 0.4157, 0.4152, 0.4094, 0.4073, 0.384, 0.3679, 0.3995, 0.3697, 0.3449, 0.3425, 0.289, 0.364, 0.3576, 0.3742, 0.2933, 0.2677, 0.2441, 0.1592, 0.2748, 0.3018, 0.2186, 0.1419, 0.002, 0.1572, 0.0354, 0.3198, 0.2338, -0.0115, -0.0056, 0.1842, 0.1532, 0.159, 0.0322, 0.1447, -0.0353, -0.0898, 0.0393, 0.0528, 0.0994, -0.04, -0.1981, -0.1201, -0.0513, -0.1817, 0.0752, -0.1103, -0.1421, -0.0532, -0.5574, -0.1479, -0.2514, -0.3041, -0.2008], \"Term\": [\"datum\", \"business\", \"technology\", \"company\", \"market\", \"platform\", \"customer\", \"device\", \"mobile\", \"year\", \"application\", \"solution\", \"help\", \"service\", \"cloud\", \"include\", \"network\", \"security\", \"user\", \"analytic\", \"base\", \"provide\", \"offer\", \"industry\", \"need\", \"announce\", \"use\", \"management\", \"machine_learn\", \"global\", \"reconasense\", \"thrill\", \"orchestrate\", \"elastic\", \"artificial_intelligence\", \"weather\", \"mateo\", \"transactional\", \"portability\", \"filter\", \"channelmeter\", \"calero\", \"content\", \"transactional_content_service\", \"zirm\", \"metadata\", \"request_work_order\", \"pega_cloud\", \"opentext_release\", \"ksql\", \"hotfix\", \"neurala\", \"subscription\", \"sunbird\", \"serverless\", \"decision\", \"opentext\", \"competency\", \"business_content_service\", \"adam\", \"datum\", \"analytic\", \"collaboration\", \"datum_source\", \"efficiency\", \"interface\", \"walkme\", \"enterprise\", \"device\", \"drive\", \"strong\", \"informatica\", \"deliver\", \"real\", \"revenue\", \"innovation\", \"report\", \"platform\", \"customer\", \"2017\", \"software\", \"organization\", \"global\", \"solution\", \"capability\", \"application\", \"development\", \"technology\", \"insight\", \"product\", \"design\", \"cloud\", \"user\", \"industry\", \"company\", \"market\", \"business\", \"use\", \"help\", \"service\", \"management\", \"include\", \"internet_thing\", \"need\", \"provide\", \"process\", \"security\", \"base\", \"traditional\", \"business_wire\", \"korea\", \"expect_grow\", \"expo\", \"unique\", \"creation\", \"simplicity\", \"bpmn\", \"enterprise_explorer\", \"mendix\", \"cyber_security\", \"lend\", \"accelerate\", \"language\", \"rapid\", \"traditionally\", \"tourism\", \"conversation\", \"advance\", \"cyberattack\", \"experience\", \"unpredictable\", \"entirely\", \"annual\", \"howard\", \"research\", \"gather\", \"kevin\", \"footprint\", \"future\", \"action\", \"electric\", \"datum_lake\", \"open\", \"connect\", \"leadership\", \"market\", \"development\", \"dashboard\", \"business\", \"datum_analytic\", \"live\", \"growth\", \"grow\", \"industrial\", \"help\", \"service\", \"company\", \"provide\", \"customer\", \"solution\", \"management\", \"base\", \"include\", \"user\", \"platform\", \"network\", \"capability\", \"enable\", \"technology\", \"process\", \"datum\", \"industry\", \"analytic\", \"internet_thing\", \"offer\", \"security\", \"cloud\", \"report\", \"global\", \"enterprise\", \"software\", \"use\", \"application\", \"mobile\", \"water_softener\", \"fpgas\", \"taas\", \"footage\", \"nyetya\", \"breach\", \"conserve\", \"conditional\", \"kodak\", \"tiger\", \"borton_say\", \"cloudblog\", \"reap\", \"outdoor\", \"drone\", \"machine_learn\", \"mathematic\", \"zuckerman\", \"material\", \"pcauthority\", \"smp\", \"gadget\", \"heritage\", \"amman\", \"attendant\", \"lag\", \"virtual_machine\", \"cybersecurity\", \"fluorinate\", \"shahangian\", \"quantum_compute\", \"advice\", \"senate\", \"potentially\", \"pattern\", \"control\", \"marketscape\", \"gpus\", \"announce\", \"watson\", \"revolution\", \"possible\", \"researcher\", \"apple\", \"year\", \"know\", \"human\", \"long\", \"service\", \"start\", \"company\", \"security\", \"smart_city\", \"base\", \"provide\", \"smart\", \"business\", \"work\", \"accord\", \"offer\", \"late\", \"internet_thing\", \"use\", \"design\", \"application\", \"help\", \"datum\", \"blockchain\", \"market\", \"city\", \"platform\", \"industry\", \"process\", \"solution\", \"cloud\", \"technology\", \"mobile\", \"time\", \"software\", \"global\", \"customer\", \"include\", \"management\", \"device\", \"enterprise\", \"resident\", \"activation\", \"electrodermal\", \"canadian\", \"yahoo\", \"wisconsin\", \"preset\", \"innervate\", \"proliant\", \"fold\", \"hacon\", \"sensitive\", \"appium\", \"samsung\", \"indianapolis\", \"airline\", \"bixby\", \"rural\", \"mobility_innovation\", \"composable\", \"fibrillation\", \"tip\", \"television\", \"pipe\", \"chicken\", \"umii\", \"basil\", \"normally\", \"terrago\", \"enterprise_mobility\", \"wearable\", \"cardiogram\", \"innovapptive\", \"ahead\", \"virtual_machine\", \"compute\", \"mobile\", \"privacy\", \"alibaba\", \"access\", \"mobile_device\", \"android\", \"india\", \"cio\", \"heart_rate\", \"apple\", \"message\", \"method\", \"need\", \"technology\", \"network\", \"product\", \"machine_learn\", \"test\", \"cloud\", \"device\", \"account\", \"information\", \"enable\", \"environment\", \"large\", \"drone\", \"system\", \"service\", \"lead\", \"work\", \"mobility\", \"world\", \"provide\", \"security\", \"industry\", \"base\", \"build\", \"market\", \"management\", \"user\", \"company\", \"include\", \"customer\", \"datum\", \"solution\", \"application\", \"use\", \"platform\", \"business\", \"software\", \"year\", \"analytic\", \"exist\", \"service_provider\", \"color\", \"coverage\", \"climate\", \"handset\", \"year\", \"root_trust\", \"guidance\", \"mobile\", \"battery\", \"vimpelcom\", \"provider\", \"occasion\", \"escalate\", \"london\", \"release_date\", \"indicate\", \"size\", \"reportedly\", \"dl380\", \"therapy\", \"canadian\", \"diameter\", \"smartphon\", \"appium\", \"silicon\", \"stabilize\", \"telefonica\", \"variation\", \"consumer\", \"partner\", \"announce\", \"consumption\", \"single\", \"network\", \"2016\", \"device\", \"account\", \"strategic\", \"board\", \"focus\", \"india\", \"launch\", \"business\", \"enhance\", \"able\", \"digital\", \"application\", \"datum\", \"offer\", \"technology\", \"mobile_device\", \"approach\", \"company\", \"market\", \"smart\", \"power\", \"team\", \"help\", \"blockchain\", \"customer\", \"platform\", \"include\", \"security\", \"support\", \"user\", \"solution\", \"analytic\", \"base\", \"cloud\", \"design\", \"global\", \"use\", \"need\", \"service\", \"management\", \"provide\", \"industry\", \"enterprise\"], \"Freq\": [742.0, 352.0, 363.0, 392.0, 366.0, 399.0, 328.0, 209.0, 168.0, 164.0, 211.0, 317.0, 229.0, 357.0, 249.0, 193.0, 130.0, 180.0, 201.0, 233.0, 187.0, 220.0, 145.0, 237.0, 164.0, 107.0, 194.0, 189.0, 153.0, 189.0, 10.732438461154217, 5.673779263405679, 3.5746100806323637, 2.2660925361562403, 37.81267182542235, 7.996102173945164, 2.2168547787090804, 5.018982370200675, 3.204481487950643, 11.971776416026561, 10.141099260696224, 8.098232186908946, 34.04571758484677, 4.149634083736348, 9.360675842100234, 5.040176069528775, 4.4432748562545905, 5.4236186362114, 3.886227883120482, 4.378743752429073, 3.252768074030438, 3.213349888875971, 10.239271891744586, 6.626516804117351, 4.730007134444437, 23.791753609942326, 21.82843713012828, 5.015502076351392, 5.969936529671784, 3.7660418279692136, 405.4874766920662, 128.4396237893329, 33.25561488650491, 10.599096891218927, 24.596766133298164, 20.011702304902094, 7.743567694670288, 107.63870975359697, 109.38976869527993, 60.629639679968406, 21.15512604962698, 17.65526838465696, 70.29555120374413, 16.42527995330969, 29.893763115184267, 46.194177587918865, 98.64532233577461, 190.22672042928463, 157.9071824077451, 60.79126614091747, 97.74786364958452, 63.66317218605581, 90.13602467153738, 143.59491982626565, 65.35479861443373, 98.15258590292326, 63.58665936573926, 157.72226425676942, 59.42645566137619, 65.72295172809775, 64.02223483357311, 109.45340803500116, 90.78541695522595, 102.68948497865453, 156.54046056057646, 146.14753190851536, 141.14826010313766, 86.2478547711592, 96.74361096715498, 136.29493301994108, 80.5832956463018, 80.9561931669957, 76.6641163401342, 71.17848579590093, 81.7741828153871, 70.83513021698872, 67.1625651821707, 66.64890261985241, 10.107420658984362, 4.185330409485597, 3.9395771291520822, 2.921200128509862, 2.7492904950231596, 9.899526758806962, 3.4986265471372664, 1.5220511334179632, 5.23578756297895, 2.086085963795354, 2.9753066429853106, 2.267796161196547, 3.1534339649948198, 15.19149151515404, 6.379031524554657, 7.353536211774443, 1.156590269768548, 2.0813053951887577, 1.9805852704162763, 24.97822121370734, 1.3247415018118582, 24.418973754558504, 0.543096618957015, 1.6312213070200559, 6.730367666230557, 0.8195659955881974, 31.331200739438312, 3.3451043053237406, 1.6585256233935164, 1.3885292084194316, 31.50654063192413, 6.934006972508812, 3.8169652472558964, 2.5601365608389943, 19.84952360460874, 30.49866546012142, 4.224283517143674, 106.45554580839809, 39.2386536322367, 7.0852178868609474, 99.10432072498811, 24.9773881725567, 10.927248801169737, 19.997822127341973, 23.64493758307287, 14.59594609997026, 61.854514866678755, 93.28565272802977, 99.73249641614507, 57.82293386147342, 83.53587111684175, 80.56995042784784, 50.27471067778766, 49.49723459299367, 50.87129117618052, 52.48254835846902, 96.78280555111681, 35.20416574867948, 36.04431084895012, 39.55290315608478, 83.6570604886234, 41.11592581955379, 144.30786479876696, 55.95960054556015, 53.74998751323224, 44.276031476569244, 36.96551218738719, 43.28785116423549, 54.520632018708504, 45.95545978717481, 42.30585194278319, 41.25706668735693, 40.01654479982254, 39.64834909021694, 39.873998148395735, 37.53234207305181, 2.73356859273164, 2.967214450050543, 3.9980868637476936, 1.245655137992151, 0.9009531921750445, 0.9041207060032117, 0.8698413126503297, 0.8739210734187336, 2.3127453708353745, 0.8472357153214956, 2.0285507595060537, 0.8523259651954682, 0.8532380273775035, 0.8564587859710955, 25.446210659121697, 50.093276282655424, 1.7093360117608252, 0.5644722319222837, 3.115271229125424, 1.1301451519941803, 1.7314995219566596, 0.839616152823362, 1.1309847022907251, 0.816834174420493, 0.8186538684922792, 0.5348025736064937, 3.2295263702662855, 8.019674748007802, 0.8242894251397116, 0.5511463356216129, 19.109895638568734, 1.9909340303504555, 1.3295689974655767, 3.2287337954240023, 7.228221340134679, 14.364932681193023, 3.469852539481943, 1.9394226089696855, 29.44861450669, 12.769799658846493, 4.416807466432923, 8.265471035223108, 9.120492054914768, 6.857105734497351, 42.29301402546192, 11.684235588544734, 12.1411338188598, 9.443518559004321, 77.80536384213535, 13.209969218334788, 83.93713090751358, 40.803524435307054, 27.239190947870718, 41.879591838438785, 47.94842736845631, 22.717219795558286, 71.80685483684478, 32.27720986384911, 18.818060472248423, 32.85347379245047, 20.44654560852635, 39.17222839692109, 41.14914436140537, 29.88751057917691, 42.65050534594245, 45.242530641834534, 115.33780293432643, 25.78882553432197, 63.978549889674845, 18.676446035336543, 68.31505029143455, 44.782383276347964, 33.16422832016072, 54.31054349567808, 44.92580475054711, 58.55133652111328, 33.046895547181, 28.372837090514935, 35.52073807686094, 34.26769310054624, 45.02943730438434, 32.14875073370354, 30.534435948182104, 30.934935316565422, 30.316216440691075, 0.9821796423162399, 0.975515720795647, 0.9208397587309681, 0.8827730689141945, 1.6749237792410496, 0.5332216455693232, 0.5241742980312167, 0.3455693380180915, 0.6753524834208132, 0.8689924232786657, 1.3186113245857125, 1.077654404120919, 1.8257897438056514, 3.2136933746465863, 0.34955143614227513, 1.0330796130452324, 0.3446210926364415, 0.8608163296594484, 1.9854810340755598, 0.8461528584961812, 0.845955848311113, 1.224693797345892, 0.9980650843034079, 0.33610384505279717, 0.34558757562834996, 0.8768029335526578, 0.3316453914091687, 0.3419788026880202, 0.9911598129933604, 3.916858415946476, 4.6226573980432795, 1.1657830612328586, 1.3379130449052499, 2.170806595125716, 2.011412334762085, 9.209050947602844, 30.090666492330357, 2.469051378784383, 3.5994422542666396, 15.824056563625827, 6.113358262897969, 5.0282483856977835, 16.803499128430875, 2.2719950339008737, 2.268133082866208, 4.426277601601748, 4.569534944433432, 3.915038832142187, 26.16416280173077, 53.314372739556056, 20.535452808270904, 21.101082144829622, 23.01957987392664, 15.438139000131422, 35.272455149153565, 29.790918363738136, 5.412639289456273, 21.040802168207957, 22.199431426325777, 10.697857930048638, 14.701667895467782, 12.238133636921374, 17.753177017345955, 44.41899451123259, 18.329395014004096, 19.87972561640141, 8.447372481902706, 18.666743479767078, 28.138898114050555, 23.709942036912594, 29.75025846556356, 24.369241174316524, 18.691216739195415, 40.184501598941644, 23.795931174281733, 24.83301418753514, 41.386676512317166, 23.875839492785428, 33.58781762841771, 57.22873643424914, 31.909331946125445, 24.465046841398646, 23.111473564256535, 34.504462812811774, 28.867671493246753, 21.4028049812001, 19.847707695950017, 20.241304665582614, 1.8377979051308893, 0.8404729919113124, 0.43023747542561114, 0.4320891973864569, 0.2823837916793519, 0.13733129578067652, 7.179868933456994, 0.24308835772015022, 0.3173017190859827, 7.292698015471983, 0.455348307537467, 0.44785260899255996, 2.499276092740227, 0.10073302363138674, 0.13701672945414184, 0.5622488102355993, 0.2792666975293931, 0.2383911875295814, 1.2111495744409535, 0.13488624495804835, 0.06722137624911095, 0.10111259092943388, 0.16183883654215045, 0.06675535215061669, 0.2370133063308283, 0.3592977264806331, 0.5656133955833864, 0.06623034766509833, 0.1338555377187441, 0.1676156700643085, 3.1449408239417753, 4.056238143548124, 4.253841280912191, 0.4050104575371053, 1.544797112944129, 5.047370624897509, 2.8349100281413584, 7.648578650433528, 1.2086975686160935, 1.1784585730929686, 0.7337749136567089, 2.623135125016042, 3.4113714768522585, 3.7874926435507286, 11.319359768754172, 2.2342667123220767, 1.5707597548034042, 3.8929681728980037, 6.690285274446211, 20.396025878189, 4.668518874337498, 10.322246108965587, 1.23439937443931, 2.289232262622394, 10.626064910591198, 9.99439314623934, 3.1083150154613346, 3.7563854442898226, 3.458714477917342, 6.494015811682756, 3.6421283690672053, 8.696843645849553, 10.01607277210776, 5.511225657146063, 5.205252744724808, 3.9274793128833143, 5.312106377426785, 7.13802315896622, 5.671136835223038, 4.87529869720469, 5.709920097214347, 4.002655663655695, 4.639875252162446, 4.630912001509798, 4.270079799623998, 5.60940425195524, 4.48309754420682, 4.696823193871074, 4.812105307186311, 4.535859420019357]}, \"lambda.step\": 0.01, \"plot.opts\": {\"xlab\": \"PC1\", \"ylab\": \"PC2\"}, \"R\": 30, \"mdsDat\": {\"x\": [-0.00653447365493131, -0.0034117882954395147, 0.005373579334953277, 0.004261585745695731, 0.00031109686972182447], \"Freq\": [42.416737721880764, 22.821931363609675, 19.727022833461923, 12.293856647104656, 2.740451433942977], \"topics\": [1, 2, 3, 4, 5], \"y\": [-0.001655896079784613, 0.0033777688177258017, 0.0029542936122653072, -0.0034721190244240752, -0.0012040473257824097], \"cluster\": [1, 1, 1, 1, 1]}, \"token.table\": {\"Term\": [\"2016\", \"2016\", \"2016\", \"2016\", \"2016\", \"2017\", \"2017\", \"2017\", \"2017\", \"2017\", \"able\", \"able\", \"able\", \"able\", \"able\", \"accelerate\", \"accelerate\", \"accelerate\", \"accelerate\", \"accelerate\", \"access\", \"access\", \"access\", \"access\", \"access\", \"accord\", \"accord\", \"accord\", \"accord\", \"accord\", \"account\", \"account\", \"account\", \"account\", \"account\", \"action\", \"action\", \"action\", \"action\", \"action\", \"activation\", \"activation\", \"activation\", \"activation\", \"adam\", \"adam\", \"adam\", \"adam\", \"advance\", \"advance\", \"advance\", \"advance\", \"advance\", \"advice\", \"advice\", \"advice\", \"advice\", \"ahead\", \"ahead\", \"ahead\", \"ahead\", \"airline\", \"airline\", \"airline\", \"airline\", \"alibaba\", \"alibaba\", \"alibaba\", \"alibaba\", \"alibaba\", \"amman\", \"amman\", \"amman\", \"analytic\", \"analytic\", \"analytic\", \"analytic\", \"analytic\", \"android\", \"android\", \"android\", \"android\", \"android\", \"announce\", \"announce\", \"announce\", \"announce\", \"announce\", \"annual\", \"annual\", \"annual\", \"annual\", \"annual\", \"appium\", \"appium\", \"appium\", \"appium\", \"apple\", \"apple\", \"apple\", \"apple\", \"apple\", \"application\", \"application\", \"application\", \"application\", \"application\", \"approach\", \"approach\", \"approach\", \"approach\", \"approach\", \"artificial_intelligence\", \"artificial_intelligence\", \"artificial_intelligence\", \"artificial_intelligence\", \"artificial_intelligence\", \"attendant\", \"attendant\", \"base\", \"base\", \"base\", \"base\", \"base\", \"basil\", \"battery\", \"battery\", \"battery\", \"battery\", \"bixby\", \"blockchain\", \"blockchain\", \"blockchain\", \"blockchain\", \"blockchain\", \"board\", \"board\", \"board\", \"board\", \"board\", \"borton_say\", \"borton_say\", \"borton_say\", \"borton_say\", \"bpmn\", \"bpmn\", \"bpmn\", \"bpmn\", \"breach\", \"breach\", \"build\", \"build\", \"build\", \"build\", \"build\", \"business\", \"business\", \"business\", \"business\", \"business\", \"business_content_service\", \"business_content_service\", \"business_content_service\", \"business_content_service\", \"business_wire\", \"business_wire\", \"business_wire\", \"business_wire\", \"calero\", \"calero\", \"calero\", \"calero\", \"canadian\", \"canadian\", \"canadian\", \"canadian\", \"capability\", \"capability\", \"capability\", \"capability\", \"capability\", \"cardiogram\", \"cardiogram\", \"cardiogram\", \"cardiogram\", \"channelmeter\", \"channelmeter\", \"channelmeter\", \"channelmeter\", \"chicken\", \"cio\", \"cio\", \"cio\", \"cio\", \"city\", \"city\", \"city\", \"city\", \"city\", \"climate\", \"climate\", \"climate\", \"climate\", \"cloud\", \"cloud\", \"cloud\", \"cloud\", \"cloud\", \"cloudblog\", \"cloudblog\", \"cloudblog\", \"collaboration\", \"collaboration\", \"collaboration\", \"collaboration\", \"collaboration\", \"color\", \"color\", \"color\", \"color\", \"company\", \"company\", \"company\", \"company\", \"company\", \"competency\", \"competency\", \"competency\", \"competency\", \"composable\", \"composable\", \"composable\", \"composable\", \"compute\", \"compute\", \"compute\", \"compute\", \"compute\", \"conditional\", \"conditional\", \"conditional\", \"connect\", \"connect\", \"connect\", \"connect\", \"connect\", \"conserve\", \"conserve\", \"consumer\", \"consumer\", \"consumer\", \"consumer\", \"consumer\", \"consumption\", \"consumption\", \"consumption\", \"consumption\", \"content\", \"content\", \"content\", \"content\", \"content\", \"control\", \"control\", \"control\", \"control\", \"control\", \"conversation\", \"conversation\", \"conversation\", \"conversation\", \"coverage\", \"coverage\", \"coverage\", \"coverage\", \"creation\", \"creation\", \"creation\", \"creation\", \"customer\", \"customer\", \"customer\", \"customer\", \"customer\", \"cyber_security\", \"cyber_security\", \"cyber_security\", \"cyber_security\", \"cyberattack\", \"cyberattack\", \"cyberattack\", \"cyberattack\", \"cybersecurity\", \"cybersecurity\", \"cybersecurity\", \"cybersecurity\", \"cybersecurity\", \"dashboard\", \"dashboard\", \"dashboard\", \"dashboard\", \"datum\", \"datum\", \"datum\", \"datum\", \"datum\", \"datum_analytic\", \"datum_analytic\", \"datum_analytic\", \"datum_analytic\", \"datum_analytic\", \"datum_lake\", \"datum_lake\", \"datum_lake\", \"datum_lake\", \"datum_source\", \"datum_source\", \"datum_source\", \"datum_source\", \"decision\", \"decision\", \"decision\", \"decision\", \"decision\", \"deliver\", \"deliver\", \"deliver\", \"deliver\", \"deliver\", \"design\", \"design\", \"design\", \"design\", \"design\", \"development\", \"development\", \"development\", \"development\", \"development\", \"device\", \"device\", \"device\", \"device\", \"device\", \"diameter\", \"digital\", \"digital\", \"digital\", \"digital\", \"digital\", \"dl380\", \"drive\", \"drive\", \"drive\", \"drive\", \"drive\", \"drone\", \"drone\", \"drone\", \"drone\", \"drone\", \"efficiency\", \"efficiency\", \"efficiency\", \"efficiency\", \"efficiency\", \"elastic\", \"elastic\", \"electric\", \"electric\", \"electric\", \"electric\", \"electrodermal\", \"electrodermal\", \"electrodermal\", \"electrodermal\", \"enable\", \"enable\", \"enable\", \"enable\", \"enable\", \"enhance\", \"enhance\", \"enhance\", \"enhance\", \"enhance\", \"enterprise\", \"enterprise\", \"enterprise\", \"enterprise\", \"enterprise\", \"enterprise_explorer\", \"enterprise_explorer\", \"enterprise_explorer\", \"enterprise_explorer\", \"enterprise_mobility\", \"enterprise_mobility\", \"enterprise_mobility\", \"enterprise_mobility\", \"enterprise_mobility\", \"entirely\", \"entirely\", \"entirely\", \"entirely\", \"environment\", \"environment\", \"environment\", \"environment\", \"environment\", \"escalate\", \"escalate\", \"escalate\", \"escalate\", \"exist\", \"exist\", \"exist\", \"exist\", \"exist\", \"expect_grow\", \"expect_grow\", \"expect_grow\", \"expect_grow\", \"experience\", \"experience\", \"experience\", \"experience\", \"experience\", \"expo\", \"expo\", \"expo\", \"expo\", \"fibrillation\", \"fibrillation\", \"fibrillation\", \"fibrillation\", \"filter\", \"filter\", \"filter\", \"filter\", \"filter\", \"fluorinate\", \"fluorinate\", \"focus\", \"focus\", \"focus\", \"focus\", \"focus\", \"fold\", \"fold\", \"fold\", \"fold\", \"footage\", \"footage\", \"footage\", \"footprint\", \"footprint\", \"footprint\", \"fpgas\", \"fpgas\", \"fpgas\", \"fpgas\", \"future\", \"future\", \"future\", \"future\", \"future\", \"gadget\", \"gadget\", \"gather\", \"gather\", \"gather\", \"gather\", \"global\", \"global\", \"global\", \"global\", \"global\", \"gpus\", \"gpus\", \"gpus\", \"gpus\", \"grow\", \"grow\", \"grow\", \"grow\", \"grow\", \"growth\", \"growth\", \"growth\", \"growth\", \"growth\", \"guidance\", \"guidance\", \"guidance\", \"guidance\", \"hacon\", \"hacon\", \"hacon\", \"hacon\", \"handset\", \"handset\", \"handset\", \"handset\", \"heart_rate\", \"heart_rate\", \"heart_rate\", \"heart_rate\", \"help\", \"help\", \"help\", \"help\", \"help\", \"heritage\", \"heritage\", \"heritage\", \"hotfix\", \"hotfix\", \"hotfix\", \"hotfix\", \"howard\", \"howard\", \"howard\", \"human\", \"human\", \"human\", \"human\", \"human\", \"include\", \"include\", \"include\", \"include\", \"include\", \"india\", \"india\", \"india\", \"india\", \"india\", \"indianapolis\", \"indicate\", \"indicate\", \"indicate\", \"indicate\", \"industrial\", \"industrial\", \"industrial\", \"industrial\", \"industrial\", \"industry\", \"industry\", \"industry\", \"industry\", \"industry\", \"informatica\", \"informatica\", \"informatica\", \"informatica\", \"informatica\", \"information\", \"information\", \"information\", \"information\", \"information\", \"innervate\", \"innovapptive\", \"innovapptive\", \"innovapptive\", \"innovapptive\", \"innovation\", \"innovation\", \"innovation\", \"innovation\", \"innovation\", \"insight\", \"insight\", \"insight\", \"insight\", \"insight\", \"interface\", \"interface\", \"interface\", \"interface\", \"interface\", \"internet_thing\", \"internet_thing\", \"internet_thing\", \"internet_thing\", \"internet_thing\", \"kevin\", \"kevin\", \"kevin\", \"kevin\", \"know\", \"know\", \"know\", \"know\", \"know\", \"kodak\", \"kodak\", \"kodak\", \"kodak\", \"korea\", \"korea\", \"korea\", \"korea\", \"ksql\", \"ksql\", \"ksql\", \"lag\", \"language\", \"language\", \"language\", \"language\", \"language\", \"large\", \"large\", \"large\", \"large\", \"large\", \"late\", \"late\", \"late\", \"late\", \"late\", \"launch\", \"launch\", \"launch\", \"launch\", \"launch\", \"lead\", \"lead\", \"lead\", \"lead\", \"lead\", \"leadership\", \"leadership\", \"leadership\", \"leadership\", \"lend\", \"lend\", \"lend\", \"lend\", \"live\", \"live\", \"live\", \"live\", \"live\", \"london\", \"london\", \"london\", \"london\", \"london\", \"long\", \"long\", \"long\", \"long\", \"long\", \"machine_learn\", \"machine_learn\", \"machine_learn\", \"machine_learn\", \"machine_learn\", \"management\", \"management\", \"management\", \"management\", \"management\", \"market\", \"market\", \"market\", \"market\", \"market\", \"marketscape\", \"marketscape\", \"marketscape\", \"marketscape\", \"mateo\", \"mateo\", \"material\", \"material\", \"material\", \"material\", \"mathematic\", \"mathematic\", \"mathematic\", \"mathematic\", \"mendix\", \"mendix\", \"mendix\", \"mendix\", \"message\", \"message\", \"message\", \"message\", \"message\", \"metadata\", \"metadata\", \"metadata\", \"metadata\", \"method\", \"method\", \"method\", \"method\", \"method\", \"mobile\", \"mobile\", \"mobile\", \"mobile\", \"mobile\", \"mobile_device\", \"mobile_device\", \"mobile_device\", \"mobile_device\", \"mobile_device\", \"mobility\", \"mobility\", \"mobility\", \"mobility\", \"mobility\", \"mobility_innovation\", \"mobility_innovation\", \"mobility_innovation\", \"mobility_innovation\", \"need\", \"need\", \"need\", \"need\", \"need\", \"network\", \"network\", \"network\", \"network\", \"network\", \"neurala\", \"neurala\", \"neurala\", \"neurala\", \"normally\", \"nyetya\", \"nyetya\", \"occasion\", \"occasion\", \"occasion\", \"offer\", \"offer\", \"offer\", \"offer\", \"offer\", \"open\", \"open\", \"open\", \"open\", \"open\", \"opentext\", \"opentext\", \"opentext\", \"opentext\", \"opentext\", \"opentext_release\", \"opentext_release\", \"opentext_release\", \"opentext_release\", \"orchestrate\", \"orchestrate\", \"orchestrate\", \"organization\", \"organization\", \"organization\", \"organization\", \"organization\", \"outdoor\", \"outdoor\", \"partner\", \"partner\", \"partner\", \"partner\", \"partner\", \"pattern\", \"pattern\", \"pattern\", \"pattern\", \"pattern\", \"pcauthority\", \"pcauthority\", \"pcauthority\", \"pcauthority\", \"pega_cloud\", \"pega_cloud\", \"pega_cloud\", \"pega_cloud\", \"pipe\", \"platform\", \"platform\", \"platform\", \"platform\", \"platform\", \"portability\", \"portability\", \"portability\", \"portability\", \"possible\", \"possible\", \"possible\", \"possible\", \"possible\", \"potentially\", \"potentially\", \"potentially\", \"potentially\", \"power\", \"power\", \"power\", \"power\", \"power\", \"preset\", \"preset\", \"preset\", \"privacy\", \"privacy\", \"privacy\", \"privacy\", \"process\", \"process\", \"process\", \"process\", \"process\", \"product\", \"product\", \"product\", \"product\", \"product\", \"proliant\", \"proliant\", \"proliant\", \"proliant\", \"provide\", \"provide\", \"provide\", \"provide\", \"provide\", \"provider\", \"provider\", \"provider\", \"provider\", \"provider\", \"quantum_compute\", \"quantum_compute\", \"quantum_compute\", \"quantum_compute\", \"quantum_compute\", \"rapid\", \"rapid\", \"rapid\", \"rapid\", \"rapid\", \"real\", \"real\", \"real\", \"real\", \"real\", \"reap\", \"reap\", \"reconasense\", \"reconasense\", \"reconasense\", \"reconasense\", \"reconasense\", \"release_date\", \"release_date\", \"release_date\", \"release_date\", \"report\", \"report\", \"report\", \"report\", \"report\", \"reportedly\", \"reportedly\", \"reportedly\", \"reportedly\", \"request_work_order\", \"request_work_order\", \"request_work_order\", \"research\", \"research\", \"research\", \"research\", \"research\", \"researcher\", \"researcher\", \"researcher\", \"researcher\", \"researcher\", \"resident\", \"resident\", \"resident\", \"resident\", \"revenue\", \"revenue\", \"revenue\", \"revenue\", \"revenue\", \"revolution\", \"revolution\", \"revolution\", \"revolution\", \"root_trust\", \"root_trust\", \"root_trust\", \"root_trust\", \"rural\", \"rural\", \"rural\", \"rural\", \"samsung\", \"samsung\", \"samsung\", \"samsung\", \"security\", \"security\", \"security\", \"security\", \"security\", \"senate\", \"senate\", \"senate\", \"senate\", \"sensitive\", \"sensitive\", \"sensitive\", \"sensitive\", \"serverless\", \"serverless\", \"serverless\", \"serverless\", \"service\", \"service\", \"service\", \"service\", \"service\", \"service_provider\", \"service_provider\", \"service_provider\", \"service_provider\", \"service_provider\", \"shahangian\", \"shahangian\", \"silicon\", \"silicon\", \"silicon\", \"silicon\", \"silicon\", \"simplicity\", \"simplicity\", \"simplicity\", \"single\", \"single\", \"single\", \"single\", \"single\", \"size\", \"size\", \"size\", \"size\", \"size\", \"smart\", \"smart\", \"smart\", \"smart\", \"smart\", \"smart_city\", \"smart_city\", \"smart_city\", \"smart_city\", \"smart_city\", \"smartphon\", \"smartphon\", \"smartphon\", \"smartphon\", \"smp\", \"smp\", \"smp\", \"smp\", \"software\", \"software\", \"software\", \"software\", \"software\", \"solution\", \"solution\", \"solution\", \"solution\", \"solution\", \"stabilize\", \"start\", \"start\", \"start\", \"start\", \"start\", \"strategic\", \"strategic\", \"strategic\", \"strategic\", \"strategic\", \"strong\", \"strong\", \"strong\", \"strong\", \"strong\", \"subscription\", \"subscription\", \"subscription\", \"subscription\", \"sunbird\", \"sunbird\", \"sunbird\", \"sunbird\", \"support\", \"support\", \"support\", \"support\", \"support\", \"system\", \"system\", \"system\", \"system\", \"system\", \"taas\", \"taas\", \"taas\", \"taas\", \"team\", \"team\", \"team\", \"team\", \"team\", \"technology\", \"technology\", \"technology\", \"technology\", \"technology\", \"telefonica\", \"telefonica\", \"telefonica\", \"television\", \"television\", \"television\", \"television\", \"terrago\", \"terrago\", \"terrago\", \"terrago\", \"test\", \"test\", \"test\", \"test\", \"test\", \"therapy\", \"therapy\", \"thrill\", \"thrill\", \"thrill\", \"thrill\", \"tiger\", \"tiger\", \"tiger\", \"time\", \"time\", \"time\", \"time\", \"time\", \"tip\", \"tip\", \"tip\", \"tip\", \"tourism\", \"tourism\", \"tourism\", \"tourism\", \"traditional\", \"traditional\", \"traditional\", \"traditional\", \"traditional\", \"traditionally\", \"traditionally\", \"traditionally\", \"transactional\", \"transactional\", \"transactional\", \"transactional\", \"transactional_content_service\", \"transactional_content_service\", \"transactional_content_service\", \"transactional_content_service\", \"umii\", \"umii\", \"umii\", \"umii\", \"unique\", \"unique\", \"unique\", \"unique\", \"unique\", \"unpredictable\", \"unpredictable\", \"use\", \"use\", \"use\", \"use\", \"use\", \"user\", \"user\", \"user\", \"user\", \"user\", \"variation\", \"variation\", \"variation\", \"variation\", \"vimpelcom\", \"vimpelcom\", \"vimpelcom\", \"vimpelcom\", \"virtual_machine\", \"virtual_machine\", \"virtual_machine\", \"virtual_machine\", \"walkme\", \"walkme\", \"walkme\", \"walkme\", \"water_softener\", \"water_softener\", \"water_softener\", \"water_softener\", \"watson\", \"watson\", \"watson\", \"watson\", \"watson\", \"wearable\", \"wearable\", \"wearable\", \"wearable\", \"wearable\", \"weather\", \"weather\", \"weather\", \"weather\", \"wisconsin\", \"wisconsin\", \"wisconsin\", \"work\", \"work\", \"work\", \"work\", \"work\", \"world\", \"world\", \"world\", \"world\", \"world\", \"yahoo\", \"yahoo\", \"yahoo\", \"yahoo\", \"year\", \"year\", \"year\", \"year\", \"year\", \"zirm\", \"zirm\", \"zirm\", \"zirm\", \"zuckerman\", \"zuckerman\"], \"Freq\": [0.4356958322139369, 0.2042324213502829, 0.21784791610696844, 0.12253945281016974, 0.040846484270056584, 0.5111118341131321, 0.17595653305534054, 0.1508198854760062, 0.1340621204231166, 0.025136647579334363, 0.3538933992719113, 0.2359289328479409, 0.2359289328479409, 0.14155735970876454, 0.047185786569588176, 0.34434452353334544, 0.32282299081251137, 0.19369379448750682, 0.10760766360417046, 0.02152153272083409, 0.36135663821403685, 0.2710174786605276, 0.15809352921864112, 0.18067831910701843, 0.03387718483256595, 0.41906617124790485, 0.1964372677724554, 0.2488205391784435, 0.10476654281197621, 0.026191635702994053, 0.35891636023181794, 0.22840132014752051, 0.1631438001053718, 0.1631438001053718, 0.03262876002107436, 0.40899765979231023, 0.31810929094957463, 0.1363325532641034, 0.0908883688427356, 0.0454441844213678, 0.2516536706410939, 0.2516536706410939, 0.2516536706410939, 0.2516536706410939, 0.5977033013328087, 0.14942582533320217, 0.14942582533320217, 0.14942582533320217, 0.32299634871443417, 0.32299634871443417, 0.1937978092286605, 0.12919853948577367, 0.025839707897154732, 0.3194761603715174, 0.1597380801857587, 0.3194761603715174, 0.1597380801857587, 0.36664265049041334, 0.18332132524520667, 0.18332132524520667, 0.18332132524520667, 0.4023588491531361, 0.20117942457656804, 0.20117942457656804, 0.20117942457656804, 0.37477866734528253, 0.16061942886226394, 0.26769904810377326, 0.2141592384830186, 0.05353980962075465, 0.39607681245445026, 0.39607681245445026, 0.39607681245445026, 0.5485298589971245, 0.2314110342644119, 0.10713473808537587, 0.0857077904683007, 0.025712337140490208, 0.4126098440033245, 0.11252995745545213, 0.22505991491090427, 0.18754992909242024, 0.03750998581848405, 0.3629761413191967, 0.19544869147956748, 0.269905335852736, 0.13029912765304497, 0.03722832218658428, 0.37888029338974843, 0.3315202567160299, 0.14208011002115567, 0.14208011002115567, 0.047360036673718554, 0.34748342730656234, 0.2316556182043749, 0.2316556182043749, 0.2316556182043749, 0.38023781892876013, 0.12674593964292002, 0.2957405258334801, 0.16899458619056004, 0.04224864654764001, 0.46262984343941244, 0.1888285075262908, 0.2029906455907626, 0.11329710451577447, 0.03304498881710089, 0.3327424399172816, 0.27224381447777585, 0.2117451890382701, 0.15124656359876437, 0.030249312719752872, 0.5887519235374976, 0.18592166006447294, 0.10845430170427588, 0.09296083003223647, 0.03098694334407882, 0.39456937767052214, 0.39456937767052214, 0.3577716867999896, 0.2616539201970073, 0.22427478874029197, 0.1281570221373097, 0.026699379611939522, 0.6130550655314647, 0.3765672839037041, 0.18828364195185204, 0.28242546292777804, 0.09414182097592602, 0.6029712081516732, 0.4000229150243559, 0.2174037581654108, 0.22609990849202724, 0.1304422548992465, 0.034784601306465726, 0.4343848167452565, 0.16289430627947118, 0.21719240837262824, 0.10859620418631412, 0.05429810209315706, 0.3237069777629578, 0.1618534888814789, 0.3237069777629578, 0.1618534888814789, 0.4467052525752475, 0.3190751804108911, 0.12763007216435643, 0.06381503608217821, 0.38455285982536996, 0.38455285982536996, 0.44977636128594584, 0.20312480832268523, 0.1886158934424934, 0.1378346913618221, 0.029017829760383602, 0.400287904177141, 0.2810532093158649, 0.20440233404790178, 0.08232871788040488, 0.031228134368429437, 0.566091039872526, 0.188697013290842, 0.094348506645421, 0.094348506645421, 0.3327122255738881, 0.3327122255738881, 0.16635611278694404, 0.16635611278694404, 0.571640890025899, 0.21436533375971215, 0.07145511125323738, 0.14291022250647475, 0.2580495054235714, 0.2580495054235714, 0.2580495054235714, 0.2580495054235714, 0.48102029405884916, 0.26641123978643955, 0.14800624432579976, 0.08140343437918986, 0.022200936648869962, 0.34631603039831954, 0.17315801519915977, 0.17315801519915977, 0.17315801519915977, 0.5721138560394226, 0.17163415681182678, 0.11442277120788452, 0.11442277120788452, 0.5900375495930376, 0.4313466661696959, 0.17253866646787838, 0.17253866646787838, 0.17253866646787838, 0.3745320840847291, 0.232468190121556, 0.24538308957275357, 0.116234095060778, 0.03874469835359267, 0.3156030052998442, 0.3156030052998442, 0.3156030052998442, 0.1578015026499221, 0.43620550504920774, 0.22010369520831582, 0.18008484153407658, 0.14006598785983734, 0.024011312204543545, 0.38459574514925604, 0.38459574514925604, 0.38459574514925604, 0.5506560789659538, 0.1835520263219846, 0.15017893062707832, 0.08343273923726573, 0.016686547847453145, 0.4179242260180414, 0.2089621130090207, 0.2089621130090207, 0.10448105650451035, 0.4002826665580341, 0.25495711245734654, 0.2141639744641711, 0.10453241610751209, 0.028045282370308122, 0.5636548522712144, 0.22546194090848576, 0.11273097045424288, 0.11273097045424288, 0.24326979054592884, 0.24326979054592884, 0.24326979054592884, 0.24326979054592884, 0.40766760034758887, 0.183450420156415, 0.20383380017379443, 0.183450420156415, 0.020383380017379445, 0.3880765990862025, 0.3880765990862025, 0.3880765990862025, 0.40634380253446034, 0.2973247335618003, 0.17839484013708015, 0.08919742006854008, 0.019821648904120016, 0.394638239295454, 0.394638239295454, 0.4190270680224627, 0.20951353401123135, 0.17022974638412547, 0.14404055463272156, 0.039283787627105875, 0.40355836773085624, 0.20177918386542812, 0.20177918386542812, 0.10088959193271406, 0.5756903959157289, 0.16932070468109675, 0.1354565637448774, 0.08466035234054838, 0.03386414093621935, 0.30401925873231506, 0.24321540698585206, 0.28375130815016075, 0.12160770349292603, 0.02026795058215434, 0.3260711507757895, 0.3260711507757895, 0.16303557538789476, 0.16303557538789476, 0.41297059266935193, 0.20648529633467597, 0.20648529633467597, 0.10324264816733798, 0.385129202102561, 0.2888469015769208, 0.1925646010512805, 0.09628230052564025, 0.4805979093966109, 0.255507749299464, 0.13687915141042714, 0.1034198032878783, 0.02737583028208543, 0.28913612893723883, 0.28913612893723883, 0.14456806446861942, 0.14456806446861942, 0.24240284060004647, 0.24240284060004647, 0.24240284060004647, 0.24240284060004647, 0.3177412928972027, 0.15887064644860135, 0.3177412928972027, 0.15887064644860135, 0.03971766161215034, 0.4381786767323016, 0.30672507371261115, 0.13145360301969047, 0.08763573534646033, 0.5452651480734473, 0.19387205264833682, 0.1548283753788801, 0.07674102083996666, 0.02692667397893567, 0.43737569973046697, 0.29552412143950474, 0.1063886837182217, 0.13003061343338207, 0.023641929715160378, 0.3698464507519547, 0.3698464507519547, 0.24656430050130315, 0.12328215025065158, 0.5802399946338676, 0.21099636168504274, 0.10549818084252137, 0.10549818084252137, 0.5711419124687322, 0.1903806374895774, 0.11898789843098588, 0.0951903187447887, 0.023797579686197175, 0.5146687352276998, 0.20586749409107996, 0.16910544157481566, 0.08087651553578142, 0.02940964201301142, 0.47239269987471966, 0.19190953432410487, 0.22143407806627485, 0.08857363122650994, 0.02952454374216998, 0.48458937951114095, 0.2952966531396015, 0.1362907629875084, 0.0681453814937542, 0.022715127164584733, 0.5213886600761031, 0.14828484827852473, 0.14828484827852473, 0.14350146607599168, 0.038267057620264444, 0.6245078207614596, 0.37667411840704973, 0.25403603334428937, 0.21899658046921494, 0.11387822184399178, 0.035039452875074394, 0.6274415520717974, 0.5340401395010905, 0.21011415324633068, 0.14883085854948425, 0.09630232023790156, 0.017509512770527556, 0.29501875551724616, 0.20523043862069296, 0.32067256034483277, 0.15392282896551973, 0.01282690241379331, 0.5582229379067395, 0.15630242261388708, 0.15630242261388708, 0.1116445875813479, 0.02232891751626958, 0.5203821085309602, 0.2601910542654801, 0.3297819539062646, 0.3297819539062646, 0.1648909769531323, 0.08244548847656614, 0.24935340132470366, 0.24935340132470366, 0.24935340132470366, 0.24935340132470366, 0.41827226898397246, 0.26142016811498275, 0.15685210086898968, 0.14378109246324053, 0.02614201681149828, 0.4520357092546591, 0.20987372215394884, 0.19372958968056816, 0.11300892731366477, 0.03228826494676136, 0.533819894964389, 0.20265384901425879, 0.1482833041567747, 0.09391275929929066, 0.02471388402612912, 0.31853754914178883, 0.31853754914178883, 0.15926877457089442, 0.15926877457089442, 0.3621163132717, 0.20692360758382858, 0.20692360758382858, 0.20692360758382858, 0.051730901895957145, 0.39137697532560267, 0.39137697532560267, 0.19568848766280134, 0.19568848766280134, 0.4197101400868759, 0.1948654221831924, 0.20985507004343795, 0.16488612646270126, 0.029979295720491135, 0.31181841697538665, 0.31181841697538665, 0.31181841697538665, 0.31181841697538665, 0.38768684289484223, 0.24922725614668428, 0.19384342144742112, 0.11076766939852635, 0.055383834699263175, 0.3536385645871152, 0.3536385645871152, 0.1178795215290384, 0.1178795215290384, 0.40725555101414634, 0.31529462013998427, 0.14451003423082612, 0.10509820671332809, 0.026274551678332023, 0.36901448783766366, 0.36901448783766366, 0.12300482927922123, 0.12300482927922123, 0.4863582575199589, 0.24317912875997946, 0.24317912875997946, 0.24317912875997946, 0.5821194791860295, 0.14552986979650737, 0.09701991319767157, 0.14552986979650737, 0.048509956598835786, 0.3860826039039342, 0.3860826039039342, 0.40623281974048786, 0.23813648053752734, 0.19611239573678724, 0.14008028266913375, 0.04202408480074012, 0.4891336128952768, 0.2445668064476384, 0.2445668064476384, 0.2445668064476384, 0.28572646058976336, 0.28572646058976336, 0.28572646058976336, 0.4554783174354048, 0.2277391587177024, 0.2277391587177024, 0.2591708372915283, 0.12958541864576414, 0.3887562559372924, 0.12958541864576414, 0.3745463467264259, 0.31540744987488495, 0.17741669055462278, 0.11827779370308185, 0.01971296561718031, 0.38570510887094983, 0.38570510887094983, 0.3791943357198899, 0.28439575178991744, 0.09479858392997248, 0.09479858392997248, 0.4760561112855451, 0.22215951859992103, 0.1798434198189837, 0.09521122225710901, 0.026447561738085837, 0.3227278194538901, 0.16136390972694506, 0.3227278194538901, 0.16136390972694506, 0.4072884517328663, 0.2962097830784482, 0.1727890401290948, 0.11107866865441808, 0.024684148589870687, 0.4139796766419627, 0.29569976902997336, 0.16263487296648535, 0.08870993070899201, 0.029569976902997334, 0.4092497489505633, 0.1364165829835211, 0.1364165829835211, 0.1364165829835211, 0.3218861433205047, 0.16094307166025235, 0.16094307166025235, 0.16094307166025235, 0.3222012881663546, 0.3222012881663546, 0.3222012881663546, 0.3222012881663546, 0.4314552431244076, 0.17258209724976303, 0.17258209724976303, 0.17258209724976303, 0.42274959539205575, 0.2702110815907985, 0.19612094631590216, 0.08280662177782534, 0.026149459508786953, 0.28607919321412745, 0.28607919321412745, 0.28607919321412745, 0.5246391486586441, 0.17487971621954806, 0.17487971621954806, 0.17487971621954806, 0.38871850537171254, 0.38871850537171254, 0.38871850537171254, 0.33188436925852693, 0.26550749540682156, 0.26550749540682156, 0.11062812308617564, 0.02212562461723513, 0.4189005871589316, 0.2637522215445125, 0.16549158998871372, 0.12411869249153529, 0.031029673122883822, 0.4304599857697091, 0.22047950490643636, 0.13648731256112728, 0.17848340873378182, 0.03149707212949091, 0.6026431632365562, 0.35786568507709493, 0.17893284253854747, 0.17893284253854747, 0.17893284253854747, 0.34446205290543863, 0.3039371055047988, 0.22288721070351913, 0.10131236850159961, 0.04052494740063984, 0.43278432422517293, 0.2353002151127154, 0.18908053000128916, 0.12605368666752612, 0.021008947777921016, 0.5588431383045376, 0.24837472813535005, 0.09314052305075626, 0.09314052305075626, 0.031046841016918757, 0.44636864299895307, 0.2162098114526179, 0.1673882411246074, 0.14646471098403147, 0.020923530140575925, 0.6160386723200795, 0.30073899304884316, 0.15036949652442158, 0.15036949652442158, 0.15036949652442158, 0.5170487447468617, 0.2023234218574676, 0.16860285154788968, 0.08992152082554115, 0.02248038020638529, 0.478348821583226, 0.2270130000733954, 0.17836735720052493, 0.08918367860026247, 0.02432282143643522, 0.5512023875907316, 0.22048095503629264, 0.11024047751814632, 0.08268035813860974, 0.02756011937953658, 0.4205367107827684, 0.24030669187586765, 0.21299911325360996, 0.10376879876457921, 0.021846062897806152, 0.38164928599731235, 0.38164928599731235, 0.19082464299865617, 0.19082464299865617, 0.3588455857765178, 0.21530735146591068, 0.2870764686212142, 0.11961519525883926, 0.023923039051767854, 0.28988836985250543, 0.14494418492625272, 0.28988836985250543, 0.14494418492625272, 0.35091913067559666, 0.35091913067559666, 0.17545956533779833, 0.08772978266889916, 0.5196973675308961, 0.25984868376544806, 0.12992434188272403, 0.5970191799479486, 0.306881709795845, 0.306881709795845, 0.2557347581632042, 0.10229390326528168, 0.05114695163264084, 0.457245509705105, 0.19744692464538627, 0.17666303784060877, 0.15587915103583128, 0.010391943402388751, 0.3873505282913636, 0.2112821063407438, 0.23475789593415977, 0.12911684276378788, 0.023475789593415976, 0.4156072631861355, 0.2124214900729137, 0.2124214900729137, 0.1293000374356866, 0.0369428678387676, 0.4346204144182451, 0.2528700592978881, 0.14223940835506205, 0.14223940835506205, 0.023706568059177008, 0.371617512987705, 0.297294010390164, 0.148647005195082, 0.074323502597541, 0.3113310226138437, 0.3113310226138437, 0.2075540150758958, 0.1037770075379479, 0.36301817865505953, 0.3071692280927427, 0.16754685168695055, 0.13962237640579214, 0.027924475281158427, 0.45561253247112715, 0.15187084415704238, 0.15187084415704238, 0.15187084415704238, 0.07593542207852119, 0.37796621701036365, 0.2035202706978881, 0.2616689194687133, 0.11629729754165036, 0.02907432438541259, 0.33875787181687994, 0.16286436145042305, 0.3257287229008461, 0.14983521253438922, 0.01954372337405077, 0.42705420892710805, 0.26361370921426425, 0.16344049971284383, 0.12653458042284682, 0.021089096737141138, 0.3980799216442594, 0.2890169294129555, 0.17450078757008633, 0.10906299223130396, 0.02726574805782599, 0.35251009225808133, 0.17625504612904067, 0.264382569193561, 0.17625504612904067, 0.5255782853876871, 0.26278914269384357, 0.312639383351417, 0.10421312778380566, 0.312639383351417, 0.10421312778380566, 0.38011703019503223, 0.19005851509751612, 0.38011703019503223, 0.19005851509751612, 0.4420150658465482, 0.3315112993849112, 0.2210075329232741, 0.11050376646163705, 0.36650524689075803, 0.20361402605042112, 0.24433683126050534, 0.20361402605042112, 0.04072280521008422, 0.5657609756174286, 0.2263043902469714, 0.1131521951234857, 0.1131521951234857, 0.3841778666678783, 0.19208893333393914, 0.19208893333393914, 0.19208893333393914, 0.048022233333484786, 0.3616215759895546, 0.2252724571738209, 0.19563134438779184, 0.1778466767161744, 0.04149755790044069, 0.36681958067285936, 0.18340979033642968, 0.21397808872583463, 0.18340979033642968, 0.030568298389404946, 0.3877603977340557, 0.23265623864043342, 0.19388019886702784, 0.15510415909362227, 0.03877603977340557, 0.4150007804577989, 0.10375019511444973, 0.20750039022889946, 0.20750039022889946, 0.43207034924454507, 0.21299242568393068, 0.1643084426704608, 0.15822294479377708, 0.024341991506734936, 0.36795707808964123, 0.26830203610703, 0.1686469941244189, 0.16098122166421802, 0.03832886230100429, 0.5304230068714781, 0.17680766895715935, 0.17680766895715935, 0.17680766895715935, 0.5935168674400587, 0.3895371655713082, 0.3895371655713082, 0.4244210290222447, 0.4244210290222447, 0.4244210290222447, 0.37094764734434826, 0.254167832439646, 0.22669022893265728, 0.11677981490470224, 0.03434700438373595, 0.3254726402780911, 0.30997394312199156, 0.2014830630292945, 0.1394882744048962, 0.030997394312199153, 0.5703930126985102, 0.20741564098127643, 0.07778086536797865, 0.10370782049063822, 0.025926955122659554, 0.5858780414649536, 0.1464695103662384, 0.1464695103662384, 0.1464695103662384, 0.6672943809158367, 0.16682359522895918, 0.16682359522895918, 0.49792553803080186, 0.21006233635674454, 0.16338181716635686, 0.1089212114442379, 0.031120346126925116, 0.3813412884458927, 0.3813412884458927, 0.4265272598112317, 0.20830401060548523, 0.21822324920574643, 0.10911162460287321, 0.03967695440104481, 0.2964691421726701, 0.21176367298047866, 0.2964691421726701, 0.1270582037882872, 0.04235273459609573, 0.28701720193039, 0.28701720193039, 0.28701720193039, 0.28701720193039, 0.5250275351122692, 0.21001101404490768, 0.10500550702245384, 0.10500550702245384, 0.6067329666146123, 0.4751840009190046, 0.2425939373112813, 0.17006585296048585, 0.08753389490613242, 0.025009684258894976, 0.5437748333465915, 0.18125827778219716, 0.18125827778219716, 0.18125827778219716, 0.3828991881396241, 0.20885410262161314, 0.2784721368288175, 0.10442705131080657, 0.03480901710360219, 0.38664679157736104, 0.19332339578868052, 0.2899850936830208, 0.09666169789434026, 0.44218782991533845, 0.22109391495766922, 0.2040866907301562, 0.1020433453650781, 0.03401444845502603, 0.40889924217937773, 0.40889924217937773, 0.40889924217937773, 0.31922430854259193, 0.23941823140694393, 0.23941823140694393, 0.15961215427129596, 0.4363306190692675, 0.25196556875830944, 0.20280155534205394, 0.08603702347844712, 0.024582006708127747, 0.47685398554411174, 0.16617638890173592, 0.1806265096757999, 0.15172626812767193, 0.02167518116109599, 0.31513753212428336, 0.31513753212428336, 0.31513753212428336, 0.31513753212428336, 0.3720824447965945, 0.2631802658317376, 0.21780435792971387, 0.1270525421256664, 0.02268795395101186, 0.42847930405549745, 0.23994841027107858, 0.18853089378441887, 0.08569586081109949, 0.0342783443244398, 0.29933281886160035, 0.2328144146701336, 0.31596241990946705, 0.1330368083829335, 0.033259202095733374, 0.3990166128284925, 0.3103462544221608, 0.1330055376094975, 0.08867035840633167, 0.044335179203165834, 0.5340348874572746, 0.1668859023303983, 0.13350872186431864, 0.13350872186431864, 0.03337718046607966, 0.3830319430630292, 0.3830319430630292, 0.6229784635319339, 0.16990321732689104, 0.1132688115512607, 0.1132688115512607, 0.05663440577563035, 0.4585565852144887, 0.15285219507149622, 0.15285219507149622, 0.15285219507149622, 0.5000082355071039, 0.23232705892249275, 0.14646705888591935, 0.1010117647489099, 0.02020235294978198, 0.31348490364387227, 0.31348490364387227, 0.31348490364387227, 0.31348490364387227, 0.5128091914459846, 0.12820229786149615, 0.12820229786149615, 0.36499909620991133, 0.3143047772918681, 0.19263841188856431, 0.09124977405247783, 0.030416591350825944, 0.2814081591587056, 0.2814081591587056, 0.2814081591587056, 0.1250702929594247, 0.031267573239856176, 0.2520298507087237, 0.2520298507087237, 0.2520298507087237, 0.2520298507087237, 0.5339588285438132, 0.17798627618127105, 0.14238902094501682, 0.12459039332688973, 0.035597255236254205, 0.3407720198391023, 0.2044632119034614, 0.27261761587128186, 0.06815440396782046, 0.35697958295063775, 0.17848979147531888, 0.17848979147531888, 0.17848979147531888, 0.4788941131876484, 0.2394470565938242, 0.2394470565938242, 0.2394470565938242, 0.32818307500689076, 0.19690984500413447, 0.19690984500413447, 0.19690984500413447, 0.37187279491853703, 0.23866462957458348, 0.227563949129254, 0.13320816534395358, 0.02775170111332366, 0.23897094159272844, 0.23897094159272844, 0.23897094159272844, 0.23897094159272844, 0.3929898574083676, 0.1964949287041838, 0.1964949287041838, 0.1964949287041838, 0.5993377944259369, 0.1198675588851874, 0.1198675588851874, 0.1198675588851874, 0.3805107450962428, 0.26020220069081307, 0.21823410380519806, 0.12310641753113737, 0.016787238754246005, 0.3309784127694785, 0.2206522751796523, 0.27581534397456536, 0.11032613758982615, 0.055163068794913075, 0.5773512906336609, 0.5773512906336609, 0.29386882264513664, 0.22040161698385247, 0.29386882264513664, 0.14693441132256832, 0.07346720566128416, 0.4402601499027321, 0.4402601499027321, 0.22013007495136605, 0.4107904441890474, 0.2567440276181546, 0.15404641657089277, 0.1283720138090773, 0.05134880552363093, 0.3854194631501566, 0.2803050641092048, 0.175190665068253, 0.10511439904095181, 0.0350381330136506, 0.36039806920413925, 0.24379869387338832, 0.24379869387338832, 0.12719931854263739, 0.031799829635659346, 0.3748930094341717, 0.2528348203160693, 0.23539793615634036, 0.10462130495837349, 0.026155326239593372, 0.35175721368190443, 0.17587860684095222, 0.17587860684095222, 0.17587860684095222, 0.3746059341708558, 0.1873029670854279, 0.3746059341708558, 0.1873029670854279, 0.4932465177539259, 0.2013251092873167, 0.18119259835858503, 0.10569568237584126, 0.02013251092873167, 0.4535107845000306, 0.2550998162812672, 0.17006654418751146, 0.10078017433334013, 0.022045663135418152, 0.6270758106113007, 0.31835603548037017, 0.27856153104532394, 0.2586642788278008, 0.09948626108761568, 0.019897252217523136, 0.46554381088463925, 0.16626564674451402, 0.23277190544231963, 0.09975938804670842, 0.0332531293489028, 0.5425517698102494, 0.18085058993674982, 0.12917899281196416, 0.12917899281196416, 0.025835798562392834, 0.5544475328497929, 0.16633425985493785, 0.11088950656995857, 0.11088950656995857, 0.5992277277837093, 0.2568118833358754, 0.08560396111195846, 0.08560396111195846, 0.42389101543421087, 0.2466274998889954, 0.16955640617368434, 0.1233137499444977, 0.030828437486124426, 0.4719134715022837, 0.19042122534302675, 0.15730449050076123, 0.14902530679019485, 0.03311673484226552, 0.2680891486128756, 0.1787260990752504, 0.3574521981505008, 0.1787260990752504, 0.4179823241408339, 0.22292390620844474, 0.2043469140244077, 0.12075044919624091, 0.027865488276055592, 0.43458256185763183, 0.23104389364582956, 0.16228083006076124, 0.14577769480034486, 0.02750522543402733, 0.3101157425274084, 0.3101157425274084, 0.3101157425274084, 0.4086758408501427, 0.20433792042507135, 0.20433792042507135, 0.20433792042507135, 0.40899504119274194, 0.20449752059637097, 0.20449752059637097, 0.20449752059637097, 0.41562645154063804, 0.1824701494568655, 0.21288184103300972, 0.15205845788072123, 0.030411691576144248, 0.4163056606808454, 0.4163056606808454, 0.635086440957779, 0.21169548031925967, 0.10584774015962983, 0.10584774015962983, 0.3914333316362706, 0.3914333316362706, 0.3914333316362706, 0.4604259973718449, 0.19308186986561238, 0.2079343213937364, 0.1039671606968682, 0.02970490305624806, 0.335124141823385, 0.1675620709116925, 0.1675620709116925, 0.1675620709116925, 0.3127637897021274, 0.3127637897021274, 0.1563818948510637, 0.1563818948510637, 0.38229436431794145, 0.3475403311981286, 0.13901613247925143, 0.10426209935943857, 0.03475403311981286, 0.2817954852501533, 0.2817954852501533, 0.2817954852501533, 0.5797458765600634, 0.23189835062402533, 0.11594917531201267, 0.11594917531201267, 0.5535474917865911, 0.13838687294664778, 0.13838687294664778, 0.13838687294664778, 0.46483235765725117, 0.23241617882862559, 0.23241617882862559, 0.23241617882862559, 0.40966784010834806, 0.3413898667569567, 0.17069493337847835, 0.06827797335139134, 0.03413898667569567, 0.5894886809663836, 0.5894886809663836, 0.44150624029209895, 0.20535173967074372, 0.21048553316251228, 0.11807725031067763, 0.025668967458842964, 0.4510437487109122, 0.25773928497766413, 0.13878269191104992, 0.12391311777772314, 0.024782623555544628, 0.49243890629267917, 0.24621945314633958, 0.24621945314633958, 0.24621945314633958, 0.28711060134010646, 0.28711060134010646, 0.28711060134010646, 0.0957035337800355, 0.29622427484865865, 0.19748284989910578, 0.29622427484865865, 0.19748284989910578, 0.5808827707674196, 0.2178310390377823, 0.07261034634592745, 0.07261034634592745, 0.2907188046711584, 0.1453594023355792, 0.43607820700673755, 0.1453594023355792, 0.3803195477626822, 0.24608911914055906, 0.29083259534793343, 0.08948695241474874, 0.022371738103687186, 0.3905036324633647, 0.17355716998371765, 0.21694646247964708, 0.21694646247964708, 0.04338929249592941, 0.5833851607641324, 0.21876943528654963, 0.07292314509551655, 0.07292314509551655, 0.4045027286764285, 0.4045027286764285, 0.4045027286764285, 0.40366973553369556, 0.2053758303592486, 0.22662160591365363, 0.14163850369603354, 0.02124577555440503, 0.38762133825524064, 0.24599046466197966, 0.2012649256325288, 0.14163087359326101, 0.029817026019633895, 0.39474419264265653, 0.1315813975475522, 0.2631627950951044, 0.2631627950951044, 0.3701544826537833, 0.2063156132824366, 0.25486046346653934, 0.12136212546025682, 0.04247674391108989, 0.5495637335215774, 0.1831879111738591, 0.061062637057953034, 0.12212527411590607, 0.5754161455552789, 0.5754161455552789], \"Topic\": [1, 2, 3, 4, 5, 1, 2, 3, 4, 5, 1, 2, 3, 4, 5, 1, 2, 3, 4, 5, 1, 2, 3, 4, 5, 1, 2, 3, 4, 5, 1, 2, 3, 4, 5, 1, 2, 3, 4, 5, 1, 2, 3, 4, 1, 2, 3, 4, 1, 2, 3, 4, 5, 1, 2, 3, 4, 1, 2, 3, 4, 1, 2, 3, 4, 1, 2, 3, 4, 5, 1, 2, 3, 1, 2, 3, 4, 5, 1, 2, 3, 4, 5, 1, 2, 3, 4, 5, 1, 2, 3, 4, 5, 1, 2, 3, 4, 1, 2, 3, 4, 5, 1, 2, 3, 4, 5, 1, 2, 3, 4, 5, 1, 2, 3, 4, 5, 1, 3, 1, 2, 3, 4, 5, 1, 1, 2, 3, 4, 1, 1, 2, 3, 4, 5, 1, 2, 3, 4, 5, 1, 2, 3, 4, 1, 2, 3, 4, 1, 3, 1, 2, 3, 4, 5, 1, 2, 3, 4, 5, 1, 2, 3, 4, 1, 2, 3, 4, 1, 2, 3, 4, 1, 2, 3, 4, 1, 2, 3, 4, 5, 1, 2, 3, 4, 1, 2, 3, 4, 1, 1, 2, 3, 4, 1, 2, 3, 4, 5, 1, 2, 3, 4, 1, 2, 3, 4, 5, 1, 2, 3, 1, 2, 3, 4, 5, 1, 2, 3, 4, 1, 2, 3, 4, 5, 1, 2, 3, 4, 1, 2, 3, 4, 1, 2, 3, 4, 5, 1, 2, 3, 1, 2, 3, 4, 5, 1, 3, 1, 2, 3, 4, 5, 1, 2, 3, 4, 1, 2, 3, 4, 5, 1, 2, 3, 4, 5, 1, 2, 3, 4, 1, 2, 3, 4, 1, 2, 3, 4, 1, 2, 3, 4, 5, 1, 2, 3, 4, 1, 2, 3, 4, 1, 2, 3, 4, 5, 1, 2, 3, 4, 1, 2, 3, 4, 5, 1, 2, 3, 4, 5, 1, 2, 3, 4, 1, 2, 3, 4, 1, 2, 3, 4, 5, 1, 2, 3, 4, 5, 1, 2, 3, 4, 5, 1, 2, 3, 4, 5, 1, 2, 3, 4, 5, 1, 1, 2, 3, 4, 5, 1, 1, 2, 3, 4, 5, 1, 2, 3, 4, 5, 1, 2, 3, 4, 5, 1, 2, 1, 2, 3, 4, 1, 2, 3, 4, 1, 2, 3, 4, 5, 1, 2, 3, 4, 5, 1, 2, 3, 4, 5, 1, 2, 3, 4, 1, 2, 3, 4, 5, 1, 2, 3, 4, 1, 2, 3, 4, 5, 1, 2, 3, 4, 1, 2, 3, 4, 5, 1, 2, 3, 4, 1, 2, 3, 4, 5, 1, 2, 3, 4, 1, 2, 3, 4, 1, 2, 3, 4, 5, 1, 3, 1, 2, 3, 4, 5, 1, 2, 3, 4, 1, 2, 3, 1, 2, 3, 1, 2, 3, 4, 1, 2, 3, 4, 5, 1, 3, 1, 2, 3, 4, 1, 2, 3, 4, 5, 1, 2, 3, 4, 1, 2, 3, 4, 5, 1, 2, 3, 4, 5, 1, 2, 3, 4, 1, 2, 3, 4, 1, 2, 3, 4, 1, 2, 3, 4, 1, 2, 3, 4, 5, 1, 2, 3, 1, 2, 3, 4, 1, 2, 3, 1, 2, 3, 4, 5, 1, 2, 3, 4, 5, 1, 2, 3, 4, 5, 1, 1, 2, 3, 4, 1, 2, 3, 4, 5, 1, 2, 3, 4, 5, 1, 2, 3, 4, 5, 1, 2, 3, 4, 5, 1, 1, 2, 3, 4, 1, 2, 3, 4, 5, 1, 2, 3, 4, 5, 1, 2, 3, 4, 5, 1, 2, 3, 4, 5, 1, 2, 3, 4, 1, 2, 3, 4, 5, 1, 2, 3, 4, 1, 2, 3, 4, 1, 2, 3, 3, 1, 2, 3, 4, 5, 1, 2, 3, 4, 5, 1, 2, 3, 4, 5, 1, 2, 3, 4, 5, 1, 2, 3, 4, 5, 1, 2, 3, 4, 1, 2, 3, 4, 1, 2, 3, 4, 5, 1, 2, 3, 4, 5, 1, 2, 3, 4, 5, 1, 2, 3, 4, 5, 1, 2, 3, 4, 5, 1, 2, 3, 4, 5, 1, 2, 3, 4, 1, 2, 1, 2, 3, 4, 1, 2, 3, 4, 1, 2, 3, 4, 1, 2, 3, 4, 5, 1, 2, 3, 4, 1, 2, 3, 4, 5, 1, 2, 3, 4, 5, 1, 2, 3, 4, 5, 1, 2, 3, 4, 5, 1, 2, 3, 4, 1, 2, 3, 4, 5, 1, 2, 3, 4, 5, 1, 2, 3, 4, 1, 1, 3, 1, 2, 3, 1, 2, 3, 4, 5, 1, 2, 3, 4, 5, 1, 2, 3, 4, 5, 1, 2, 3, 4, 1, 2, 3, 1, 2, 3, 4, 5, 1, 3, 1, 2, 3, 4, 5, 1, 2, 3, 4, 5, 1, 2, 3, 4, 1, 2, 3, 4, 1, 1, 2, 3, 4, 5, 1, 2, 3, 4, 1, 2, 3, 4, 5, 1, 2, 3, 4, 1, 2, 3, 4, 5, 1, 3, 4, 1, 2, 3, 4, 1, 2, 3, 4, 5, 1, 2, 3, 4, 5, 1, 2, 3, 4, 1, 2, 3, 4, 5, 1, 2, 3, 4, 5, 1, 2, 3, 4, 5, 1, 2, 3, 4, 5, 1, 2, 3, 4, 5, 1, 3, 1, 2, 3, 4, 5, 1, 2, 3, 4, 1, 2, 3, 4, 5, 1, 2, 3, 4, 1, 2, 3, 1, 2, 3, 4, 5, 1, 2, 3, 4, 5, 1, 2, 3, 4, 1, 2, 3, 4, 5, 1, 2, 3, 4, 1, 2, 3, 4, 1, 2, 3, 4, 1, 2, 3, 4, 1, 2, 3, 4, 5, 1, 2, 3, 4, 1, 2, 3, 4, 1, 2, 3, 4, 1, 2, 3, 4, 5, 1, 2, 3, 4, 5, 1, 3, 1, 2, 3, 4, 5, 1, 2, 3, 1, 2, 3, 4, 5, 1, 2, 3, 4, 5, 1, 2, 3, 4, 5, 1, 2, 3, 4, 5, 1, 2, 3, 4, 1, 2, 3, 4, 1, 2, 3, 4, 5, 1, 2, 3, 4, 5, 1, 1, 2, 3, 4, 5, 1, 2, 3, 4, 5, 1, 2, 3, 4, 5, 1, 2, 3, 4, 1, 2, 3, 4, 1, 2, 3, 4, 5, 1, 2, 3, 4, 5, 1, 2, 3, 4, 1, 2, 3, 4, 5, 1, 2, 3, 4, 5, 1, 2, 3, 1, 2, 3, 4, 1, 2, 3, 4, 1, 2, 3, 4, 5, 1, 3, 1, 2, 3, 4, 1, 2, 3, 1, 2, 3, 4, 5, 1, 2, 3, 4, 1, 2, 3, 4, 1, 2, 3, 4, 5, 1, 2, 3, 1, 2, 3, 4, 1, 2, 3, 4, 1, 2, 3, 4, 1, 2, 3, 4, 5, 1, 2, 1, 2, 3, 4, 5, 1, 2, 3, 4, 5, 1, 2, 3, 4, 1, 2, 3, 4, 1, 2, 3, 4, 1, 2, 3, 4, 1, 2, 3, 4, 1, 2, 3, 4, 5, 1, 2, 3, 4, 5, 1, 2, 3, 4, 1, 3, 4, 1, 2, 3, 4, 5, 1, 2, 3, 4, 5, 1, 2, 3, 4, 1, 2, 3, 4, 5, 1, 2, 3, 4, 1, 3]}, \"topic.order\": [3, 5, 1, 4, 2]};\n",
       "\n",
       "function LDAvis_load_lib(url, callback){\n",
       "  var s = document.createElement('script');\n",
       "  s.src = url;\n",
       "  s.async = true;\n",
       "  s.onreadystatechange = s.onload = callback;\n",
       "  s.onerror = function(){console.warn(\"failed to load library \" + url);};\n",
       "  document.getElementsByTagName(\"head\")[0].appendChild(s);\n",
       "}\n",
       "\n",
       "if(typeof(LDAvis) !== \"undefined\"){\n",
       "   // already loaded: just create the visualization\n",
       "   !function(LDAvis){\n",
       "       new LDAvis(\"#\" + \"ldavis_el1726016107802598164205715808\", ldavis_el1726016107802598164205715808_data);\n",
       "   }(LDAvis);\n",
       "}else if(typeof define === \"function\" && define.amd){\n",
       "   // require.js is available: use it to load d3/LDAvis\n",
       "   require.config({paths: {d3: \"https://cdnjs.cloudflare.com/ajax/libs/d3/3.5.5/d3.min\"}});\n",
       "   require([\"d3\"], function(d3){\n",
       "      window.d3 = d3;\n",
       "      LDAvis_load_lib(\"https://cdn.rawgit.com/bmabey/pyLDAvis/files/ldavis.v1.0.0.js\", function(){\n",
       "        new LDAvis(\"#\" + \"ldavis_el1726016107802598164205715808\", ldavis_el1726016107802598164205715808_data);\n",
       "      });\n",
       "    });\n",
       "}else{\n",
       "    // require.js not available: dynamically load d3 & LDAvis\n",
       "    LDAvis_load_lib(\"https://cdnjs.cloudflare.com/ajax/libs/d3/3.5.5/d3.min.js\", function(){\n",
       "         LDAvis_load_lib(\"https://cdn.rawgit.com/bmabey/pyLDAvis/files/ldavis.v1.0.0.js\", function(){\n",
       "                 new LDAvis(\"#\" + \"ldavis_el1726016107802598164205715808\", ldavis_el1726016107802598164205715808_data);\n",
       "            })\n",
       "         });\n",
       "}\n",
       "</script>"
      ],
      "text/plain": [
       "<IPython.core.display.HTML object>"
      ]
     },
     "execution_count": 114,
     "metadata": {},
     "output_type": "execute_result"
    }
   ],
   "source": [
    "pyLDAvis.display(LDAvis_prepared)"
   ]
  },
  {
   "cell_type": "markdown",
   "metadata": {},
   "source": [
    "# Topic of a given text "
   ]
  },
  {
   "cell_type": "code",
   "execution_count": 48,
   "metadata": {
    "collapsed": true
   },
   "outputs": [],
   "source": [
    "def lda_description(review_text, min_topic_freq=0.05):\n",
    "    \"\"\"\n",
    "    accept the original text of a review and (1) parse it with spaCy,\n",
    "    (2) apply text pre-proccessing steps, (3) create a bag-of-words\n",
    "    representation, (4) create an LDA representation, and\n",
    "    (5) print a sorted list of the top topics in the LDA representation\n",
    "    \"\"\"\n",
    "    \n",
    "    # parse the review text with spaCy\n",
    "    parsed_review = nlp(review_text)\n",
    "    \n",
    "    # lemmatize the text and remove punctuation and whitespace\n",
    "    unigram_review = [token.lemma_ for token in parsed_review\n",
    "                      if not punct_space(token)]\n",
    "    \n",
    "    # apply the first-order and secord-order phrase models\n",
    "    bigram_review = bigram_model[unigram_review]\n",
    "    trigram_review = trigram_model[bigram_review]\n",
    "    \n",
    "    # remove any remaining stopwords\n",
    "    #trigram_review = [term for term in trigram_review\n",
    "    #                  if not term in spacy.en.STOPWORDS]\n",
    "    \n",
    "    # create a bag-of-words representation\n",
    "    review_bow = trigram_dictionary.doc2bow(trigram_review)\n",
    "    \n",
    "    # create an LDA representation\n",
    "    review_lda = lda[review_bow]\n",
    "    \n",
    "    # sort with the most highly related topics first\n",
    "    #review_lda = sorted(review_lda, key=lambda (topic_number, freq): -freq)\n",
    "    \n",
    "    for topic_number, freq in review_lda:\n",
    "        if freq < min_topic_freq:\n",
    "            break\n",
    "            \n",
    "        # print the most highly related topic names and frequencies\n",
    "        print(\"The text belongs to topic (with probability): \")\n",
    "        print('{:25} {}'.format(topic_number,\n",
    "                                round(freq, 3)))"
   ]
  },
  {
   "cell_type": "code",
   "execution_count": null,
   "metadata": {
    "collapsed": true
   },
   "outputs": [],
   "source": [
    "review_txt_filepath = "
   ]
  },
  {
   "cell_type": "code",
   "execution_count": 49,
   "metadata": {
    "collapsed": true
   },
   "outputs": [],
   "source": [
    "def get_sample_review(review_number):\n",
    "    \"\"\"\n",
    "    retrieve a particular review index\n",
    "    from the reviews file and return it\n",
    "    \"\"\"\n",
    "    \n",
    "    return list(it.islice(line_review(review_txt_filepath),\n",
    "                          review_number, review_number+1))[0]"
   ]
  },
  {
   "cell_type": "code",
   "execution_count": 51,
   "metadata": {},
   "outputs": [
    {
     "ename": "IndexError",
     "evalue": "list index out of range",
     "output_type": "error",
     "traceback": [
      "\u001b[1;31m---------------------------------------------------------------------------\u001b[0m",
      "\u001b[1;31mIndexError\u001b[0m                                Traceback (most recent call last)",
      "\u001b[1;32m<ipython-input-51-f1c2bba8ba72>\u001b[0m in \u001b[0;36m<module>\u001b[1;34m()\u001b[0m\n\u001b[1;32m----> 1\u001b[1;33m \u001b[0msample_review\u001b[0m \u001b[1;33m=\u001b[0m \u001b[0mget_sample_review\u001b[0m\u001b[1;33m(\u001b[0m\u001b[1;36m50\u001b[0m\u001b[1;33m)\u001b[0m\u001b[1;33m\u001b[0m\u001b[0m\n\u001b[0m\u001b[0;32m      2\u001b[0m \u001b[0mprint\u001b[0m\u001b[1;33m(\u001b[0m\u001b[0msample_review\u001b[0m\u001b[1;33m)\u001b[0m\u001b[1;33m\u001b[0m\u001b[0m\n",
      "\u001b[1;32m<ipython-input-49-33ae2f098d45>\u001b[0m in \u001b[0;36mget_sample_review\u001b[1;34m(review_number)\u001b[0m\n\u001b[0;32m      6\u001b[0m \u001b[1;33m\u001b[0m\u001b[0m\n\u001b[0;32m      7\u001b[0m     return list(it.islice(line_review(review_txt_filepath),\n\u001b[1;32m----> 8\u001b[1;33m                           review_number, review_number+1))[0]\n\u001b[0m",
      "\u001b[1;31mIndexError\u001b[0m: list index out of range"
     ]
    }
   ],
   "source": [
    "sample_review = get_sample_review(50)\n",
    "print(sample_review)"
   ]
  },
  {
   "cell_type": "code",
   "execution_count": 269,
   "metadata": {},
   "outputs": [
    {
     "name": "stderr",
     "output_type": "stream",
     "text": [
      "C:\\Users\\praveen\\Anaconda3\\envs\\TCS\\lib\\site-packages\\gensim\\models\\phrases.py:316: UserWarning: For a faster implementation, use the gensim.models.phrases.Phraser class\n",
      "  warnings.warn(\"For a faster implementation, use the gensim.models.phrases.Phraser class\")\n"
     ]
    },
    {
     "name": "stdout",
     "output_type": "stream",
     "text": [
      "The text belongs to topic (with probability): \n",
      "                        7 0.955\n"
     ]
    }
   ],
   "source": [
    "lda_description(sample_review)"
   ]
  },
  {
   "cell_type": "code",
   "execution_count": 77,
   "metadata": {
    "collapsed": true
   },
   "outputs": [],
   "source": [
    "from gensim.models import Word2Vec\n",
    "\n",
    "trigram_sentences = LineSentence(bigram_sentences_filepath)\n",
    "word2vec_filepath = 'word2vec_model_all.txt'"
   ]
  },
  {
   "cell_type": "code",
   "execution_count": 90,
   "metadata": {},
   "outputs": [
    {
     "name": "stdout",
     "output_type": "stream",
     "text": [
      "12 training epochs so far.\n",
      "Wall time: 1min 10s\n"
     ]
    }
   ],
   "source": [
    "%%time\n",
    "\n",
    "# this is a bit time consuming - make the if statement True\n",
    "# if you want to train the word2vec model yourself.\n",
    "if 1 == 1:\n",
    "\n",
    "    # initiate the model and perform the first epoch of training\n",
    "    news2vec = Word2Vec(trigram_sentences, size=100, window=10,\n",
    "                        min_count=5, sg=1, workers=1)\n",
    "    \n",
    "    news2vec.save(word2vec_filepath)\n",
    "\n",
    "    # perform another 11 epochs of training\n",
    "    for i in range(1,12):\n",
    "\n",
    "        news2vec.train(trigram_sentences,total_examples=1000,epochs=i)\n",
    "        news2vec.save(word2vec_filepath)\n",
    "        \n",
    "# load the finished model from disk\n",
    "news2vec = Word2Vec.load(word2vec_filepath)\n",
    "news2vec.init_sims()\n",
    "\n",
    "print(u'{} training epochs so far.'.format(news2vec.train_count))"
   ]
  },
  {
   "cell_type": "markdown",
   "metadata": {},
   "source": [
    "# Get related words using word2vec"
   ]
  },
  {
   "cell_type": "code",
   "execution_count": 91,
   "metadata": {
    "collapsed": true
   },
   "outputs": [],
   "source": [
    "def get_related_terms(token, topn=15):\n",
    "    \"\"\"\n",
    "    look up the topn most similar terms to token\n",
    "    and print them as a formatted list\n",
    "    \"\"\"\n",
    "\n",
    "    for word, similarity in news2vec.most_similar(positive=[token], topn=topn):\n",
    "\n",
    "        print(u'{:20} {}'.format(word, round(similarity, 3)))"
   ]
  },
  {
   "cell_type": "code",
   "execution_count": 93,
   "metadata": {},
   "outputs": [
    {
     "name": "stdout",
     "output_type": "stream",
     "text": [
      "scientific           0.424\n",
      "augmentation         0.423\n",
      "finance              0.397\n",
      "buzzword             0.397\n",
      "tech_giant           0.374\n",
      "simulation           0.364\n",
      "fuel                 0.363\n",
      "machine_learn        0.358\n",
      "tell                 0.357\n",
      "bot                  0.356\n",
      "profession           0.353\n",
      "occur                0.351\n",
      "tech                 0.347\n",
      "cognitive            0.345\n",
      "register             0.345\n"
     ]
    }
   ],
   "source": [
    "get_related_terms(u'artificial_intelligence')"
   ]
  },
  {
   "cell_type": "code",
   "execution_count": 94,
   "metadata": {},
   "outputs": [
    {
     "name": "stdout",
     "output_type": "stream",
     "text": [
      "blockchain_technology 0.73\n",
      "information_builder  0.48\n",
      "bitcoin              0.458\n",
      "tourism              0.457\n",
      "cryptocurrency       0.453\n",
      "botto                0.444\n",
      "progress             0.442\n",
      "infosy               0.434\n",
      "iway                 0.432\n",
      "organisation         0.429\n",
      "ledger               0.418\n",
      "dhaheri              0.417\n",
      "forum                0.407\n",
      "dubai                0.406\n",
      "supply_chain         0.384\n"
     ]
    }
   ],
   "source": [
    "get_related_terms(u'blockchain')"
   ]
  },
  {
   "cell_type": "code",
   "execution_count": 95,
   "metadata": {},
   "outputs": [
    {
     "name": "stdout",
     "output_type": "stream",
     "text": [
      "service              0.53\n",
      "enterprise           0.528\n",
      "platform             0.525\n",
      "acrow                0.496\n",
      "premise              0.476\n",
      "customer             0.473\n",
      "integration          0.466\n",
      "integrate            0.466\n",
      "fully                0.463\n",
      "ease                 0.461\n",
      "mendix               0.46\n",
      "microsoft_azure      0.459\n",
      "saa                  0.445\n",
      "hana                 0.443\n",
      "pega                 0.442\n"
     ]
    }
   ],
   "source": [
    "get_related_terms(u'cloud')"
   ]
  },
  {
   "cell_type": "code",
   "execution_count": 96,
   "metadata": {},
   "outputs": [
    {
     "name": "stdout",
     "output_type": "stream",
     "text": [
      "triangle             0.585\n",
      "kubernete            0.481\n",
      "bigquery             0.472\n",
      "asic                 0.461\n",
      "gpus                 0.454\n",
      "atscale              0.423\n",
      "dream                0.422\n",
      "custom               0.413\n",
      "silicon              0.412\n",
      "exactly              0.411\n",
      "division             0.408\n",
      "comparison           0.4\n",
      "serverless           0.398\n",
      "layout               0.392\n",
      "alliance             0.391\n"
     ]
    }
   ],
   "source": [
    "get_related_terms(u'google')"
   ]
  },
  {
   "cell_type": "code",
   "execution_count": 97,
   "metadata": {},
   "outputs": [
    {
     "name": "stdout",
     "output_type": "stream",
     "text": [
      "azure                0.628\n",
      "micron               0.531\n",
      "linux                0.524\n",
      "microsoft_azure      0.439\n",
      "hannover             0.424\n",
      "enterprise_explorer  0.423\n",
      "traveler             0.422\n",
      "appian               0.41\n",
      "foundation           0.409\n",
      "visio                0.405\n",
      "diagram              0.404\n",
      "bpmn                 0.4\n",
      "hyper                0.384\n",
      "taiwan               0.382\n",
      "tech_giant           0.382\n"
     ]
    }
   ],
   "source": [
    "get_related_terms(u'microsoft') "
   ]
  },
  {
   "cell_type": "code",
   "execution_count": 98,
   "metadata": {},
   "outputs": [
    {
     "name": "stdout",
     "output_type": "stream",
     "text": [
      "telit                0.622\n",
      "devicewise           0.618\n",
      "chipmaker            0.497\n",
      "alibaba              0.446\n",
      "brian                0.438\n",
      "jointly              0.435\n",
      "processor            0.43\n",
      "joint                0.427\n",
      "doug                 0.416\n",
      "gateway              0.412\n",
      "architecture         0.395\n",
      "breakthrough         0.392\n",
      "internet_thing       0.384\n",
      "kubernete            0.38\n",
      "heat                 0.372\n"
     ]
    }
   ],
   "source": [
    "get_related_terms(u'intel')"
   ]
  },
  {
   "cell_type": "code",
   "execution_count": 99,
   "metadata": {},
   "outputs": [
    {
     "name": "stdout",
     "output_type": "stream",
     "text": [
      "self_drive           0.747\n",
      "tesla                0.493\n",
      "connectivity         0.447\n",
      "automobile           0.423\n",
      "fly                  0.42\n",
      "equip                0.415\n",
      "silicon_valley       0.411\n",
      "telematic            0.411\n",
      "appear               0.397\n",
      "street               0.395\n",
      "neurala              0.391\n",
      "cloudflare           0.388\n",
      "siri                 0.385\n",
      "smart                0.383\n",
      "autonomous           0.382\n"
     ]
    }
   ],
   "source": [
    "get_related_terms(u'car')"
   ]
  },
  {
   "cell_type": "code",
   "execution_count": 100,
   "metadata": {},
   "outputs": [
    {
     "name": "stdout",
     "output_type": "stream",
     "text": [
      "mobilefirst          0.494\n",
      "garage               0.487\n",
      "android              0.469\n",
      "apple                0.429\n",
      "iphone               0.418\n",
      "fintech              0.416\n",
      "unificationengine    0.415\n",
      "developer            0.414\n",
      "iqlect               0.41\n",
      "alike                0.394\n",
      "proprietary          0.391\n",
      "device_farm          0.389\n",
      "progressive          0.388\n",
      "cio                  0.382\n",
      "pace                 0.376\n"
     ]
    }
   ],
   "source": [
    "get_related_terms(u'app')"
   ]
  },
  {
   "cell_type": "code",
   "execution_count": 104,
   "metadata": {},
   "outputs": [
    {
     "name": "stdout",
     "output_type": "stream",
     "text": [
      "watson_consult       0.487\n",
      "opportunity          0.466\n",
      "political            0.461\n",
      "help_client          0.453\n",
      "asian                0.431\n",
      "pervasive            0.406\n",
      "diverse              0.4\n",
      "various              0.396\n",
      "growth_opportunity   0.394\n",
      "barrier              0.394\n",
      "health_care          0.393\n",
      "consult              0.388\n",
      "currency             0.388\n",
      "internet             0.387\n",
      "accenture_health     0.387\n"
     ]
    }
   ],
   "source": [
    "get_related_terms(u'digitization')"
   ]
  },
  {
   "cell_type": "code",
   "execution_count": 105,
   "metadata": {},
   "outputs": [
    {
     "name": "stdout",
     "output_type": "stream",
     "text": [
      "snapchat             0.622\n",
      "youtube              0.468\n",
      "story                0.464\n",
      "button               0.453\n",
      "bolster              0.437\n",
      "social_medium        0.432\n",
      "cool                 0.429\n",
      "whatsapp             0.401\n",
      "play                 0.397\n",
      "active               0.395\n",
      "talent               0.39\n",
      "exceed               0.389\n",
      "twitter              0.38\n",
      "netflix              0.376\n",
      "prospect             0.375\n"
     ]
    }
   ],
   "source": [
    "get_related_terms(u'facebook')"
   ]
  },
  {
   "cell_type": "code",
   "execution_count": null,
   "metadata": {
    "collapsed": true
   },
   "outputs": [],
   "source": []
  }
 ],
 "metadata": {
  "kernelspec": {
   "display_name": "Python 3",
   "language": "python",
   "name": "python3"
  },
  "language_info": {
   "codemirror_mode": {
    "name": "ipython",
    "version": 3
   },
   "file_extension": ".py",
   "mimetype": "text/x-python",
   "name": "python",
   "nbconvert_exporter": "python",
   "pygments_lexer": "ipython3",
   "version": "3.5.4"
  }
 },
 "nbformat": 4,
 "nbformat_minor": 2
}
