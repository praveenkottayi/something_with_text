{
 "cells": [
  {
   "cell_type": "code",
   "execution_count": 3,
   "metadata": {
    "collapsed": true
   },
   "outputs": [],
   "source": [
    "# Import the necessary methods from \"twitter\" library\n",
    "from twitter import Twitter, OAuth, TwitterHTTPError, TwitterStream"
   ]
  },
  {
   "cell_type": "code",
   "execution_count": 39,
   "metadata": {
    "collapsed": true
   },
   "outputs": [],
   "source": [
    "import re\n",
    "import json\n",
    "from pprint import pprint\n",
    "import matplotlib.pyplot as plt\n",
    "from wordcloud import WordCloud, STOPWORDS\n",
    "from scipy.misc import imread\n",
    "from text_preprocess import processTweet2,getStopWordList,replaceTwoOrMore\n",
    "from textblob import TextBlob\n",
    "import sys\n",
    "import tweepy\n",
    "from tweepy import OAuthHandler"
   ]
  },
  {
   "cell_type": "code",
   "execution_count": 4,
   "metadata": {},
   "outputs": [],
   "source": [
    "ACCESS_TOKEN = '77678973-fYSD8juWLu42i8IcOAq1RyumwHORZMWDM4YGgQ3RO'\n",
    "ACCESS_SECRET = '7n08WCd0pu3D7IvJTNwALGEpEgrXjiaGKkVr7KrUit2w3'\n",
    "CONSUMER_KEY = 'UWvrjlCmbqN0BZoNo5taXZUva'\n",
    "CONSUMER_SECRET = 'p4QwEe9ENbgrUGIezaRNpieI8DTCw0NbVgBZacLNXqD6GM9tyZ'\n",
    "\n",
    "oauth = OAuth(ACCESS_TOKEN, ACCESS_SECRET, CONSUMER_KEY, CONSUMER_SECRET)"
   ]
  },
  {
   "cell_type": "code",
   "execution_count": 40,
   "metadata": {},
   "outputs": [],
   "source": [
    "# Initiate the connection to Twitter REST API\n",
    "twitter = Twitter(auth=oauth)          \n"
   ]
  },
  {
   "cell_type": "code",
   "execution_count": 47,
   "metadata": {},
   "outputs": [],
   "source": [
    "#tweets = twitter.search.tweets(q='#tcs')"
   ]
  },
  {
   "cell_type": "code",
   "execution_count": 48,
   "metadata": {},
   "outputs": [],
   "source": [
    "#tweets=twitter.search.tweets(q='#tcs', result_type='recent', lang='en', count=1000)"
   ]
  },
  {
   "cell_type": "code",
   "execution_count": 57,
   "metadata": {
    "collapsed": true
   },
   "outputs": [],
   "source": [
    "tweets=twitter.search.tweets(q='TCS', lang='en', count=10000)"
   ]
  },
  {
   "cell_type": "code",
   "execution_count": 58,
   "metadata": {},
   "outputs": [
    {
     "name": "stdout",
     "output_type": "stream",
     "text": [
      "(Thu Sep 28 07:19:14 +0000 2017) @NAB @sugapluskandy Ok great. Yes that would generally count - you can find more info about what's not eligible here (Se… https://t.co/NZCmGS5FX9\n",
      "(Thu Sep 28 07:16:09 +0000 2017) @greensmith68 RT @Balanceactive: Happy #FreebieFriday! FLW &amp; RT with #BalanceActiveFormula to #win our Dragon's Blood range 💜 #T&amp;C's https://t.co/cTXm2bb…\n",
      "(Thu Sep 28 07:15:54 +0000 2017) @Stujobohm RT @toysrusuk: It's #WinItWednesday time! 🎉 To win #Destiny2 on either #PS4 or #Xbox follow @ToysRUsUK &amp; RT. Ends 4th Oct https://t.co/5jkz…\n",
      "(Thu Sep 28 07:14:50 +0000 2017) @wahab_haque @Yayvo_TCS #MegaTVDays Samsung because of better picture and good market repo\n",
      "(Thu Sep 28 07:14:49 +0000 2017) @PGiuliotti RT @Rego_MADRID: Canadian pavilion &amp; activities #EUW17 organized by @TCS_SDC Learn about our smart grid sector @MaRSDD @Cluster_Energia in…\n",
      "(Thu Sep 28 07:13:09 +0000 2017) @fumikotallagno4 Sonia Gandhi launches TCS's training programme; Priyanka Gandhi also present: via\n",
      "(Thu Sep 28 07:09:51 +0000 2017) @murraysj0410 RT @Balanceactive: Happy #WinItWednesday! FLW &amp; RT with #BalanceActiveFormula to #win our Dragon's Blood range Ends 29.9. T&amp;C's https://t.c…\n",
      "(Thu Sep 28 07:08:20 +0000 2017) @steffipat RT @damart_uk: To be in with a chance of #winning this chic cardigan simply follow &amp; RT! Ends 29/09 12pm T&amp;Cs: https://t.co/wlVKZEJWYU #fre…\n",
      "(Thu Sep 28 07:07:54 +0000 2017) @steffipat RT @naturalworld_: Happy #WinItWednesday 🙌 FLW &amp; RT with #MyNaturalWorld to #win our hair treatment oils. Ends 29.9 T&amp;C's https://t.co/BzGp…\n",
      "(Thu Sep 28 07:06:48 +0000 2017) @Bloom_ter RT @Balanceactive: Happy #WinItWednesday! FLW &amp; RT with #BalanceActiveFormula to #win our Dragon's Blood range Ends 29.9. T&amp;C's https://t.c…\n",
      "(Thu Sep 28 07:04:47 +0000 2017) @greensmith68 RT @UChoosecontract: Celebrate the new #67Reg with a chance to win a new set of wheels! #Like &amp; #RT to #win a #VW skateboard! T&amp;Cs apply: h…\n",
      "(Thu Sep 28 07:04:25 +0000 2017) @Yayvo_TCS What do you guys think of Twitter's #280characters limit?\n",
      "(Thu Sep 28 07:04:20 +0000 2017) @nishantbatra RT @HR_Futures: Have an insight into thoughts of Dr. Anil Chawla (@docanilk) - https://t.co/SoRekJkLXf  #DefyConvention @TCS\n",
      "(Thu Sep 28 07:02:15 +0000 2017) @Oracle_DE RT @oraclepartners: How can @OracleCloud and @TCS create a clear path to #cloud for your business? WATCH: https://t.co/aMfAyI7kWu https://t…\n",
      "(Thu Sep 28 07:01:07 +0000 2017) @venkiram88 RT @SVaidhyasubrama: @TCS came in a bus &amp; recruited @SastraUniv students in a train. It's 730 offers @74% conversion beating it's own recor…\n",
      "(Thu Sep 28 06:59:15 +0000 2017) @s4ss77 RT @naturalworld_: It's #WinItWednesday! FLW &amp; RT with #MyNaturalWorld to #win our hair treatment oils. Ends 29.9 T&amp;C's https://t.co/BzGpJL…\n",
      "(Thu Sep 28 06:57:57 +0000 2017) @steffipat RT @Balanceactive: Happy #WinItWednesday! FLW &amp; RT with #BalanceActiveFormula to #win our Dragon's Blood range 💜 Ends 29.9. T&amp;C's https://t…\n",
      "(Thu Sep 28 06:57:52 +0000 2017) @oliclarke68 RT @QualityStreetUK: #WIN 1 of 10 personalised packs of #MATCHMAKERS. To enter just RT, follow &amp; tag your 💜 T&amp;Cs apply: https://t.co/cUOHh7…\n",
      "(Thu Sep 28 06:55:54 +0000 2017) @sam51h @francogasparot1 @NoelDavidWhelan our strength is moving it forward quickly with quality. Didn't do that 1st half. I agree wi TCs comments\n",
      "(Thu Sep 28 06:54:45 +0000 2017) @phillyp80 RT @UChoosecontract: Celebrate the new #67Reg with a chance to win a new set of wheels! #Like &amp; #RT to #win a #VW skateboard! T&amp;Cs apply: h…\n",
      "(Thu Sep 28 06:52:56 +0000 2017) @MehtaBurzin RT @TCS_News: .@TCS &amp; @DiscoveryEd launch #IgniteMyFuture to empower K-12 students with #Digital skills for 21st Century careers. https://t…\n",
      "(Thu Sep 28 06:52:30 +0000 2017) @stashoi RT @damart_uk: To be in with a chance of #winning this chic cardigan simply follow &amp; RT! Ends 29/09 12pm T&amp;Cs: https://t.co/wlVKZEJWYU #fre…\n",
      "(Thu Sep 28 06:52:26 +0000 2017) @Jordan_J_Reeves Record turnout for @CanadainIndia MBA Showcase. Thanks @icbc_org @Anuj_TCS_Canada Here's to India's smart, engaging… https://t.co/FHH3iFks4P\n",
      "(Thu Sep 28 06:52:00 +0000 2017) @stashoi RT @naturalworld_: Happy #WinItWednesday 🙌 FLW &amp; RT with #MyNaturalWorld to #win our hair treatment oils. Ends 29.9 T&amp;C's https://t.co/BzGp…\n",
      "(Thu Sep 28 06:51:45 +0000 2017) @DeborahSaville1 RT @toysrusuk: It's #WinItWednesday time! 🎉 To win #Destiny2 on either #PS4 or #Xbox follow @ToysRUsUK &amp; RT. Ends 4th Oct https://t.co/5jkz…\n",
      "(Thu Sep 28 06:51:14 +0000 2017) @abysmalrain RT @UChoosecontract: Celebrate the new #67Reg with a chance to win a new set of wheels! #Like &amp; #RT to #win a #VW skateboard! T&amp;Cs apply: h…\n",
      "(Thu Sep 28 06:50:11 +0000 2017) @CanEmbGermany RT @pacbouwer: #CETA in focus @ SME event in Hamburg @hkhamburg @CanEmbGermany @TCS_SDC https://t.co/8DcFQzS92a\n",
      "(Thu Sep 28 06:50:07 +0000 2017) @CanEmbGermany RT @pacbouwer: Talking #CETA with SMEs in Hamburg @CanEmbGermany @TCS_SDC https://t.co/LDw96izBVL\n",
      "(Thu Sep 28 06:49:44 +0000 2017) @007_tweets RT @naturalworld_: It's #WinItWednesday! FLW &amp; RT with #MyNaturalWorld to #win our hair treatment oils. Ends 29.9 T&amp;C's https://t.co/BzGpJL…\n",
      "(Thu Sep 28 06:49:28 +0000 2017) @007_tweets RT @Balanceactive: Happy #WinItWednesday! FLW &amp; RT with #BalanceActiveFormula to #win our Dragon's Blood range 💜 Ends 29.9. T&amp;C's https://t…\n",
      "(Thu Sep 28 06:49:26 +0000 2017) @Alice222555 RT @Balanceactive: Happy #WinItWednesday! FLW &amp; RT with #BalanceActiveFormula to #win our Dragon's Blood range 💜 Ends 29.9. T&amp;C's https://t…\n",
      "(Thu Sep 28 06:48:57 +0000 2017) @stashoi RT @Balanceactive: Happy #WinItWednesday! FLW &amp; RT with #BalanceActiveFormula to #win our Dragon's Blood range 💜 Ends 29.9. T&amp;C's https://t…\n",
      "(Thu Sep 28 06:48:56 +0000 2017) @MarinaFitz RT @naturalworld_: It's #WinItWednesday! FLW &amp; RT with #MyNaturalWorld to #win our hair treatment oils. Ends 29.9 T&amp;C's https://t.co/BzGpJL…\n",
      "(Thu Sep 28 06:48:46 +0000 2017) @tariqallarakha RT @TCS_News: TCS establishes Center of Excellence with Intel to accelerate #ArtificialIntelligence technology adoption. https://t.co/77wXm…\n",
      "(Thu Sep 28 06:48:33 +0000 2017) @alexlukeshelby RT @damart_uk: To be in with a chance of #winning this chic cardigan simply follow &amp; RT! Ends 29/09 12pm T&amp;Cs: https://t.co/wlVKZEJWYU #fre…\n",
      "(Thu Sep 28 06:47:21 +0000 2017) @hardknockllfe RT @naturalworld_: Happy #FreebieFriday everyone! FLW &amp; RT with #MyNaturalWorld to #win these fab hair oils. Ends 29.9. T&amp;C's https://t.co/…\n",
      "(Thu Sep 28 06:46:52 +0000 2017) @silver_rlder RT @naturalworld_: Happy #FreebieFriday everyone! FLW &amp; RT with #MyNaturalWorld to #win these fab hair oils. Ends 29.9. T&amp;C's https://t.co/…\n",
      "(Thu Sep 28 06:46:42 +0000 2017) @Pakdigiawards RT @Pakdigiawards: Our proud partners. #Pakistandigiawards2017 #Brande #Partners #Tcs #Fm91 #Ary #Vouch365 #TunePK #SamsDesigner #Foroohar…\n",
      "(Thu Sep 28 06:46:37 +0000 2017) @twltter_acc0unt RT @naturalworld_: Happy #FreebieFriday everyone! FLW &amp; RT with #MyNaturalWorld to #win these fab hair oils. Ends 29.9. T&amp;C's https://t.co/…\n",
      "(Thu Sep 28 06:46:35 +0000 2017) @Pakdigiawards Our proud partners. #Pakistandigiawards2017 #Brande #Partners #Tcs #Fm91 #Ary #Vouch365 #TunePK #SamsDesigner #Foroohar #Pocketcinema\n",
      "(Thu Sep 28 06:46:20 +0000 2017) @abysmalrain RT @naturalworld_: Happy #FreebieFriday everyone! FLW &amp; RT with #MyNaturalWorld to #win these fab hair oils. Ends 29.9. T&amp;C's https://t.co/…\n",
      "(Thu Sep 28 06:44:54 +0000 2017) @alexlukeshelby RT @Balanceactive: Happy #WinItWednesday! FLW &amp; RT with #BalanceActiveFormula to #win our Dragon's Blood range 💜 Ends 29.9. T&amp;C's https://t…\n",
      "(Thu Sep 28 06:44:52 +0000 2017) @JohnJMeighan RT @toysrusuk: It's #WinItWednesday time! 🎉 To win #Destiny2 on either #PS4 or #Xbox follow @ToysRUsUK &amp; RT. Ends 4th Oct https://t.co/5jkz…\n",
      "(Thu Sep 28 06:42:48 +0000 2017) @TCS RT @tcs_na: .@SenRonJohnson supports our launch of #IgniteMyFuture &amp; says the program \"is a great step in the right direction.\" #TCSEmpower…\n",
      "(Thu Sep 28 06:42:36 +0000 2017) @TCS RT @tcs_na: Senator @JohnCornyn on how #IgniteMyFuture provides \"the tools to solidify our country's standing as a leader in #STEM fields.\"…\n",
      "(Thu Sep 28 06:42:23 +0000 2017) @Pakdigiawards RT @Pakdigiawards: The number of travelling  places in Pakistan  is uncountable. #PakistanDigiAwards2017 #Brande #TheDigitalUstaad  #Tcs #W…\n",
      "(Thu Sep 28 06:42:00 +0000 2017) @Pakdigiawards The number of travelling  places in Pakistan  is uncountable. #PakistanDigiAwards2017 #Brande #TheDigitalUstaad  #Tcs #WorldTourismDay\n",
      "(Thu Sep 28 06:41:54 +0000 2017) @463Bex RT @toysrusuk: It's #WinItWednesday time! 🎉 To win #Destiny2 on either #PS4 or #Xbox follow @ToysRUsUK &amp; RT. Ends 4th Oct https://t.co/5jkz…\n",
      "(Thu Sep 28 06:40:53 +0000 2017) @Liamgibs0n RT @toysrusuk: It's #WinItWednesday time! 🎉 To win #Destiny2 on either #PS4 or #Xbox follow @ToysRUsUK &amp; RT. Ends 4th Oct https://t.co/5jkz…\n",
      "(Thu Sep 28 06:39:01 +0000 2017) @shell7619 RT @damart_uk: To be in with a chance of #winning this chic cardigan simply follow &amp; RT! Ends 29/09 12pm T&amp;Cs: https://t.co/wlVKZEJWYU #fre…\n",
      "(Thu Sep 28 06:38:32 +0000 2017) @Lee_Animations I added a video to a @YouTube playlist https://t.co/2gNwYWCzYp Minecraft Youtuber School Season 1 - Mob Fighting! (SkyDoesMinecraft,\n",
      "(Thu Sep 28 06:38:01 +0000 2017) @duncb84 RT @toysrusuk: It's #WinItWednesday time! 🎉 To win #Destiny2 on either #PS4 or #Xbox follow @ToysRUsUK &amp; RT. Ends 4th Oct https://t.co/5jkz…\n",
      "(Thu Sep 28 06:37:34 +0000 2017) @shell7619 RT @naturalworld_: Happy #WinItWednesday 🙌 FLW &amp; RT with #MyNaturalWorld to #win our hair treatment oils. Ends 29.9 T&amp;C's https://t.co/BzGp…\n",
      "(Thu Sep 28 06:36:29 +0000 2017) @loz2442an RT @naturalworld_: It's #WinItWednesday! FLW &amp; RT with #MyNaturalWorld to #win our hair treatment oils. Ends 29.9 T&amp;C's https://t.co/BzGpJL…\n",
      "(Thu Sep 28 06:34:47 +0000 2017) @pfersht IBM, Accenture, KPMG, TCS, Deloitte, Wipro and Atos lead the 2017 Digital Tech Consulting blueprint https://t.co/SR8jGj0DpZ via @hfsbloggers\n",
      "(Thu Sep 28 06:31:58 +0000 2017) @TCS_21 Still reckon @ChrisMoyles should bring back mcfly day\n",
      "(Thu Sep 28 06:28:57 +0000 2017) @786_jobs_alerts Punjab Police\n",
      "Jobs Alls Districts\n",
      "\n",
      "Constable/\n",
      "Leady Constable\n",
      "\n",
      "Bahwalnagar \n",
      "\n",
      "18-10-17\n",
      "\n",
      "Age:18-22\n",
      "\n",
      "form\n",
      "TCS\n",
      "VISIT\n",
      "786 Photo State\n",
      "03002272331\n",
      "(Thu Sep 28 06:25:55 +0000 2017) @airport_facts Novacap's Hallcon acquires Kansas-based TCS, Rail Temps - PE Hub https://t.co/k1VLUvaSt0\n",
      "(Thu Sep 28 06:24:45 +0000 2017) @Todddy26 RT @toysrusuk: It's #WinItWednesday time! 🎉 To win #Destiny2 on either #PS4 or #Xbox follow @ToysRUsUK &amp; RT. Ends 4th Oct https://t.co/5jkz…\n",
      "(Thu Sep 28 06:23:59 +0000 2017) @AlisonSmith2009 RT @toysrusuk: It's #WinItWednesday time! 🎉 To win #Destiny2 on either #PS4 or #Xbox follow @ToysRUsUK &amp; RT. Ends 4th Oct https://t.co/5jkz…\n",
      "(Thu Sep 28 06:23:57 +0000 2017) @rudresh_om Thank you TCS for having me 🙏, 5 years ago seems yesterday and who knows 5 years from now, might… https://t.co/X4U1Aim42V\n",
      "(Thu Sep 28 06:19:06 +0000 2017) @TCS_Geography RT @BrilliantMaps: Interactive Pangaea Map With Modern International Borders - https://t.co/5ZtKWjZAbj https://t.co/1tXhGAyuWH\n",
      "(Thu Sep 28 06:17:53 +0000 2017) @luckyme9 RT @ColorsportUK: It's #WinItWednesday! FLW &amp; RT with #Colorsport to #win our 30 Day tinting kits Ends 29.9 T&amp;Cs https://t.co/hdV0oGS7sJ #c…\n",
      "(Thu Sep 28 06:17:22 +0000 2017) @ipskug RT @SaraHradecky: Canada has much to share with #Uganda in the oil &amp; gas sector – @energyministry @PAU_Uganda are key partners @TCS_SDC htt…\n",
      "(Thu Sep 28 06:17:16 +0000 2017) @DonnaGrieve3 RT @toysrusuk: It's #WinItWednesday time! 🎉 To win #Destiny2 on either #PS4 or #Xbox follow @ToysRUsUK &amp; RT. Ends 4th Oct https://t.co/5jkz…\n",
      "(Thu Sep 28 06:16:04 +0000 2017) @TCS_Geography RT @TeachitGeog: #geographyteacher, teaching geography skills to your year 7 classes, check out our range of resources here: https://t.co/2…\n",
      "(Thu Sep 28 06:15:08 +0000 2017) @RichardBejah #Latest #Allsports Athletics: Spectacular top field line-up for TCS Amsterdam Marat.. https://t.co/tuULTHqsFa https://t.co/v203D9Bc3y\n",
      "(Thu Sep 28 06:14:56 +0000 2017) @Ts_Mohankumar12 RT @TCS_News: TCS establishes Center of Excellence with Intel to accelerate #ArtificialIntelligence technology adoption. https://t.co/77wXm…\n",
      "(Thu Sep 28 06:14:52 +0000 2017) @ca_tcs RT @iKabirBedi: Ah #Bikaner! What a lovely location for \"Sahib Biwi Aur Gangster 3\", directed by Tigmanshu Dhulia @dirtigmanshu #Rajasthan…\n",
      "(Thu Sep 28 06:14:01 +0000 2017) @emhus1 RT @UChoosecontract: Celebrate the new #67Reg with a chance to win a new set of wheels! #Like &amp; #RT to #win a #VW skateboard! T&amp;Cs apply: h…\n",
      "(Thu Sep 28 06:13:09 +0000 2017) @xmichellepalmer RT @UChoosecontract: Celebrate the new #67Reg with a chance to win a new set of wheels! #Like &amp; #RT to #win a #VW skateboard! T&amp;Cs apply: h…\n",
      "(Thu Sep 28 06:12:31 +0000 2017) @emhus1 RT @Balanceactive: Happy #FreebieFriday! FLW &amp; RT with #BalanceActiveFormula to #win our Dragon's Blood range 💜 #T&amp;C's https://t.co/cTXm2bb…\n",
      "(Thu Sep 28 06:12:19 +0000 2017) @emhus1 RT @ColorsportUK: It's #FreebieFriday time! FLW &amp; RT with #Colorsport to #win our 30 Day tinting kits 💜 T&amp;C's apply https://t.co/hdV0oGS7sJ…\n",
      "(Thu Sep 28 06:10:18 +0000 2017) @SunilAnipakula Indian IT Company TCS Has Been Rated As World's Most Powerful IT Services Brand https://t.co/G541JThxc6\n",
      "(Thu Sep 28 06:08:19 +0000 2017) @LucyBowler1995 RT @toysrusuk: It's #WinItWednesday time! 🎉 To win #Destiny2 on either #PS4 or #Xbox follow @ToysRUsUK &amp; RT. Ends 4th Oct https://t.co/5jkz…\n",
      "(Thu Sep 28 06:07:44 +0000 2017) @bonniebonster1 RT @ColorsportUK: It's #FreebieFriday time! FLW &amp; RT with #Colorsport to #win our 30 Day tinting kits 💜 T&amp;C's apply https://t.co/hdV0oGS7sJ…\n",
      "(Thu Sep 28 06:07:41 +0000 2017) @Pakdigiawards RT @Pakdigiawards: We believe that less is more. #PakistanDigiAwards2017 #Brande #Tcs  #Ary  #Fm91 #Pocketcinema  #Digitalustaad #Convex #S…\n",
      "(Thu Sep 28 06:07:37 +0000 2017) @Pakdigiawards We believe that less is more. #PakistanDigiAwards2017 #Brande #Tcs  #Ary  #Fm91 #Pocketcinema  #Digitalustaad #Convex #SamsDesigner\n",
      "(Thu Sep 28 06:07:21 +0000 2017) @hashamsterdam Spectacular top field line-up for TCS Amsterdam Marathon - https://t.co/5bnwqcDQcO https://t.co/VNno12y7Dk #Amsterdam #News\n",
      "(Thu Sep 28 06:05:31 +0000 2017) @CareerOkay Content Writer Intern required at TCS E-COM (Pvt.) Ltd.   Apply now: https://t.co/I91nI1ILL5 https://t.co/nKR7we2Wuv\n",
      "(Thu Sep 28 06:04:03 +0000 2017) @bonniebonster1 RT @naturalworld_: Happy #FreebieFriday everyone! FLW &amp; RT with #MyNaturalWorld to #win these fab hair oils. Ends 29.9. T&amp;C's https://t.co/…\n",
      "(Thu Sep 28 06:03:21 +0000 2017) @ca_tcs RT @Nawazuddin_S: A Lady who showed courage against all odds being in a conservative Family from a small village-My Mother \n",
      "#100MostInfluen…\n",
      "(Thu Sep 28 06:01:38 +0000 2017) @MIMCRM #MSDyn365 Using TCS Tools in a bit more advanced scenario - Here is a question somebody asked in the community ... https://t.co/yhNkdio2fs\n",
      "(Thu Sep 28 05:56:34 +0000 2017) @Kerrysalt1 RT @toysrusuk: It's #WinItWednesday time! 🎉 To win #Destiny2 on either #PS4 or #Xbox follow @ToysRUsUK &amp; RT. Ends 4th Oct https://t.co/5jkz…\n",
      "(Thu Sep 28 05:55:36 +0000 2017) @godmaslany tcs tcs...\n",
      "(Thu Sep 28 05:55:04 +0000 2017) @diamondalli72 RT @damart_uk: To be in with a chance of #winning this chic cardigan simply follow &amp; RT! Ends 29/09 12pm T&amp;Cs: https://t.co/wlVKZEJWYU #fre…\n",
      "(Thu Sep 28 05:54:14 +0000 2017) @yogimini RT @JosHendriks4: TCS Fund since 2007 THE CHILDRENS SUSTAINABILITY FUND https://t.co/bGNqpfD00G @KarstenKlein @NOS https://t.co/PV4aaV6atI…\n",
      "(Thu Sep 28 05:53:37 +0000 2017) @paulsharp0 RT @Balanceactive: Happy #WinItWednesday! FLW &amp; RT with #BalanceActiveFormula to #win our Dragon's Blood range  Ends 29.9. T&amp;C's https://t.…\n",
      "(Thu Sep 28 05:52:55 +0000 2017) @yogimini RT @JosHendriks4: .@SpykerCars @EIB The Breeding Swan EUROPOLIS N.V. TCS fund 300 BILLION EURO https://t.co/EbwTu2xtO3 https://t.co/KlwHUed…\n",
      "(Thu Sep 28 05:52:03 +0000 2017) @sahil_agg RT @TCS_News: TCS establishes Center of Excellence with Intel to accelerate #ArtificialIntelligence technology adoption. https://t.co/77wXm…\n",
      "(Thu Sep 28 05:49:30 +0000 2017) @bonniebonster1 RT @Balanceactive: Happy #FreebieFriday! FLW &amp; RT with #BalanceActiveFormula to #win our Dragon's Blood range 💜 #T&amp;C's https://t.co/cTXm2bb…\n",
      "(Thu Sep 28 05:45:43 +0000 2017) @infocare_tcs By crushing individuals they can not kill ideas \n",
      "#BhagatSingh\n",
      "(Thu Sep 28 05:45:31 +0000 2017) @silver_rlder RT @UChoosecontract: Celebrate the new #67Reg with a chance to win a new set of wheels! #Like &amp; #RT to #win a #VW skateboard! T&amp;Cs apply: h…\n",
      "(Thu Sep 28 05:45:07 +0000 2017) @bonniebonster1 RT @UChoosecontract: Celebrate the new #67Reg with a chance to win a new set of wheels! #Like &amp; #RT to #win a #VW skateboard! T&amp;Cs apply: h…\n",
      "(Thu Sep 28 05:40:00 +0000 2017) @BankingTechno TCS teams with Intel for new #AI centre: https://t.co/lq0ivzKFvu #ArtificialIntelligence #fintech… https://t.co/KaYNA7wxXV\n",
      "(Thu Sep 28 05:36:06 +0000 2017) @dippyme888 RT @toysrusuk: It's #WinItWednesday time! 🎉 To win #Destiny2 on either #PS4 or #Xbox follow @ToysRUsUK &amp; RT. Ends 4th Oct https://t.co/5jkz…\n",
      "(Thu Sep 28 05:33:45 +0000 2017) @philgill2009 RT @toysrusuk: It's #WinItWednesday time! 🎉 To win #Destiny2 on either #PS4 or #Xbox follow @ToysRUsUK &amp; RT. Ends 4th Oct https://t.co/5jkz…\n",
      "(Thu Sep 28 05:30:14 +0000 2017) @PeopleMatters2 According to a media report, @TCS has entered into 15 years agreement with Lyod Bank Group. https://t.co/EcpPTeUnbc\n",
      "(Thu Sep 28 05:28:59 +0000 2017) @MaryetTom RT @toysrusuk: It's #WinItWednesday time! 🎉 To win #Destiny2 on either #PS4 or #Xbox follow @ToysRUsUK &amp; RT. Ends 4th Oct https://t.co/5jkz…\n",
      "(Thu Sep 28 05:26:55 +0000 2017) @83_digital RT @toysrusuk: It's #WinItWednesday time! 🎉 To win #Destiny2 on either #PS4 or #Xbox follow @ToysRUsUK &amp; RT. Ends 4th Oct https://t.co/5jkz…\n"
     ]
    }
   ],
   "source": [
    "for result in tweets[\"statuses\"]:\n",
    "    print(\"(%s) @%s %s\" % (result[\"created_at\"], result[\"user\"][\"screen_name\"], result[\"text\"]))\n"
   ]
  },
  {
   "cell_type": "code",
   "execution_count": null,
   "metadata": {
    "collapsed": true
   },
   "outputs": [],
   "source": [
    "from nltk.corpus import stopwords \n",
    "import string\n",
    "stop = set(stopwords.words('english'))\n",
    "\n",
    "words=' '\n",
    "for i in range (0,len(test)):\n",
    "    temp = replaceTwoOrMore(re.sub('[^a-zA-Z0-9 \\n\\.]', ' ', processTweet2(tweets[i][\"text\"])))\n",
    "    temp = \" \".join([i for i in temp.lower().split() if i not in stop])\n",
    "    temp = \" \".join([i for i in temp.split() if i not in STOPWORD_customized])\n",
    "    shortword = re.compile(r'\\W*\\b\\w{1,2}\\b')\n",
    "    temp = shortword.sub('', temp)    \n",
    "    words = words + temp  "
   ]
  },
  {
   "cell_type": "code",
   "execution_count": 59,
   "metadata": {},
   "outputs": [
    {
     "data": {
      "text/plain": [
       "100"
      ]
     },
     "execution_count": 59,
     "metadata": {},
     "output_type": "execute_result"
    }
   ],
   "source": [
    "len(tweets[\"statuses\"])"
   ]
  },
  {
   "cell_type": "code",
   "execution_count": null,
   "metadata": {
    "collapsed": true
   },
   "outputs": [],
   "source": []
  }
 ],
 "metadata": {
  "kernelspec": {
   "display_name": "Python 3",
   "language": "python",
   "name": "python3"
  },
  "language_info": {
   "codemirror_mode": {
    "name": "ipython",
    "version": 3
   },
   "file_extension": ".py",
   "mimetype": "text/x-python",
   "name": "python",
   "nbconvert_exporter": "python",
   "pygments_lexer": "ipython3",
   "version": "3.5.4"
  }
 },
 "nbformat": 4,
 "nbformat_minor": 2
}
